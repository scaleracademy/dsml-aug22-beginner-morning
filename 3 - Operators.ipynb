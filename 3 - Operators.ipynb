{
 "cells": [
  {
   "cell_type": "markdown",
   "id": "1af5c8aa",
   "metadata": {},
   "source": [
    "## Arithmetic Operators"
   ]
  },
  {
   "cell_type": "code",
   "execution_count": 6,
   "id": "430129df",
   "metadata": {},
   "outputs": [
    {
     "data": {
      "text/plain": [
       "13"
      ]
     },
     "execution_count": 6,
     "metadata": {},
     "output_type": "execute_result"
    }
   ],
   "source": [
    "10 + 3\n",
    "# int + int -> int"
   ]
  },
  {
   "cell_type": "code",
   "execution_count": 9,
   "id": "3d6648eb",
   "metadata": {},
   "outputs": [
    {
     "data": {
      "text/plain": [
       "7"
      ]
     },
     "execution_count": 9,
     "metadata": {},
     "output_type": "execute_result"
    }
   ],
   "source": [
    "10 - 3\n",
    "# int - int -> int"
   ]
  },
  {
   "cell_type": "code",
   "execution_count": 10,
   "id": "27861222",
   "metadata": {},
   "outputs": [
    {
     "data": {
      "text/plain": [
       "30"
      ]
     },
     "execution_count": 10,
     "metadata": {},
     "output_type": "execute_result"
    }
   ],
   "source": [
    "10 * 3\n",
    "# int * int -> int"
   ]
  },
  {
   "cell_type": "code",
   "execution_count": 11,
   "id": "e678d991",
   "metadata": {},
   "outputs": [
    {
     "data": {
      "text/plain": [
       "3.3333333333333335"
      ]
     },
     "execution_count": 11,
     "metadata": {},
     "output_type": "execute_result"
    }
   ],
   "source": [
    "10 / 3\n",
    "# Floating Point Division Operator\n",
    "# int / int -> float"
   ]
  },
  {
   "cell_type": "code",
   "execution_count": 12,
   "id": "13c41105",
   "metadata": {},
   "outputs": [
    {
     "data": {
      "text/plain": [
       "10.0"
      ]
     },
     "execution_count": 12,
     "metadata": {},
     "output_type": "execute_result"
    }
   ],
   "source": [
    "5.0 + 5.0"
   ]
  },
  {
   "cell_type": "code",
   "execution_count": 13,
   "id": "5cf29ccc",
   "metadata": {},
   "outputs": [
    {
     "data": {
      "text/plain": [
       "11.0"
      ]
     },
     "execution_count": 13,
     "metadata": {},
     "output_type": "execute_result"
    }
   ],
   "source": [
    "5.0 + 6"
   ]
  },
  {
   "cell_type": "code",
   "execution_count": 14,
   "id": "3754b7af",
   "metadata": {},
   "outputs": [
    {
     "data": {
      "text/plain": [
       "'\\nPython operators try to retain as much info as possible\\n'"
      ]
     },
     "execution_count": 14,
     "metadata": {},
     "output_type": "execute_result"
    }
   ],
   "source": [
    "'''\n",
    "Python operators try to retain as much info as possible\n",
    "'''"
   ]
  },
  {
   "cell_type": "code",
   "execution_count": 18,
   "id": "0c5869cb",
   "metadata": {},
   "outputs": [
    {
     "data": {
      "text/plain": [
       "25"
      ]
     },
     "execution_count": 18,
     "metadata": {},
     "output_type": "execute_result"
    }
   ],
   "source": [
    "5**2\n",
    "# 5 to the power 2"
   ]
  },
  {
   "cell_type": "code",
   "execution_count": 19,
   "id": "6b1dcc96",
   "metadata": {},
   "outputs": [
    {
     "data": {
      "text/plain": [
       "0.2"
      ]
     },
     "execution_count": 19,
     "metadata": {},
     "output_type": "execute_result"
    }
   ],
   "source": [
    "5**-1"
   ]
  },
  {
   "cell_type": "code",
   "execution_count": 21,
   "id": "04cc0781",
   "metadata": {},
   "outputs": [
    {
     "data": {
      "text/plain": [
       "2.23606797749979"
      ]
     },
     "execution_count": 21,
     "metadata": {},
     "output_type": "execute_result"
    }
   ],
   "source": [
    "5**0.5\n",
    "# sqrt(5)"
   ]
  },
  {
   "cell_type": "code",
   "execution_count": 22,
   "id": "079f9782",
   "metadata": {},
   "outputs": [
    {
     "data": {
      "text/plain": [
       "25.0"
      ]
     },
     "execution_count": 22,
     "metadata": {},
     "output_type": "execute_result"
    }
   ],
   "source": [
    "5.0**2"
   ]
  },
  {
   "cell_type": "code",
   "execution_count": 23,
   "id": "73a6d3e1",
   "metadata": {},
   "outputs": [
    {
     "ename": "ZeroDivisionError",
     "evalue": "division by zero",
     "output_type": "error",
     "traceback": [
      "\u001b[0;31m---------------------------------------------------------------------------\u001b[0m",
      "\u001b[0;31mZeroDivisionError\u001b[0m                         Traceback (most recent call last)",
      "\u001b[0;32m/var/folders/nn/c52y0d3j0gq59dpsswchkt2r0000gn/T/ipykernel_23884/530406163.py\u001b[0m in \u001b[0;36m<module>\u001b[0;34m\u001b[0m\n\u001b[0;32m----> 1\u001b[0;31m \u001b[0;36m10\u001b[0m\u001b[0;34m/\u001b[0m\u001b[0;36m0\u001b[0m\u001b[0;34m\u001b[0m\u001b[0;34m\u001b[0m\u001b[0m\n\u001b[0m",
      "\u001b[0;31mZeroDivisionError\u001b[0m: division by zero"
     ]
    }
   ],
   "source": [
    "10/0"
   ]
  },
  {
   "cell_type": "code",
   "execution_count": 24,
   "id": "eb8be933",
   "metadata": {},
   "outputs": [
    {
     "ename": "ZeroDivisionError",
     "evalue": "integer division or modulo by zero",
     "output_type": "error",
     "traceback": [
      "\u001b[0;31m---------------------------------------------------------------------------\u001b[0m",
      "\u001b[0;31mZeroDivisionError\u001b[0m                         Traceback (most recent call last)",
      "\u001b[0;32m/var/folders/nn/c52y0d3j0gq59dpsswchkt2r0000gn/T/ipykernel_23884/3687597073.py\u001b[0m in \u001b[0;36m<module>\u001b[0;34m\u001b[0m\n\u001b[0;32m----> 1\u001b[0;31m \u001b[0;36m10\u001b[0m \u001b[0;34m//\u001b[0m \u001b[0;36m0\u001b[0m\u001b[0;34m\u001b[0m\u001b[0;34m\u001b[0m\u001b[0m\n\u001b[0m",
      "\u001b[0;31mZeroDivisionError\u001b[0m: integer division or modulo by zero"
     ]
    }
   ],
   "source": [
    "10 // 0"
   ]
  },
  {
   "cell_type": "code",
   "execution_count": 25,
   "id": "677f4983",
   "metadata": {},
   "outputs": [
    {
     "data": {
      "text/plain": [
       "1"
      ]
     },
     "execution_count": 25,
     "metadata": {},
     "output_type": "execute_result"
    }
   ],
   "source": [
    "10 % 3"
   ]
  },
  {
   "cell_type": "code",
   "execution_count": 26,
   "id": "f42e880e",
   "metadata": {},
   "outputs": [
    {
     "data": {
      "text/plain": [
       "2"
      ]
     },
     "execution_count": 26,
     "metadata": {},
     "output_type": "execute_result"
    }
   ],
   "source": [
    "-10 % 3\n",
    "# 3 - (10 % 3)"
   ]
  },
  {
   "cell_type": "code",
   "execution_count": 27,
   "id": "3576ec24",
   "metadata": {},
   "outputs": [
    {
     "data": {
      "text/plain": [
       "2"
      ]
     },
     "execution_count": 27,
     "metadata": {},
     "output_type": "execute_result"
    }
   ],
   "source": [
    "10 - 4 * 2"
   ]
  },
  {
   "cell_type": "code",
   "execution_count": 28,
   "id": "04c0c637",
   "metadata": {},
   "outputs": [
    {
     "data": {
      "text/plain": [
       "4.0"
      ]
     },
     "execution_count": 28,
     "metadata": {},
     "output_type": "execute_result"
    }
   ],
   "source": [
    "10 - 4 * 2 + 5 - 6 / 2"
   ]
  },
  {
   "cell_type": "code",
   "execution_count": 32,
   "id": "2f342fab",
   "metadata": {},
   "outputs": [],
   "source": [
    "# TRUTHY AND FALSY VALUE"
   ]
  },
  {
   "cell_type": "code",
   "execution_count": 29,
   "id": "bd84ef6b",
   "metadata": {},
   "outputs": [
    {
     "data": {
      "text/plain": [
       "True"
      ]
     },
     "execution_count": 29,
     "metadata": {},
     "output_type": "execute_result"
    }
   ],
   "source": [
    "bool(1)"
   ]
  },
  {
   "cell_type": "code",
   "execution_count": 30,
   "id": "618cf3ff",
   "metadata": {},
   "outputs": [
    {
     "data": {
      "text/plain": [
       "False"
      ]
     },
     "execution_count": 30,
     "metadata": {},
     "output_type": "execute_result"
    }
   ],
   "source": [
    "bool(0)"
   ]
  },
  {
   "cell_type": "code",
   "execution_count": 31,
   "id": "75fc688e",
   "metadata": {},
   "outputs": [
    {
     "data": {
      "text/plain": [
       "True"
      ]
     },
     "execution_count": 31,
     "metadata": {},
     "output_type": "execute_result"
    }
   ],
   "source": [
    "bool(456)"
   ]
  },
  {
   "cell_type": "code",
   "execution_count": 33,
   "id": "de8a4c83",
   "metadata": {},
   "outputs": [
    {
     "data": {
      "text/plain": [
       "True"
      ]
     },
     "execution_count": 33,
     "metadata": {},
     "output_type": "execute_result"
    }
   ],
   "source": [
    "bool(-45)"
   ]
  },
  {
   "cell_type": "code",
   "execution_count": 36,
   "id": "31daae96",
   "metadata": {},
   "outputs": [
    {
     "data": {
      "text/plain": [
       "True"
      ]
     },
     "execution_count": 36,
     "metadata": {},
     "output_type": "execute_result"
    }
   ],
   "source": [
    "bool(0.5)"
   ]
  },
  {
   "cell_type": "code",
   "execution_count": 35,
   "id": "d3db094a",
   "metadata": {},
   "outputs": [
    {
     "data": {
      "text/plain": [
       "True"
      ]
     },
     "execution_count": 35,
     "metadata": {},
     "output_type": "execute_result"
    }
   ],
   "source": [
    "bool(67.89)"
   ]
  },
  {
   "cell_type": "code",
   "execution_count": 37,
   "id": "1a9a3187",
   "metadata": {},
   "outputs": [],
   "source": [
    "# Every number except 0 is TRUTHY in python"
   ]
  },
  {
   "cell_type": "code",
   "execution_count": 38,
   "id": "bef067b0",
   "metadata": {},
   "outputs": [
    {
     "data": {
      "text/plain": [
       "True"
      ]
     },
     "execution_count": 38,
     "metadata": {},
     "output_type": "execute_result"
    }
   ],
   "source": [
    "bool(\"I am inevitable!\")"
   ]
  },
  {
   "cell_type": "code",
   "execution_count": 39,
   "id": "50668d8f",
   "metadata": {},
   "outputs": [
    {
     "data": {
      "text/plain": [
       "True"
      ]
     },
     "execution_count": 39,
     "metadata": {},
     "output_type": "execute_result"
    }
   ],
   "source": [
    "bool(\"any non empty string\")"
   ]
  },
  {
   "cell_type": "code",
   "execution_count": 40,
   "id": "08bf379f",
   "metadata": {},
   "outputs": [],
   "source": [
    "# Every non empty string is TRUTHY in python"
   ]
  },
  {
   "cell_type": "code",
   "execution_count": 41,
   "id": "205d8832",
   "metadata": {},
   "outputs": [
    {
     "data": {
      "text/plain": [
       "False"
      ]
     },
     "execution_count": 41,
     "metadata": {},
     "output_type": "execute_result"
    }
   ],
   "source": [
    "bool(\"\")"
   ]
  },
  {
   "cell_type": "code",
   "execution_count": 49,
   "id": "14505ae5",
   "metadata": {},
   "outputs": [],
   "source": [
    "a = 45"
   ]
  },
  {
   "cell_type": "code",
   "execution_count": 47,
   "id": "b59fc1e7",
   "metadata": {},
   "outputs": [],
   "source": [
    "my_marks = 50\n",
    "my_cousins_marks = 90"
   ]
  },
  {
   "cell_type": "code",
   "execution_count": 43,
   "id": "d4048848",
   "metadata": {},
   "outputs": [
    {
     "data": {
      "text/plain": [
       "False"
      ]
     },
     "execution_count": 43,
     "metadata": {},
     "output_type": "execute_result"
    }
   ],
   "source": [
    "my_marks > my_cousins_marks"
   ]
  },
  {
   "cell_type": "code",
   "execution_count": 44,
   "id": "1c87950d",
   "metadata": {
    "scrolled": true
   },
   "outputs": [
    {
     "data": {
      "text/plain": [
       "True"
      ]
     },
     "execution_count": 44,
     "metadata": {},
     "output_type": "execute_result"
    }
   ],
   "source": [
    "my_marks < my_cousins_marks"
   ]
  },
  {
   "cell_type": "code",
   "execution_count": 48,
   "id": "3256c4c9",
   "metadata": {},
   "outputs": [
    {
     "data": {
      "text/plain": [
       "False"
      ]
     },
     "execution_count": 48,
     "metadata": {},
     "output_type": "execute_result"
    }
   ],
   "source": [
    "my_marks == my_cousins_marks"
   ]
  },
  {
   "cell_type": "code",
   "execution_count": 50,
   "id": "6b32e3df",
   "metadata": {},
   "outputs": [],
   "source": [
    "my_marks = 90\n",
    "my_cousins_marks = 90"
   ]
  },
  {
   "cell_type": "code",
   "execution_count": 51,
   "id": "c143982f",
   "metadata": {},
   "outputs": [
    {
     "data": {
      "text/plain": [
       "True"
      ]
     },
     "execution_count": 51,
     "metadata": {},
     "output_type": "execute_result"
    }
   ],
   "source": [
    "my_marks == my_cousins_marks"
   ]
  },
  {
   "cell_type": "code",
   "execution_count": 52,
   "id": "cad45a95",
   "metadata": {},
   "outputs": [
    {
     "data": {
      "text/plain": [
       "False"
      ]
     },
     "execution_count": 52,
     "metadata": {},
     "output_type": "execute_result"
    }
   ],
   "source": [
    "my_marks != my_cousins_marks"
   ]
  },
  {
   "cell_type": "code",
   "execution_count": 53,
   "id": "a3ae31d5",
   "metadata": {},
   "outputs": [],
   "source": [
    "# You had to build a validation system to check password"
   ]
  },
  {
   "cell_type": "code",
   "execution_count": 54,
   "id": "035fc5fb",
   "metadata": {},
   "outputs": [],
   "source": [
    "correct_pass = \"nahibataaunga\""
   ]
  },
  {
   "cell_type": "code",
   "execution_count": 59,
   "id": "d2a93e44",
   "metadata": {},
   "outputs": [
    {
     "name": "stdout",
     "output_type": "stream",
     "text": [
      "nahibataaunga\n"
     ]
    }
   ],
   "source": [
    "entered_pass = input()"
   ]
  },
  {
   "cell_type": "code",
   "execution_count": 60,
   "id": "3e1127e6",
   "metadata": {},
   "outputs": [
    {
     "data": {
      "text/plain": [
       "True"
      ]
     },
     "execution_count": 60,
     "metadata": {},
     "output_type": "execute_result"
    }
   ],
   "source": [
    "correct_pass == entered_pass"
   ]
  },
  {
   "cell_type": "code",
   "execution_count": 67,
   "id": "09a5dd39",
   "metadata": {},
   "outputs": [],
   "source": [
    "marks = 50"
   ]
  },
  {
   "cell_type": "code",
   "execution_count": 68,
   "id": "85fd69e3",
   "metadata": {},
   "outputs": [],
   "source": [
    "correction = 0.5"
   ]
  },
  {
   "cell_type": "code",
   "execution_count": 65,
   "id": "48852919",
   "metadata": {},
   "outputs": [],
   "source": [
    "marks = marks + correction"
   ]
  },
  {
   "cell_type": "code",
   "execution_count": 66,
   "id": "1699445a",
   "metadata": {},
   "outputs": [
    {
     "data": {
      "text/plain": [
       "50.5"
      ]
     },
     "execution_count": 66,
     "metadata": {},
     "output_type": "execute_result"
    }
   ],
   "source": [
    "marks"
   ]
  },
  {
   "cell_type": "code",
   "execution_count": 71,
   "id": "f6f547fe",
   "metadata": {},
   "outputs": [],
   "source": [
    "marks = 50"
   ]
  },
  {
   "cell_type": "code",
   "execution_count": 72,
   "id": "eb870356",
   "metadata": {},
   "outputs": [],
   "source": [
    "marks += 0.5 # marks = marks + 0.5"
   ]
  },
  {
   "cell_type": "code",
   "execution_count": 73,
   "id": "9a5e51e3",
   "metadata": {},
   "outputs": [
    {
     "data": {
      "text/plain": [
       "50.5"
      ]
     },
     "execution_count": 73,
     "metadata": {},
     "output_type": "execute_result"
    }
   ],
   "source": [
    "marks"
   ]
  },
  {
   "cell_type": "code",
   "execution_count": 75,
   "id": "7f73df10",
   "metadata": {},
   "outputs": [],
   "source": [
    "a = 2"
   ]
  },
  {
   "cell_type": "code",
   "execution_count": 76,
   "id": "cc874bc3",
   "metadata": {
    "scrolled": true
   },
   "outputs": [],
   "source": [
    "a -= 5"
   ]
  },
  {
   "cell_type": "code",
   "execution_count": 77,
   "id": "666c6aa2",
   "metadata": {},
   "outputs": [
    {
     "data": {
      "text/plain": [
       "-3"
      ]
     },
     "execution_count": 77,
     "metadata": {},
     "output_type": "execute_result"
    }
   ],
   "source": [
    "a"
   ]
  },
  {
   "cell_type": "code",
   "execution_count": 78,
   "id": "ef5f3503",
   "metadata": {},
   "outputs": [],
   "source": [
    "a = 2"
   ]
  },
  {
   "cell_type": "code",
   "execution_count": 79,
   "id": "47dc697e",
   "metadata": {},
   "outputs": [],
   "source": [
    "a *= 6"
   ]
  },
  {
   "cell_type": "code",
   "execution_count": 80,
   "id": "f8ef5c04",
   "metadata": {},
   "outputs": [
    {
     "data": {
      "text/plain": [
       "12"
      ]
     },
     "execution_count": 80,
     "metadata": {},
     "output_type": "execute_result"
    }
   ],
   "source": [
    "a"
   ]
  },
  {
   "cell_type": "code",
   "execution_count": 81,
   "id": "052be494",
   "metadata": {},
   "outputs": [],
   "source": [
    "a = 2"
   ]
  },
  {
   "cell_type": "code",
   "execution_count": 83,
   "id": "2a38ed4f",
   "metadata": {},
   "outputs": [],
   "source": [
    "a **= 4"
   ]
  },
  {
   "cell_type": "code",
   "execution_count": 84,
   "id": "c88478e9",
   "metadata": {},
   "outputs": [
    {
     "data": {
      "text/plain": [
       "16"
      ]
     },
     "execution_count": 84,
     "metadata": {},
     "output_type": "execute_result"
    }
   ],
   "source": [
    "a"
   ]
  },
  {
   "cell_type": "code",
   "execution_count": 85,
   "id": "79021c70",
   "metadata": {},
   "outputs": [
    {
     "name": "stdout",
     "output_type": "stream",
     "text": [
      "Hello 40!\n"
     ]
    }
   ],
   "source": [
    "print(\"Hello 40!\")"
   ]
  },
  {
   "cell_type": "code",
   "execution_count": 86,
   "id": "27ccebb6",
   "metadata": {},
   "outputs": [
    {
     "name": "stdout",
     "output_type": "stream",
     "text": [
      "Hello 40!\n"
     ]
    }
   ],
   "source": [
    "print(\"Hello\", \"40!\")"
   ]
  },
  {
   "cell_type": "code",
   "execution_count": 87,
   "id": "9d1f2e57",
   "metadata": {},
   "outputs": [
    {
     "data": {
      "text/plain": [
       "16"
      ]
     },
     "execution_count": 87,
     "metadata": {},
     "output_type": "execute_result"
    }
   ],
   "source": [
    "4 ** 2"
   ]
  },
  {
   "cell_type": "code",
   "execution_count": 88,
   "id": "d6439471",
   "metadata": {},
   "outputs": [],
   "source": [
    "a = 4"
   ]
  },
  {
   "cell_type": "code",
   "execution_count": 90,
   "id": "2fc015ea",
   "metadata": {},
   "outputs": [],
   "source": [
    "a = a ** 3 # a **= 3"
   ]
  },
  {
   "cell_type": "code",
   "execution_count": 91,
   "id": "54dc1934",
   "metadata": {},
   "outputs": [
    {
     "data": {
      "text/plain": [
       "True"
      ]
     },
     "execution_count": 91,
     "metadata": {},
     "output_type": "execute_result"
    }
   ],
   "source": [
    "4 <= 5"
   ]
  },
  {
   "cell_type": "code",
   "execution_count": 92,
   "id": "f31f6dc2",
   "metadata": {},
   "outputs": [
    {
     "data": {
      "text/plain": [
       "False"
      ]
     },
     "execution_count": 92,
     "metadata": {},
     "output_type": "execute_result"
    }
   ],
   "source": [
    "4 >= 5"
   ]
  },
  {
   "cell_type": "code",
   "execution_count": 101,
   "id": "cc484899",
   "metadata": {},
   "outputs": [
    {
     "name": "stdout",
     "output_type": "stream",
     "text": [
      "78\n"
     ]
    },
    {
     "data": {
      "text/plain": [
       "'78'"
      ]
     },
     "execution_count": 101,
     "metadata": {},
     "output_type": "execute_result"
    }
   ],
   "source": [
    "input()"
   ]
  },
  {
   "cell_type": "code",
   "execution_count": 98,
   "id": "bbeeb2c5",
   "metadata": {},
   "outputs": [
    {
     "name": "stdout",
     "output_type": "stream",
     "text": [
      "56\n"
     ]
    }
   ],
   "source": [
    "print(\"56\")"
   ]
  },
  {
   "cell_type": "code",
   "execution_count": 102,
   "id": "16cd995d",
   "metadata": {},
   "outputs": [
    {
     "name": "stdout",
     "output_type": "stream",
     "text": [
      "45\n",
      "45\n"
     ]
    }
   ],
   "source": [
    "print(input())"
   ]
  },
  {
   "cell_type": "code",
   "execution_count": 103,
   "id": "3f92e973",
   "metadata": {},
   "outputs": [
    {
     "name": "stdout",
     "output_type": "stream",
     "text": [
      "\n",
      "None45\n"
     ]
    },
    {
     "data": {
      "text/plain": [
       "'45'"
      ]
     },
     "execution_count": 103,
     "metadata": {},
     "output_type": "execute_result"
    }
   ],
   "source": [
    "input(print())"
   ]
  },
  {
   "cell_type": "code",
   "execution_count": 106,
   "id": "5fc1a125",
   "metadata": {},
   "outputs": [
    {
     "name": "stdout",
     "output_type": "stream",
     "text": [
      "\n",
      "None\n"
     ]
    }
   ],
   "source": [
    "print(print())"
   ]
  },
  {
   "cell_type": "code",
   "execution_count": 107,
   "id": "0a94eed4",
   "metadata": {},
   "outputs": [
    {
     "name": "stdout",
     "output_type": "stream",
     "text": [
      "Please enter your input here: 45\n"
     ]
    },
    {
     "data": {
      "text/plain": [
       "'45'"
      ]
     },
     "execution_count": 107,
     "metadata": {},
     "output_type": "execute_result"
    }
   ],
   "source": [
    "input(\"Please enter your input here: \")"
   ]
  },
  {
   "cell_type": "code",
   "execution_count": 108,
   "id": "8230f3f5",
   "metadata": {},
   "outputs": [
    {
     "name": "stdout",
     "output_type": "stream",
     "text": [
      "56\n",
      "56\n"
     ]
    }
   ],
   "source": [
    "print(input())"
   ]
  },
  {
   "cell_type": "code",
   "execution_count": 109,
   "id": "03949160",
   "metadata": {},
   "outputs": [
    {
     "name": "stdout",
     "output_type": "stream",
     "text": [
      "\n"
     ]
    }
   ],
   "source": [
    "print(\"\")"
   ]
  },
  {
   "cell_type": "code",
   "execution_count": 110,
   "id": "2916746c",
   "metadata": {},
   "outputs": [
    {
     "data": {
      "text/plain": [
       "str"
      ]
     },
     "execution_count": 110,
     "metadata": {},
     "output_type": "execute_result"
    }
   ],
   "source": [
    "type(\"\")"
   ]
  },
  {
   "cell_type": "code",
   "execution_count": 112,
   "id": "20c65b5f",
   "metadata": {},
   "outputs": [
    {
     "data": {
      "text/plain": [
       "NoneType"
      ]
     },
     "execution_count": 112,
     "metadata": {},
     "output_type": "execute_result"
    }
   ],
   "source": [
    "type(None)"
   ]
  },
  {
   "cell_type": "code",
   "execution_count": 113,
   "id": "f6f837a1",
   "metadata": {},
   "outputs": [
    {
     "name": "stdout",
     "output_type": "stream",
     "text": [
      "45\n",
      "54\n"
     ]
    }
   ],
   "source": [
    "a = input()\n",
    "b = input()"
   ]
  },
  {
   "cell_type": "code",
   "execution_count": 114,
   "id": "eaa44b57",
   "metadata": {},
   "outputs": [
    {
     "data": {
      "text/plain": [
       "'45'"
      ]
     },
     "execution_count": 114,
     "metadata": {},
     "output_type": "execute_result"
    }
   ],
   "source": [
    "a"
   ]
  },
  {
   "cell_type": "code",
   "execution_count": 115,
   "id": "809c6222",
   "metadata": {},
   "outputs": [
    {
     "data": {
      "text/plain": [
       "'54'"
      ]
     },
     "execution_count": 115,
     "metadata": {},
     "output_type": "execute_result"
    }
   ],
   "source": [
    "b"
   ]
  },
  {
   "cell_type": "code",
   "execution_count": null,
   "id": "1d5dc5b1",
   "metadata": {},
   "outputs": [],
   "source": []
  }
 ],
 "metadata": {
  "kernelspec": {
   "display_name": "Python 3 (ipykernel)",
   "language": "python",
   "name": "python3"
  },
  "language_info": {
   "codemirror_mode": {
    "name": "ipython",
    "version": 3
   },
   "file_extension": ".py",
   "mimetype": "text/x-python",
   "name": "python",
   "nbconvert_exporter": "python",
   "pygments_lexer": "ipython3",
   "version": "3.9.5"
  }
 },
 "nbformat": 4,
 "nbformat_minor": 5
}
