{
 "cells": [
  {
   "cell_type": "code",
   "execution_count": 1,
   "id": "c41fd40f",
   "metadata": {},
   "outputs": [],
   "source": [
    "runs = [62, 85, 74, 10, 12, 101, 122, 99, 81, 55]"
   ]
  },
  {
   "cell_type": "code",
   "execution_count": 2,
   "id": "15d1827f",
   "metadata": {},
   "outputs": [
    {
     "name": "stdout",
     "output_type": "stream",
     "text": [
      "[62, 85, 74, 10, 12, 101, 122, 99, 81, 55]\n"
     ]
    }
   ],
   "source": [
    "print(runs)"
   ]
  },
  {
   "cell_type": "code",
   "execution_count": 8,
   "id": "bdab5efd",
   "metadata": {},
   "outputs": [
    {
     "data": {
      "text/plain": [
       "'\\nQuestion 1 - \\nGiven list of all runs by Virat,print runs made in Odd Numbered Matches (Even Indexes)\\n'"
      ]
     },
     "execution_count": 8,
     "metadata": {},
     "output_type": "execute_result"
    }
   ],
   "source": [
    "'''\n",
    "Question 1 - \n",
    "Given list of all runs by Virat,print runs made in Odd Numbered Matches (Even Indexes)\n",
    "'''"
   ]
  },
  {
   "cell_type": "code",
   "execution_count": 4,
   "id": "ca5306aa",
   "metadata": {},
   "outputs": [
    {
     "name": "stdout",
     "output_type": "stream",
     "text": [
      "62 74 12 122 81 "
     ]
    }
   ],
   "source": [
    "for i in range(len(runs)):\n",
    "    if i % 2 == 0:\n",
    "        print(runs[i], end = \" \")"
   ]
  },
  {
   "cell_type": "code",
   "execution_count": 7,
   "id": "c6b058bf",
   "metadata": {},
   "outputs": [
    {
     "data": {
      "text/plain": [
       "'\\nQuestion 2 - \\nGiven list of all runs by Virat,\\ncreate a new list of runs made in Odd Numbered Matches (Even Indexes)\\n'"
      ]
     },
     "execution_count": 7,
     "metadata": {},
     "output_type": "execute_result"
    }
   ],
   "source": [
    "'''\n",
    "Question 2 - \n",
    "Given list of all runs by Virat,\n",
    "create a new list of runs made in Odd Numbered Matches (Even Indexes)\n",
    "'''"
   ]
  },
  {
   "cell_type": "code",
   "execution_count": 9,
   "id": "87e6d558",
   "metadata": {},
   "outputs": [],
   "source": [
    "def odd_runs(runs):\n",
    "    result = []\n",
    "    \n",
    "    for i in range(len(runs)):\n",
    "        if i % 2 == 0:\n",
    "            result.append(runs[i])\n",
    "            \n",
    "    return result"
   ]
  },
  {
   "cell_type": "code",
   "execution_count": 10,
   "id": "b0723581",
   "metadata": {},
   "outputs": [],
   "source": [
    "runs_odd = odd_runs(runs)"
   ]
  },
  {
   "cell_type": "code",
   "execution_count": 11,
   "id": "3a413c19",
   "metadata": {},
   "outputs": [
    {
     "data": {
      "text/plain": [
       "[62, 74, 12, 122, 81]"
      ]
     },
     "execution_count": 11,
     "metadata": {},
     "output_type": "execute_result"
    }
   ],
   "source": [
    "runs_odd"
   ]
  },
  {
   "cell_type": "code",
   "execution_count": 13,
   "id": "7c4fc82e",
   "metadata": {},
   "outputs": [
    {
     "data": {
      "text/plain": [
       "'\\nQuestion 3 - \\nGiven list of all runs by Virat,\\ncreate a new list of runs made in the last 5 matches.\\n'"
      ]
     },
     "execution_count": 13,
     "metadata": {},
     "output_type": "execute_result"
    }
   ],
   "source": [
    "'''\n",
    "Question 3 - \n",
    "Given list of all runs by Virat,\n",
    "create a new list of runs made in the last 5 matches.\n",
    "'''"
   ]
  },
  {
   "cell_type": "code",
   "execution_count": 20,
   "id": "1a96f11a",
   "metadata": {},
   "outputs": [],
   "source": [
    "result = []\n",
    "\n",
    "for i in range(len(runs) - 5, len(runs)):\n",
    "    result.append(runs[i])"
   ]
  },
  {
   "cell_type": "code",
   "execution_count": 21,
   "id": "bbd3206e",
   "metadata": {},
   "outputs": [
    {
     "data": {
      "text/plain": [
       "[101, 122, 99, 81, 55]"
      ]
     },
     "execution_count": 21,
     "metadata": {},
     "output_type": "execute_result"
    }
   ],
   "source": [
    "result"
   ]
  },
  {
   "cell_type": "code",
   "execution_count": 22,
   "id": "364b50f5",
   "metadata": {},
   "outputs": [
    {
     "data": {
      "text/plain": [
       "'\\nQuestion 4 - \\nGiven list of all runs by Virat,\\ncreate a new list of runs made in the first 3 matches.\\n'"
      ]
     },
     "execution_count": 22,
     "metadata": {},
     "output_type": "execute_result"
    }
   ],
   "source": [
    "'''\n",
    "Question 4 - \n",
    "Given list of all runs by Virat,\n",
    "create a new list of runs made in the first 3 matches.\n",
    "'''"
   ]
  },
  {
   "cell_type": "code",
   "execution_count": 23,
   "id": "dfccc70a",
   "metadata": {},
   "outputs": [
    {
     "name": "stdout",
     "output_type": "stream",
     "text": [
      "62\n",
      "85\n",
      "74\n"
     ]
    }
   ],
   "source": [
    "for i in range(3):\n",
    "    print(runs[i])"
   ]
  },
  {
   "cell_type": "code",
   "execution_count": 24,
   "id": "409feba5",
   "metadata": {},
   "outputs": [
    {
     "data": {
      "text/plain": [
       "'\\nQuestion 5 - \\nGiven list of all runs by Virat,\\ncreate a new list of runs from the 3rd match to the 7th match\\n'"
      ]
     },
     "execution_count": 24,
     "metadata": {},
     "output_type": "execute_result"
    }
   ],
   "source": [
    "'''\n",
    "Question 5 - \n",
    "Given list of all runs by Virat,\n",
    "create a new list of runs from the 3rd match to the 7th match\n",
    "'''"
   ]
  },
  {
   "cell_type": "code",
   "execution_count": 25,
   "id": "7933019e",
   "metadata": {},
   "outputs": [
    {
     "name": "stdout",
     "output_type": "stream",
     "text": [
      "74\n",
      "10\n",
      "12\n",
      "101\n",
      "122\n"
     ]
    }
   ],
   "source": [
    "for i in range(2,7):\n",
    "    print(runs[i])"
   ]
  },
  {
   "cell_type": "code",
   "execution_count": 26,
   "id": "4569333c",
   "metadata": {},
   "outputs": [
    {
     "name": "stdout",
     "output_type": "stream",
     "text": [
      "74\n",
      "10\n",
      "12\n",
      "101\n",
      "122\n"
     ]
    }
   ],
   "source": [
    "for i in range(len(runs)):\n",
    "    if i >= 2 and i <= 6:\n",
    "        print(runs[i])"
   ]
  },
  {
   "cell_type": "code",
   "execution_count": 27,
   "id": "90853dc5",
   "metadata": {},
   "outputs": [
    {
     "data": {
      "text/plain": [
       "[62, 85, 74, 10, 12]"
      ]
     },
     "execution_count": 27,
     "metadata": {},
     "output_type": "execute_result"
    }
   ],
   "source": [
    "runs[0:5]"
   ]
  },
  {
   "cell_type": "code",
   "execution_count": 28,
   "id": "fd73459f",
   "metadata": {},
   "outputs": [
    {
     "data": {
      "text/plain": [
       "[62, 85, 74, 10, 12, 101, 122, 99, 81, 55]"
      ]
     },
     "execution_count": 28,
     "metadata": {},
     "output_type": "execute_result"
    }
   ],
   "source": [
    "runs"
   ]
  },
  {
   "cell_type": "code",
   "execution_count": 29,
   "id": "79f82c4a",
   "metadata": {},
   "outputs": [],
   "source": [
    "runs_first_5 = runs[0:5]"
   ]
  },
  {
   "cell_type": "code",
   "execution_count": 30,
   "id": "1c66ef2b",
   "metadata": {},
   "outputs": [
    {
     "data": {
      "text/plain": [
       "[62, 85, 74, 10, 12]"
      ]
     },
     "execution_count": 30,
     "metadata": {},
     "output_type": "execute_result"
    }
   ],
   "source": [
    "runs_first_5"
   ]
  },
  {
   "cell_type": "code",
   "execution_count": 31,
   "id": "5db11fdf",
   "metadata": {},
   "outputs": [
    {
     "data": {
      "text/plain": [
       "[62, 85, 74, 10, 12, 101, 122, 99, 81, 55]"
      ]
     },
     "execution_count": 31,
     "metadata": {},
     "output_type": "execute_result"
    }
   ],
   "source": [
    "runs"
   ]
  },
  {
   "cell_type": "code",
   "execution_count": 33,
   "id": "864d5adb",
   "metadata": {},
   "outputs": [
    {
     "data": {
      "text/plain": [
       "[101, 122, 99, 81, 55]"
      ]
     },
     "execution_count": 33,
     "metadata": {},
     "output_type": "execute_result"
    }
   ],
   "source": [
    "runs[len(runs)-5:len(runs)]"
   ]
  },
  {
   "cell_type": "code",
   "execution_count": 34,
   "id": "d4ce090e",
   "metadata": {},
   "outputs": [
    {
     "data": {
      "text/plain": [
       "[74, 10, 12, 101, 122]"
      ]
     },
     "execution_count": 34,
     "metadata": {},
     "output_type": "execute_result"
    }
   ],
   "source": [
    "runs[2:7]"
   ]
  },
  {
   "cell_type": "code",
   "execution_count": 37,
   "id": "3cf68f62",
   "metadata": {},
   "outputs": [
    {
     "data": {
      "text/plain": [
       "[62, 74, 12, 122, 81]"
      ]
     },
     "execution_count": 37,
     "metadata": {},
     "output_type": "execute_result"
    }
   ],
   "source": [
    "runs[0:len(runs):2]"
   ]
  },
  {
   "cell_type": "code",
   "execution_count": 38,
   "id": "3bfccfe0",
   "metadata": {},
   "outputs": [
    {
     "data": {
      "text/plain": [
       "[74, 10, 12, 101, 122, 99, 81, 55]"
      ]
     },
     "execution_count": 38,
     "metadata": {},
     "output_type": "execute_result"
    }
   ],
   "source": [
    "runs[2:] # by default end = len(runs)"
   ]
  },
  {
   "cell_type": "code",
   "execution_count": 40,
   "id": "14e44b04",
   "metadata": {},
   "outputs": [
    {
     "data": {
      "text/plain": [
       "[62, 85, 74, 10, 12]"
      ]
     },
     "execution_count": 40,
     "metadata": {},
     "output_type": "execute_result"
    }
   ],
   "source": [
    "runs[:5] # by default start = 0"
   ]
  },
  {
   "cell_type": "code",
   "execution_count": 41,
   "id": "80123c7e",
   "metadata": {},
   "outputs": [
    {
     "data": {
      "text/plain": [
       "[62, 85, 74, 10, 12, 101, 122, 99, 81, 55]"
      ]
     },
     "execution_count": 41,
     "metadata": {},
     "output_type": "execute_result"
    }
   ],
   "source": [
    "runs[:]"
   ]
  },
  {
   "cell_type": "code",
   "execution_count": 43,
   "id": "dc1d89fb",
   "metadata": {},
   "outputs": [
    {
     "data": {
      "text/plain": [
       "[62, 10, 122, 55]"
      ]
     },
     "execution_count": 43,
     "metadata": {},
     "output_type": "execute_result"
    }
   ],
   "source": [
    "runs[::3]"
   ]
  },
  {
   "cell_type": "code",
   "execution_count": 45,
   "id": "3fe6eb89",
   "metadata": {},
   "outputs": [
    {
     "data": {
      "text/plain": [
       "[62, 85, 74, 10, 12, 101, 122, 99, 81, 55]"
      ]
     },
     "execution_count": 45,
     "metadata": {},
     "output_type": "execute_result"
    }
   ],
   "source": [
    "runs[0:20] # it will automatically stop at the last index of the list"
   ]
  },
  {
   "cell_type": "code",
   "execution_count": 46,
   "id": "733bb397",
   "metadata": {},
   "outputs": [
    {
     "data": {
      "text/plain": [
       "[]"
      ]
     },
     "execution_count": 46,
     "metadata": {},
     "output_type": "execute_result"
    }
   ],
   "source": [
    "runs[15:20]"
   ]
  },
  {
   "cell_type": "code",
   "execution_count": 47,
   "id": "09a47d9a",
   "metadata": {},
   "outputs": [
    {
     "data": {
      "text/plain": [
       "[74, 10, 12, 101, 122, 99, 81, 55]"
      ]
     },
     "execution_count": 47,
     "metadata": {},
     "output_type": "execute_result"
    }
   ],
   "source": [
    "runs[2::]"
   ]
  },
  {
   "cell_type": "code",
   "execution_count": 52,
   "id": "e555d916",
   "metadata": {},
   "outputs": [
    {
     "data": {
      "text/plain": [
       "[62, 85, 74, 10, 12, 101, 122, 99, 81, 55]"
      ]
     },
     "execution_count": 52,
     "metadata": {},
     "output_type": "execute_result"
    }
   ],
   "source": [
    "runs"
   ]
  },
  {
   "cell_type": "code",
   "execution_count": 51,
   "id": "71828206",
   "metadata": {},
   "outputs": [
    {
     "data": {
      "text/plain": [
       "[]"
      ]
     },
     "execution_count": 51,
     "metadata": {},
     "output_type": "execute_result"
    }
   ],
   "source": [
    "runs[5:0]"
   ]
  },
  {
   "cell_type": "code",
   "execution_count": 50,
   "id": "9b2e613e",
   "metadata": {},
   "outputs": [],
   "source": [
    "# Negative Indexing in List Slices"
   ]
  },
  {
   "cell_type": "code",
   "execution_count": 53,
   "id": "93d3e4e8",
   "metadata": {},
   "outputs": [
    {
     "data": {
      "text/plain": [
       "[81, 99, 122]"
      ]
     },
     "execution_count": 53,
     "metadata": {},
     "output_type": "execute_result"
    }
   ],
   "source": [
    "runs[-2:-5:-1]"
   ]
  },
  {
   "cell_type": "code",
   "execution_count": 56,
   "id": "fb626727",
   "metadata": {},
   "outputs": [
    {
     "data": {
      "text/plain": [
       "[62, 85, 74, 10, 12, 101, 122, 99, 81, 55]"
      ]
     },
     "execution_count": 56,
     "metadata": {},
     "output_type": "execute_result"
    }
   ],
   "source": [
    "runs"
   ]
  },
  {
   "cell_type": "code",
   "execution_count": 55,
   "id": "3420eba9",
   "metadata": {},
   "outputs": [
    {
     "data": {
      "text/plain": [
       "[81, 99, 122, 101, 12, 10, 74, 85, 62]"
      ]
     },
     "execution_count": 55,
     "metadata": {},
     "output_type": "execute_result"
    }
   ],
   "source": [
    "runs[-2::-1]\n",
    "\n",
    "# Default end value = len(a) -> step size = +1\n",
    "# Default end value = covering the first element -> step size = -1"
   ]
  },
  {
   "cell_type": "code",
   "execution_count": 57,
   "id": "2128d6f8",
   "metadata": {},
   "outputs": [
    {
     "data": {
      "text/plain": [
       "81"
      ]
     },
     "execution_count": 57,
     "metadata": {},
     "output_type": "execute_result"
    }
   ],
   "source": [
    "runs[-2]"
   ]
  },
  {
   "cell_type": "code",
   "execution_count": 58,
   "id": "b190f488",
   "metadata": {},
   "outputs": [],
   "source": [
    "a = [10,20,30,40,50,60,70,80,90,100]"
   ]
  },
  {
   "cell_type": "code",
   "execution_count": 59,
   "id": "17dadabf",
   "metadata": {},
   "outputs": [
    {
     "data": {
      "text/plain": [
       "[10, 20, 30, 40, 50, 60, 70, 80, 90, 100]"
      ]
     },
     "execution_count": 59,
     "metadata": {},
     "output_type": "execute_result"
    }
   ],
   "source": [
    "a"
   ]
  },
  {
   "cell_type": "code",
   "execution_count": 60,
   "id": "660e8ecb",
   "metadata": {},
   "outputs": [
    {
     "data": {
      "text/plain": [
       "[10, 20, 30, 40, 50]"
      ]
     },
     "execution_count": 60,
     "metadata": {},
     "output_type": "execute_result"
    }
   ],
   "source": [
    "a[:-5]"
   ]
  },
  {
   "cell_type": "code",
   "execution_count": 61,
   "id": "53f9bdef",
   "metadata": {},
   "outputs": [
    {
     "data": {
      "text/plain": [
       "[20, 30, 40, 50]"
      ]
     },
     "execution_count": 61,
     "metadata": {},
     "output_type": "execute_result"
    }
   ],
   "source": [
    "a[-9:5]"
   ]
  },
  {
   "cell_type": "code",
   "execution_count": 62,
   "id": "889e8aea",
   "metadata": {},
   "outputs": [],
   "source": [
    "a = [10, 20, 30, 40, 50, 60, 70, 80, 90, 100]"
   ]
  },
  {
   "cell_type": "code",
   "execution_count": null,
   "id": "8f38c8b1",
   "metadata": {},
   "outputs": [],
   "source": []
  }
 ],
 "metadata": {
  "kernelspec": {
   "display_name": "Python 3 (ipykernel)",
   "language": "python",
   "name": "python3"
  },
  "language_info": {
   "codemirror_mode": {
    "name": "ipython",
    "version": 3
   },
   "file_extension": ".py",
   "mimetype": "text/x-python",
   "name": "python",
   "nbconvert_exporter": "python",
   "pygments_lexer": "ipython3",
   "version": "3.9.5"
  }
 },
 "nbformat": 4,
 "nbformat_minor": 5
}
