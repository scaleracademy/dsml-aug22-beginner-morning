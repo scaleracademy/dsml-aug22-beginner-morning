{
 "cells": [
  {
   "cell_type": "code",
   "execution_count": 7,
   "id": "df72293c",
   "metadata": {},
   "outputs": [
    {
     "data": {
      "text/plain": [
       "True"
      ]
     },
     "execution_count": 7,
     "metadata": {},
     "output_type": "execute_result"
    }
   ],
   "source": [
    "def random():\n",
    "    return True\n",
    "\n",
    "random()"
   ]
  },
  {
   "cell_type": "code",
   "execution_count": 9,
   "id": "3c9fed30",
   "metadata": {},
   "outputs": [
    {
     "data": {
      "text/plain": [
       "'I am a function!'"
      ]
     },
     "execution_count": 9,
     "metadata": {},
     "output_type": "execute_result"
    }
   ],
   "source": [
    "def abc():\n",
    "    return \"I am a function!\"\n",
    "\n",
    "abc()"
   ]
  },
  {
   "cell_type": "code",
   "execution_count": 12,
   "id": "9168dac4",
   "metadata": {
    "scrolled": true
   },
   "outputs": [
    {
     "name": "stdout",
     "output_type": "stream",
     "text": [
      "100\n"
     ]
    },
    {
     "ename": "NameError",
     "evalue": "name 'number' is not defined",
     "output_type": "error",
     "traceback": [
      "\u001b[0;31m---------------------------------------------------------------------------\u001b[0m",
      "\u001b[0;31mNameError\u001b[0m                                 Traceback (most recent call last)",
      "\u001b[0;32m/var/folders/nn/c52y0d3j0gq59dpsswchkt2r0000gn/T/ipykernel_46976/3598147760.py\u001b[0m in \u001b[0;36m<module>\u001b[0;34m\u001b[0m\n\u001b[1;32m      5\u001b[0m \u001b[0;34m\u001b[0m\u001b[0m\n\u001b[1;32m      6\u001b[0m \u001b[0mcalculator\u001b[0m\u001b[0;34m(\u001b[0m\u001b[0ma\u001b[0m\u001b[0;34m)\u001b[0m\u001b[0;34m\u001b[0m\u001b[0;34m\u001b[0m\u001b[0m\n\u001b[0;32m----> 7\u001b[0;31m \u001b[0mprint\u001b[0m\u001b[0;34m(\u001b[0m\u001b[0mnumber\u001b[0m\u001b[0;34m)\u001b[0m\u001b[0;34m\u001b[0m\u001b[0;34m\u001b[0m\u001b[0m\n\u001b[0m\u001b[1;32m      8\u001b[0m \u001b[0mprint\u001b[0m\u001b[0;34m(\u001b[0m\u001b[0ma\u001b[0m\u001b[0;34m)\u001b[0m\u001b[0;34m\u001b[0m\u001b[0;34m\u001b[0m\u001b[0m\n",
      "\u001b[0;31mNameError\u001b[0m: name 'number' is not defined"
     ]
    }
   ],
   "source": [
    "a = 10\n",
    "\n",
    "def calculator(number):\n",
    "    print(number * 10)\n",
    "\n",
    "calculator(a)\n",
    "print(number)\n",
    "print(a)"
   ]
  },
  {
   "cell_type": "code",
   "execution_count": 14,
   "id": "2c93da91",
   "metadata": {},
   "outputs": [
    {
     "name": "stdout",
     "output_type": "stream",
     "text": [
      "100\n",
      "10\n"
     ]
    }
   ],
   "source": [
    "a = 10\n",
    "\n",
    "def calculator(number):\n",
    "    print(number * 10) # number = 10 -> 10*10 -> 100\n",
    "\n",
    "calculator(a) # calculator(10)\n",
    "print(a) # 10"
   ]
  },
  {
   "cell_type": "code",
   "execution_count": 15,
   "id": "0dbc17d1",
   "metadata": {},
   "outputs": [
    {
     "data": {
      "text/plain": [
       "'BIG'"
      ]
     },
     "execution_count": 15,
     "metadata": {},
     "output_type": "execute_result"
    }
   ],
   "source": [
    "a = 57\n",
    "\n",
    "def simple_function(a):\n",
    "    if a <= 10:\n",
    "        return \"SMALL\"\n",
    "    elif a > 10:\n",
    "        return \"BIG\"\n",
    "    \n",
    "simple_function(a)"
   ]
  },
  {
   "cell_type": "code",
   "execution_count": 16,
   "id": "f703f982",
   "metadata": {},
   "outputs": [],
   "source": [
    "def introduce_family(my_name, sibling_name, father_name, mother_name):\n",
    "    print(\"My name is\", my_name)\n",
    "    print(\"My sibling's is\", sibling_name)\n",
    "    print(\"My father's is\", father_name)\n",
    "    print(\"My mother's is\", mother_name)"
   ]
  },
  {
   "cell_type": "code",
   "execution_count": 17,
   "id": "fea24f02",
   "metadata": {},
   "outputs": [
    {
     "name": "stdout",
     "output_type": "stream",
     "text": [
      "My name is Bipin\n",
      "My sibling's is Deepak\n",
      "My father's is Deepa\n",
      "My mother's is Vidhi\n"
     ]
    }
   ],
   "source": [
    "introduce_family(\"Bipin\", \"Deepak\", \"Deepa\", \"Vidhi\")"
   ]
  },
  {
   "cell_type": "code",
   "execution_count": 18,
   "id": "fb81bcbf",
   "metadata": {},
   "outputs": [],
   "source": [
    "# Keyworded Arguments"
   ]
  },
  {
   "cell_type": "code",
   "execution_count": 20,
   "id": "5ddd6888",
   "metadata": {},
   "outputs": [
    {
     "name": "stdout",
     "output_type": "stream",
     "text": [
      "My name is Bipin\n",
      "My sibling's is Vidhi\n",
      "My father's is Deepak\n",
      "My mother's is Deepa\n"
     ]
    }
   ],
   "source": [
    "introduce_family(\n",
    "    my_name = \"Bipin\",\n",
    "    father_name = \"Deepak\",\n",
    "    mother_name = \"Deepa\",\n",
    "    sibling_name = \"Vidhi\"\n",
    ")"
   ]
  },
  {
   "cell_type": "code",
   "execution_count": 21,
   "id": "b01d02b9",
   "metadata": {},
   "outputs": [
    {
     "ename": "SyntaxError",
     "evalue": "positional argument follows keyword argument (3482896144.py, line 6)",
     "output_type": "error",
     "traceback": [
      "\u001b[0;36m  File \u001b[0;32m\"/var/folders/nn/c52y0d3j0gq59dpsswchkt2r0000gn/T/ipykernel_46976/3482896144.py\"\u001b[0;36m, line \u001b[0;32m6\u001b[0m\n\u001b[0;31m    )\u001b[0m\n\u001b[0m    ^\u001b[0m\n\u001b[0;31mSyntaxError\u001b[0m\u001b[0;31m:\u001b[0m positional argument follows keyword argument\n"
     ]
    }
   ],
   "source": [
    "introduce_family(\n",
    "    my_name = \"Bipin\",\n",
    "    father_name = \"Deepak\",\n",
    "    mother_name = \"Deepa\",\n",
    "    \"Vidhi\"\n",
    ")"
   ]
  },
  {
   "cell_type": "code",
   "execution_count": 22,
   "id": "a25a15d1",
   "metadata": {},
   "outputs": [],
   "source": [
    "def random(a, b, c, d):\n",
    "    print(a,b,c,d)"
   ]
  },
  {
   "cell_type": "code",
   "execution_count": 25,
   "id": "dd1f64dd",
   "metadata": {},
   "outputs": [
    {
     "name": "stdout",
     "output_type": "stream",
     "text": [
      "4 5 6 7\n"
     ]
    }
   ],
   "source": [
    "random(4, 5, 6, 7)"
   ]
  },
  {
   "cell_type": "code",
   "execution_count": 26,
   "id": "4fcd1433",
   "metadata": {},
   "outputs": [
    {
     "name": "stdout",
     "output_type": "stream",
     "text": [
      "5 6 7 9\n"
     ]
    }
   ],
   "source": [
    "random(b = 6, c = 7, d = 9, a = 5)"
   ]
  },
  {
   "cell_type": "code",
   "execution_count": 27,
   "id": "7eb0044c",
   "metadata": {},
   "outputs": [
    {
     "ename": "SyntaxError",
     "evalue": "positional argument follows keyword argument (2778486202.py, line 1)",
     "output_type": "error",
     "traceback": [
      "\u001b[0;36m  File \u001b[0;32m\"/var/folders/nn/c52y0d3j0gq59dpsswchkt2r0000gn/T/ipykernel_46976/2778486202.py\"\u001b[0;36m, line \u001b[0;32m1\u001b[0m\n\u001b[0;31m    random(b = 6, c = 7, d = 9, 5 )\u001b[0m\n\u001b[0m                                  ^\u001b[0m\n\u001b[0;31mSyntaxError\u001b[0m\u001b[0;31m:\u001b[0m positional argument follows keyword argument\n"
     ]
    }
   ],
   "source": [
    "random(b = 6, c = 7, d = 9, 5 )"
   ]
  },
  {
   "cell_type": "code",
   "execution_count": 28,
   "id": "e28d4b22",
   "metadata": {},
   "outputs": [
    {
     "name": "stdout",
     "output_type": "stream",
     "text": [
      "4 5 7 6\n"
     ]
    }
   ],
   "source": [
    "random(4, 5, d = 6, c = 7)"
   ]
  },
  {
   "cell_type": "code",
   "execution_count": 29,
   "id": "ae97e1e8",
   "metadata": {},
   "outputs": [
    {
     "ename": "TypeError",
     "evalue": "random() got multiple values for argument 'a'",
     "output_type": "error",
     "traceback": [
      "\u001b[0;31m---------------------------------------------------------------------------\u001b[0m",
      "\u001b[0;31mTypeError\u001b[0m                                 Traceback (most recent call last)",
      "\u001b[0;32m/var/folders/nn/c52y0d3j0gq59dpsswchkt2r0000gn/T/ipykernel_46976/3836193223.py\u001b[0m in \u001b[0;36m<module>\u001b[0;34m\u001b[0m\n\u001b[0;32m----> 1\u001b[0;31m \u001b[0mrandom\u001b[0m\u001b[0;34m(\u001b[0m\u001b[0;36m4\u001b[0m\u001b[0;34m,\u001b[0m \u001b[0;36m6\u001b[0m\u001b[0;34m,\u001b[0m \u001b[0ma\u001b[0m \u001b[0;34m=\u001b[0m \u001b[0;36m5\u001b[0m\u001b[0;34m,\u001b[0m \u001b[0mc\u001b[0m \u001b[0;34m=\u001b[0m \u001b[0;36m7\u001b[0m\u001b[0;34m)\u001b[0m\u001b[0;34m\u001b[0m\u001b[0;34m\u001b[0m\u001b[0m\n\u001b[0m",
      "\u001b[0;31mTypeError\u001b[0m: random() got multiple values for argument 'a'"
     ]
    }
   ],
   "source": [
    "random(4, 6, a = 5, c = 7)"
   ]
  },
  {
   "cell_type": "code",
   "execution_count": 30,
   "id": "82a7916f",
   "metadata": {},
   "outputs": [],
   "source": [
    "# Simple Interest"
   ]
  },
  {
   "cell_type": "code",
   "execution_count": 31,
   "id": "8611fa06",
   "metadata": {},
   "outputs": [],
   "source": [
    "# Default Value ->\n",
    "# rate of interest = 5%"
   ]
  },
  {
   "cell_type": "code",
   "execution_count": 32,
   "id": "ea2b3504",
   "metadata": {},
   "outputs": [],
   "source": [
    "def simple_interest(p, r, t):\n",
    "    interest = (p*r*t) / 100\n",
    "    \n",
    "    return interest"
   ]
  },
  {
   "cell_type": "code",
   "execution_count": 34,
   "id": "89a91c36",
   "metadata": {},
   "outputs": [
    {
     "ename": "TypeError",
     "evalue": "simple_interest() missing 1 required positional argument: 't'",
     "output_type": "error",
     "traceback": [
      "\u001b[0;31m---------------------------------------------------------------------------\u001b[0m",
      "\u001b[0;31mTypeError\u001b[0m                                 Traceback (most recent call last)",
      "\u001b[0;32m/var/folders/nn/c52y0d3j0gq59dpsswchkt2r0000gn/T/ipykernel_46976/927123737.py\u001b[0m in \u001b[0;36m<module>\u001b[0;34m\u001b[0m\n\u001b[0;32m----> 1\u001b[0;31m \u001b[0msimple_interest\u001b[0m\u001b[0;34m(\u001b[0m\u001b[0;36m50000\u001b[0m\u001b[0;34m,\u001b[0m \u001b[0;36m3\u001b[0m\u001b[0;34m)\u001b[0m\u001b[0;34m\u001b[0m\u001b[0;34m\u001b[0m\u001b[0m\n\u001b[0m",
      "\u001b[0;31mTypeError\u001b[0m: simple_interest() missing 1 required positional argument: 't'"
     ]
    }
   ],
   "source": [
    "simple_interest(50000, 3)"
   ]
  },
  {
   "cell_type": "code",
   "execution_count": 37,
   "id": "43ff9c1b",
   "metadata": {},
   "outputs": [],
   "source": [
    "def simple_interest(p, t, r = 5): # default argument\n",
    "    interest = (p*r*t) / 100\n",
    "    \n",
    "    return interest"
   ]
  },
  {
   "cell_type": "code",
   "execution_count": 38,
   "id": "05bfeb4a",
   "metadata": {},
   "outputs": [
    {
     "data": {
      "text/plain": [
       "7500.0"
      ]
     },
     "execution_count": 38,
     "metadata": {},
     "output_type": "execute_result"
    }
   ],
   "source": [
    "simple_interest(50000, 3)"
   ]
  },
  {
   "cell_type": "code",
   "execution_count": 39,
   "id": "c7d9dd60",
   "metadata": {},
   "outputs": [
    {
     "data": {
      "text/plain": [
       "15000.0"
      ]
     },
     "execution_count": 39,
     "metadata": {},
     "output_type": "execute_result"
    }
   ],
   "source": [
    "simple_interest(50000, 3, 10)"
   ]
  },
  {
   "cell_type": "code",
   "execution_count": 3,
   "id": "0b2a3a77",
   "metadata": {
    "scrolled": false
   },
   "outputs": [
    {
     "ename": "SyntaxError",
     "evalue": "non-default argument follows default argument (992412390.py, line 1)",
     "output_type": "error",
     "traceback": [
      "\u001b[0;36m  File \u001b[0;32m\"/var/folders/nn/c52y0d3j0gq59dpsswchkt2r0000gn/T/ipykernel_47556/992412390.py\"\u001b[0;36m, line \u001b[0;32m1\u001b[0m\n\u001b[0;31m    def simple_interest(p, r = 5, t):\u001b[0m\n\u001b[0m                                   ^\u001b[0m\n\u001b[0;31mSyntaxError\u001b[0m\u001b[0;31m:\u001b[0m non-default argument follows default argument\n"
     ]
    }
   ],
   "source": [
    "def simple_interest(p, r = 5, t):\n",
    "    interest = (p*r*t) / 100\n",
    "    \n",
    "    return interest"
   ]
  },
  {
   "cell_type": "code",
   "execution_count": null,
   "id": "92ab8549",
   "metadata": {},
   "outputs": [],
   "source": [
    "simple_interest()"
   ]
  },
  {
   "cell_type": "code",
   "execution_count": null,
   "id": "5a138833",
   "metadata": {},
   "outputs": [],
   "source": []
  },
  {
   "cell_type": "code",
   "execution_count": 4,
   "id": "aa28cb55",
   "metadata": {},
   "outputs": [],
   "source": [
    "def simple_interest(p, r = 5, t = 1):\n",
    "    interest = (p*r*t) / 100\n",
    "    \n",
    "    return interest"
   ]
  },
  {
   "cell_type": "code",
   "execution_count": 5,
   "id": "0117ae9c",
   "metadata": {},
   "outputs": [
    {
     "data": {
      "text/plain": [
       "500.0"
      ]
     },
     "execution_count": 5,
     "metadata": {},
     "output_type": "execute_result"
    }
   ],
   "source": [
    "simple_interest(10000)"
   ]
  },
  {
   "cell_type": "code",
   "execution_count": 7,
   "id": "e8649be9",
   "metadata": {},
   "outputs": [
    {
     "data": {
      "text/plain": [
       "10000.0"
      ]
     },
     "execution_count": 7,
     "metadata": {},
     "output_type": "execute_result"
    }
   ],
   "source": [
    "simple_interest(100000, 10)"
   ]
  },
  {
   "cell_type": "code",
   "execution_count": 8,
   "id": "87508525",
   "metadata": {},
   "outputs": [
    {
     "data": {
      "text/plain": [
       "20000.0"
      ]
     },
     "execution_count": 8,
     "metadata": {},
     "output_type": "execute_result"
    }
   ],
   "source": [
    "simple_interest(100000, 10, 2)"
   ]
  },
  {
   "cell_type": "code",
   "execution_count": 9,
   "id": "bad8e32d",
   "metadata": {},
   "outputs": [
    {
     "data": {
      "text/plain": [
       "'\\nQuestion 1 - \\nCreate a date printing function - \\nShould take in 4 arguments - \\nday, month, year, style\\n\\nStyling Logic -\\nstyle -> 0 -> d/m/y\\nstyle -> 1 -> m/d/y\\nstyle -> anything else -> Invalid Style\\n\\ndefault style is 0\\n'"
      ]
     },
     "execution_count": 9,
     "metadata": {},
     "output_type": "execute_result"
    }
   ],
   "source": [
    "'''\n",
    "Question 1 - \n",
    "Create a date printing function - \n",
    "Should take in 4 arguments - \n",
    "day, month, year, style\n",
    "\n",
    "Styling Logic -\n",
    "style -> 0 -> d/m/y\n",
    "style -> 1 -> m/d/y\n",
    "style -> anything else -> Invalid Style\n",
    "\n",
    "default style is 0\n",
    "'''"
   ]
  },
  {
   "cell_type": "code",
   "execution_count": 10,
   "id": "33e9156d",
   "metadata": {},
   "outputs": [],
   "source": [
    "def print_date(day, month, year, style = 0):\n",
    "    if style == 0:\n",
    "        print(day, \"/\", month, \"/\", year)\n",
    "    elif style == 1:\n",
    "        print(month, \"/\", day, \"/\", year)\n",
    "    else:\n",
    "        print(\"Invalid Style!\")"
   ]
  },
  {
   "cell_type": "code",
   "execution_count": 11,
   "id": "86afe798",
   "metadata": {},
   "outputs": [
    {
     "name": "stdout",
     "output_type": "stream",
     "text": [
      "23 / 12 / 2022\n"
     ]
    }
   ],
   "source": [
    "print_date(23, 12, 2022)"
   ]
  },
  {
   "cell_type": "code",
   "execution_count": 12,
   "id": "b0b92d33",
   "metadata": {},
   "outputs": [
    {
     "name": "stdout",
     "output_type": "stream",
     "text": [
      "12 / 23 / 2022\n"
     ]
    }
   ],
   "source": [
    "print_date(23, 12, 2022, 1)"
   ]
  },
  {
   "cell_type": "code",
   "execution_count": 13,
   "id": "e695a38c",
   "metadata": {
    "scrolled": true
   },
   "outputs": [
    {
     "name": "stdout",
     "output_type": "stream",
     "text": [
      "Invalid Style!\n"
     ]
    }
   ],
   "source": [
    "print_date(23, 12, 2022, 5)"
   ]
  },
  {
   "cell_type": "code",
   "execution_count": 15,
   "id": "363fbb87",
   "metadata": {},
   "outputs": [
    {
     "name": "stdout",
     "output_type": "stream",
     "text": [
      "Chief of house is - Mother\n",
      "New chief of house is - Father\n"
     ]
    }
   ],
   "source": [
    "chief_of_house = \"Mother\"\n",
    "\n",
    "print(\"Chief of house is -\", chief_of_house)\n",
    "\n",
    "def change_chief():\n",
    "    chief_of_house = \"Father\"\n",
    "    print(\"New chief of house is -\", chief_of_house)\n",
    "    \n",
    "change_chief()"
   ]
  },
  {
   "cell_type": "code",
   "execution_count": 16,
   "id": "c6c14687",
   "metadata": {},
   "outputs": [
    {
     "name": "stdout",
     "output_type": "stream",
     "text": [
      "Mother\n"
     ]
    }
   ],
   "source": [
    "print(chief_of_house)"
   ]
  },
  {
   "cell_type": "code",
   "execution_count": 22,
   "id": "244a64de",
   "metadata": {},
   "outputs": [
    {
     "name": "stdout",
     "output_type": "stream",
     "text": [
      "Inside Random1 - 50\n",
      "Inside Random2 - 10\n",
      "Outside - 10\n"
     ]
    }
   ],
   "source": [
    "a = 10 # global varible\n",
    "\n",
    "def random():\n",
    "    a = 50 # local variable -> Only accessible within the block\n",
    "    print(\"Inside Random1 -\", end = \" \")\n",
    "    print(a)\n",
    "    \n",
    "def random2():\n",
    "    print(\"Inside Random2 -\", end = \" \")\n",
    "    print(a)\n",
    "    \n",
    "random()\n",
    "random2()\n",
    "\n",
    "print(\"Outside -\", end = \" \")\n",
    "print(a)"
   ]
  },
  {
   "cell_type": "code",
   "execution_count": 25,
   "id": "cfb32ef4",
   "metadata": {},
   "outputs": [],
   "source": [
    "a = 10\n",
    "\n",
    "def random():\n",
    "    global a\n",
    "    \n",
    "    a = 20\n",
    "    \n",
    "    print(a)\n",
    "\n",
    "random()\n",
    "print(a)"
   ]
  },
  {
   "cell_type": "code",
   "execution_count": 26,
   "id": "b1934082",
   "metadata": {},
   "outputs": [
    {
     "name": "stdout",
     "output_type": "stream",
     "text": [
      "20\n"
     ]
    }
   ],
   "source": [
    "random()"
   ]
  },
  {
   "cell_type": "code",
   "execution_count": null,
   "id": "c827e3ac",
   "metadata": {},
   "outputs": [],
   "source": []
  }
 ],
 "metadata": {
  "kernelspec": {
   "display_name": "Python 3 (ipykernel)",
   "language": "python",
   "name": "python3"
  },
  "language_info": {
   "codemirror_mode": {
    "name": "ipython",
    "version": 3
   },
   "file_extension": ".py",
   "mimetype": "text/x-python",
   "name": "python",
   "nbconvert_exporter": "python",
   "pygments_lexer": "ipython3",
   "version": "3.9.5"
  }
 },
 "nbformat": 4,
 "nbformat_minor": 5
}
