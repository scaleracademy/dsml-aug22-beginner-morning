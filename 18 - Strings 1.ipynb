{
 "cells": [
  {
   "cell_type": "code",
   "execution_count": 4,
   "id": "18f837ea",
   "metadata": {},
   "outputs": [],
   "source": [
    "x = \"Whatever I write. UPPERCASE, lowercaSE, %#^(##$%^()), 3456787654323456789.        \""
   ]
  },
  {
   "cell_type": "code",
   "execution_count": 5,
   "id": "2ca47c62",
   "metadata": {},
   "outputs": [
    {
     "data": {
      "text/plain": [
       "str"
      ]
     },
     "execution_count": 5,
     "metadata": {},
     "output_type": "execute_result"
    }
   ],
   "source": [
    "type(x)"
   ]
  },
  {
   "cell_type": "code",
   "execution_count": 6,
   "id": "c35ffb02",
   "metadata": {},
   "outputs": [
    {
     "data": {
      "text/plain": [
       "'valid string'"
      ]
     },
     "execution_count": 6,
     "metadata": {},
     "output_type": "execute_result"
    }
   ],
   "source": [
    "\"valid string\""
   ]
  },
  {
   "cell_type": "code",
   "execution_count": 7,
   "id": "88b86188",
   "metadata": {},
   "outputs": [
    {
     "data": {
      "text/plain": [
       "'valid string'"
      ]
     },
     "execution_count": 7,
     "metadata": {},
     "output_type": "execute_result"
    }
   ],
   "source": [
    "'valid string'"
   ]
  },
  {
   "cell_type": "code",
   "execution_count": 8,
   "id": "73e7ea2b",
   "metadata": {},
   "outputs": [
    {
     "data": {
      "text/plain": [
       "'valid string'"
      ]
     },
     "execution_count": 8,
     "metadata": {},
     "output_type": "execute_result"
    }
   ],
   "source": [
    "'''valid string'''"
   ]
  },
  {
   "cell_type": "code",
   "execution_count": 9,
   "id": "0d6b8ec2",
   "metadata": {},
   "outputs": [
    {
     "ename": "SyntaxError",
     "evalue": "EOL while scanning string literal (3071074542.py, line 1)",
     "output_type": "error",
     "traceback": [
      "\u001b[0;36m  File \u001b[0;32m\"/var/folders/nn/c52y0d3j0gq59dpsswchkt2r0000gn/T/ipykernel_17645/3071074542.py\"\u001b[0;36m, line \u001b[0;32m1\u001b[0m\n\u001b[0;31m    \"valid string?'\u001b[0m\n\u001b[0m                   ^\u001b[0m\n\u001b[0;31mSyntaxError\u001b[0m\u001b[0;31m:\u001b[0m EOL while scanning string literal\n"
     ]
    }
   ],
   "source": [
    "\"valid string?'"
   ]
  },
  {
   "cell_type": "code",
   "execution_count": 11,
   "id": "16f84e4a",
   "metadata": {},
   "outputs": [],
   "source": [
    "# opening and closing quotes should be the same ^"
   ]
  },
  {
   "cell_type": "code",
   "execution_count": 12,
   "id": "86c84401",
   "metadata": {},
   "outputs": [
    {
     "data": {
      "text/plain": [
       "True"
      ]
     },
     "execution_count": 12,
     "metadata": {},
     "output_type": "execute_result"
    }
   ],
   "source": [
    "\"a\" > \"A\""
   ]
  },
  {
   "cell_type": "code",
   "execution_count": 13,
   "id": "e635acf4",
   "metadata": {},
   "outputs": [
    {
     "data": {
      "text/plain": [
       "'randomrandom2'"
      ]
     },
     "execution_count": 13,
     "metadata": {},
     "output_type": "execute_result"
    }
   ],
   "source": [
    "\"random\" + \"random2\""
   ]
  },
  {
   "cell_type": "code",
   "execution_count": 14,
   "id": "aae62ac4",
   "metadata": {},
   "outputs": [
    {
     "data": {
      "text/plain": [
       "'aaaaaaaaaaaaaaa'"
      ]
     },
     "execution_count": 14,
     "metadata": {},
     "output_type": "execute_result"
    }
   ],
   "source": [
    "\"a\" * 3 * 5"
   ]
  },
  {
   "cell_type": "code",
   "execution_count": 15,
   "id": "3381454a",
   "metadata": {},
   "outputs": [],
   "source": [
    "# Lexicographical Order -> Order of words in a dictionary"
   ]
  },
  {
   "cell_type": "code",
   "execution_count": 16,
   "id": "683f5453",
   "metadata": {},
   "outputs": [
    {
     "data": {
      "text/plain": [
       "True"
      ]
     },
     "execution_count": 16,
     "metadata": {},
     "output_type": "execute_result"
    }
   ],
   "source": [
    "\"zebra\" > \"abchfjsfgjikugfdfghjkjhgfdjhgfhchhgvghvhghfhgfhf\""
   ]
  },
  {
   "cell_type": "code",
   "execution_count": 17,
   "id": "f6126c29",
   "metadata": {},
   "outputs": [
    {
     "data": {
      "text/plain": [
       "False"
      ]
     },
     "execution_count": 17,
     "metadata": {},
     "output_type": "execute_result"
    }
   ],
   "source": [
    "\"aAa\" > \"aaa\""
   ]
  },
  {
   "cell_type": "code",
   "execution_count": 18,
   "id": "04831aef",
   "metadata": {},
   "outputs": [],
   "source": [
    "l = 5\n",
    "b = 10\n",
    "a = l*b"
   ]
  },
  {
   "cell_type": "code",
   "execution_count": 19,
   "id": "01d15163",
   "metadata": {},
   "outputs": [],
   "source": [
    "# Length = l, Breadth = b and Area = a"
   ]
  },
  {
   "cell_type": "code",
   "execution_count": 21,
   "id": "6b78d685",
   "metadata": {},
   "outputs": [
    {
     "name": "stdout",
     "output_type": "stream",
     "text": [
      "Length = 5 Breadth = 10 and Area = 50\n"
     ]
    }
   ],
   "source": [
    "print(\"Length =\", l, \"Breadth =\", b, \"and Area =\", a)"
   ]
  },
  {
   "cell_type": "code",
   "execution_count": 29,
   "id": "f97dae5b",
   "metadata": {},
   "outputs": [
    {
     "name": "stdout",
     "output_type": "stream",
     "text": [
      "Length - 5, Breadth = 10 and Area = M Sai\n"
     ]
    }
   ],
   "source": [
    "print(\"Length - {}, Breadth = {} and Area = {}\".format(l, b, a))"
   ]
  },
  {
   "cell_type": "code",
   "execution_count": 27,
   "id": "5e0019c7",
   "metadata": {},
   "outputs": [
    {
     "name": "stdout",
     "output_type": "stream",
     "text": [
      "M Sai\n"
     ]
    }
   ],
   "source": [
    "a = input()\n",
    "\n",
    "result = \"Variable is - {}\".format(a)"
   ]
  },
  {
   "cell_type": "code",
   "execution_count": 28,
   "id": "0dc3aef8",
   "metadata": {
    "scrolled": true
   },
   "outputs": [
    {
     "data": {
      "text/plain": [
       "'Variable is - M Sai'"
      ]
     },
     "execution_count": 28,
     "metadata": {},
     "output_type": "execute_result"
    }
   ],
   "source": [
    "result"
   ]
  },
  {
   "cell_type": "code",
   "execution_count": 32,
   "id": "b1ab9d2e",
   "metadata": {},
   "outputs": [
    {
     "name": "stdout",
     "output_type": "stream",
     "text": [
      "Length - 5, Breadth - 10 and Area = M Sai\n"
     ]
    }
   ],
   "source": [
    "print(f\"Length - {l}, Breadth - {b} and Area = {a}\")"
   ]
  },
  {
   "cell_type": "code",
   "execution_count": 34,
   "id": "a8a321f7",
   "metadata": {},
   "outputs": [
    {
     "data": {
      "text/plain": [
       "97"
      ]
     },
     "execution_count": 34,
     "metadata": {},
     "output_type": "execute_result"
    }
   ],
   "source": [
    "ord(\"a\") # ord function gives the ASCII value of a character"
   ]
  },
  {
   "cell_type": "code",
   "execution_count": 35,
   "id": "e9047f46",
   "metadata": {},
   "outputs": [
    {
     "data": {
      "text/plain": [
       "64"
      ]
     },
     "execution_count": 35,
     "metadata": {},
     "output_type": "execute_result"
    }
   ],
   "source": [
    "ord(\"@\")"
   ]
  },
  {
   "cell_type": "code",
   "execution_count": 36,
   "id": "85186800",
   "metadata": {},
   "outputs": [
    {
     "data": {
      "text/plain": [
       "38"
      ]
     },
     "execution_count": 36,
     "metadata": {},
     "output_type": "execute_result"
    }
   ],
   "source": [
    "ord (\"&\")"
   ]
  },
  {
   "cell_type": "code",
   "execution_count": 37,
   "id": "939b873a",
   "metadata": {},
   "outputs": [
    {
     "data": {
      "text/plain": [
       "128516"
      ]
     },
     "execution_count": 37,
     "metadata": {},
     "output_type": "execute_result"
    }
   ],
   "source": [
    "ord(\"😄\")"
   ]
  },
  {
   "cell_type": "code",
   "execution_count": 38,
   "id": "575382fe",
   "metadata": {},
   "outputs": [
    {
     "data": {
      "text/plain": [
       "10"
      ]
     },
     "execution_count": 38,
     "metadata": {},
     "output_type": "execute_result"
    }
   ],
   "source": [
    "ord(\"\\n\")"
   ]
  },
  {
   "cell_type": "code",
   "execution_count": 40,
   "id": "fadf33d1",
   "metadata": {},
   "outputs": [
    {
     "data": {
      "text/plain": [
       "'&'"
      ]
     },
     "execution_count": 40,
     "metadata": {},
     "output_type": "execute_result"
    }
   ],
   "source": [
    "chr(38) # chr converts ASCII value to a string"
   ]
  },
  {
   "cell_type": "code",
   "execution_count": 41,
   "id": "87a31946",
   "metadata": {},
   "outputs": [
    {
     "data": {
      "text/plain": [
       "'😄'"
      ]
     },
     "execution_count": 41,
     "metadata": {},
     "output_type": "execute_result"
    }
   ],
   "source": [
    "chr(128516)"
   ]
  },
  {
   "cell_type": "code",
   "execution_count": 44,
   "id": "a6aa19f3",
   "metadata": {},
   "outputs": [
    {
     "data": {
      "text/plain": [
       "'\\nQuestion 1 - \\n1. Take a string input from the user.\\n2. Print that string character by character with each character in new line.\\n\\nInput - \"INDIA\"\\nOutput - \\nI\\nN\\nD\\nI\\nA\\n'"
      ]
     },
     "execution_count": 44,
     "metadata": {},
     "output_type": "execute_result"
    }
   ],
   "source": [
    "'''\n",
    "Question 1 - \n",
    "1. Take a string input from the user.\n",
    "2. Print that string character by character with each character in new line.\n",
    "\n",
    "Input - \"INDIA\"\n",
    "Output - \n",
    "I\n",
    "N\n",
    "D\n",
    "I\n",
    "A\n",
    "'''"
   ]
  },
  {
   "cell_type": "code",
   "execution_count": 45,
   "id": "2d5c0a26",
   "metadata": {},
   "outputs": [
    {
     "name": "stdout",
     "output_type": "stream",
     "text": [
      "INDIA\n",
      "I\n",
      "N\n",
      "D\n",
      "I\n",
      "A\n"
     ]
    }
   ],
   "source": [
    "a = input()\n",
    "\n",
    "for i in a:\n",
    "    print(i)"
   ]
  },
  {
   "cell_type": "code",
   "execution_count": 47,
   "id": "0d0878d5",
   "metadata": {},
   "outputs": [
    {
     "data": {
      "text/plain": [
       "'\\nQuestion 2 - \\n1. Take a string input from the user.\\n2. Print the following - \\n\"First Character - <first_character>, Last Character - <last_character>\"\\n\\nInput - INDIA\\nOutput - First Character - I, Last Character - A\\n'"
      ]
     },
     "execution_count": 47,
     "metadata": {},
     "output_type": "execute_result"
    }
   ],
   "source": [
    "'''\n",
    "Question 2 - \n",
    "1. Take a string input from the user.\n",
    "2. Print the following - \n",
    "\"First Character - <first_character>, Last Character - <last_character>\"\n",
    "\n",
    "Input - INDIA\n",
    "Output - First Character - I, Last Character - A\n",
    "'''"
   ]
  },
  {
   "cell_type": "code",
   "execution_count": 48,
   "id": "8fdbf2be",
   "metadata": {},
   "outputs": [
    {
     "name": "stdout",
     "output_type": "stream",
     "text": [
      "INDIA\n",
      "First Character - I, Last Character - A\n"
     ]
    }
   ],
   "source": [
    "a = input()\n",
    "\n",
    "print(f\"First Character - {a[0]}, Last Character - {a[-1]}\")"
   ]
  },
  {
   "cell_type": "code",
   "execution_count": 49,
   "id": "0c62f380",
   "metadata": {},
   "outputs": [],
   "source": [
    "s = \"INDIA_IS_MY_COUNTRY\""
   ]
  },
  {
   "cell_type": "code",
   "execution_count": 50,
   "id": "42e629dc",
   "metadata": {},
   "outputs": [
    {
     "data": {
      "text/plain": [
       "'INDIA'"
      ]
     },
     "execution_count": 50,
     "metadata": {},
     "output_type": "execute_result"
    }
   ],
   "source": [
    "s[:5]"
   ]
  },
  {
   "cell_type": "code",
   "execution_count": 51,
   "id": "33153934",
   "metadata": {},
   "outputs": [
    {
     "ename": "TypeError",
     "evalue": "'str' object does not support item assignment",
     "output_type": "error",
     "traceback": [
      "\u001b[0;31m---------------------------------------------------------------------------\u001b[0m",
      "\u001b[0;31mTypeError\u001b[0m                                 Traceback (most recent call last)",
      "\u001b[0;32m/var/folders/nn/c52y0d3j0gq59dpsswchkt2r0000gn/T/ipykernel_17645/2581282902.py\u001b[0m in \u001b[0;36m<module>\u001b[0;34m\u001b[0m\n\u001b[0;32m----> 1\u001b[0;31m \u001b[0ms\u001b[0m\u001b[0;34m[\u001b[0m\u001b[0;36m0\u001b[0m\u001b[0;34m]\u001b[0m \u001b[0;34m=\u001b[0m \u001b[0;34m\"R\"\u001b[0m\u001b[0;34m\u001b[0m\u001b[0;34m\u001b[0m\u001b[0m\n\u001b[0m",
      "\u001b[0;31mTypeError\u001b[0m: 'str' object does not support item assignment"
     ]
    }
   ],
   "source": [
    "s[0] = \"R\""
   ]
  },
  {
   "cell_type": "code",
   "execution_count": 52,
   "id": "cd89487f",
   "metadata": {},
   "outputs": [],
   "source": [
    "s = \"new string\""
   ]
  },
  {
   "cell_type": "code",
   "execution_count": 53,
   "id": "96f54558",
   "metadata": {},
   "outputs": [
    {
     "data": {
      "text/plain": [
       "'new string'"
      ]
     },
     "execution_count": 53,
     "metadata": {},
     "output_type": "execute_result"
    }
   ],
   "source": [
    "s"
   ]
  },
  {
   "cell_type": "code",
   "execution_count": 54,
   "id": "33d15529",
   "metadata": {},
   "outputs": [
    {
     "data": {
      "text/plain": [
       "'\\nQuestion 3 - \\n1. Take a string input from the user.\\n2. Reverse that string\\n'"
      ]
     },
     "execution_count": 54,
     "metadata": {},
     "output_type": "execute_result"
    }
   ],
   "source": [
    "'''\n",
    "Question 3 - \n",
    "1. Take a string input from the user.\n",
    "2. Reverse that string\n",
    "'''"
   ]
  },
  {
   "cell_type": "code",
   "execution_count": 55,
   "id": "749cb087",
   "metadata": {},
   "outputs": [],
   "source": [
    "s = \"any string\""
   ]
  },
  {
   "cell_type": "code",
   "execution_count": 57,
   "id": "4cfb9444",
   "metadata": {},
   "outputs": [
    {
     "data": {
      "text/plain": [
       "'gnirts yna'"
      ]
     },
     "execution_count": 57,
     "metadata": {},
     "output_type": "execute_result"
    }
   ],
   "source": [
    "s[::-1]"
   ]
  },
  {
   "cell_type": "code",
   "execution_count": 58,
   "id": "e65e9504",
   "metadata": {},
   "outputs": [
    {
     "data": {
      "text/plain": [
       "'\\nQuestion 4 - \\n1. Take a string input from the user.\\n2. Return \"PALINDROME\" if the string is a palindrome, otherwise return \"NOT A PALINDROME\"\\n'"
      ]
     },
     "execution_count": 58,
     "metadata": {},
     "output_type": "execute_result"
    }
   ],
   "source": [
    "'''\n",
    "Question 4 - \n",
    "1. Take a string input from the user.\n",
    "2. Return \"PALINDROME\" if the string is a palindrome, otherwise return \"NOT A PALINDROME\"\n",
    "'''"
   ]
  },
  {
   "cell_type": "code",
   "execution_count": 59,
   "id": "365fd067",
   "metadata": {},
   "outputs": [
    {
     "name": "stdout",
     "output_type": "stream",
     "text": [
      "NAMAN\n"
     ]
    }
   ],
   "source": [
    "a = input()"
   ]
  },
  {
   "cell_type": "code",
   "execution_count": 64,
   "id": "b2949883",
   "metadata": {},
   "outputs": [],
   "source": [
    "def check_palindrome(a):\n",
    "    a = a.lower()\n",
    "    return \"PALINDROME\" if a == a[::-1] else \"NOT A PALINDROME\""
   ]
  },
  {
   "cell_type": "code",
   "execution_count": 65,
   "id": "e6bd8950",
   "metadata": {},
   "outputs": [
    {
     "data": {
      "text/plain": [
       "'PALINDROME'"
      ]
     },
     "execution_count": 65,
     "metadata": {},
     "output_type": "execute_result"
    }
   ],
   "source": [
    "check_palindrome(a)"
   ]
  },
  {
   "cell_type": "code",
   "execution_count": 66,
   "id": "b5fac732",
   "metadata": {},
   "outputs": [
    {
     "name": "stdout",
     "output_type": "stream",
     "text": [
      "Naman\n"
     ]
    }
   ],
   "source": [
    "a2 = input()"
   ]
  },
  {
   "cell_type": "code",
   "execution_count": 67,
   "id": "8653a102",
   "metadata": {},
   "outputs": [
    {
     "data": {
      "text/plain": [
       "'PALINDROME'"
      ]
     },
     "execution_count": 67,
     "metadata": {},
     "output_type": "execute_result"
    }
   ],
   "source": [
    "check_palindrome(a2)"
   ]
  },
  {
   "cell_type": "code",
   "execution_count": 68,
   "id": "16bd0310",
   "metadata": {},
   "outputs": [
    {
     "data": {
      "text/plain": [
       "'\\nQuestion 5 - \\n1. Take a string input from the user.\\n2. Print the number of upper case characters in that string.\\n\\nInput - \"This is a RANDOM strinG 67890, %^*\"\\nOutput - 8\\n'"
      ]
     },
     "execution_count": 68,
     "metadata": {},
     "output_type": "execute_result"
    }
   ],
   "source": [
    "'''\n",
    "Question 5 - \n",
    "1. Take a string input from the user.\n",
    "2. Print the number of upper case characters in that string.\n",
    "\n",
    "Input - \"This is a RANDOM strinG 67890, %^*\"\n",
    "Output - 8\n",
    "'''"
   ]
  },
  {
   "cell_type": "code",
   "execution_count": 69,
   "id": "4a2f2525",
   "metadata": {},
   "outputs": [],
   "source": [
    "a = \"This is a RANDOM strinG 67890, %^*\""
   ]
  },
  {
   "cell_type": "code",
   "execution_count": 70,
   "id": "13758c67",
   "metadata": {},
   "outputs": [],
   "source": [
    "def count_upper_case(a):\n",
    "    count = 0\n",
    "    \n",
    "    for random in a:\n",
    "        if ord(random) >= 65 and ord(random) <= 90:\n",
    "            count += 1\n",
    "            \n",
    "    return count"
   ]
  },
  {
   "cell_type": "code",
   "execution_count": 71,
   "id": "7d691f74",
   "metadata": {},
   "outputs": [
    {
     "data": {
      "text/plain": [
       "8"
      ]
     },
     "execution_count": 71,
     "metadata": {},
     "output_type": "execute_result"
    }
   ],
   "source": [
    "count_upper_case(a)"
   ]
  },
  {
   "cell_type": "code",
   "execution_count": 76,
   "id": "7e73efba",
   "metadata": {},
   "outputs": [],
   "source": [
    "def count_upper_case_2(a):\n",
    "    count = 0\n",
    "    \n",
    "    for i in a:\n",
    "        if i.isupper():\n",
    "            count += 1\n",
    "            \n",
    "    return count"
   ]
  },
  {
   "cell_type": "code",
   "execution_count": 73,
   "id": "cbc9ed6e",
   "metadata": {},
   "outputs": [
    {
     "data": {
      "text/plain": [
       "True"
      ]
     },
     "execution_count": 73,
     "metadata": {},
     "output_type": "execute_result"
    }
   ],
   "source": [
    "\"A\".isupper()"
   ]
  },
  {
   "cell_type": "code",
   "execution_count": 74,
   "id": "7450866e",
   "metadata": {},
   "outputs": [
    {
     "data": {
      "text/plain": [
       "True"
      ]
     },
     "execution_count": 74,
     "metadata": {},
     "output_type": "execute_result"
    }
   ],
   "source": [
    "\"a\".islower()"
   ]
  },
  {
   "cell_type": "code",
   "execution_count": 75,
   "id": "65966b8f",
   "metadata": {},
   "outputs": [
    {
     "data": {
      "text/plain": [
       "False"
      ]
     },
     "execution_count": 75,
     "metadata": {},
     "output_type": "execute_result"
    }
   ],
   "source": [
    "\"A\".islower()"
   ]
  },
  {
   "cell_type": "code",
   "execution_count": 77,
   "id": "9a346e32",
   "metadata": {},
   "outputs": [
    {
     "data": {
      "text/plain": [
       "8"
      ]
     },
     "execution_count": 77,
     "metadata": {},
     "output_type": "execute_result"
    }
   ],
   "source": [
    "count_upper_case_2(a)"
   ]
  },
  {
   "cell_type": "code",
   "execution_count": 78,
   "id": "adc965fd",
   "metadata": {},
   "outputs": [
    {
     "data": {
      "text/plain": [
       "'\\nQuestion 6 - \\n1. You are given a list of numbers between 1 abd 256.\\n2. Generate a string from the chr values of these numbers.\\n\\nInput - [65, 97, 68]\\nOutput - \"Aad\"\\n\\nExplanation - \\nchr(65) -> A\\nchr(97) -> a\\nchr(68) -> d\\n'"
      ]
     },
     "execution_count": 78,
     "metadata": {},
     "output_type": "execute_result"
    }
   ],
   "source": [
    "'''\n",
    "Question 6 - \n",
    "1. You are given a list of numbers between 1 abd 256.\n",
    "2. Generate a string from the chr values of these numbers.\n",
    "\n",
    "Input - [65, 97, 68]\n",
    "Output - \"Aad\"\n",
    "\n",
    "Explanation - \n",
    "chr(65) -> A\n",
    "chr(97) -> a\n",
    "chr(68) -> d\n",
    "'''"
   ]
  },
  {
   "cell_type": "code",
   "execution_count": 80,
   "id": "ba2c3f3e",
   "metadata": {},
   "outputs": [],
   "source": [
    "a = [56, 78, 99, 103, 157, 22, 22, 24, 10, 100]"
   ]
  },
  {
   "cell_type": "code",
   "execution_count": 81,
   "id": "9edf60cf",
   "metadata": {},
   "outputs": [],
   "source": [
    "s = \"\"\n",
    "s += \"a\""
   ]
  },
  {
   "cell_type": "code",
   "execution_count": 82,
   "id": "fa1c2cdf",
   "metadata": {},
   "outputs": [
    {
     "data": {
      "text/plain": [
       "'a'"
      ]
     },
     "execution_count": 82,
     "metadata": {},
     "output_type": "execute_result"
    }
   ],
   "source": [
    "s"
   ]
  },
  {
   "cell_type": "code",
   "execution_count": 83,
   "id": "a62abf4b",
   "metadata": {},
   "outputs": [],
   "source": [
    "def generate_string(a):\n",
    "    s = \"\"\n",
    "    \n",
    "    for i in a:\n",
    "        s += chr(i)\n",
    "        \n",
    "    return s"
   ]
  },
  {
   "cell_type": "code",
   "execution_count": 84,
   "id": "bbbd950b",
   "metadata": {},
   "outputs": [
    {
     "data": {
      "text/plain": [
       "'8Ncg\\x9d\\x16\\x16\\x18\\nd'"
      ]
     },
     "execution_count": 84,
     "metadata": {},
     "output_type": "execute_result"
    }
   ],
   "source": [
    "generate_string(a)"
   ]
  },
  {
   "cell_type": "code",
   "execution_count": 95,
   "id": "4c6c4514",
   "metadata": {},
   "outputs": [],
   "source": [
    "def generate_string_cool(a):\n",
    "    result = []\n",
    "    \n",
    "    for i in a:\n",
    "        result.append(chr(i))\n",
    "        \n",
    "    return \"\".join(result)"
   ]
  },
  {
   "cell_type": "code",
   "execution_count": 96,
   "id": "0f9f779d",
   "metadata": {},
   "outputs": [
    {
     "data": {
      "text/plain": [
       "'8Ncg\\x9d\\x16\\x16\\x18\\nd'"
      ]
     },
     "execution_count": 96,
     "metadata": {},
     "output_type": "execute_result"
    }
   ],
   "source": [
    "generate_string_cool(a)"
   ]
  },
  {
   "cell_type": "code",
   "execution_count": 97,
   "id": "884a44fb",
   "metadata": {},
   "outputs": [
    {
     "data": {
      "text/plain": [
       "'\\nQuestion 7 - \\n1. Given a string of comma separated values.\\n2. Convert it into a list of individual values.\\n\\nInput - \"56,78,99,101,23,34,56,102\"\\nOutput - [56, 78, 99, 101, 23, 34, 56, 102]\\n'"
      ]
     },
     "execution_count": 97,
     "metadata": {},
     "output_type": "execute_result"
    }
   ],
   "source": [
    "'''\n",
    "Question 7 - \n",
    "1. Given a string of comma separated values.\n",
    "2. Convert it into a list of individual values.\n",
    "\n",
    "Input - \"56,78,99,101,23,34,56,102\"\n",
    "Output - [56, 78, 99, 101, 23, 34, 56, 102]\n",
    "'''"
   ]
  },
  {
   "cell_type": "code",
   "execution_count": 98,
   "id": "66bd4ba2",
   "metadata": {},
   "outputs": [],
   "source": [
    "a = \"56,78,99,101,23,34,56,102\""
   ]
  },
  {
   "cell_type": "code",
   "execution_count": 99,
   "id": "b6b49713",
   "metadata": {},
   "outputs": [
    {
     "ename": "IndentationError",
     "evalue": "expected an indented block (137303352.py, line 5)",
     "output_type": "error",
     "traceback": [
      "\u001b[0;36m  File \u001b[0;32m\"/var/folders/nn/c52y0d3j0gq59dpsswchkt2r0000gn/T/ipykernel_17645/137303352.py\"\u001b[0;36m, line \u001b[0;32m5\u001b[0m\n\u001b[0;31m    #     WAY TOO TOUGH!\u001b[0m\n\u001b[0m                         ^\u001b[0m\n\u001b[0;31mIndentationError\u001b[0m\u001b[0;31m:\u001b[0m expected an indented block\n"
     ]
    }
   ],
   "source": [
    "def tough_way(a):\n",
    "    result = []\n",
    "    \n",
    "    for i in a:\n",
    "#     WAY TOO TOUGH! "
   ]
  },
  {
   "cell_type": "code",
   "execution_count": 104,
   "id": "27776ac6",
   "metadata": {},
   "outputs": [],
   "source": [
    "def easy_way(a):\n",
    "    list_a = a.split(\",\")\n",
    "    result = []\n",
    "    \n",
    "    for i in list_a:\n",
    "        result.append(int(i))\n",
    "        \n",
    "    return result"
   ]
  },
  {
   "cell_type": "code",
   "execution_count": 107,
   "id": "cd18cf12",
   "metadata": {},
   "outputs": [
    {
     "data": {
      "text/plain": [
       "[56, 78, 99, 101, 23, 34, 56, 102]"
      ]
     },
     "execution_count": 107,
     "metadata": {},
     "output_type": "execute_result"
    }
   ],
   "source": [
    "easy_way(a)"
   ]
  },
  {
   "cell_type": "code",
   "execution_count": 106,
   "id": "516d469e",
   "metadata": {},
   "outputs": [
    {
     "data": {
      "text/plain": [
       "['This', 'is', 'a', 'string']"
      ]
     },
     "execution_count": 106,
     "metadata": {},
     "output_type": "execute_result"
    }
   ],
   "source": [
    "\"This_is_a_string\".split(\"_\")"
   ]
  },
  {
   "cell_type": "code",
   "execution_count": 108,
   "id": "e7bca0b9",
   "metadata": {},
   "outputs": [
    {
     "data": {
      "text/plain": [
       "'\\n\"\".join(a) -> a would be a list of strings -> output would be string\\n\"Random_string\".split(\"_\") -> Argument is the splitting character -> result would be a list\\n'"
      ]
     },
     "execution_count": 108,
     "metadata": {},
     "output_type": "execute_result"
    }
   ],
   "source": [
    "'''\n",
    "\"\".join(a) -> a would be a list of strings -> output would be string\n",
    "\"Random_string\".split(\"_\") -> Argument is the splitting character -> result would be a list\n",
    "'''"
   ]
  },
  {
   "cell_type": "code",
   "execution_count": 109,
   "id": "9e4dcc43",
   "metadata": {},
   "outputs": [
    {
     "data": {
      "text/plain": [
       "['random', 'strinfg', '101', 'this', 'is', 'very', 'raodnm', 'so', 'random']"
      ]
     },
     "execution_count": 109,
     "metadata": {},
     "output_type": "execute_result"
    }
   ],
   "source": [
    "\" random strinfg 101 this is very raodnm so random\".split()"
   ]
  },
  {
   "cell_type": "code",
   "execution_count": 110,
   "id": "c401311e",
   "metadata": {},
   "outputs": [
    {
     "data": {
      "text/plain": [
       "[' r', 'ndom strinfg 101 this is very r', 'odnm so r', 'ndom']"
      ]
     },
     "execution_count": 110,
     "metadata": {},
     "output_type": "execute_result"
    }
   ],
   "source": [
    "\" random strinfg 101 this is very raodnm so random\".split(\"a\")"
   ]
  },
  {
   "cell_type": "code",
   "execution_count": 112,
   "id": "446d229a",
   "metadata": {},
   "outputs": [],
   "source": [
    "a = \"thisWORDisWORDaWORDrandomWORDstring\".split(\"WORD\")"
   ]
  },
  {
   "cell_type": "code",
   "execution_count": 113,
   "id": "b75bd89f",
   "metadata": {},
   "outputs": [
    {
     "data": {
      "text/plain": [
       "['this', 'is', 'a', 'random', 'string']"
      ]
     },
     "execution_count": 113,
     "metadata": {},
     "output_type": "execute_result"
    }
   ],
   "source": [
    "a"
   ]
  },
  {
   "cell_type": "code",
   "execution_count": 114,
   "id": "517a77f5",
   "metadata": {},
   "outputs": [
    {
     "data": {
      "text/plain": [
       "'this is a random string'"
      ]
     },
     "execution_count": 114,
     "metadata": {},
     "output_type": "execute_result"
    }
   ],
   "source": [
    "\" \".join(a)"
   ]
  },
  {
   "cell_type": "code",
   "execution_count": null,
   "id": "9ea33a6e",
   "metadata": {},
   "outputs": [],
   "source": []
  }
 ],
 "metadata": {
  "kernelspec": {
   "display_name": "Python 3 (ipykernel)",
   "language": "python",
   "name": "python3"
  },
  "language_info": {
   "codemirror_mode": {
    "name": "ipython",
    "version": 3
   },
   "file_extension": ".py",
   "mimetype": "text/x-python",
   "name": "python",
   "nbconvert_exporter": "python",
   "pygments_lexer": "ipython3",
   "version": "3.9.5"
  }
 },
 "nbformat": 4,
 "nbformat_minor": 5
}
