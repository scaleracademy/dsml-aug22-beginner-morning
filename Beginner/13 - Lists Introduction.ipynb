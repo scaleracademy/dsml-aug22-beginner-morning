{
 "cells": [
  {
   "cell_type": "code",
   "execution_count": 1,
   "id": "1a161cfa",
   "metadata": {},
   "outputs": [],
   "source": [
    "# runs1, runs2, runs3...........runs370"
   ]
  },
  {
   "cell_type": "code",
   "execution_count": 4,
   "id": "62538327",
   "metadata": {},
   "outputs": [],
   "source": [
    "# creating a list -> []\n",
    "runs_virat = [67, 54, 12, 34, 77, 89, 101]\n",
    "\n",
    "# lists have no limit on how many values it can store"
   ]
  },
  {
   "cell_type": "code",
   "execution_count": 5,
   "id": "7876e269",
   "metadata": {},
   "outputs": [
    {
     "data": {
      "text/plain": [
       "[67, 54, 12, 34, 77, 89, 101]"
      ]
     },
     "execution_count": 5,
     "metadata": {},
     "output_type": "execute_result"
    }
   ],
   "source": [
    "runs_virat"
   ]
  },
  {
   "cell_type": "code",
   "execution_count": 7,
   "id": "09771590",
   "metadata": {},
   "outputs": [
    {
     "data": {
      "text/plain": [
       "list"
      ]
     },
     "execution_count": 7,
     "metadata": {},
     "output_type": "execute_result"
    }
   ],
   "source": [
    "type(runs_virat)"
   ]
  },
  {
   "cell_type": "code",
   "execution_count": 6,
   "id": "d82c3ac8",
   "metadata": {},
   "outputs": [],
   "source": [
    "# How do I access a value?"
   ]
  },
  {
   "cell_type": "code",
   "execution_count": 10,
   "id": "d13dfbf2",
   "metadata": {},
   "outputs": [
    {
     "data": {
      "text/plain": [
       "12"
      ]
     },
     "execution_count": 10,
     "metadata": {},
     "output_type": "execute_result"
    }
   ],
   "source": [
    "# Lists are accessible using indexes - Lists are indexable\n",
    "runs_virat[2]"
   ]
  },
  {
   "cell_type": "code",
   "execution_count": 11,
   "id": "eaaf9e33",
   "metadata": {},
   "outputs": [],
   "source": [
    "a = [4,-2,6,7,8,1]"
   ]
  },
  {
   "cell_type": "code",
   "execution_count": 12,
   "id": "423695e8",
   "metadata": {},
   "outputs": [
    {
     "data": {
      "text/plain": [
       "-2"
      ]
     },
     "execution_count": 12,
     "metadata": {},
     "output_type": "execute_result"
    }
   ],
   "source": [
    "a[1]"
   ]
  },
  {
   "cell_type": "code",
   "execution_count": 13,
   "id": "3de06756",
   "metadata": {},
   "outputs": [
    {
     "data": {
      "text/plain": [
       "[67, 54, 12, 34, 77, 89, 101]"
      ]
     },
     "execution_count": 13,
     "metadata": {},
     "output_type": "execute_result"
    }
   ],
   "source": [
    "runs_virat"
   ]
  },
  {
   "cell_type": "code",
   "execution_count": 16,
   "id": "3b307cbf",
   "metadata": {},
   "outputs": [],
   "source": [
    "length_runs_virat = len(runs_virat)"
   ]
  },
  {
   "cell_type": "code",
   "execution_count": 17,
   "id": "ee7015cc",
   "metadata": {},
   "outputs": [
    {
     "data": {
      "text/plain": [
       "7"
      ]
     },
     "execution_count": 17,
     "metadata": {},
     "output_type": "execute_result"
    }
   ],
   "source": [
    "length_runs_virat"
   ]
  },
  {
   "cell_type": "code",
   "execution_count": 18,
   "id": "9b42be2c",
   "metadata": {},
   "outputs": [],
   "source": [
    "# runs scored by Virat in the last match?"
   ]
  },
  {
   "cell_type": "code",
   "execution_count": 19,
   "id": "c6caf373",
   "metadata": {},
   "outputs": [
    {
     "data": {
      "text/plain": [
       "101"
      ]
     },
     "execution_count": 19,
     "metadata": {},
     "output_type": "execute_result"
    }
   ],
   "source": [
    "runs_virat[len(runs_virat) - 1]"
   ]
  },
  {
   "cell_type": "code",
   "execution_count": 20,
   "id": "7d072ff8",
   "metadata": {},
   "outputs": [],
   "source": [
    "# Negative Indexing"
   ]
  },
  {
   "cell_type": "code",
   "execution_count": 21,
   "id": "a79df342",
   "metadata": {},
   "outputs": [
    {
     "data": {
      "text/plain": [
       "101"
      ]
     },
     "execution_count": 21,
     "metadata": {},
     "output_type": "execute_result"
    }
   ],
   "source": [
    "runs_virat[-1]"
   ]
  },
  {
   "cell_type": "code",
   "execution_count": 22,
   "id": "7c8ddd09",
   "metadata": {},
   "outputs": [
    {
     "data": {
      "text/plain": [
       "89"
      ]
     },
     "execution_count": 22,
     "metadata": {},
     "output_type": "execute_result"
    }
   ],
   "source": [
    "runs_virat[-2]"
   ]
  },
  {
   "cell_type": "code",
   "execution_count": 23,
   "id": "ee8ade07",
   "metadata": {},
   "outputs": [
    {
     "data": {
      "text/plain": [
       "67"
      ]
     },
     "execution_count": 23,
     "metadata": {},
     "output_type": "execute_result"
    }
   ],
   "source": [
    "runs_virat[-len(runs_virat)] # runs_virat[0]"
   ]
  },
  {
   "cell_type": "code",
   "execution_count": 24,
   "id": "275cfbfc",
   "metadata": {},
   "outputs": [],
   "source": [
    "runs = [45, 67, 89, 12, 34, 56, 100]"
   ]
  },
  {
   "cell_type": "code",
   "execution_count": 25,
   "id": "ad269901",
   "metadata": {},
   "outputs": [
    {
     "data": {
      "text/plain": [
       "'\\nQuestion 1 - \\nPrint total of the runs on odd positions in the list.\\n'"
      ]
     },
     "execution_count": 25,
     "metadata": {},
     "output_type": "execute_result"
    }
   ],
   "source": [
    "'''\n",
    "Question 1 - \n",
    "Print total of the runs on odd positions in the list.\n",
    "'''"
   ]
  },
  {
   "cell_type": "code",
   "execution_count": 26,
   "id": "eb5843ca",
   "metadata": {},
   "outputs": [
    {
     "name": "stdout",
     "output_type": "stream",
     "text": [
      "268\n"
     ]
    }
   ],
   "source": [
    "print(runs[0] + runs[2] + runs[4] + runs[6])"
   ]
  },
  {
   "cell_type": "code",
   "execution_count": 28,
   "id": "d69b7853",
   "metadata": {},
   "outputs": [],
   "source": [
    "# Can we add more elements to a list?"
   ]
  },
  {
   "cell_type": "code",
   "execution_count": 29,
   "id": "0254a014",
   "metadata": {},
   "outputs": [],
   "source": [
    "# Lists have various methods for addition\n",
    "# Methods -> Functions -> OOPS -> Intermediate"
   ]
  },
  {
   "cell_type": "code",
   "execution_count": 30,
   "id": "a3cd82e9",
   "metadata": {},
   "outputs": [
    {
     "data": {
      "text/plain": [
       "[45, 67, 89, 12, 34, 56, 100]"
      ]
     },
     "execution_count": 30,
     "metadata": {},
     "output_type": "execute_result"
    }
   ],
   "source": [
    "runs"
   ]
  },
  {
   "cell_type": "code",
   "execution_count": 31,
   "id": "dd3adffc",
   "metadata": {},
   "outputs": [],
   "source": [
    "# append is a method on the list data type\n",
    "runs.append(71)"
   ]
  },
  {
   "cell_type": "code",
   "execution_count": 32,
   "id": "21683222",
   "metadata": {},
   "outputs": [
    {
     "data": {
      "text/plain": [
       "[45, 67, 89, 12, 34, 56, 100, 71]"
      ]
     },
     "execution_count": 32,
     "metadata": {},
     "output_type": "execute_result"
    }
   ],
   "source": [
    "runs"
   ]
  },
  {
   "cell_type": "code",
   "execution_count": 34,
   "id": "30ae86ea",
   "metadata": {},
   "outputs": [
    {
     "data": {
      "text/plain": [
       "'\\nTo add to a list ->\\nlist.append(value_to_be_appended)\\n'"
      ]
     },
     "execution_count": 34,
     "metadata": {},
     "output_type": "execute_result"
    }
   ],
   "source": [
    "'''\n",
    "To add to a list ->\n",
    "list.append(value_to_be_appended)\n",
    "'''"
   ]
  },
  {
   "cell_type": "code",
   "execution_count": 35,
   "id": "eaa92bc8",
   "metadata": {},
   "outputs": [],
   "source": [
    "# insert method can be used to insert at any index"
   ]
  },
  {
   "cell_type": "code",
   "execution_count": 36,
   "id": "80bd6fde",
   "metadata": {},
   "outputs": [],
   "source": [
    "runs.insert(0, 25)"
   ]
  },
  {
   "cell_type": "code",
   "execution_count": 37,
   "id": "c148a11d",
   "metadata": {},
   "outputs": [
    {
     "data": {
      "text/plain": [
       "[25, 45, 67, 89, 12, 34, 56, 100, 71]"
      ]
     },
     "execution_count": 37,
     "metadata": {},
     "output_type": "execute_result"
    }
   ],
   "source": [
    "runs"
   ]
  },
  {
   "cell_type": "code",
   "execution_count": 38,
   "id": "32d7abb2",
   "metadata": {},
   "outputs": [],
   "source": [
    "new_runs = [130, 69, 92]"
   ]
  },
  {
   "cell_type": "code",
   "execution_count": 39,
   "id": "c55fcc50",
   "metadata": {},
   "outputs": [],
   "source": [
    "# Adding multiple values at once can be done using extend"
   ]
  },
  {
   "cell_type": "code",
   "execution_count": 40,
   "id": "1611c066",
   "metadata": {},
   "outputs": [],
   "source": [
    "runs.extend(new_runs)"
   ]
  },
  {
   "cell_type": "code",
   "execution_count": 41,
   "id": "2f163f03",
   "metadata": {},
   "outputs": [
    {
     "data": {
      "text/plain": [
       "[25, 45, 67, 89, 12, 34, 56, 100, 71, 130, 69, 92]"
      ]
     },
     "execution_count": 41,
     "metadata": {},
     "output_type": "execute_result"
    }
   ],
   "source": [
    "runs"
   ]
  },
  {
   "cell_type": "code",
   "execution_count": 42,
   "id": "744a179d",
   "metadata": {},
   "outputs": [
    {
     "data": {
      "text/plain": [
       "[25, 45, 67, 89, 12, 34, 56, 100, 71, 130, 69, 92]"
      ]
     },
     "execution_count": 42,
     "metadata": {},
     "output_type": "execute_result"
    }
   ],
   "source": [
    "runs"
   ]
  },
  {
   "cell_type": "code",
   "execution_count": 48,
   "id": "8ceaad45",
   "metadata": {},
   "outputs": [],
   "source": [
    "runs = runs + [200, 250, 300] # use this instead of extend"
   ]
  },
  {
   "cell_type": "code",
   "execution_count": 46,
   "id": "401dc9f3",
   "metadata": {},
   "outputs": [
    {
     "data": {
      "text/plain": [
       "[25, 45, 67, 89, 12, 34, 56, 100, 71, 130, 69, 92, 200, 250, 300]"
      ]
     },
     "execution_count": 46,
     "metadata": {},
     "output_type": "execute_result"
    }
   ],
   "source": [
    "runs"
   ]
  },
  {
   "cell_type": "code",
   "execution_count": 49,
   "id": "c7a30550",
   "metadata": {},
   "outputs": [],
   "source": [
    "runs = runs + [56]"
   ]
  },
  {
   "cell_type": "code",
   "execution_count": 50,
   "id": "e900ec8d",
   "metadata": {},
   "outputs": [
    {
     "data": {
      "text/plain": [
       "[25,\n",
       " 45,\n",
       " 67,\n",
       " 89,\n",
       " 12,\n",
       " 34,\n",
       " 56,\n",
       " 100,\n",
       " 71,\n",
       " 130,\n",
       " 69,\n",
       " 92,\n",
       " 200,\n",
       " 250,\n",
       " 300,\n",
       " 200,\n",
       " 250,\n",
       " 300,\n",
       " 200,\n",
       " 250,\n",
       " 300,\n",
       " 56]"
      ]
     },
     "execution_count": 50,
     "metadata": {},
     "output_type": "execute_result"
    }
   ],
   "source": [
    "runs"
   ]
  },
  {
   "cell_type": "code",
   "execution_count": 52,
   "id": "6d485471",
   "metadata": {},
   "outputs": [
    {
     "name": "stdout",
     "output_type": "stream",
     "text": [
      "0\n",
      "1\n",
      "2\n",
      "3\n",
      "4\n"
     ]
    }
   ],
   "source": [
    "# i -> iterator -> variable used to iterate\n",
    "# range(5) -> iterable -> the collection of values on which we iterate\n",
    "# print(i) -> iteration block -> body of the for loop\n",
    "for i in range(5):\n",
    "    print(i)"
   ]
  },
  {
   "cell_type": "code",
   "execution_count": 53,
   "id": "56da7613",
   "metadata": {},
   "outputs": [],
   "source": [
    "a = [56, 78, 89, 32, 101, 4]"
   ]
  },
  {
   "cell_type": "code",
   "execution_count": 54,
   "id": "636e58b4",
   "metadata": {},
   "outputs": [
    {
     "name": "stdout",
     "output_type": "stream",
     "text": [
      "56\n",
      "78\n",
      "89\n",
      "32\n",
      "101\n",
      "4\n"
     ]
    }
   ],
   "source": [
    "for i in a:\n",
    "    print(i)"
   ]
  },
  {
   "cell_type": "code",
   "execution_count": 55,
   "id": "0bb0fea3",
   "metadata": {},
   "outputs": [
    {
     "data": {
      "text/plain": [
       "[67, 54, 12, 34, 77, 89, 101]"
      ]
     },
     "execution_count": 55,
     "metadata": {},
     "output_type": "execute_result"
    }
   ],
   "source": [
    "runs_virat"
   ]
  },
  {
   "cell_type": "code",
   "execution_count": 56,
   "id": "bdebe224",
   "metadata": {},
   "outputs": [
    {
     "data": {
      "text/plain": [
       "'\\nQuestion 2 - \\nIn runs_virat -> Calculate the Sum, Avg, Max and Min runs.\\n'"
      ]
     },
     "execution_count": 56,
     "metadata": {},
     "output_type": "execute_result"
    }
   ],
   "source": [
    "'''\n",
    "Question 2 - \n",
    "In runs_virat -> Calculate the Sum, Avg, Max and Min runs.\n",
    "'''"
   ]
  },
  {
   "cell_type": "code",
   "execution_count": 91,
   "id": "d8672b2f",
   "metadata": {},
   "outputs": [],
   "source": [
    "length_runs = 0\n",
    "average_runs = 0\n",
    "sum_runs = 0\n",
    "max_runs = 0\n",
    "min_runs = 0"
   ]
  },
  {
   "cell_type": "code",
   "execution_count": 92,
   "id": "c3cefe9d",
   "metadata": {},
   "outputs": [],
   "source": [
    "for i in runs_virat:\n",
    "    sum_runs += i\n",
    "    length_runs += 1"
   ]
  },
  {
   "cell_type": "code",
   "execution_count": 63,
   "id": "e4e8857d",
   "metadata": {},
   "outputs": [
    {
     "data": {
      "text/plain": [
       "434"
      ]
     },
     "execution_count": 63,
     "metadata": {},
     "output_type": "execute_result"
    }
   ],
   "source": [
    "sum_runs"
   ]
  },
  {
   "cell_type": "code",
   "execution_count": 64,
   "id": "1f56b8fb",
   "metadata": {},
   "outputs": [
    {
     "data": {
      "text/plain": [
       "7"
      ]
     },
     "execution_count": 64,
     "metadata": {},
     "output_type": "execute_result"
    }
   ],
   "source": [
    "length_runs"
   ]
  },
  {
   "cell_type": "code",
   "execution_count": 65,
   "id": "571deaf2",
   "metadata": {},
   "outputs": [],
   "source": [
    "average_runs = sum_runs / length_runs"
   ]
  },
  {
   "cell_type": "code",
   "execution_count": 66,
   "id": "8b2fa7c6",
   "metadata": {},
   "outputs": [
    {
     "data": {
      "text/plain": [
       "62.0"
      ]
     },
     "execution_count": 66,
     "metadata": {},
     "output_type": "execute_result"
    }
   ],
   "source": [
    "average_runs"
   ]
  },
  {
   "cell_type": "code",
   "execution_count": 67,
   "id": "f9b2eade",
   "metadata": {},
   "outputs": [],
   "source": [
    "for i in runs_virat:\n",
    "    if i > max_runs:\n",
    "        max_runs = i"
   ]
  },
  {
   "cell_type": "code",
   "execution_count": 68,
   "id": "e2d19e64",
   "metadata": {},
   "outputs": [
    {
     "data": {
      "text/plain": [
       "101"
      ]
     },
     "execution_count": 68,
     "metadata": {},
     "output_type": "execute_result"
    }
   ],
   "source": [
    "max_runs"
   ]
  },
  {
   "cell_type": "code",
   "execution_count": 69,
   "id": "eb920f69",
   "metadata": {},
   "outputs": [],
   "source": [
    "min_runs = max_runs"
   ]
  },
  {
   "cell_type": "code",
   "execution_count": 70,
   "id": "b5daa5de",
   "metadata": {},
   "outputs": [],
   "source": [
    "for i in runs_virat:\n",
    "    if i < min_runs:\n",
    "        min_runs = i"
   ]
  },
  {
   "cell_type": "code",
   "execution_count": 71,
   "id": "a2962d03",
   "metadata": {},
   "outputs": [
    {
     "data": {
      "text/plain": [
       "12"
      ]
     },
     "execution_count": 71,
     "metadata": {},
     "output_type": "execute_result"
    }
   ],
   "source": [
    "min_runs"
   ]
  },
  {
   "cell_type": "code",
   "execution_count": 72,
   "id": "faf88d46",
   "metadata": {},
   "outputs": [],
   "source": [
    "sum_runs = sum(runs_virat)"
   ]
  },
  {
   "cell_type": "code",
   "execution_count": 73,
   "id": "799d63a6",
   "metadata": {},
   "outputs": [
    {
     "data": {
      "text/plain": [
       "434"
      ]
     },
     "execution_count": 73,
     "metadata": {},
     "output_type": "execute_result"
    }
   ],
   "source": [
    "sum_runs"
   ]
  },
  {
   "cell_type": "code",
   "execution_count": 74,
   "id": "112ec7e0",
   "metadata": {},
   "outputs": [],
   "source": [
    "average_runs = sum_runs / len(runs_virat)"
   ]
  },
  {
   "cell_type": "code",
   "execution_count": 75,
   "id": "c7eaab8e",
   "metadata": {},
   "outputs": [
    {
     "data": {
      "text/plain": [
       "62.0"
      ]
     },
     "execution_count": 75,
     "metadata": {},
     "output_type": "execute_result"
    }
   ],
   "source": [
    "average_runs"
   ]
  },
  {
   "cell_type": "code",
   "execution_count": 76,
   "id": "e094e6e7",
   "metadata": {},
   "outputs": [
    {
     "data": {
      "text/plain": [
       "101"
      ]
     },
     "execution_count": 76,
     "metadata": {},
     "output_type": "execute_result"
    }
   ],
   "source": [
    "max(runs_virat)"
   ]
  },
  {
   "cell_type": "code",
   "execution_count": 77,
   "id": "0eac62de",
   "metadata": {},
   "outputs": [
    {
     "data": {
      "text/plain": [
       "12"
      ]
     },
     "execution_count": 77,
     "metadata": {},
     "output_type": "execute_result"
    }
   ],
   "source": [
    "min(runs_virat)"
   ]
  },
  {
   "cell_type": "code",
   "execution_count": 80,
   "id": "e3cc512c",
   "metadata": {},
   "outputs": [
    {
     "data": {
      "text/plain": [
       "'\\nQuestion 3 - \\nCalculate the sum of runs made by Virat on all matches with even index.\\n'"
      ]
     },
     "execution_count": 80,
     "metadata": {},
     "output_type": "execute_result"
    }
   ],
   "source": [
    "'''\n",
    "Question 3 - \n",
    "Calculate the sum of runs made by Virat on all matches with even index.\n",
    "'''"
   ]
  },
  {
   "cell_type": "code",
   "execution_count": 83,
   "id": "987130c7",
   "metadata": {},
   "outputs": [
    {
     "name": "stdout",
     "output_type": "stream",
     "text": [
      "67\n",
      "54\n",
      "12\n",
      "34\n",
      "77\n",
      "89\n",
      "101\n"
     ]
    }
   ],
   "source": [
    "sum_even_runs = 0\n",
    "\n",
    "for i in runs_virat:\n",
    "    print(i)\n",
    "    if i % 2 == 0:\n",
    "        sum_even_runs += i"
   ]
  },
  {
   "cell_type": "code",
   "execution_count": 82,
   "id": "a28b2aec",
   "metadata": {},
   "outputs": [
    {
     "data": {
      "text/plain": [
       "100"
      ]
     },
     "execution_count": 82,
     "metadata": {},
     "output_type": "execute_result"
    }
   ],
   "source": [
    "sum_even_runs"
   ]
  },
  {
   "cell_type": "code",
   "execution_count": 84,
   "id": "addc7a1e",
   "metadata": {},
   "outputs": [
    {
     "data": {
      "text/plain": [
       "range(0, 6)"
      ]
     },
     "execution_count": 84,
     "metadata": {},
     "output_type": "execute_result"
    }
   ],
   "source": [
    "range(6)"
   ]
  },
  {
   "cell_type": "code",
   "execution_count": 85,
   "id": "9ce52819",
   "metadata": {},
   "outputs": [],
   "source": [
    "n = len(runs_virat)"
   ]
  },
  {
   "cell_type": "code",
   "execution_count": 86,
   "id": "d4f10e63",
   "metadata": {},
   "outputs": [
    {
     "data": {
      "text/plain": [
       "range(0, 7)"
      ]
     },
     "execution_count": 86,
     "metadata": {},
     "output_type": "execute_result"
    }
   ],
   "source": [
    "range(n)"
   ]
  },
  {
   "cell_type": "code",
   "execution_count": 89,
   "id": "7cbf895b",
   "metadata": {},
   "outputs": [],
   "source": [
    "sum_even_runs = 0\n",
    "\n",
    "for i in range(len(runs_virat)):\n",
    "    if i % 2 == 0:\n",
    "        sum_even_runs += runs_virat[i]"
   ]
  },
  {
   "cell_type": "code",
   "execution_count": 90,
   "id": "156ce935",
   "metadata": {},
   "outputs": [
    {
     "data": {
      "text/plain": [
       "257"
      ]
     },
     "execution_count": 90,
     "metadata": {},
     "output_type": "execute_result"
    }
   ],
   "source": [
    "sum_even_runs"
   ]
  },
  {
   "cell_type": "code",
   "execution_count": 93,
   "id": "d0b01553",
   "metadata": {},
   "outputs": [],
   "source": [
    "x = 10 \n",
    "\n",
    "def hi():\n",
    "    return x"
   ]
  },
  {
   "cell_type": "code",
   "execution_count": 94,
   "id": "952f0b3a",
   "metadata": {},
   "outputs": [
    {
     "data": {
      "text/plain": [
       "10"
      ]
     },
     "execution_count": 94,
     "metadata": {},
     "output_type": "execute_result"
    }
   ],
   "source": [
    "hi()"
   ]
  },
  {
   "cell_type": "code",
   "execution_count": null,
   "id": "720b50b2",
   "metadata": {},
   "outputs": [],
   "source": []
  }
 ],
 "metadata": {
  "kernelspec": {
   "display_name": "Python 3 (ipykernel)",
   "language": "python",
   "name": "python3"
  },
  "language_info": {
   "codemirror_mode": {
    "name": "ipython",
    "version": 3
   },
   "file_extension": ".py",
   "mimetype": "text/x-python",
   "name": "python",
   "nbconvert_exporter": "python",
   "pygments_lexer": "ipython3",
   "version": "3.9.5"
  }
 },
 "nbformat": 4,
 "nbformat_minor": 5
}
