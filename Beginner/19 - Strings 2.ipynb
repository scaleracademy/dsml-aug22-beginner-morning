{
 "cells": [
  {
   "cell_type": "code",
   "execution_count": 1,
   "id": "49c8e1ca",
   "metadata": {},
   "outputs": [
    {
     "data": {
      "text/plain": [
       "['4', '5', '6', '7', '8', '9']"
      ]
     },
     "execution_count": 1,
     "metadata": {},
     "output_type": "execute_result"
    }
   ],
   "source": [
    "\"4 5 6 7 8 9\".split()"
   ]
  },
  {
   "cell_type": "code",
   "execution_count": 3,
   "id": "376651aa",
   "metadata": {},
   "outputs": [],
   "source": [
    "random = \"This_is_a_underscore_separated_string\".split(\"_\")"
   ]
  },
  {
   "cell_type": "code",
   "execution_count": 4,
   "id": "de9b6392",
   "metadata": {},
   "outputs": [
    {
     "data": {
      "text/plain": [
       "['This', 'is', 'a', 'underscore', 'separated', 'string']"
      ]
     },
     "execution_count": 4,
     "metadata": {},
     "output_type": "execute_result"
    }
   ],
   "source": [
    "random"
   ]
  },
  {
   "cell_type": "code",
   "execution_count": 5,
   "id": "1d57d04f",
   "metadata": {},
   "outputs": [
    {
     "data": {
      "text/plain": [
       "'This is a underscore separated string'"
      ]
     },
     "execution_count": 5,
     "metadata": {},
     "output_type": "execute_result"
    }
   ],
   "source": [
    "\" \".join(random)"
   ]
  },
  {
   "cell_type": "code",
   "execution_count": 6,
   "id": "fc61fb86",
   "metadata": {},
   "outputs": [
    {
     "data": {
      "text/plain": [
       "'This-is-a-underscore-separated-string'"
      ]
     },
     "execution_count": 6,
     "metadata": {},
     "output_type": "execute_result"
    }
   ],
   "source": [
    "\"-\".join(random)"
   ]
  },
  {
   "cell_type": "code",
   "execution_count": 7,
   "id": "e41392cb",
   "metadata": {},
   "outputs": [],
   "source": [
    "a = [\"random\", 102, 202, \"string\"]"
   ]
  },
  {
   "cell_type": "code",
   "execution_count": 8,
   "id": "d2838471",
   "metadata": {},
   "outputs": [
    {
     "ename": "TypeError",
     "evalue": "sequence item 1: expected str instance, int found",
     "output_type": "error",
     "traceback": [
      "\u001b[0;31m---------------------------------------------------------------------------\u001b[0m",
      "\u001b[0;31mTypeError\u001b[0m                                 Traceback (most recent call last)",
      "\u001b[0;32m/var/folders/nn/c52y0d3j0gq59dpsswchkt2r0000gn/T/ipykernel_28882/1781443001.py\u001b[0m in \u001b[0;36m<module>\u001b[0;34m\u001b[0m\n\u001b[0;32m----> 1\u001b[0;31m \u001b[0;34m\" \"\u001b[0m\u001b[0;34m.\u001b[0m\u001b[0mjoin\u001b[0m\u001b[0;34m(\u001b[0m\u001b[0ma\u001b[0m\u001b[0;34m)\u001b[0m\u001b[0;34m\u001b[0m\u001b[0;34m\u001b[0m\u001b[0m\n\u001b[0m",
      "\u001b[0;31mTypeError\u001b[0m: sequence item 1: expected str instance, int found"
     ]
    }
   ],
   "source": [
    "\" \".join(a)"
   ]
  },
  {
   "cell_type": "code",
   "execution_count": 9,
   "id": "6e6d3033",
   "metadata": {},
   "outputs": [
    {
     "data": {
      "text/plain": [
       "'45'"
      ]
     },
     "execution_count": 9,
     "metadata": {},
     "output_type": "execute_result"
    }
   ],
   "source": [
    "str(45)"
   ]
  },
  {
   "cell_type": "code",
   "execution_count": 19,
   "id": "c9c49aa2",
   "metadata": {},
   "outputs": [
    {
     "data": {
      "text/plain": [
       "7"
      ]
     },
     "execution_count": 19,
     "metadata": {},
     "output_type": "execute_result"
    }
   ],
   "source": [
    "\"this is a random string\".find(\" a \") # index of the starting of the substring"
   ]
  },
  {
   "cell_type": "code",
   "execution_count": 20,
   "id": "511a8498",
   "metadata": {},
   "outputs": [
    {
     "data": {
      "text/plain": [
       "-1"
      ]
     },
     "execution_count": 20,
     "metadata": {},
     "output_type": "execute_result"
    }
   ],
   "source": [
    "\"this is a random string\".find(\"abcdefgh\")\n",
    "# -1 if substring is not present"
   ]
  },
  {
   "cell_type": "code",
   "execution_count": 21,
   "id": "fdd9bba0",
   "metadata": {},
   "outputs": [],
   "source": [
    "random = \"This is a random string that I have created!\""
   ]
  },
  {
   "cell_type": "code",
   "execution_count": 24,
   "id": "1333ae43",
   "metadata": {},
   "outputs": [],
   "source": [
    "replaced_random = random.replace(\"random\", \"SUPER RANDOM\")"
   ]
  },
  {
   "cell_type": "code",
   "execution_count": 23,
   "id": "c68fbf03",
   "metadata": {},
   "outputs": [
    {
     "data": {
      "text/plain": [
       "'This is a random string that I have created!'"
      ]
     },
     "execution_count": 23,
     "metadata": {},
     "output_type": "execute_result"
    }
   ],
   "source": [
    "random"
   ]
  },
  {
   "cell_type": "code",
   "execution_count": 25,
   "id": "0042998e",
   "metadata": {},
   "outputs": [
    {
     "data": {
      "text/plain": [
       "'This is a SUPER RANDOM string that I have created!'"
      ]
     },
     "execution_count": 25,
     "metadata": {},
     "output_type": "execute_result"
    }
   ],
   "source": [
    "replaced_random"
   ]
  },
  {
   "cell_type": "code",
   "execution_count": 28,
   "id": "7877ad44",
   "metadata": {},
   "outputs": [],
   "source": [
    "random = \"This is a random string that I have created! random random random\""
   ]
  },
  {
   "cell_type": "code",
   "execution_count": 29,
   "id": "4ba44b37",
   "metadata": {},
   "outputs": [
    {
     "data": {
      "text/plain": [
       "4"
      ]
     },
     "execution_count": 29,
     "metadata": {},
     "output_type": "execute_result"
    }
   ],
   "source": [
    "random.count(\"random\")"
   ]
  },
  {
   "cell_type": "code",
   "execution_count": 30,
   "id": "7c38664a",
   "metadata": {},
   "outputs": [
    {
     "data": {
      "text/plain": [
       "'\\nQuestion 1 - \\n1. Take a string as input.\\n2. Convert the string to lower case without using any inbuilt function to do the same.\\n'"
      ]
     },
     "execution_count": 30,
     "metadata": {},
     "output_type": "execute_result"
    }
   ],
   "source": [
    "'''\n",
    "Question 1 - \n",
    "1. Take a string as input.\n",
    "2. Convert the string to lower case without using any inbuilt function to do the same.\n",
    "'''"
   ]
  },
  {
   "cell_type": "code",
   "execution_count": 31,
   "id": "0cfbea04",
   "metadata": {},
   "outputs": [
    {
     "data": {
      "text/plain": [
       "'ThiS iS A stRIng'"
      ]
     },
     "execution_count": 31,
     "metadata": {},
     "output_type": "execute_result"
    }
   ],
   "source": [
    "\"ThiS iS A stRIng\""
   ]
  },
  {
   "cell_type": "code",
   "execution_count": 37,
   "id": "73ed3a71",
   "metadata": {},
   "outputs": [],
   "source": [
    "string = \"ThiS iS A stRIng\""
   ]
  },
  {
   "cell_type": "code",
   "execution_count": 33,
   "id": "c55fe17e",
   "metadata": {},
   "outputs": [],
   "source": [
    "def custom_lower(s):\n",
    "    result = \"\"\n",
    "    \n",
    "    for i in s:\n",
    "        order = ord(i)\n",
    "        order += 32\n",
    "        result += chr(order)\n",
    "    \n",
    "    return result"
   ]
  },
  {
   "cell_type": "code",
   "execution_count": 34,
   "id": "467e2284",
   "metadata": {},
   "outputs": [
    {
     "data": {
      "text/plain": [
       "'t\\x88\\x89s@\\x89s@a@\\x93\\x94ri\\x8e\\x87'"
      ]
     },
     "execution_count": 34,
     "metadata": {},
     "output_type": "execute_result"
    }
   ],
   "source": [
    "custom_lower(string)"
   ]
  },
  {
   "cell_type": "code",
   "execution_count": 39,
   "id": "d1349c62",
   "metadata": {},
   "outputs": [],
   "source": [
    "def custom_lower(s):\n",
    "    result = \"\"\n",
    "    \n",
    "    for i in s:\n",
    "        if ord(i) >= 65 and ord(i) <= 90:\n",
    "            order = ord(i)\n",
    "            order += 32\n",
    "            result += chr(order)\n",
    "        else:\n",
    "            result += i\n",
    "    \n",
    "    return result"
   ]
  },
  {
   "cell_type": "code",
   "execution_count": 40,
   "id": "68cb2925",
   "metadata": {},
   "outputs": [
    {
     "data": {
      "text/plain": [
       "'this is a string'"
      ]
     },
     "execution_count": 40,
     "metadata": {},
     "output_type": "execute_result"
    }
   ],
   "source": [
    "custom_lower(string)"
   ]
  },
  {
   "cell_type": "code",
   "execution_count": 41,
   "id": "5086ba81",
   "metadata": {},
   "outputs": [
    {
     "data": {
      "text/plain": [
       "False"
      ]
     },
     "execution_count": 41,
     "metadata": {},
     "output_type": "execute_result"
    }
   ],
   "source": [
    "\"The product was amazing\" == \"amazing\""
   ]
  },
  {
   "cell_type": "code",
   "execution_count": 47,
   "id": "7e628704",
   "metadata": {},
   "outputs": [
    {
     "data": {
      "text/plain": [
       "False"
      ]
     },
     "execution_count": 47,
     "metadata": {},
     "output_type": "execute_result"
    }
   ],
   "source": [
    "\"amazing\" in \"The product was amaZING\" # MEMBERSHIP OPERATOR\n",
    "# looks for the first string in the second one."
   ]
  },
  {
   "cell_type": "code",
   "execution_count": 48,
   "id": "65a10a3d",
   "metadata": {},
   "outputs": [
    {
     "data": {
      "text/plain": [
       "True"
      ]
     },
     "execution_count": 48,
     "metadata": {},
     "output_type": "execute_result"
    }
   ],
   "source": [
    "\"6\".isdigit()"
   ]
  },
  {
   "cell_type": "code",
   "execution_count": 49,
   "id": "56f57eb3",
   "metadata": {},
   "outputs": [
    {
     "data": {
      "text/plain": [
       "False"
      ]
     },
     "execution_count": 49,
     "metadata": {},
     "output_type": "execute_result"
    }
   ],
   "source": [
    "\"a\".isdigit()"
   ]
  },
  {
   "cell_type": "code",
   "execution_count": 50,
   "id": "26bcace9",
   "metadata": {},
   "outputs": [
    {
     "data": {
      "text/plain": [
       "False"
      ]
     },
     "execution_count": 50,
     "metadata": {},
     "output_type": "execute_result"
    }
   ],
   "source": [
    "\"3456789abc\".isdigit()"
   ]
  },
  {
   "cell_type": "code",
   "execution_count": 51,
   "id": "0b7a8aa3",
   "metadata": {},
   "outputs": [
    {
     "data": {
      "text/plain": [
       "True"
      ]
     },
     "execution_count": 51,
     "metadata": {},
     "output_type": "execute_result"
    }
   ],
   "source": [
    "\"3456789\".isdigit()"
   ]
  },
  {
   "cell_type": "code",
   "execution_count": 53,
   "id": "42cb6414",
   "metadata": {},
   "outputs": [
    {
     "data": {
      "text/plain": [
       "False"
      ]
     },
     "execution_count": 53,
     "metadata": {},
     "output_type": "execute_result"
    }
   ],
   "source": [
    "\"4567.4567\".isdigit() # works only for integers"
   ]
  },
  {
   "cell_type": "code",
   "execution_count": 54,
   "id": "5aed8c5c",
   "metadata": {},
   "outputs": [
    {
     "data": {
      "text/plain": [
       "True"
      ]
     },
     "execution_count": 54,
     "metadata": {},
     "output_type": "execute_result"
    }
   ],
   "source": [
    "\"a\".isalpha()"
   ]
  },
  {
   "cell_type": "code",
   "execution_count": 55,
   "id": "a3b186ec",
   "metadata": {},
   "outputs": [
    {
     "data": {
      "text/plain": [
       "True"
      ]
     },
     "execution_count": 55,
     "metadata": {},
     "output_type": "execute_result"
    }
   ],
   "source": [
    "\"abc\".isalpha()"
   ]
  },
  {
   "cell_type": "code",
   "execution_count": 56,
   "id": "d6f93e76",
   "metadata": {},
   "outputs": [
    {
     "data": {
      "text/plain": [
       "False"
      ]
     },
     "execution_count": 56,
     "metadata": {},
     "output_type": "execute_result"
    }
   ],
   "source": [
    "\"abc3456789\".isalpha()"
   ]
  },
  {
   "cell_type": "code",
   "execution_count": 57,
   "id": "b3232cd6",
   "metadata": {},
   "outputs": [
    {
     "data": {
      "text/plain": [
       "False"
      ]
     },
     "execution_count": 57,
     "metadata": {},
     "output_type": "execute_result"
    }
   ],
   "source": [
    "\"#$%^&*sfjdfhsjh345678\".isalpha()"
   ]
  },
  {
   "cell_type": "code",
   "execution_count": 58,
   "id": "aa5346be",
   "metadata": {},
   "outputs": [
    {
     "data": {
      "text/plain": [
       "True"
      ]
     },
     "execution_count": 58,
     "metadata": {},
     "output_type": "execute_result"
    }
   ],
   "source": [
    "\"A\".isupper()"
   ]
  },
  {
   "cell_type": "code",
   "execution_count": 59,
   "id": "ebecade9",
   "metadata": {},
   "outputs": [
    {
     "data": {
      "text/plain": [
       "False"
      ]
     },
     "execution_count": 59,
     "metadata": {},
     "output_type": "execute_result"
    }
   ],
   "source": [
    "\"a\".isupper()"
   ]
  },
  {
   "cell_type": "code",
   "execution_count": 60,
   "id": "87f211c3",
   "metadata": {},
   "outputs": [
    {
     "data": {
      "text/plain": [
       "True"
      ]
     },
     "execution_count": 60,
     "metadata": {},
     "output_type": "execute_result"
    }
   ],
   "source": [
    "\"a\".islower()"
   ]
  },
  {
   "cell_type": "code",
   "execution_count": 61,
   "id": "c1211a77",
   "metadata": {},
   "outputs": [
    {
     "data": {
      "text/plain": [
       "False"
      ]
     },
     "execution_count": 61,
     "metadata": {},
     "output_type": "execute_result"
    }
   ],
   "source": [
    "\"A\".islower()"
   ]
  },
  {
   "cell_type": "code",
   "execution_count": 62,
   "id": "ab64785d",
   "metadata": {},
   "outputs": [
    {
     "data": {
      "text/plain": [
       "False"
      ]
     },
     "execution_count": 62,
     "metadata": {},
     "output_type": "execute_result"
    }
   ],
   "source": [
    "\"abc\".isspace()"
   ]
  },
  {
   "cell_type": "code",
   "execution_count": 63,
   "id": "bb56d9a5",
   "metadata": {},
   "outputs": [
    {
     "data": {
      "text/plain": [
       "True"
      ]
     },
     "execution_count": 63,
     "metadata": {},
     "output_type": "execute_result"
    }
   ],
   "source": [
    "\" \".isspace()"
   ]
  },
  {
   "cell_type": "code",
   "execution_count": 64,
   "id": "b4b03817",
   "metadata": {},
   "outputs": [
    {
     "data": {
      "text/plain": [
       "'\\nQuestion 2 - \\n1. Take a string as input.\\n2. Replace all spaces by underscore\\n'"
      ]
     },
     "execution_count": 64,
     "metadata": {},
     "output_type": "execute_result"
    }
   ],
   "source": [
    "'''\n",
    "Question 2 - \n",
    "1. Take a string as input.\n",
    "2. Replace all spaces by underscore\n",
    "'''"
   ]
  },
  {
   "cell_type": "code",
   "execution_count": 65,
   "id": "92390f02",
   "metadata": {},
   "outputs": [],
   "source": [
    "string = \"this is a random string!\""
   ]
  },
  {
   "cell_type": "code",
   "execution_count": 69,
   "id": "783c9b94",
   "metadata": {},
   "outputs": [],
   "source": [
    "def change_to_underscore(s, replacement_character):\n",
    "    result = \"\"\n",
    "    for i in s:\n",
    "        if i.isspace():\n",
    "            result += replacement_character\n",
    "        else:\n",
    "            result += i\n",
    "            \n",
    "    return result"
   ]
  },
  {
   "cell_type": "code",
   "execution_count": 70,
   "id": "facc5e5d",
   "metadata": {},
   "outputs": [
    {
     "data": {
      "text/plain": [
       "'this_is_a_random_string!'"
      ]
     },
     "execution_count": 70,
     "metadata": {},
     "output_type": "execute_result"
    }
   ],
   "source": [
    "change_to_underscore(string, \"_\")"
   ]
  },
  {
   "cell_type": "code",
   "execution_count": 68,
   "id": "e9e74b1d",
   "metadata": {},
   "outputs": [
    {
     "data": {
      "text/plain": [
       "'this_is_a_random_string!'"
      ]
     },
     "execution_count": 68,
     "metadata": {},
     "output_type": "execute_result"
    }
   ],
   "source": [
    "string.replace(\" \", \"_\")"
   ]
  },
  {
   "cell_type": "markdown",
   "id": "e4feae1d",
   "metadata": {},
   "source": [
    "## GLOSSARY OF STRING METHODS"
   ]
  },
  {
   "cell_type": "markdown",
   "id": "de127423",
   "metadata": {},
   "source": [
    "1. __split__ -> `\"this is a string\".split(\" \")` -> string to a list\n",
    "\n",
    "2. __join__ -> `\" \".join([\"list\", \"of\", \"strings\"])` -> list of strings to a string\n",
    "\n",
    "3. __replace__ -> `\"this is a string\".replace(\" \", \"_\")` -> replaces all occurences of the first character by the second character. __IMP__ - _CREATES A NEW STRING_\n",
    "\n",
    "4. __find__ -> `\"this is a string\".find(\" a \")` -> Finds the exact sequence or substring in the original string and returns the starting index of that substring.\n",
    "\n",
    "5. __count__ -> `\"this is a string\".count(\"a\")` -> Counts the number of times a character or substring is present within a string\n",
    "\n",
    "6. __isdigit__ -> True if content inside the string is only digits.\n",
    "7. __isalpha__ -> True if content inside the string is only alphabets.\n",
    "8. __islower__ / __isupper__ -> True if content inside the string is all lower case / all upper case\n",
    "9. __isspace__ -> True if the character is a space\n",
    "10. __lower__ / __upper__ -> Converts a string to lowercase / uppercase\n",
    "\n",
    "__Special Mention__\n",
    "- `\"random\" in \"this is random!\"` -> MEMBERSHIP OPERATOR - True if operand1 is present inside operand2."
   ]
  },
  {
   "cell_type": "code",
   "execution_count": 71,
   "id": "0b14c765",
   "metadata": {},
   "outputs": [
    {
     "data": {
      "text/plain": [
       "'string1string2'"
      ]
     },
     "execution_count": 71,
     "metadata": {},
     "output_type": "execute_result"
    }
   ],
   "source": [
    "\"string1\" + \"string2\""
   ]
  },
  {
   "cell_type": "code",
   "execution_count": 74,
   "id": "d168f78b",
   "metadata": {},
   "outputs": [
    {
     "data": {
      "text/plain": [
       "False"
      ]
     },
     "execution_count": 74,
     "metadata": {},
     "output_type": "execute_result"
    }
   ],
   "source": [
    "\"in\" in \"random strng which might not have somethig!\""
   ]
  },
  {
   "cell_type": "code",
   "execution_count": 75,
   "id": "ad127ad9",
   "metadata": {},
   "outputs": [
    {
     "data": {
      "text/plain": [
       "True"
      ]
     },
     "execution_count": 75,
     "metadata": {},
     "output_type": "execute_result"
    }
   ],
   "source": [
    "\"in\" not in \"random strng which might not have somethig!\""
   ]
  },
  {
   "cell_type": "code",
   "execution_count": 76,
   "id": "5a0555a2",
   "metadata": {},
   "outputs": [
    {
     "data": {
      "text/plain": [
       "False"
      ]
     },
     "execution_count": 76,
     "metadata": {},
     "output_type": "execute_result"
    }
   ],
   "source": [
    "not \"4\".isdigit()"
   ]
  },
  {
   "cell_type": "code",
   "execution_count": null,
   "id": "df2d4c8b",
   "metadata": {},
   "outputs": [],
   "source": []
  }
 ],
 "metadata": {
  "kernelspec": {
   "display_name": "Python 3 (ipykernel)",
   "language": "python",
   "name": "python3"
  },
  "language_info": {
   "codemirror_mode": {
    "name": "ipython",
    "version": 3
   },
   "file_extension": ".py",
   "mimetype": "text/x-python",
   "name": "python",
   "nbconvert_exporter": "python",
   "pygments_lexer": "ipython3",
   "version": "3.9.5"
  }
 },
 "nbformat": 4,
 "nbformat_minor": 5
}
