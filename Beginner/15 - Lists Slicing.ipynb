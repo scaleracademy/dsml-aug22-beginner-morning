{
 "cells": [
  {
   "cell_type": "code",
   "execution_count": 1,
   "id": "52b93fc4",
   "metadata": {},
   "outputs": [],
   "source": [
    "runs = [62, 85, 74, 10, 12, 101, 122, 99, 81, 55]"
   ]
  },
  {
   "cell_type": "code",
   "execution_count": 2,
   "id": "9ab109bd",
   "metadata": {},
   "outputs": [
    {
     "name": "stdout",
     "output_type": "stream",
     "text": [
      "[62, 85, 74, 10, 12, 101, 122, 99, 81, 55]\n"
     ]
    }
   ],
   "source": [
    "print(runs)"
   ]
  },
  {
   "cell_type": "code",
   "execution_count": 8,
   "id": "d4bc1e7e",
   "metadata": {},
   "outputs": [
    {
     "data": {
      "text/plain": [
       "'\\nQuestion 1 - \\nGiven list of all runs by Virat,print runs made in Odd Numbered Matches (Even Indexes)\\n'"
      ]
     },
     "execution_count": 8,
     "metadata": {},
     "output_type": "execute_result"
    }
   ],
   "source": [
    "'''\n",
    "Question 1 - \n",
    "Given list of all runs by Virat,print runs made in Odd Numbered Matches (Even Indexes)\n",
    "'''"
   ]
  },
  {
   "cell_type": "code",
   "execution_count": 4,
   "id": "3a94c1cd",
   "metadata": {},
   "outputs": [
    {
     "name": "stdout",
     "output_type": "stream",
     "text": [
      "62 74 12 122 81 "
     ]
    }
   ],
   "source": [
    "for i in range(len(runs)):\n",
    "    if i % 2 == 0:\n",
    "        print(runs[i], end = \" \")"
   ]
  },
  {
   "cell_type": "code",
   "execution_count": 7,
   "id": "0422fbe8",
   "metadata": {},
   "outputs": [
    {
     "data": {
      "text/plain": [
       "'\\nQuestion 2 - \\nGiven list of all runs by Virat,\\ncreate a new list of runs made in Odd Numbered Matches (Even Indexes)\\n'"
      ]
     },
     "execution_count": 7,
     "metadata": {},
     "output_type": "execute_result"
    }
   ],
   "source": [
    "'''\n",
    "Question 2 - \n",
    "Given list of all runs by Virat,\n",
    "create a new list of runs made in Odd Numbered Matches (Even Indexes)\n",
    "'''"
   ]
  },
  {
   "cell_type": "code",
   "execution_count": 9,
   "id": "eb45815e",
   "metadata": {},
   "outputs": [],
   "source": [
    "def odd_runs(runs):\n",
    "    result = []\n",
    "    \n",
    "    for i in range(len(runs)):\n",
    "        if i % 2 == 0:\n",
    "            result.append(runs[i])\n",
    "            \n",
    "    return result"
   ]
  },
  {
   "cell_type": "code",
   "execution_count": 10,
   "id": "97870325",
   "metadata": {},
   "outputs": [],
   "source": [
    "runs_odd = odd_runs(runs)"
   ]
  },
  {
   "cell_type": "code",
   "execution_count": 11,
   "id": "97da1e26",
   "metadata": {},
   "outputs": [
    {
     "data": {
      "text/plain": [
       "[62, 74, 12, 122, 81]"
      ]
     },
     "execution_count": 11,
     "metadata": {},
     "output_type": "execute_result"
    }
   ],
   "source": [
    "runs_odd"
   ]
  },
  {
   "cell_type": "code",
   "execution_count": 13,
   "id": "7df52d48",
   "metadata": {},
   "outputs": [
    {
     "data": {
      "text/plain": [
       "'\\nQuestion 3 - \\nGiven list of all runs by Virat,\\ncreate a new list of runs made in the last 5 matches.\\n'"
      ]
     },
     "execution_count": 13,
     "metadata": {},
     "output_type": "execute_result"
    }
   ],
   "source": [
    "'''\n",
    "Question 3 - \n",
    "Given list of all runs by Virat,\n",
    "create a new list of runs made in the last 5 matches.\n",
    "'''"
   ]
  },
  {
   "cell_type": "code",
   "execution_count": 20,
   "id": "d6ce5307",
   "metadata": {},
   "outputs": [],
   "source": [
    "result = []\n",
    "\n",
    "for i in range(len(runs) - 5, len(runs)):\n",
    "    result.append(runs[i])"
   ]
  },
  {
   "cell_type": "code",
   "execution_count": 21,
   "id": "8672fa27",
   "metadata": {},
   "outputs": [
    {
     "data": {
      "text/plain": [
       "[101, 122, 99, 81, 55]"
      ]
     },
     "execution_count": 21,
     "metadata": {},
     "output_type": "execute_result"
    }
   ],
   "source": [
    "result"
   ]
  },
  {
   "cell_type": "code",
   "execution_count": 22,
   "id": "a035582d",
   "metadata": {},
   "outputs": [
    {
     "data": {
      "text/plain": [
       "'\\nQuestion 4 - \\nGiven list of all runs by Virat,\\ncreate a new list of runs made in the first 3 matches.\\n'"
      ]
     },
     "execution_count": 22,
     "metadata": {},
     "output_type": "execute_result"
    }
   ],
   "source": [
    "'''\n",
    "Question 4 - \n",
    "Given list of all runs by Virat,\n",
    "create a new list of runs made in the first 3 matches.\n",
    "'''"
   ]
  },
  {
   "cell_type": "code",
   "execution_count": 23,
   "id": "ea496848",
   "metadata": {},
   "outputs": [
    {
     "name": "stdout",
     "output_type": "stream",
     "text": [
      "62\n",
      "85\n",
      "74\n"
     ]
    }
   ],
   "source": [
    "for i in range(3):\n",
    "    print(runs[i])"
   ]
  },
  {
   "cell_type": "code",
   "execution_count": 24,
   "id": "4d7cf79a",
   "metadata": {},
   "outputs": [
    {
     "data": {
      "text/plain": [
       "'\\nQuestion 5 - \\nGiven list of all runs by Virat,\\ncreate a new list of runs from the 3rd match to the 7th match\\n'"
      ]
     },
     "execution_count": 24,
     "metadata": {},
     "output_type": "execute_result"
    }
   ],
   "source": [
    "'''\n",
    "Question 5 - \n",
    "Given list of all runs by Virat,\n",
    "create a new list of runs from the 3rd match to the 7th match\n",
    "'''"
   ]
  },
  {
   "cell_type": "code",
   "execution_count": 25,
   "id": "e9a5c5ca",
   "metadata": {},
   "outputs": [
    {
     "name": "stdout",
     "output_type": "stream",
     "text": [
      "74\n",
      "10\n",
      "12\n",
      "101\n",
      "122\n"
     ]
    }
   ],
   "source": [
    "for i in range(2,7):\n",
    "    print(runs[i])"
   ]
  },
  {
   "cell_type": "code",
   "execution_count": 26,
   "id": "1f1950e2",
   "metadata": {},
   "outputs": [
    {
     "name": "stdout",
     "output_type": "stream",
     "text": [
      "74\n",
      "10\n",
      "12\n",
      "101\n",
      "122\n"
     ]
    }
   ],
   "source": [
    "for i in range(len(runs)):\n",
    "    if i >= 2 and i <= 6:\n",
    "        print(runs[i])"
   ]
  },
  {
   "cell_type": "code",
   "execution_count": 27,
   "id": "88cf2a12",
   "metadata": {},
   "outputs": [
    {
     "data": {
      "text/plain": [
       "[62, 85, 74, 10, 12]"
      ]
     },
     "execution_count": 27,
     "metadata": {},
     "output_type": "execute_result"
    }
   ],
   "source": [
    "runs[0:5]"
   ]
  },
  {
   "cell_type": "code",
   "execution_count": 28,
   "id": "7fbe08ca",
   "metadata": {},
   "outputs": [
    {
     "data": {
      "text/plain": [
       "[62, 85, 74, 10, 12, 101, 122, 99, 81, 55]"
      ]
     },
     "execution_count": 28,
     "metadata": {},
     "output_type": "execute_result"
    }
   ],
   "source": [
    "runs"
   ]
  },
  {
   "cell_type": "code",
   "execution_count": 29,
   "id": "47bc35a0",
   "metadata": {},
   "outputs": [],
   "source": [
    "runs_first_5 = runs[0:5]"
   ]
  },
  {
   "cell_type": "code",
   "execution_count": 30,
   "id": "4acbaa24",
   "metadata": {},
   "outputs": [
    {
     "data": {
      "text/plain": [
       "[62, 85, 74, 10, 12]"
      ]
     },
     "execution_count": 30,
     "metadata": {},
     "output_type": "execute_result"
    }
   ],
   "source": [
    "runs_first_5"
   ]
  },
  {
   "cell_type": "code",
   "execution_count": 31,
   "id": "f8a16293",
   "metadata": {},
   "outputs": [
    {
     "data": {
      "text/plain": [
       "[62, 85, 74, 10, 12, 101, 122, 99, 81, 55]"
      ]
     },
     "execution_count": 31,
     "metadata": {},
     "output_type": "execute_result"
    }
   ],
   "source": [
    "runs"
   ]
  },
  {
   "cell_type": "code",
   "execution_count": 33,
   "id": "d37e2a56",
   "metadata": {},
   "outputs": [
    {
     "data": {
      "text/plain": [
       "[101, 122, 99, 81, 55]"
      ]
     },
     "execution_count": 33,
     "metadata": {},
     "output_type": "execute_result"
    }
   ],
   "source": [
    "runs[len(runs)-5:len(runs)]"
   ]
  },
  {
   "cell_type": "code",
   "execution_count": 34,
   "id": "0a5f603a",
   "metadata": {},
   "outputs": [
    {
     "data": {
      "text/plain": [
       "[74, 10, 12, 101, 122]"
      ]
     },
     "execution_count": 34,
     "metadata": {},
     "output_type": "execute_result"
    }
   ],
   "source": [
    "runs[2:7]"
   ]
  },
  {
   "cell_type": "code",
   "execution_count": 37,
   "id": "cfbb1528",
   "metadata": {},
   "outputs": [
    {
     "data": {
      "text/plain": [
       "[62, 74, 12, 122, 81]"
      ]
     },
     "execution_count": 37,
     "metadata": {},
     "output_type": "execute_result"
    }
   ],
   "source": [
    "runs[0:len(runs):2]"
   ]
  },
  {
   "cell_type": "code",
   "execution_count": 38,
   "id": "842d61dd",
   "metadata": {},
   "outputs": [
    {
     "data": {
      "text/plain": [
       "[74, 10, 12, 101, 122, 99, 81, 55]"
      ]
     },
     "execution_count": 38,
     "metadata": {},
     "output_type": "execute_result"
    }
   ],
   "source": [
    "runs[2:] # by default end = len(runs)"
   ]
  },
  {
   "cell_type": "code",
   "execution_count": 40,
   "id": "30159fca",
   "metadata": {},
   "outputs": [
    {
     "data": {
      "text/plain": [
       "[62, 85, 74, 10, 12]"
      ]
     },
     "execution_count": 40,
     "metadata": {},
     "output_type": "execute_result"
    }
   ],
   "source": [
    "runs[:5] # by default start = 0"
   ]
  },
  {
   "cell_type": "code",
   "execution_count": 41,
   "id": "ac669715",
   "metadata": {},
   "outputs": [
    {
     "data": {
      "text/plain": [
       "[62, 85, 74, 10, 12, 101, 122, 99, 81, 55]"
      ]
     },
     "execution_count": 41,
     "metadata": {},
     "output_type": "execute_result"
    }
   ],
   "source": [
    "runs[:]"
   ]
  },
  {
   "cell_type": "code",
   "execution_count": 43,
   "id": "48bd95c5",
   "metadata": {},
   "outputs": [
    {
     "data": {
      "text/plain": [
       "[62, 10, 122, 55]"
      ]
     },
     "execution_count": 43,
     "metadata": {},
     "output_type": "execute_result"
    }
   ],
   "source": [
    "runs[::3]"
   ]
  },
  {
   "cell_type": "code",
   "execution_count": 45,
   "id": "df43d900",
   "metadata": {},
   "outputs": [
    {
     "data": {
      "text/plain": [
       "[62, 85, 74, 10, 12, 101, 122, 99, 81, 55]"
      ]
     },
     "execution_count": 45,
     "metadata": {},
     "output_type": "execute_result"
    }
   ],
   "source": [
    "runs[0:20] # it will automatically stop at the last index of the list"
   ]
  },
  {
   "cell_type": "code",
   "execution_count": 46,
   "id": "b30c3abe",
   "metadata": {},
   "outputs": [
    {
     "data": {
      "text/plain": [
       "[]"
      ]
     },
     "execution_count": 46,
     "metadata": {},
     "output_type": "execute_result"
    }
   ],
   "source": [
    "runs[15:20]"
   ]
  },
  {
   "cell_type": "code",
   "execution_count": 47,
   "id": "3ca26914",
   "metadata": {},
   "outputs": [
    {
     "data": {
      "text/plain": [
       "[74, 10, 12, 101, 122, 99, 81, 55]"
      ]
     },
     "execution_count": 47,
     "metadata": {},
     "output_type": "execute_result"
    }
   ],
   "source": [
    "runs[2::]"
   ]
  },
  {
   "cell_type": "code",
   "execution_count": 52,
   "id": "d66e4a58",
   "metadata": {},
   "outputs": [
    {
     "data": {
      "text/plain": [
       "[62, 85, 74, 10, 12, 101, 122, 99, 81, 55]"
      ]
     },
     "execution_count": 52,
     "metadata": {},
     "output_type": "execute_result"
    }
   ],
   "source": [
    "runs"
   ]
  },
  {
   "cell_type": "code",
   "execution_count": 51,
   "id": "b1cc4d85",
   "metadata": {},
   "outputs": [
    {
     "data": {
      "text/plain": [
       "[]"
      ]
     },
     "execution_count": 51,
     "metadata": {},
     "output_type": "execute_result"
    }
   ],
   "source": [
    "runs[5:0]"
   ]
  },
  {
   "cell_type": "code",
   "execution_count": 50,
   "id": "333791cb",
   "metadata": {},
   "outputs": [],
   "source": [
    "# Negative Indexing in List Slices"
   ]
  },
  {
   "cell_type": "code",
   "execution_count": 53,
   "id": "1977fc0e",
   "metadata": {},
   "outputs": [
    {
     "data": {
      "text/plain": [
       "[81, 99, 122]"
      ]
     },
     "execution_count": 53,
     "metadata": {},
     "output_type": "execute_result"
    }
   ],
   "source": [
    "runs[-2:-5:-1]"
   ]
  },
  {
   "cell_type": "code",
   "execution_count": 56,
   "id": "8b2192ad",
   "metadata": {},
   "outputs": [
    {
     "data": {
      "text/plain": [
       "[62, 85, 74, 10, 12, 101, 122, 99, 81, 55]"
      ]
     },
     "execution_count": 56,
     "metadata": {},
     "output_type": "execute_result"
    }
   ],
   "source": [
    "runs"
   ]
  },
  {
   "cell_type": "code",
   "execution_count": 55,
   "id": "6d8afab1",
   "metadata": {},
   "outputs": [
    {
     "data": {
      "text/plain": [
       "[81, 99, 122, 101, 12, 10, 74, 85, 62]"
      ]
     },
     "execution_count": 55,
     "metadata": {},
     "output_type": "execute_result"
    }
   ],
   "source": [
    "runs[-2::-1]\n",
    "\n",
    "# Default end value = len(a) -> step size = +1\n",
    "# Default end value = covering the first element -> step size = -1"
   ]
  },
  {
   "cell_type": "code",
   "execution_count": 57,
   "id": "d763372f",
   "metadata": {},
   "outputs": [
    {
     "data": {
      "text/plain": [
       "81"
      ]
     },
     "execution_count": 57,
     "metadata": {},
     "output_type": "execute_result"
    }
   ],
   "source": [
    "runs[-2]"
   ]
  },
  {
   "cell_type": "code",
   "execution_count": 58,
   "id": "83eca2a6",
   "metadata": {},
   "outputs": [],
   "source": [
    "a = [10,20,30,40,50,60,70,80,90,100]"
   ]
  },
  {
   "cell_type": "code",
   "execution_count": 59,
   "id": "bd2b3a05",
   "metadata": {},
   "outputs": [
    {
     "data": {
      "text/plain": [
       "[10, 20, 30, 40, 50, 60, 70, 80, 90, 100]"
      ]
     },
     "execution_count": 59,
     "metadata": {},
     "output_type": "execute_result"
    }
   ],
   "source": [
    "a"
   ]
  },
  {
   "cell_type": "code",
   "execution_count": 60,
   "id": "9783f8d6",
   "metadata": {},
   "outputs": [
    {
     "data": {
      "text/plain": [
       "[10, 20, 30, 40, 50]"
      ]
     },
     "execution_count": 60,
     "metadata": {},
     "output_type": "execute_result"
    }
   ],
   "source": [
    "a[:-5]"
   ]
  },
  {
   "cell_type": "code",
   "execution_count": 61,
   "id": "2a37e785",
   "metadata": {},
   "outputs": [
    {
     "data": {
      "text/plain": [
       "[20, 30, 40, 50]"
      ]
     },
     "execution_count": 61,
     "metadata": {},
     "output_type": "execute_result"
    }
   ],
   "source": [
    "a[-9:5]"
   ]
  },
  {
   "cell_type": "code",
   "execution_count": 2,
   "id": "3b08a295",
   "metadata": {},
   "outputs": [],
   "source": [
    "a = [10, 20, 30, 40, 50, 60, 70, 80, 90, 100]"
   ]
  },
  {
   "cell_type": "code",
   "execution_count": 7,
   "id": "613b73f0",
   "metadata": {},
   "outputs": [
    {
     "data": {
      "text/plain": [
       "'\\nQuestion 6 - \\n1. a[3:5]\\n2. a[:8]\\n3. a[:]\\n4. a[7:]\\n5. a[-2:-5:-1]\\n6. a[-2:-7]\\n7. a[:-5]\\n8. a[-2:]\\n9. a[-8:5]\\n10. a[-8:5:-1]\\n'"
      ]
     },
     "execution_count": 7,
     "metadata": {},
     "output_type": "execute_result"
    }
   ],
   "source": [
    "'''\n",
    "Question 6 - \n",
    "1. a[3:5]\n",
    "2. a[:8]\n",
    "3. a[:]\n",
    "4. a[7:]\n",
    "5. a[-2:-5:-1]\n",
    "6. a[-2:-7]\n",
    "7. a[:-5]\n",
    "8. a[-2:]\n",
    "9. a[-8:5]\n",
    "10. a[-8:5:-1]\n",
    "'''"
   ]
  },
  {
   "cell_type": "code",
   "execution_count": 8,
   "id": "ed348cda",
   "metadata": {},
   "outputs": [
    {
     "data": {
      "text/plain": [
       "[40, 50]"
      ]
     },
     "execution_count": 8,
     "metadata": {},
     "output_type": "execute_result"
    }
   ],
   "source": [
    "# a = [10, 20, 30, 40, 50, 60, 70, 80, 90, 100]\n",
    "a[3:5]"
   ]
  },
  {
   "cell_type": "code",
   "execution_count": 9,
   "id": "1ff07593",
   "metadata": {},
   "outputs": [
    {
     "data": {
      "text/plain": [
       "[10, 20, 30, 40, 50, 60, 70, 80]"
      ]
     },
     "execution_count": 9,
     "metadata": {},
     "output_type": "execute_result"
    }
   ],
   "source": [
    "# a = [10, 20, 30, 40, 50, 60, 70, 80, 90, 100]\n",
    "a[:8]"
   ]
  },
  {
   "cell_type": "code",
   "execution_count": 10,
   "id": "adb5135c",
   "metadata": {},
   "outputs": [
    {
     "data": {
      "text/plain": [
       "[10, 20, 30, 40, 50, 60, 70, 80, 90, 100]"
      ]
     },
     "execution_count": 10,
     "metadata": {},
     "output_type": "execute_result"
    }
   ],
   "source": [
    "# a = [10, 20, 30, 40, 50, 60, 70, 80, 90, 100]\n",
    "a[:]"
   ]
  },
  {
   "cell_type": "code",
   "execution_count": 11,
   "id": "4309f174",
   "metadata": {},
   "outputs": [
    {
     "data": {
      "text/plain": [
       "[80, 90, 100]"
      ]
     },
     "execution_count": 11,
     "metadata": {},
     "output_type": "execute_result"
    }
   ],
   "source": [
    "# a = [10, 20, 30, 40, 50, 60, 70, 80, 90, 100]\n",
    "a[7:]"
   ]
  },
  {
   "cell_type": "code",
   "execution_count": 12,
   "id": "94cba82c",
   "metadata": {},
   "outputs": [
    {
     "data": {
      "text/plain": [
       "[90, 80, 70]"
      ]
     },
     "execution_count": 12,
     "metadata": {},
     "output_type": "execute_result"
    }
   ],
   "source": [
    "# a = [10, 20, 30, 40, 50, 60, 70, 80, 90, 100]\n",
    "a[-2:-5:-1]"
   ]
  },
  {
   "cell_type": "code",
   "execution_count": 13,
   "id": "335a8c07",
   "metadata": {},
   "outputs": [
    {
     "data": {
      "text/plain": [
       "[]"
      ]
     },
     "execution_count": 13,
     "metadata": {},
     "output_type": "execute_result"
    }
   ],
   "source": [
    "# a = [10, 20, 30, 40, 50, 60, 70, 80, 90, 100]\n",
    "a[-2:-7]"
   ]
  },
  {
   "cell_type": "code",
   "execution_count": 14,
   "id": "9aca0d9e",
   "metadata": {},
   "outputs": [
    {
     "data": {
      "text/plain": [
       "[10, 20, 30, 40, 50]"
      ]
     },
     "execution_count": 14,
     "metadata": {},
     "output_type": "execute_result"
    }
   ],
   "source": [
    "# a = [10, 20, 30, 40, 50, 60, 70, 80, 90, 100]\n",
    "a[:-5]"
   ]
  },
  {
   "cell_type": "code",
   "execution_count": 17,
   "id": "7673ea46",
   "metadata": {},
   "outputs": [
    {
     "data": {
      "text/plain": [
       "[90, 100]"
      ]
     },
     "execution_count": 17,
     "metadata": {},
     "output_type": "execute_result"
    }
   ],
   "source": [
    "# a = [10, 20, 30, 40, 50, 60, 70, 80, 90, 100]\n",
    "a[-2:] # len(a)"
   ]
  },
  {
   "cell_type": "code",
   "execution_count": 19,
   "id": "72412ea4",
   "metadata": {},
   "outputs": [
    {
     "data": {
      "text/plain": [
       "[30, 40, 50]"
      ]
     },
     "execution_count": 19,
     "metadata": {},
     "output_type": "execute_result"
    }
   ],
   "source": [
    "# a = [10, 20, 30 (-8), 40, 50, 60 (+5), 70, 80, 90, 100]\n",
    "a[-8:5]"
   ]
  },
  {
   "cell_type": "code",
   "execution_count": 20,
   "id": "a5622d13",
   "metadata": {},
   "outputs": [
    {
     "data": {
      "text/plain": [
       "[]"
      ]
     },
     "execution_count": 20,
     "metadata": {},
     "output_type": "execute_result"
    }
   ],
   "source": [
    "# a = [10, 20, 30, 40, 50, 60, 70, 80, 90, 100]\n",
    "a[-8:5:-1]"
   ]
  },
  {
   "cell_type": "code",
   "execution_count": 21,
   "id": "a7cf5174",
   "metadata": {},
   "outputs": [
    {
     "ename": "TypeError",
     "evalue": "unsupported operand type(s) for /: 'list' and 'int'",
     "output_type": "error",
     "traceback": [
      "\u001b[0;31m---------------------------------------------------------------------------\u001b[0m",
      "\u001b[0;31mTypeError\u001b[0m                                 Traceback (most recent call last)",
      "\u001b[0;32m/var/folders/nn/c52y0d3j0gq59dpsswchkt2r0000gn/T/ipykernel_82015/1979898162.py\u001b[0m in \u001b[0;36m<module>\u001b[0;34m\u001b[0m\n\u001b[0;32m----> 1\u001b[0;31m \u001b[0ma\u001b[0m \u001b[0;34m/\u001b[0m \u001b[0;36m0\u001b[0m\u001b[0;34m\u001b[0m\u001b[0;34m\u001b[0m\u001b[0m\n\u001b[0m",
      "\u001b[0;31mTypeError\u001b[0m: unsupported operand type(s) for /: 'list' and 'int'"
     ]
    }
   ],
   "source": [
    "a / 0"
   ]
  },
  {
   "cell_type": "code",
   "execution_count": 22,
   "id": "c5059f5a",
   "metadata": {},
   "outputs": [],
   "source": [
    "a = [1, 2, 4]"
   ]
  },
  {
   "cell_type": "code",
   "execution_count": 23,
   "id": "df005d4f",
   "metadata": {},
   "outputs": [
    {
     "data": {
      "text/plain": [
       "[1, 2, 4, 5]"
      ]
     },
     "execution_count": 23,
     "metadata": {},
     "output_type": "execute_result"
    }
   ],
   "source": [
    "[1, 2, 4, 5]"
   ]
  },
  {
   "cell_type": "code",
   "execution_count": 24,
   "id": "14da1347",
   "metadata": {},
   "outputs": [
    {
     "name": "stdout",
     "output_type": "stream",
     "text": [
      "5\n"
     ]
    }
   ],
   "source": [
    "a.append(int(input()))"
   ]
  },
  {
   "cell_type": "code",
   "execution_count": 25,
   "id": "9b77bd1c",
   "metadata": {},
   "outputs": [
    {
     "data": {
      "text/plain": [
       "[1, 2, 4, 5]"
      ]
     },
     "execution_count": 25,
     "metadata": {},
     "output_type": "execute_result"
    }
   ],
   "source": [
    "a"
   ]
  },
  {
   "cell_type": "code",
   "execution_count": 26,
   "id": "77525469",
   "metadata": {},
   "outputs": [
    {
     "name": "stdout",
     "output_type": "stream",
     "text": [
      "6\n"
     ]
    }
   ],
   "source": [
    "addition_element = int(input())\n",
    "\n",
    "a.append(addition_element)"
   ]
  },
  {
   "cell_type": "code",
   "execution_count": 27,
   "id": "184ca46e",
   "metadata": {},
   "outputs": [
    {
     "data": {
      "text/plain": [
       "[1, 2, 4, 5, 6]"
      ]
     },
     "execution_count": 27,
     "metadata": {},
     "output_type": "execute_result"
    }
   ],
   "source": [
    "a"
   ]
  },
  {
   "cell_type": "code",
   "execution_count": 28,
   "id": "0be62327",
   "metadata": {},
   "outputs": [
    {
     "name": "stdout",
     "output_type": "stream",
     "text": [
      "5\n",
      "4\n",
      "[4]\n",
      "6\n",
      "[4, 6]\n",
      "8\n",
      "[4, 6, 8]\n",
      "9\n",
      "[4, 6, 8, 9]\n",
      "10\n",
      "[4, 6, 8, 9, 10]\n"
     ]
    }
   ],
   "source": [
    "A=[]\n",
    "\n",
    "N = int(input())\n",
    "\n",
    "for i in range(N):\n",
    "    x = int(input())\n",
    "    A.append(x)\n",
    "    print(A)"
   ]
  },
  {
   "cell_type": "code",
   "execution_count": null,
   "id": "914587d3",
   "metadata": {},
   "outputs": [],
   "source": []
  }
 ],
 "metadata": {
  "kernelspec": {
   "display_name": "Python 3 (ipykernel)",
   "language": "python",
   "name": "python3"
  },
  "language_info": {
   "codemirror_mode": {
    "name": "ipython",
    "version": 3
   },
   "file_extension": ".py",
   "mimetype": "text/x-python",
   "name": "python",
   "nbconvert_exporter": "python",
   "pygments_lexer": "ipython3",
   "version": "3.9.5"
  }
 },
 "nbformat": 4,
 "nbformat_minor": 5
}
