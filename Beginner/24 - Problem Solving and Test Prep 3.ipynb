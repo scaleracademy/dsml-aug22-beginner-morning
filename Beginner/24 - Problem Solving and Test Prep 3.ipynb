{
 "cells": [
  {
   "cell_type": "code",
   "execution_count": 1,
   "id": "36435f14",
   "metadata": {},
   "outputs": [
    {
     "ename": "IndentationError",
     "evalue": "expected an indented block (2105887819.py, line 3)",
     "output_type": "error",
     "traceback": [
      "\u001b[0;36m  File \u001b[0;32m\"/var/folders/nn/c52y0d3j0gq59dpsswchkt2r0000gn/T/ipykernel_86884/2105887819.py\"\u001b[0;36m, line \u001b[0;32m3\u001b[0m\n\u001b[0;31m    def delete_third(a):\u001b[0m\n\u001b[0m                        ^\u001b[0m\n\u001b[0;31mIndentationError\u001b[0m\u001b[0;31m:\u001b[0m expected an indented block\n"
     ]
    }
   ],
   "source": [
    "a = [1,2,3,4,5,6,7,8,9,0]\n",
    "\n",
    "def delete_third(a):\n",
    "    while a()"
   ]
  },
  {
   "cell_type": "code",
   "execution_count": 13,
   "id": "1208e66b",
   "metadata": {},
   "outputs": [],
   "source": [
    "string = \"geekksforgggks\"\n",
    "\n",
    "def consecutive_char_count(string):\n",
    "    result = []\n",
    "    \n",
    "    i = 0\n",
    "    while i < len(string) - 1:\n",
    "        current = string[i]\n",
    "        count = 1\n",
    "        j = i + 1\n",
    "        \n",
    "        while True:\n",
    "            if string[j] == string[i]:\n",
    "                count += 1\n",
    "                j += 1\n",
    "            else:\n",
    "                break\n",
    "                \n",
    "        result.append(count)\n",
    "        i += count\n",
    "        \n",
    "    return result"
   ]
  },
  {
   "cell_type": "code",
   "execution_count": 14,
   "id": "e3dacc36",
   "metadata": {},
   "outputs": [
    {
     "data": {
      "text/plain": [
       "[1, 2, 2, 1, 1, 1, 1, 3, 1]"
      ]
     },
     "execution_count": 14,
     "metadata": {},
     "output_type": "execute_result"
    }
   ],
   "source": [
    "consecutive_char_count(string)"
   ]
  },
  {
   "cell_type": "code",
   "execution_count": 15,
   "id": "9e140a50",
   "metadata": {},
   "outputs": [],
   "source": [
    "# A - Daily Recovered\n",
    "# B - Daily New\n",
    "# C - Current Total"
   ]
  },
  {
   "cell_type": "code",
   "execution_count": 22,
   "id": "8c689388",
   "metadata": {},
   "outputs": [],
   "source": [
    "def calc_min_days(a,b,c):\n",
    "    # c + b*x - a*x <= 0\n",
    "    \n",
    "    days = 0\n",
    "    \n",
    "    if b > a:\n",
    "        return \"Never 0!\"\n",
    "    \n",
    "    while c > 0:\n",
    "        days += 1\n",
    "        c = c + b - a\n",
    "    \n",
    "    return days"
   ]
  },
  {
   "cell_type": "code",
   "execution_count": 23,
   "id": "85229ac6",
   "metadata": {},
   "outputs": [
    {
     "data": {
      "text/plain": [
       "'Never 0!'"
      ]
     },
     "execution_count": 23,
     "metadata": {},
     "output_type": "execute_result"
    }
   ],
   "source": [
    "calc_min_days(4,6,7)"
   ]
  },
  {
   "cell_type": "code",
   "execution_count": 24,
   "id": "e9528e30",
   "metadata": {},
   "outputs": [
    {
     "data": {
      "text/plain": [
       "4"
      ]
     },
     "execution_count": 24,
     "metadata": {},
     "output_type": "execute_result"
    }
   ],
   "source": [
    "calc_min_days(6,4,7)"
   ]
  },
  {
   "cell_type": "code",
   "execution_count": 28,
   "id": "a8675224",
   "metadata": {},
   "outputs": [],
   "source": [
    "a = [0,6,4,3,2,5,1]\n",
    "# -> [0,6,4,3,2,5,1]"
   ]
  },
  {
   "cell_type": "code",
   "execution_count": 33,
   "id": "5543e0ec",
   "metadata": {},
   "outputs": [
    {
     "name": "stdout",
     "output_type": "stream",
     "text": [
      "a, set, of, words, (that, is, complete), in, itself, (typically, containing), a, subject\n"
     ]
    }
   ],
   "source": [
    "a = input()"
   ]
  },
  {
   "cell_type": "code",
   "execution_count": 53,
   "id": "072318b1",
   "metadata": {},
   "outputs": [],
   "source": [
    "def custom_split(a):\n",
    "    result = []\n",
    "    i = 0\n",
    "    \n",
    "    while i < len(a):\n",
    "        if i < len(a) - 1:\n",
    "            j = i + 1\n",
    "            count = 0\n",
    "\n",
    "            while True:\n",
    "                count += 1\n",
    "\n",
    "                if a[j] == \",\" or j > len(a):\n",
    "                    break\n",
    "\n",
    "                j += 1\n",
    "\n",
    "            result.append(a[i:i + count])\n",
    "            i += count + 2\n",
    "        \n",
    "    return result"
   ]
  },
  {
   "cell_type": "code",
   "execution_count": 54,
   "id": "11cceefb",
   "metadata": {},
   "outputs": [
    {
     "ename": "IndexError",
     "evalue": "string index out of range",
     "output_type": "error",
     "traceback": [
      "\u001b[0;31m---------------------------------------------------------------------------\u001b[0m",
      "\u001b[0;31mIndexError\u001b[0m                                Traceback (most recent call last)",
      "\u001b[0;32m/var/folders/nn/c52y0d3j0gq59dpsswchkt2r0000gn/T/ipykernel_86884/435654728.py\u001b[0m in \u001b[0;36m<module>\u001b[0;34m\u001b[0m\n\u001b[0;32m----> 1\u001b[0;31m \u001b[0mcustom_split\u001b[0m\u001b[0;34m(\u001b[0m\u001b[0ma\u001b[0m\u001b[0;34m)\u001b[0m\u001b[0;34m\u001b[0m\u001b[0;34m\u001b[0m\u001b[0m\n\u001b[0m",
      "\u001b[0;32m/var/folders/nn/c52y0d3j0gq59dpsswchkt2r0000gn/T/ipykernel_86884/770290650.py\u001b[0m in \u001b[0;36mcustom_split\u001b[0;34m(a)\u001b[0m\n\u001b[1;32m     11\u001b[0m                 \u001b[0mcount\u001b[0m \u001b[0;34m+=\u001b[0m \u001b[0;36m1\u001b[0m\u001b[0;34m\u001b[0m\u001b[0;34m\u001b[0m\u001b[0m\n\u001b[1;32m     12\u001b[0m \u001b[0;34m\u001b[0m\u001b[0m\n\u001b[0;32m---> 13\u001b[0;31m                 \u001b[0;32mif\u001b[0m \u001b[0ma\u001b[0m\u001b[0;34m[\u001b[0m\u001b[0mj\u001b[0m\u001b[0;34m]\u001b[0m \u001b[0;34m==\u001b[0m \u001b[0;34m\",\"\u001b[0m \u001b[0;32mor\u001b[0m \u001b[0mj\u001b[0m \u001b[0;34m>\u001b[0m \u001b[0mlen\u001b[0m\u001b[0;34m(\u001b[0m\u001b[0ma\u001b[0m\u001b[0;34m)\u001b[0m\u001b[0;34m:\u001b[0m\u001b[0;34m\u001b[0m\u001b[0;34m\u001b[0m\u001b[0m\n\u001b[0m\u001b[1;32m     14\u001b[0m                     \u001b[0;32mbreak\u001b[0m\u001b[0;34m\u001b[0m\u001b[0;34m\u001b[0m\u001b[0m\n\u001b[1;32m     15\u001b[0m \u001b[0;34m\u001b[0m\u001b[0m\n",
      "\u001b[0;31mIndexError\u001b[0m: string index out of range"
     ]
    }
   ],
   "source": [
    "custom_split(a)"
   ]
  },
  {
   "cell_type": "code",
   "execution_count": 55,
   "id": "9c9c265b",
   "metadata": {},
   "outputs": [
    {
     "data": {
      "text/plain": [
       "'a, set, of, words, (that, is, complete), in, itself, (typically, containing), a, subject'"
      ]
     },
     "execution_count": 55,
     "metadata": {},
     "output_type": "execute_result"
    }
   ],
   "source": [
    "a"
   ]
  },
  {
   "cell_type": "code",
   "execution_count": 56,
   "id": "22ade81f",
   "metadata": {},
   "outputs": [
    {
     "data": {
      "text/plain": [
       "['a, set, of, words, ',\n",
       " 'that, is, complete), in, itself, ',\n",
       " 'typically, containing), a, subject']"
      ]
     },
     "execution_count": 56,
     "metadata": {},
     "output_type": "execute_result"
    }
   ],
   "source": [
    "a.split(\"(\")"
   ]
  },
  {
   "cell_type": "code",
   "execution_count": 63,
   "id": "ff259066",
   "metadata": {},
   "outputs": [
    {
     "data": {
      "text/plain": [
       "'a, set, of, words, (that, is, complete), in, itself, (typically, containing), a, subject'"
      ]
     },
     "execution_count": 63,
     "metadata": {},
     "output_type": "execute_result"
    }
   ],
   "source": [
    "a"
   ]
  },
  {
   "cell_type": "code",
   "execution_count": 64,
   "id": "ce4c19d3",
   "metadata": {},
   "outputs": [],
   "source": [
    "result = []\n",
    "\n",
    "for x in a.split(\"(\"):\n",
    "    if \")\" in x:\n",
    "        result.extend(x.split(\")\"))\n",
    "    else:\n",
    "        result.append(x)"
   ]
  },
  {
   "cell_type": "code",
   "execution_count": 65,
   "id": "48240483",
   "metadata": {},
   "outputs": [
    {
     "data": {
      "text/plain": [
       "['a, set, of, words, ',\n",
       " 'that, is, complete',\n",
       " ', in, itself, ',\n",
       " 'typically, containing',\n",
       " ', a, subject']"
      ]
     },
     "execution_count": 65,
     "metadata": {},
     "output_type": "execute_result"
    }
   ],
   "source": [
    "result"
   ]
  },
  {
   "cell_type": "code",
   "execution_count": 66,
   "id": "6595f026",
   "metadata": {},
   "outputs": [
    {
     "data": {
      "text/plain": [
       "'a, set, of, words, (that, is, complete), in, itself, (typically, containing), a, subject'"
      ]
     },
     "execution_count": 66,
     "metadata": {},
     "output_type": "execute_result"
    }
   ],
   "source": [
    "a"
   ]
  },
  {
   "cell_type": "code",
   "execution_count": 67,
   "id": "8fcdb494",
   "metadata": {},
   "outputs": [],
   "source": [
    "result = []\n",
    "s = \"\"\n",
    "\n",
    "for i in a:\n",
    "    if i != \",\":\n",
    "        s += i\n",
    "    else:\n",
    "        result.append(s)\n",
    "        s = \"\""
   ]
  },
  {
   "cell_type": "code",
   "execution_count": 71,
   "id": "3efc7176",
   "metadata": {},
   "outputs": [],
   "source": [
    "a = [2,0,1,3]\n",
    "\n",
    "def inverse_array(a):\n",
    "    inverse = [0]*len(a)\n",
    "    \n",
    "    for i in range(len(a)):\n",
    "        inverse[a[i]] = i\n",
    "        \n",
    "    return inverse"
   ]
  },
  {
   "cell_type": "code",
   "execution_count": 72,
   "id": "739560fd",
   "metadata": {},
   "outputs": [
    {
     "data": {
      "text/plain": [
       "[1, 2, 0, 3]"
      ]
     },
     "execution_count": 72,
     "metadata": {},
     "output_type": "execute_result"
    }
   ],
   "source": [
    "inverse_array(a)"
   ]
  },
  {
   "cell_type": "code",
   "execution_count": 74,
   "id": "d389dabe",
   "metadata": {},
   "outputs": [
    {
     "data": {
      "text/plain": [
       "2"
      ]
     },
     "execution_count": 74,
     "metadata": {},
     "output_type": "execute_result"
    }
   ],
   "source": [
    "a = \"random string\"\n",
    "\n",
    "a.index(\"\")"
   ]
  },
  {
   "cell_type": "code",
   "execution_count": 96,
   "id": "2d39deb2",
   "metadata": {},
   "outputs": [],
   "source": [
    "a = \"a, set, of, words, (that, is, complete), in, itself, (typically, containing), a, subject, (this, is, random)\""
   ]
  },
  {
   "cell_type": "code",
   "execution_count": 83,
   "id": "59eddaf8",
   "metadata": {},
   "outputs": [],
   "source": [
    "start = a.index(\"(\")\n",
    "end = a.index(\")\")\n",
    "\n",
    "extra = a[start:end + 1]\n",
    "a = a[:start] + a[end + 2:]"
   ]
  },
  {
   "cell_type": "code",
   "execution_count": 84,
   "id": "c19d172a",
   "metadata": {},
   "outputs": [
    {
     "data": {
      "text/plain": [
       "'(that, is, complete)'"
      ]
     },
     "execution_count": 84,
     "metadata": {},
     "output_type": "execute_result"
    }
   ],
   "source": [
    "extra"
   ]
  },
  {
   "cell_type": "code",
   "execution_count": 85,
   "id": "a71cbb73",
   "metadata": {},
   "outputs": [
    {
     "data": {
      "text/plain": [
       "'a, set, of, words,  in, itself, (typically, containing), a, subject'"
      ]
     },
     "execution_count": 85,
     "metadata": {},
     "output_type": "execute_result"
    }
   ],
   "source": [
    "a"
   ]
  },
  {
   "cell_type": "code",
   "execution_count": 97,
   "id": "a818012c",
   "metadata": {},
   "outputs": [],
   "source": [
    "extras = []\n",
    "while \"(\" in a or \")\" in a:\n",
    "    start = a.index(\"(\")\n",
    "    end = a.index(\")\")\n",
    "\n",
    "    extra = a[start:end + 1]\n",
    "    extras.append(extra)\n",
    "    a = a[:start] + a[end + 3:]"
   ]
  },
  {
   "cell_type": "code",
   "execution_count": 98,
   "id": "c199b634",
   "metadata": {},
   "outputs": [
    {
     "data": {
      "text/plain": [
       "['(that, is, complete)', '(typically, containing)', '(this, is, random)']"
      ]
     },
     "execution_count": 98,
     "metadata": {},
     "output_type": "execute_result"
    }
   ],
   "source": [
    "extras"
   ]
  },
  {
   "cell_type": "code",
   "execution_count": 99,
   "id": "a18a05ad",
   "metadata": {},
   "outputs": [
    {
     "data": {
      "text/plain": [
       "'a, set, of, words, in, itself, a, subject, '"
      ]
     },
     "execution_count": 99,
     "metadata": {},
     "output_type": "execute_result"
    }
   ],
   "source": [
    "a"
   ]
  },
  {
   "cell_type": "code",
   "execution_count": null,
   "id": "fc60dc7f",
   "metadata": {},
   "outputs": [],
   "source": []
  },
  {
   "cell_type": "code",
   "execution_count": null,
   "id": "3f336797",
   "metadata": {},
   "outputs": [],
   "source": []
  },
  {
   "cell_type": "code",
   "execution_count": null,
   "id": "24fc6efa",
   "metadata": {},
   "outputs": [],
   "source": []
  },
  {
   "cell_type": "code",
   "execution_count": null,
   "id": "72cb97b3",
   "metadata": {},
   "outputs": [],
   "source": []
  },
  {
   "cell_type": "code",
   "execution_count": null,
   "id": "0a4f4712",
   "metadata": {},
   "outputs": [],
   "source": [
    "a = \"a, set, of, words, (that, is, complete), in, itself, (typically, containing), a, subject\"\n",
    "\n",
    "def special_split(a):\n",
    "    \n",
    "    "
   ]
  }
 ],
 "metadata": {
  "kernelspec": {
   "display_name": "Python 3 (ipykernel)",
   "language": "python",
   "name": "python3"
  },
  "language_info": {
   "codemirror_mode": {
    "name": "ipython",
    "version": 3
   },
   "file_extension": ".py",
   "mimetype": "text/x-python",
   "name": "python",
   "nbconvert_exporter": "python",
   "pygments_lexer": "ipython3",
   "version": "3.9.5"
  }
 },
 "nbformat": 4,
 "nbformat_minor": 5
}
