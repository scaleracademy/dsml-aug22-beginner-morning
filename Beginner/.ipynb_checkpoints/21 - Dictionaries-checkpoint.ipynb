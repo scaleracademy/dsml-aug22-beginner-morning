{
 "cells": [
  {
   "cell_type": "code",
   "execution_count": 18,
   "id": "c73232c9",
   "metadata": {},
   "outputs": [
    {
     "ename": "TypeError",
     "evalue": "unhashable type: 'set'",
     "output_type": "error",
     "traceback": [
      "\u001b[0;31m---------------------------------------------------------------------------\u001b[0m",
      "\u001b[0;31mTypeError\u001b[0m                                 Traceback (most recent call last)",
      "\u001b[0;32m/var/folders/nn/c52y0d3j0gq59dpsswchkt2r0000gn/T/ipykernel_58544/3580191993.py\u001b[0m in \u001b[0;36m<module>\u001b[0;34m\u001b[0m\n\u001b[0;32m----> 1\u001b[0;31m \u001b[0ma\u001b[0m \u001b[0;34m=\u001b[0m \u001b[0;34m{\u001b[0m\u001b[0;34m{\u001b[0m\u001b[0;36m1\u001b[0m\u001b[0;34m,\u001b[0m\u001b[0;36m2\u001b[0m\u001b[0;34m,\u001b[0m\u001b[0;36m3\u001b[0m\u001b[0;34m,\u001b[0m\u001b[0;36m4\u001b[0m\u001b[0;34m,\u001b[0m\u001b[0;36m5\u001b[0m\u001b[0;34m}\u001b[0m\u001b[0;34m}\u001b[0m \u001b[0;31m# sets can't have sets, lists and dictionaries within it\u001b[0m\u001b[0;34m\u001b[0m\u001b[0;34m\u001b[0m\u001b[0m\n\u001b[0m",
      "\u001b[0;31mTypeError\u001b[0m: unhashable type: 'set'"
     ]
    }
   ],
   "source": [
    "a = {{1,2,3,4,5}} # sets can't have sets, lists and dictionaries within it"
   ]
  },
  {
   "cell_type": "code",
   "execution_count": 19,
   "id": "20fad23a",
   "metadata": {},
   "outputs": [],
   "source": [
    "a = [[1,2], [3,4], (4,5)]"
   ]
  },
  {
   "cell_type": "code",
   "execution_count": 20,
   "id": "7f12fb8f",
   "metadata": {},
   "outputs": [
    {
     "data": {
      "text/plain": [
       "[3, 4]"
      ]
     },
     "execution_count": 20,
     "metadata": {},
     "output_type": "execute_result"
    }
   ],
   "source": [
    "a[1]"
   ]
  },
  {
   "cell_type": "code",
   "execution_count": 21,
   "id": "343908e7",
   "metadata": {},
   "outputs": [],
   "source": [
    "a, b = a[1]"
   ]
  },
  {
   "cell_type": "code",
   "execution_count": 22,
   "id": "5f85af36",
   "metadata": {},
   "outputs": [
    {
     "data": {
      "text/plain": [
       "3"
      ]
     },
     "execution_count": 22,
     "metadata": {},
     "output_type": "execute_result"
    }
   ],
   "source": [
    "a"
   ]
  },
  {
   "cell_type": "code",
   "execution_count": 23,
   "id": "bf472154",
   "metadata": {},
   "outputs": [
    {
     "data": {
      "text/plain": [
       "4"
      ]
     },
     "execution_count": 23,
     "metadata": {},
     "output_type": "execute_result"
    }
   ],
   "source": [
    "b"
   ]
  },
  {
   "cell_type": "code",
   "execution_count": 24,
   "id": "b440c6d6",
   "metadata": {},
   "outputs": [],
   "source": [
    "s1 = {1,2,3}\n",
    "s2 = {2,3,4,5}\n",
    "\n",
    "result = s1 & s2 - s2"
   ]
  },
  {
   "cell_type": "code",
   "execution_count": 26,
   "id": "3d127a67",
   "metadata": {},
   "outputs": [
    {
     "data": {
      "text/plain": [
       "set()"
      ]
     },
     "execution_count": 26,
     "metadata": {},
     "output_type": "execute_result"
    }
   ],
   "source": [
    "result"
   ]
  },
  {
   "cell_type": "markdown",
   "id": "123abcd2",
   "metadata": {},
   "source": [
    "# Dictionaries"
   ]
  },
  {
   "cell_type": "code",
   "execution_count": 27,
   "id": "fc73808c",
   "metadata": {},
   "outputs": [],
   "source": [
    "a = {\n",
    "    \"random\": \"something which is not well defined!\",\n",
    "    \"bizzare\": \"Ajeeb!\",\n",
    "    \"ship\": \"sea transportation\"\n",
    "}"
   ]
  },
  {
   "cell_type": "code",
   "execution_count": 28,
   "id": "532af385",
   "metadata": {},
   "outputs": [],
   "source": [
    "state_wise_data = {\n",
    "    \"Delhi\": 450,\n",
    "    \"Haryana\": 400,\n",
    "    \"UP\": 700\n",
    "}"
   ]
  },
  {
   "cell_type": "code",
   "execution_count": 29,
   "id": "c9255952",
   "metadata": {},
   "outputs": [],
   "source": [
    "state_wise_data = [(\"Delhi\", 450), (\"Haryana\", 400)]"
   ]
  },
  {
   "cell_type": "code",
   "execution_count": 31,
   "id": "314e773b",
   "metadata": {},
   "outputs": [
    {
     "data": {
      "text/plain": [
       "('Haryana', 400)"
      ]
     },
     "execution_count": 31,
     "metadata": {},
     "output_type": "execute_result"
    }
   ],
   "source": [
    "state_wise_data[1]"
   ]
  },
  {
   "cell_type": "code",
   "execution_count": 32,
   "id": "61c84019",
   "metadata": {},
   "outputs": [],
   "source": [
    "state_wise_data = {\n",
    "    \"Delhi\": 450,\n",
    "    \"Haryana\": 400,\n",
    "    \"UP\": 700\n",
    "}"
   ]
  },
  {
   "cell_type": "code",
   "execution_count": 33,
   "id": "8b90ff23",
   "metadata": {},
   "outputs": [
    {
     "data": {
      "text/plain": [
       "450"
      ]
     },
     "execution_count": 33,
     "metadata": {},
     "output_type": "execute_result"
    }
   ],
   "source": [
    "state_wise_data[\"Delhi\"]"
   ]
  },
  {
   "cell_type": "code",
   "execution_count": 57,
   "id": "9e811e1e",
   "metadata": {},
   "outputs": [
    {
     "ename": "KeyError",
     "evalue": "0",
     "output_type": "error",
     "traceback": [
      "\u001b[0;31m---------------------------------------------------------------------------\u001b[0m",
      "\u001b[0;31mKeyError\u001b[0m                                  Traceback (most recent call last)",
      "\u001b[0;32m/var/folders/nn/c52y0d3j0gq59dpsswchkt2r0000gn/T/ipykernel_58544/4074872814.py\u001b[0m in \u001b[0;36m<module>\u001b[0;34m\u001b[0m\n\u001b[0;32m----> 1\u001b[0;31m \u001b[0mstate_wise_data\u001b[0m\u001b[0;34m[\u001b[0m\u001b[0;36m0\u001b[0m\u001b[0;34m]\u001b[0m\u001b[0;34m\u001b[0m\u001b[0;34m\u001b[0m\u001b[0m\n\u001b[0m",
      "\u001b[0;31mKeyError\u001b[0m: 0"
     ]
    }
   ],
   "source": [
    "state_wise_data[0]"
   ]
  },
  {
   "cell_type": "code",
   "execution_count": 34,
   "id": "5c2bbfb9",
   "metadata": {},
   "outputs": [
    {
     "data": {
      "text/plain": [
       "400"
      ]
     },
     "execution_count": 34,
     "metadata": {},
     "output_type": "execute_result"
    }
   ],
   "source": [
    "state_wise_data[\"Haryana\"]"
   ]
  },
  {
   "cell_type": "code",
   "execution_count": 36,
   "id": "b40cc114",
   "metadata": {},
   "outputs": [],
   "source": [
    "# Till python < 3.7 -> Dictionaries were unordered!\n",
    "# After 3.7 -> Dictionaries ordered!"
   ]
  },
  {
   "cell_type": "code",
   "execution_count": 37,
   "id": "cf1d72b1",
   "metadata": {},
   "outputs": [
    {
     "ename": "KeyError",
     "evalue": "0",
     "output_type": "error",
     "traceback": [
      "\u001b[0;31m---------------------------------------------------------------------------\u001b[0m",
      "\u001b[0;31mKeyError\u001b[0m                                  Traceback (most recent call last)",
      "\u001b[0;32m/var/folders/nn/c52y0d3j0gq59dpsswchkt2r0000gn/T/ipykernel_58544/4074872814.py\u001b[0m in \u001b[0;36m<module>\u001b[0;34m\u001b[0m\n\u001b[0;32m----> 1\u001b[0;31m \u001b[0mstate_wise_data\u001b[0m\u001b[0;34m[\u001b[0m\u001b[0;36m0\u001b[0m\u001b[0;34m]\u001b[0m\u001b[0;34m\u001b[0m\u001b[0;34m\u001b[0m\u001b[0m\n\u001b[0m",
      "\u001b[0;31mKeyError\u001b[0m: 0"
     ]
    }
   ],
   "source": [
    "state_wise_data[0]"
   ]
  },
  {
   "cell_type": "code",
   "execution_count": 38,
   "id": "ac6f1833",
   "metadata": {},
   "outputs": [
    {
     "name": "stdout",
     "output_type": "stream",
     "text": [
      "<class 'dict'>\n"
     ]
    }
   ],
   "source": [
    "a = {}\n",
    "print(type(a))"
   ]
  },
  {
   "cell_type": "code",
   "execution_count": 39,
   "id": "29a7d8fe",
   "metadata": {},
   "outputs": [],
   "source": [
    "a = set()"
   ]
  },
  {
   "cell_type": "code",
   "execution_count": 40,
   "id": "263f802d",
   "metadata": {},
   "outputs": [],
   "source": [
    "a = {\n",
    "    \"Delhi\": 450,\n",
    "    \"Haryana\": 400,\n",
    "    \"UP\": 700\n",
    "}"
   ]
  },
  {
   "cell_type": "code",
   "execution_count": 47,
   "id": "0e8ad926",
   "metadata": {},
   "outputs": [],
   "source": [
    "a[\"Delhi\"] = 500 # update an existing key value pair"
   ]
  },
  {
   "cell_type": "code",
   "execution_count": 48,
   "id": "46960c95",
   "metadata": {},
   "outputs": [
    {
     "data": {
      "text/plain": [
       "{'Delhi': 500, 'Haryana': 400, 'UP': 700, 'delhi': 600}"
      ]
     },
     "execution_count": 48,
     "metadata": {},
     "output_type": "execute_result"
    }
   ],
   "source": [
    "a"
   ]
  },
  {
   "cell_type": "code",
   "execution_count": 49,
   "id": "52e73f77",
   "metadata": {},
   "outputs": [],
   "source": [
    "a[\"delhi\"] = 600 # add new key value pair to dict"
   ]
  },
  {
   "cell_type": "code",
   "execution_count": 50,
   "id": "95e75620",
   "metadata": {},
   "outputs": [
    {
     "data": {
      "text/plain": [
       "{'Delhi': 500, 'Haryana': 400, 'UP': 700, 'delhi': 600}"
      ]
     },
     "execution_count": 50,
     "metadata": {},
     "output_type": "execute_result"
    }
   ],
   "source": [
    "a"
   ]
  },
  {
   "cell_type": "code",
   "execution_count": 54,
   "id": "b3303b55",
   "metadata": {},
   "outputs": [],
   "source": [
    "Avenger = {\n",
    "    \"name\": \"Thor\",\n",
    "    \"age\": 1500,\n",
    "    \"weapon\": [\"mjolnir\", \"stormbreaker\"]\n",
    "}"
   ]
  },
  {
   "cell_type": "code",
   "execution_count": 55,
   "id": "c78e864c",
   "metadata": {},
   "outputs": [],
   "source": [
    "Avenger.update({\n",
    "    \"name\": \"Thor Odinson\",\n",
    "    \"weapon\": [\"stormbreaker\"],\n",
    "    \"strongest?\": True,\n",
    "    \"eyes\": 1\n",
    "})"
   ]
  },
  {
   "cell_type": "code",
   "execution_count": 56,
   "id": "31f148c6",
   "metadata": {},
   "outputs": [
    {
     "data": {
      "text/plain": [
       "{'name': 'Thor Odinson',\n",
       " 'age': 1500,\n",
       " 'weapon': ['stormbreaker'],\n",
       " 'strongest?': True,\n",
       " 'eyes': 1}"
      ]
     },
     "execution_count": 56,
     "metadata": {},
     "output_type": "execute_result"
    }
   ],
   "source": [
    "Avenger"
   ]
  },
  {
   "cell_type": "code",
   "execution_count": 58,
   "id": "ae98093a",
   "metadata": {},
   "outputs": [],
   "source": [
    "random = {\n",
    "    \"a\": 1,\n",
    "    \"b\": 2,\n",
    "    \"c\": 3\n",
    "}"
   ]
  },
  {
   "cell_type": "code",
   "execution_count": 59,
   "id": "30b026eb",
   "metadata": {},
   "outputs": [
    {
     "ename": "KeyError",
     "evalue": "'d'",
     "output_type": "error",
     "traceback": [
      "\u001b[0;31m---------------------------------------------------------------------------\u001b[0m",
      "\u001b[0;31mKeyError\u001b[0m                                  Traceback (most recent call last)",
      "\u001b[0;32m/var/folders/nn/c52y0d3j0gq59dpsswchkt2r0000gn/T/ipykernel_58544/1052057051.py\u001b[0m in \u001b[0;36m<module>\u001b[0;34m\u001b[0m\n\u001b[0;32m----> 1\u001b[0;31m \u001b[0mrandom\u001b[0m\u001b[0;34m[\u001b[0m\u001b[0;34m\"d\"\u001b[0m\u001b[0;34m]\u001b[0m\u001b[0;34m\u001b[0m\u001b[0;34m\u001b[0m\u001b[0m\n\u001b[0m",
      "\u001b[0;31mKeyError\u001b[0m: 'd'"
     ]
    }
   ],
   "source": [
    "random[\"d\"]"
   ]
  },
  {
   "cell_type": "code",
   "execution_count": 60,
   "id": "a8a622dc",
   "metadata": {},
   "outputs": [],
   "source": [
    "result = random.get(\"d\")"
   ]
  },
  {
   "cell_type": "raw",
   "id": "f7e422db",
   "metadata": {},
   "source": [
    "print(result)"
   ]
  },
  {
   "cell_type": "code",
   "execution_count": null,
   "id": "a1717832",
   "metadata": {},
   "outputs": [],
   "source": []
  }
 ],
 "metadata": {
  "kernelspec": {
   "display_name": "Python 3 (ipykernel)",
   "language": "python",
   "name": "python3"
  },
  "language_info": {
   "codemirror_mode": {
    "name": "ipython",
    "version": 3
   },
   "file_extension": ".py",
   "mimetype": "text/x-python",
   "name": "python",
   "nbconvert_exporter": "python",
   "pygments_lexer": "ipython3",
   "version": "3.9.5"
  }
 },
 "nbformat": 4,
 "nbformat_minor": 5
}
