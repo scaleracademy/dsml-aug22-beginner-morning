{
 "cells": [
  {
   "cell_type": "code",
   "execution_count": 1,
   "id": "9fc54ebb",
   "metadata": {},
   "outputs": [
    {
     "name": "stdout",
     "output_type": "stream",
     "text": [
      "1\n",
      "2\n",
      "3\n",
      "4\n",
      "5\n"
     ]
    }
   ],
   "source": [
    "# Initialization\n",
    "number = 1\n",
    "\n",
    "# Condition\n",
    "while number <= 5:\n",
    "    # Task / Logic goes here\n",
    "    print(number)\n",
    "    \n",
    "    # Updation\n",
    "    number += 1"
   ]
  },
  {
   "cell_type": "code",
   "execution_count": 2,
   "id": "16e944df",
   "metadata": {},
   "outputs": [],
   "source": [
    "# Initialization\n",
    "number = 1\n",
    "\n",
    "# Condition\n",
    "while number == 5:\n",
    "    # Task / Logic goes here\n",
    "    print(number)\n",
    "    \n",
    "    # Updation\n",
    "    number += 1"
   ]
  },
  {
   "cell_type": "code",
   "execution_count": 8,
   "id": "0a22f529",
   "metadata": {},
   "outputs": [
    {
     "name": "stdout",
     "output_type": "stream",
     "text": [
      "60\n",
      "61\n",
      "62\n",
      "63\n",
      "64\n",
      "65\n",
      "66\n",
      "67\n",
      "68\n",
      "69\n",
      "70\n",
      "71\n",
      "72\n",
      "73\n",
      "74\n",
      "75\n",
      "76\n",
      "77\n",
      "78\n",
      "79\n",
      "80\n",
      "81\n",
      "82\n",
      "83\n",
      "84\n",
      "85\n",
      "86\n",
      "87\n",
      "88\n",
      "89\n",
      "90\n",
      "91\n",
      "92\n",
      "93\n",
      "94\n",
      "95\n",
      "96\n",
      "97\n",
      "98\n",
      "99\n",
      "100\n"
     ]
    }
   ],
   "source": [
    "counter = 60\n",
    "\n",
    "while counter <= 100:\n",
    "    print(counter)\n",
    "    counter += 1\n",
    "\n",
    "# print(counter)\n",
    "# counter += 1\n",
    "\n",
    "# print(counter)\n",
    "# counter += 1\n",
    "\n",
    "# print(counter)\n",
    "# counter += 1\n",
    "\n",
    "# print(counter)\n",
    "# counter += 1"
   ]
  },
  {
   "cell_type": "code",
   "execution_count": 6,
   "id": "f44a7b77",
   "metadata": {},
   "outputs": [
    {
     "name": "stdout",
     "output_type": "stream",
     "text": [
      "5\n"
     ]
    }
   ],
   "source": [
    "number = int(input())"
   ]
  },
  {
   "cell_type": "code",
   "execution_count": 7,
   "id": "ca0c3d21",
   "metadata": {},
   "outputs": [
    {
     "name": "stdout",
     "output_type": "stream",
     "text": [
      "something\n"
     ]
    }
   ],
   "source": [
    "if number == 5:\n",
    "    print(\"something\")"
   ]
  },
  {
   "cell_type": "code",
   "execution_count": 13,
   "id": "234253e3",
   "metadata": {},
   "outputs": [
    {
     "name": "stdout",
     "output_type": "stream",
     "text": [
      "-5\n",
      "-4\n",
      "-3\n",
      "-2\n",
      "-1\n",
      "0\n",
      "1\n",
      "2\n",
      "3\n",
      "4\n",
      "5\n"
     ]
    }
   ],
   "source": [
    "# Initialization\n",
    "number = -5\n",
    "\n",
    "# Condition\n",
    "while number <= 5:\n",
    "    # Task / Logic goes here\n",
    "    print(number)\n",
    "    \n",
    "    # Updation\n",
    "    number += 1"
   ]
  },
  {
   "cell_type": "code",
   "execution_count": 15,
   "id": "7e109f6f",
   "metadata": {},
   "outputs": [
    {
     "name": "stdout",
     "output_type": "stream",
     "text": [
      "1\n",
      "2\n",
      "3\n",
      "4\n",
      "5\n"
     ]
    }
   ],
   "source": [
    "number = 0\n",
    "\n",
    "while number < 5:\n",
    "    number += 1\n",
    "    print(number)"
   ]
  },
  {
   "cell_type": "code",
   "execution_count": 16,
   "id": "bfc7e0f3",
   "metadata": {},
   "outputs": [
    {
     "data": {
      "text/plain": [
       "'\\nQuestion 1 - \\nTake an input from the user and print alternate numbers from 1 to the input.\\n'"
      ]
     },
     "execution_count": 16,
     "metadata": {},
     "output_type": "execute_result"
    }
   ],
   "source": [
    "'''\n",
    "Question 1 - \n",
    "Take an input from the user and print alternate numbers from 1 to the input.\n",
    "'''"
   ]
  },
  {
   "cell_type": "code",
   "execution_count": 20,
   "id": "617aee57",
   "metadata": {},
   "outputs": [
    {
     "name": "stdout",
     "output_type": "stream",
     "text": [
      "Please input a number - 15\n",
      "1\n",
      "3\n",
      "5\n",
      "7\n",
      "9\n",
      "11\n",
      "13\n",
      "15\n"
     ]
    }
   ],
   "source": [
    "number = int(input(\"Please input a number - \"))\n",
    "i = 1\n",
    "\n",
    "while i <= number:\n",
    "    print(i)\n",
    "    i += 2"
   ]
  },
  {
   "cell_type": "code",
   "execution_count": 21,
   "id": "f3a21243",
   "metadata": {},
   "outputs": [
    {
     "data": {
      "text/plain": [
       "'\\nQuestion 2 - \\nTake an input from the user for start and end values and print every third number from start to end.\\n'"
      ]
     },
     "execution_count": 21,
     "metadata": {},
     "output_type": "execute_result"
    }
   ],
   "source": [
    "'''\n",
    "Question 2 - \n",
    "Take an input from the user for start and end values and print every third number from start to end.\n",
    "'''"
   ]
  },
  {
   "cell_type": "code",
   "execution_count": 22,
   "id": "23b84b11",
   "metadata": {},
   "outputs": [
    {
     "name": "stdout",
     "output_type": "stream",
     "text": [
      "1\n",
      "15\n",
      "1\n",
      "4\n",
      "7\n",
      "10\n",
      "13\n"
     ]
    }
   ],
   "source": [
    "start = int(input())\n",
    "end = int(input())\n",
    "\n",
    "while start <= end:\n",
    "    print(start)\n",
    "    start += 3"
   ]
  },
  {
   "cell_type": "code",
   "execution_count": 29,
   "id": "584f05ff",
   "metadata": {},
   "outputs": [
    {
     "name": "stdout",
     "output_type": "stream",
     "text": [
      "5\n",
      "1\n",
      "2\n",
      "3\n",
      "4\n",
      "5\n"
     ]
    }
   ],
   "source": [
    "number = int(input())\n",
    "i = 1\n",
    "while i <= number:\n",
    "    print(i)\n",
    "    i += 1"
   ]
  },
  {
   "cell_type": "code",
   "execution_count": 30,
   "id": "f99cc73d",
   "metadata": {},
   "outputs": [
    {
     "data": {
      "text/plain": [
       "'\\nQuestion 3 - \\nTake an input from the user for start and end values.\\nPrint all even numbers between them.\\n'"
      ]
     },
     "execution_count": 30,
     "metadata": {},
     "output_type": "execute_result"
    }
   ],
   "source": [
    "'''\n",
    "Question 3 - \n",
    "Take an input from the user for start and end values.\n",
    "Print all even numbers between them.\n",
    "'''"
   ]
  },
  {
   "cell_type": "code",
   "execution_count": 39,
   "id": "bc047925",
   "metadata": {},
   "outputs": [
    {
     "name": "stdout",
     "output_type": "stream",
     "text": [
      "5\n",
      "20\n",
      "6\n",
      "8\n",
      "10\n",
      "12\n",
      "14\n",
      "16\n",
      "18\n",
      "20\n",
      "Loop was run 16 times!\n"
     ]
    }
   ],
   "source": [
    "start = int(input())\n",
    "end = int(input())\n",
    "\n",
    "loop_count = 0\n",
    "\n",
    "while start <= end:\n",
    "    loop_count += 1\n",
    "    if start % 2 == 0:\n",
    "        print(start)\n",
    "    \n",
    "    start += 1\n",
    "    \n",
    "print(\"Loop was run\", loop_count, \"times!\")"
   ]
  },
  {
   "cell_type": "code",
   "execution_count": 40,
   "id": "424c0fa6",
   "metadata": {},
   "outputs": [
    {
     "name": "stdout",
     "output_type": "stream",
     "text": [
      "5\n",
      "20\n",
      "6\n",
      "8\n",
      "10\n",
      "12\n",
      "14\n",
      "16\n",
      "18\n",
      "20\n",
      "Loop was run 8 times!\n"
     ]
    }
   ],
   "source": [
    "start = int(input())\n",
    "end = int(input())\n",
    "\n",
    "if start % 2 == 0:\n",
    "    i = start\n",
    "else:\n",
    "    i = start +1\n",
    "\n",
    "loop_count = 0\n",
    "while i <= end:\n",
    "    loop_count += 1\n",
    "    print(i)\n",
    "    \n",
    "    i += 2\n",
    "    \n",
    "print(\"Loop was run\", loop_count, \"times!\")"
   ]
  },
  {
   "cell_type": "code",
   "execution_count": 42,
   "id": "200b9137",
   "metadata": {},
   "outputs": [
    {
     "data": {
      "text/plain": [
       "'\\nQuestion 4 - \\nYou are a bowler and you have to bowl 1 over. (6 balls)\\n\"Bowling ball number - ball_number\"\\n'"
      ]
     },
     "execution_count": 42,
     "metadata": {},
     "output_type": "execute_result"
    }
   ],
   "source": [
    "'''\n",
    "Question 4 - \n",
    "You are a bowler and you have to bowl 1 over. (6 balls)\n",
    "\"Bowling ball number - ball_number\"\n",
    "'''"
   ]
  },
  {
   "cell_type": "code",
   "execution_count": 44,
   "id": "c6b204f9",
   "metadata": {},
   "outputs": [
    {
     "name": "stdout",
     "output_type": "stream",
     "text": [
      "Bowling ball number - 1\n",
      "Bowling ball number - 2\n",
      "Bowling ball number - 3\n",
      "Bowling ball number - 4\n",
      "Bowling ball number - 5\n",
      "Bowling ball number - 6\n"
     ]
    }
   ],
   "source": [
    "ball_number = 1\n",
    "\n",
    "while ball_number <= 6:\n",
    "    print(\"Bowling ball number -\", ball_number)\n",
    "    \n",
    "    ball_number += 1"
   ]
  },
  {
   "cell_type": "code",
   "execution_count": 45,
   "id": "940e50b5",
   "metadata": {},
   "outputs": [
    {
     "data": {
      "text/plain": [
       "'\\nQuestion 5 - \\nPrint all numbers from 1 to N (input from user) in a single line.\\n'"
      ]
     },
     "execution_count": 45,
     "metadata": {},
     "output_type": "execute_result"
    }
   ],
   "source": [
    "'''\n",
    "Question 5 - \n",
    "Print all numbers from 1 to N (input from user) in a single line.\n",
    "'''"
   ]
  },
  {
   "cell_type": "code",
   "execution_count": 59,
   "id": "e824fe8d",
   "metadata": {},
   "outputs": [
    {
     "name": "stdout",
     "output_type": "stream",
     "text": [
      "8\n",
      "1 2 3 4 5 6 7 8 "
     ]
    }
   ],
   "source": [
    "number = int(input())\n",
    "\n",
    "i = 1\n",
    "\n",
    "while i <= number:\n",
    "    print(i, end=\" \")\n",
    "    \n",
    "    i += 1"
   ]
  },
  {
   "cell_type": "code",
   "execution_count": 52,
   "id": "a650f306",
   "metadata": {},
   "outputs": [
    {
     "name": "stdout",
     "output_type": "stream",
     "text": [
      "randomANYTHING_AT_ALLprintANYTHING_AT_ALLstatements!ANYTHING_AT_ALL"
     ]
    }
   ],
   "source": [
    "print(\"random\", end=\"ANYTHING_AT_ALL\")\n",
    "print(\"print\", end=\"ANYTHING_AT_ALL\")\n",
    "print(\"statements!\", end=\"ANYTHING_AT_ALL\")"
   ]
  },
  {
   "cell_type": "code",
   "execution_count": 57,
   "id": "a829e776",
   "metadata": {},
   "outputs": [
    {
     "name": "stdout",
     "output_type": "stream",
     "text": [
      "these!WHATEVER!are!WHATEVER!multiple!WHATEVER!strings!WHATEVER!45!WHATEVER!67.8\n"
     ]
    }
   ],
   "source": [
    "print(\"these\", \"are\", \"multiple\", \"strings\", 45, 67.8, sep=\"!WHATEVER!\")"
   ]
  },
  {
   "cell_type": "code",
   "execution_count": 60,
   "id": "55b8ffb0",
   "metadata": {},
   "outputs": [
    {
     "data": {
      "text/plain": [
       "\"\\nQuestion 5 - \\nGiven a number, print it's multiplication table!\\n\""
      ]
     },
     "execution_count": 60,
     "metadata": {},
     "output_type": "execute_result"
    }
   ],
   "source": [
    "'''\n",
    "Question 5 - \n",
    "Given a number, print it's multiplication table!\n",
    "'''"
   ]
  },
  {
   "cell_type": "code",
   "execution_count": 61,
   "id": "a5da0b64",
   "metadata": {},
   "outputs": [
    {
     "name": "stdout",
     "output_type": "stream",
     "text": [
      "2\n",
      "2 4 6 8 10 12 14 16 18 20 "
     ]
    }
   ],
   "source": [
    "number = int(input())\n",
    "\n",
    "i = 1\n",
    "\n",
    "while i <= 10:\n",
    "    print(number*i, end=\" \")\n",
    "    \n",
    "    i += 1"
   ]
  },
  {
   "cell_type": "code",
   "execution_count": 63,
   "id": "d45f32d6",
   "metadata": {},
   "outputs": [
    {
     "data": {
      "text/plain": [
       "'\\nQuestion 5 - \\n1. Take number of test_cases (count) from a user. (Count of numbers)\\n2. Take int(count) inputs from the user\\n3. Print multiplication table for all these inputs!\\n'"
      ]
     },
     "execution_count": 63,
     "metadata": {},
     "output_type": "execute_result"
    }
   ],
   "source": [
    "'''\n",
    "Question 5 - \n",
    "1. Take number of test_cases (count) from a user. (Count of numbers)\n",
    "2. Take int(count) inputs from the user\n",
    "3. Print multiplication table for all these inputs!\n",
    "'''"
   ]
  },
  {
   "cell_type": "code",
   "execution_count": 64,
   "id": "6c3c66d9",
   "metadata": {},
   "outputs": [],
   "source": [
    "# 3\n",
    "\n",
    "# 4\n",
    "# multiplication table of 4\n",
    "# 5\n",
    "# multiplication table of 5\n",
    "# 6\n",
    "# multiplication table of 6"
   ]
  },
  {
   "cell_type": "code",
   "execution_count": 67,
   "id": "e487cdf7",
   "metadata": {},
   "outputs": [
    {
     "name": "stdout",
     "output_type": "stream",
     "text": [
      "2\n",
      "Please enter the number -5\n",
      "Printing multiplication table of - 5\n",
      "5 10 15 20 25 30 35 40 45 50 \n",
      "\n",
      "Please enter the number -6\n",
      "Printing multiplication table of - 6\n",
      "6 12 18 24 30 36 42 48 54 60 \n",
      "\n"
     ]
    }
   ],
   "source": [
    "test_cases = int(input())\n",
    "\n",
    "t = 1\n",
    "\n",
    "while t <= test_cases:\n",
    "    # RUN THIS CODE\n",
    "    \n",
    "    number = int(input(\"Please enter the number -\"))\n",
    "\n",
    "    i = 1\n",
    "    \n",
    "    print(\"Printing multiplication table of -\", number)\n",
    "    while i <= 10:\n",
    "        print(number*i, end=\" \")  \n",
    "        i += 1\n",
    "        \n",
    "    print(\"\\n\")\n",
    "        \n",
    "    t += 1"
   ]
  },
  {
   "cell_type": "code",
   "execution_count": 68,
   "id": "5f0005c3",
   "metadata": {},
   "outputs": [
    {
     "name": "stdout",
     "output_type": "stream",
     "text": [
      "5\n",
      "10\n",
      "5\n",
      "7\n",
      "9\n"
     ]
    }
   ],
   "source": [
    "start = int(input())\n",
    "end = int(input())\n",
    "while start <= end:\n",
    "    print(start)\n",
    "    start += 2"
   ]
  },
  {
   "cell_type": "code",
   "execution_count": 74,
   "id": "6b35184c",
   "metadata": {},
   "outputs": [
    {
     "name": "stdout",
     "output_type": "stream",
     "text": [
      "15\n"
     ]
    }
   ],
   "source": [
    "number = int(input())\n",
    "\n",
    "if number < 10:\n",
    "    print(\"WOW!\")"
   ]
  },
  {
   "cell_type": "code",
   "execution_count": null,
   "id": "5e5c7495",
   "metadata": {},
   "outputs": [],
   "source": []
  }
 ],
 "metadata": {
  "kernelspec": {
   "display_name": "Python 3 (ipykernel)",
   "language": "python",
   "name": "python3"
  },
  "language_info": {
   "codemirror_mode": {
    "name": "ipython",
    "version": 3
   },
   "file_extension": ".py",
   "mimetype": "text/x-python",
   "name": "python",
   "nbconvert_exporter": "python",
   "pygments_lexer": "ipython3",
   "version": "3.9.5"
  }
 },
 "nbformat": 4,
 "nbformat_minor": 5
}
