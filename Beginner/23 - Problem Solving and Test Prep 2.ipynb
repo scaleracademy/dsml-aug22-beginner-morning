{
 "cells": [
  {
   "cell_type": "code",
   "execution_count": 3,
   "id": "ff59596f",
   "metadata": {},
   "outputs": [
    {
     "data": {
      "text/plain": [
       "'\\nQuestion 1 - \\nGiven the following data structure,\\ncreate a dictionary where the first element of each tuple is the key and second is the value.\\n\\nINPUT - [(\"key1\", 456), (\"key2\", 567)]\\nOUTPUT - \\n{\\n    \"key1\": 456,\\n    \"key2\": 567\\n}\\n'"
      ]
     },
     "execution_count": 3,
     "metadata": {},
     "output_type": "execute_result"
    }
   ],
   "source": [
    "'''\n",
    "Question 1 - \n",
    "Given the following data structure,\n",
    "create a dictionary where the first element of each tuple is the key and second is the value.\n",
    "\n",
    "INPUT - [(\"key1\", 456), (\"key2\", 567)]\n",
    "OUTPUT - \n",
    "{\n",
    "    \"key1\": 456,\n",
    "    \"key2\": 567\n",
    "}\n",
    "'''"
   ]
  },
  {
   "cell_type": "code",
   "execution_count": 4,
   "id": "1aab42f3",
   "metadata": {},
   "outputs": [],
   "source": [
    "a = [(\"key1\", 456), (\"key2\", 567)]"
   ]
  },
  {
   "cell_type": "code",
   "execution_count": 5,
   "id": "ffea888b",
   "metadata": {},
   "outputs": [],
   "source": [
    "result = {}\n",
    "for key, value in a:\n",
    "    result[key] = value"
   ]
  },
  {
   "cell_type": "code",
   "execution_count": 6,
   "id": "94690f1a",
   "metadata": {},
   "outputs": [
    {
     "data": {
      "text/plain": [
       "{'key1': 456, 'key2': 567}"
      ]
     },
     "execution_count": 6,
     "metadata": {},
     "output_type": "execute_result"
    }
   ],
   "source": [
    "result"
   ]
  },
  {
   "cell_type": "code",
   "execution_count": 7,
   "id": "089467a4",
   "metadata": {},
   "outputs": [],
   "source": [
    "result = {}\n",
    "for i in a:\n",
    "    result[i[0]] = i[1]"
   ]
  },
  {
   "cell_type": "code",
   "execution_count": 8,
   "id": "11b3319d",
   "metadata": {},
   "outputs": [
    {
     "data": {
      "text/plain": [
       "{'key1': 456, 'key2': 567}"
      ]
     },
     "execution_count": 8,
     "metadata": {},
     "output_type": "execute_result"
    }
   ],
   "source": [
    "result"
   ]
  },
  {
   "cell_type": "code",
   "execution_count": null,
   "id": "8ae773e0",
   "metadata": {},
   "outputs": [],
   "source": [
    "# input = 45"
   ]
  },
  {
   "cell_type": "code",
   "execution_count": null,
   "id": "e55c6f4d",
   "metadata": {},
   "outputs": [],
   "source": [
    "# 10 -> 1,2,5 -> 8 == 10"
   ]
  },
  {
   "cell_type": "code",
   "execution_count": 12,
   "id": "47fcf0c1",
   "metadata": {},
   "outputs": [],
   "source": [
    "def calculate_divisors(n):\n",
    "    divisors = [1]\n",
    "    \n",
    "    for i in range(2, n//2 + 1):\n",
    "        if n % i == 0:\n",
    "            divisors.append(i)\n",
    "            \n",
    "    return divisors"
   ]
  },
  {
   "cell_type": "code",
   "execution_count": 16,
   "id": "e77a6601",
   "metadata": {},
   "outputs": [
    {
     "data": {
      "text/plain": [
       "[1, 3, 9]"
      ]
     },
     "execution_count": 16,
     "metadata": {},
     "output_type": "execute_result"
    }
   ],
   "source": [
    "calculate_divisors(27)"
   ]
  },
  {
   "cell_type": "code",
   "execution_count": 17,
   "id": "554a73f1",
   "metadata": {},
   "outputs": [],
   "source": [
    "def check_perfect(n):\n",
    "    divisors = calculate_divisors(n)\n",
    "    \n",
    "    if sum(divisors) == n:\n",
    "        return True\n",
    "    \n",
    "    return False"
   ]
  },
  {
   "cell_type": "code",
   "execution_count": 20,
   "id": "5b67ba1f",
   "metadata": {},
   "outputs": [
    {
     "data": {
      "text/plain": [
       "True"
      ]
     },
     "execution_count": 20,
     "metadata": {},
     "output_type": "execute_result"
    }
   ],
   "source": [
    "check_perfect(6)"
   ]
  },
  {
   "cell_type": "code",
   "execution_count": 60,
   "id": "87fd58ba",
   "metadata": {},
   "outputs": [],
   "source": [
    "a = [[1,2,3],[4,5,6],[7,8,9],[10,11,12]]"
   ]
  },
  {
   "cell_type": "code",
   "execution_count": 61,
   "id": "c032001d",
   "metadata": {},
   "outputs": [],
   "source": [
    "def generate_transpose(a):\n",
    "    rows = len(a)\n",
    "    cols = len(a[0])\n",
    "    \n",
    "    transpose = []\n",
    "    \n",
    "    for i in range(cols):\n",
    "        row = []\n",
    "        \n",
    "        for j in range(rows):\n",
    "            row.append(a[j][i])\n",
    "        \n",
    "        transpose.append(row)\n",
    "    return transpose"
   ]
  },
  {
   "cell_type": "code",
   "execution_count": 62,
   "id": "f0aa9280",
   "metadata": {},
   "outputs": [
    {
     "data": {
      "text/plain": [
       "[[1, 4, 7, 10], [2, 5, 8, 11], [3, 6, 9, 12]]"
      ]
     },
     "execution_count": 62,
     "metadata": {},
     "output_type": "execute_result"
    }
   ],
   "source": [
    "generate_transpose(a)"
   ]
  },
  {
   "cell_type": "code",
   "execution_count": 54,
   "id": "0b58ba8d",
   "metadata": {},
   "outputs": [],
   "source": [
    "a = [[0]*3]*3"
   ]
  },
  {
   "cell_type": "code",
   "execution_count": 55,
   "id": "5b73adaf",
   "metadata": {},
   "outputs": [
    {
     "data": {
      "text/plain": [
       "[[0, 0, 0], [0, 0, 0], [0, 0, 0]]"
      ]
     },
     "execution_count": 55,
     "metadata": {},
     "output_type": "execute_result"
    }
   ],
   "source": [
    "a"
   ]
  },
  {
   "cell_type": "code",
   "execution_count": 56,
   "id": "6b6db944",
   "metadata": {},
   "outputs": [],
   "source": [
    "a[0][0] = 1"
   ]
  },
  {
   "cell_type": "code",
   "execution_count": 57,
   "id": "94114db0",
   "metadata": {},
   "outputs": [
    {
     "data": {
      "text/plain": [
       "[[1, 0, 0], [1, 0, 0], [1, 0, 0]]"
      ]
     },
     "execution_count": 57,
     "metadata": {},
     "output_type": "execute_result"
    }
   ],
   "source": [
    "a"
   ]
  },
  {
   "cell_type": "code",
   "execution_count": null,
   "id": "a528b454",
   "metadata": {},
   "outputs": [],
   "source": [
    "def custom_round(a):\n",
    "    "
   ]
  },
  {
   "cell_type": "code",
   "execution_count": 63,
   "id": "5930e7b8",
   "metadata": {},
   "outputs": [
    {
     "data": {
      "text/plain": [
       "2.0"
      ]
     },
     "execution_count": 63,
     "metadata": {},
     "output_type": "execute_result"
    }
   ],
   "source": [
    "2.6 // 1"
   ]
  },
  {
   "cell_type": "code",
   "execution_count": 64,
   "id": "7e23b5a7",
   "metadata": {},
   "outputs": [
    {
     "data": {
      "text/plain": [
       "3.0"
      ]
     },
     "execution_count": 64,
     "metadata": {},
     "output_type": "execute_result"
    }
   ],
   "source": [
    "(2.6 // 1) + 1"
   ]
  },
  {
   "cell_type": "code",
   "execution_count": 65,
   "id": "b894ccee",
   "metadata": {},
   "outputs": [
    {
     "data": {
      "text/plain": [
       "-3.0"
      ]
     },
     "execution_count": 65,
     "metadata": {},
     "output_type": "execute_result"
    }
   ],
   "source": [
    "-2.6 // 1"
   ]
  },
  {
   "cell_type": "code",
   "execution_count": 66,
   "id": "ced6d82c",
   "metadata": {},
   "outputs": [
    {
     "data": {
      "text/plain": [
       "-2.0"
      ]
     },
     "execution_count": 66,
     "metadata": {},
     "output_type": "execute_result"
    }
   ],
   "source": [
    "(-2.6 // 1) + 1"
   ]
  },
  {
   "cell_type": "code",
   "execution_count": 67,
   "id": "d5e051ae",
   "metadata": {},
   "outputs": [],
   "source": [
    "a = 132634161439384721000"
   ]
  },
  {
   "cell_type": "code",
   "execution_count": 70,
   "id": "5522da0f",
   "metadata": {},
   "outputs": [],
   "source": [
    "def count_digits(a):\n",
    "    num = a\n",
    "    count = 0\n",
    "    \n",
    "    while num > 0:\n",
    "        rem = num % 10\n",
    "        \n",
    "        if rem == 1:\n",
    "            count += 1\n",
    "            \n",
    "        num = num // 10\n",
    "        \n",
    "    return count"
   ]
  },
  {
   "cell_type": "code",
   "execution_count": 71,
   "id": "d7dd605e",
   "metadata": {},
   "outputs": [
    {
     "data": {
      "text/plain": [
       "4"
      ]
     },
     "execution_count": 71,
     "metadata": {},
     "output_type": "execute_result"
    }
   ],
   "source": [
    "count_digits(a)"
   ]
  },
  {
   "cell_type": "code",
   "execution_count": 77,
   "id": "f25fdcec",
   "metadata": {},
   "outputs": [],
   "source": [
    "def count_digits_easy(a):\n",
    "    num = str(a)\n",
    "    \n",
    "    return num.count(\"1\")"
   ]
  },
  {
   "cell_type": "code",
   "execution_count": 78,
   "id": "21baf2da",
   "metadata": {},
   "outputs": [
    {
     "data": {
      "text/plain": [
       "4"
      ]
     },
     "execution_count": 78,
     "metadata": {},
     "output_type": "execute_result"
    }
   ],
   "source": [
    "count_digits_easy(a)"
   ]
  },
  {
   "cell_type": "code",
   "execution_count": 80,
   "id": "ff447fe4",
   "metadata": {},
   "outputs": [
    {
     "name": "stdout",
     "output_type": "stream",
     "text": [
      "\n",
      "The input is empty!\n"
     ]
    }
   ],
   "source": [
    "a = input()\n",
    "\n",
    "if not a:\n",
    "    print(\"The input is empty!\")"
   ]
  },
  {
   "cell_type": "code",
   "execution_count": 81,
   "id": "f43bf612",
   "metadata": {},
   "outputs": [],
   "source": [
    "date = \"05/11/1997\""
   ]
  },
  {
   "cell_type": "code",
   "execution_count": 87,
   "id": "70e0a797",
   "metadata": {},
   "outputs": [],
   "source": [
    "def change_date(date):\n",
    "    parts = date.split(\"/\")\n",
    "    \n",
    "    return \"/\".join([parts[1], parts[0], parts[2]])"
   ]
  },
  {
   "cell_type": "code",
   "execution_count": 88,
   "id": "371f1d4b",
   "metadata": {},
   "outputs": [
    {
     "data": {
      "text/plain": [
       "'11/05/1997'"
      ]
     },
     "execution_count": 88,
     "metadata": {},
     "output_type": "execute_result"
    }
   ],
   "source": [
    "change_date(date)"
   ]
  },
  {
   "cell_type": "code",
   "execution_count": 90,
   "id": "adf37e69",
   "metadata": {},
   "outputs": [],
   "source": [
    "A = [1,1,1,1,2,2,2,2,2,3,4,8]"
   ]
  },
  {
   "cell_type": "code",
   "execution_count": 91,
   "id": "cb8372a4",
   "metadata": {},
   "outputs": [],
   "source": [
    "B = 2"
   ]
  },
  {
   "cell_type": "code",
   "execution_count": 92,
   "id": "a65dc4aa",
   "metadata": {},
   "outputs": [],
   "source": [
    "def calc_indexes(a, target):\n",
    "    first = a.index(target)\n",
    "    result = [first]\n",
    "    \n",
    "    last = first\n",
    "    for i in range(first + 1, len(a)):\n",
    "        if a[i] != target:\n",
    "            break\n",
    "        \n",
    "        last = i\n",
    "        \n",
    "    result.append(last)\n",
    "    \n",
    "    return result"
   ]
  },
  {
   "cell_type": "code",
   "execution_count": 93,
   "id": "d0caf26b",
   "metadata": {},
   "outputs": [
    {
     "data": {
      "text/plain": [
       "[4, 8]"
      ]
     },
     "execution_count": 93,
     "metadata": {},
     "output_type": "execute_result"
    }
   ],
   "source": [
    "calc_indexes(A,B)"
   ]
  },
  {
   "cell_type": "code",
   "execution_count": 94,
   "id": "0564a7ca",
   "metadata": {},
   "outputs": [],
   "source": [
    "# [5,6,7,8,3,4]\n",
    "# max = 7\n",
    "# second_max = 6"
   ]
  },
  {
   "cell_type": "code",
   "execution_count": 95,
   "id": "c9a84784",
   "metadata": {},
   "outputs": [],
   "source": [
    "a = (1,2,2,2,1,3,4,5,1,6,7,8,9,0)"
   ]
  },
  {
   "cell_type": "code",
   "execution_count": 96,
   "id": "0f32d452",
   "metadata": {},
   "outputs": [],
   "source": [
    "# result = {\n",
    "#     1 : 3,\n",
    "#     2 : 3,\n",
    "#     3 : 1,\n",
    "# }"
   ]
  },
  {
   "cell_type": "code",
   "execution_count": 97,
   "id": "bca3456e",
   "metadata": {},
   "outputs": [],
   "source": [
    "def calc_frequencies(a):\n",
    "    unique = set(a)\n",
    "    \n",
    "    frequencies = {}\n",
    "    for i in unique:\n",
    "        frequencies[i] = a.count(i)\n",
    "        \n",
    "    return frequencies"
   ]
  },
  {
   "cell_type": "code",
   "execution_count": 98,
   "id": "7d21372c",
   "metadata": {},
   "outputs": [
    {
     "data": {
      "text/plain": [
       "{0: 1, 1: 3, 2: 3, 3: 1, 4: 1, 5: 1, 6: 1, 7: 1, 8: 1, 9: 1}"
      ]
     },
     "execution_count": 98,
     "metadata": {},
     "output_type": "execute_result"
    }
   ],
   "source": [
    "calc_frequencies(a)"
   ]
  },
  {
   "cell_type": "code",
   "execution_count": 99,
   "id": "b8e5b533",
   "metadata": {},
   "outputs": [],
   "source": [
    "a = \"this is a random string\"\n",
    "b = 103\n",
    "\n",
    "char = chr(103)"
   ]
  },
  {
   "cell_type": "code",
   "execution_count": 100,
   "id": "3f0945bd",
   "metadata": {},
   "outputs": [
    {
     "data": {
      "text/plain": [
       "'g'"
      ]
     },
     "execution_count": 100,
     "metadata": {},
     "output_type": "execute_result"
    }
   ],
   "source": [
    "char"
   ]
  },
  {
   "cell_type": "code",
   "execution_count": 101,
   "id": "e68edd6d",
   "metadata": {},
   "outputs": [
    {
     "data": {
      "text/plain": [
       "'this is a random string'"
      ]
     },
     "execution_count": 101,
     "metadata": {},
     "output_type": "execute_result"
    }
   ],
   "source": [
    "a"
   ]
  },
  {
   "cell_type": "code",
   "execution_count": 103,
   "id": "7a661661",
   "metadata": {},
   "outputs": [
    {
     "data": {
      "text/plain": [
       "'\\nQuestion 1 -\\nWrite a program to return indexes of all occurences of a\\ntarget element within a list.\\nINPUT - [1,2,2,4,5,2], Target = 2\\nOUTPUT - [1,2,5]\\n'"
      ]
     },
     "execution_count": 103,
     "metadata": {},
     "output_type": "execute_result"
    }
   ],
   "source": [
    "'''\n",
    "Question 1 -\n",
    "Write a program to return indexes of all occurences of a\n",
    "target element within a list.\n",
    "INPUT - [1,2,2,4,5,2], Target = 2\n",
    "OUTPUT - [1,2,5]\n",
    "'''"
   ]
  },
  {
   "cell_type": "code",
   "execution_count": 104,
   "id": "2ebf563f",
   "metadata": {},
   "outputs": [],
   "source": [
    "def all_indexes(a, target):\n",
    "    indexes = []\n",
    "    \n",
    "    for i in range(len(a)):\n",
    "        if a[i] == target:\n",
    "            indexes.append(i)\n",
    "            \n",
    "    return indexes"
   ]
  },
  {
   "cell_type": "code",
   "execution_count": 105,
   "id": "e6ee17b5",
   "metadata": {},
   "outputs": [
    {
     "data": {
      "text/plain": [
       "[1, 2, 5]"
      ]
     },
     "execution_count": 105,
     "metadata": {},
     "output_type": "execute_result"
    }
   ],
   "source": [
    "all_indexes([1,2,2,4,5,2], 2)"
   ]
  },
  {
   "cell_type": "code",
   "execution_count": null,
   "id": "9953beb1",
   "metadata": {},
   "outputs": [],
   "source": []
  }
 ],
 "metadata": {
  "kernelspec": {
   "display_name": "Python 3 (ipykernel)",
   "language": "python",
   "name": "python3"
  },
  "language_info": {
   "codemirror_mode": {
    "name": "ipython",
    "version": 3
   },
   "file_extension": ".py",
   "mimetype": "text/x-python",
   "name": "python",
   "nbconvert_exporter": "python",
   "pygments_lexer": "ipython3",
   "version": "3.9.5"
  }
 },
 "nbformat": 4,
 "nbformat_minor": 5
}
