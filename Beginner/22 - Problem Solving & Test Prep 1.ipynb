{
 "cells": [
  {
   "cell_type": "code",
   "execution_count": 2,
   "id": "78d1cd9f",
   "metadata": {},
   "outputs": [],
   "source": [
    "name_list = [\"Vijay\", \"Vickey\"]\n",
    "tup = (\"Item_1\", 0.5, name_list)"
   ]
  },
  {
   "cell_type": "code",
   "execution_count": 3,
   "id": "c89f84cf",
   "metadata": {},
   "outputs": [
    {
     "data": {
      "text/plain": [
       "140187349908096"
      ]
     },
     "execution_count": 3,
     "metadata": {},
     "output_type": "execute_result"
    }
   ],
   "source": [
    "id(name_list)"
   ]
  },
  {
   "cell_type": "code",
   "execution_count": 4,
   "id": "644f994a",
   "metadata": {},
   "outputs": [
    {
     "data": {
      "text/plain": [
       "140187203067008"
      ]
     },
     "execution_count": 4,
     "metadata": {},
     "output_type": "execute_result"
    }
   ],
   "source": [
    "id(tup)"
   ]
  },
  {
   "cell_type": "code",
   "execution_count": 5,
   "id": "fd955472",
   "metadata": {},
   "outputs": [
    {
     "name": "stdout",
     "output_type": "stream",
     "text": [
      "('Item_1', 0.5, ['Vijay', 'Vickey'])\n"
     ]
    }
   ],
   "source": [
    "name_lst.append(\"Vishal\")\n",
    "print(tup)"
   ]
  },
  {
   "cell_type": "code",
   "execution_count": 6,
   "id": "2d6ab27f",
   "metadata": {},
   "outputs": [
    {
     "data": {
      "text/plain": [
       "140187203067008"
      ]
     },
     "execution_count": 6,
     "metadata": {},
     "output_type": "execute_result"
    }
   ],
   "source": [
    "id(tup)"
   ]
  },
  {
   "cell_type": "code",
   "execution_count": 7,
   "id": "21b9b5e3",
   "metadata": {},
   "outputs": [
    {
     "data": {
      "text/plain": [
       "140187349908096"
      ]
     },
     "execution_count": 7,
     "metadata": {},
     "output_type": "execute_result"
    }
   ],
   "source": [
    "id(name_list)"
   ]
  },
  {
   "cell_type": "code",
   "execution_count": 8,
   "id": "73d47d32",
   "metadata": {},
   "outputs": [],
   "source": [
    "a = (1,2,3)"
   ]
  },
  {
   "cell_type": "code",
   "execution_count": 9,
   "id": "288755b7",
   "metadata": {},
   "outputs": [
    {
     "data": {
      "text/plain": [
       "tuple"
      ]
     },
     "execution_count": 9,
     "metadata": {},
     "output_type": "execute_result"
    }
   ],
   "source": [
    "type(a)"
   ]
  },
  {
   "cell_type": "code",
   "execution_count": 10,
   "id": "ab9cc047",
   "metadata": {},
   "outputs": [],
   "source": [
    "x, y, z = (1,2,3)"
   ]
  },
  {
   "cell_type": "code",
   "execution_count": 13,
   "id": "df9fce45",
   "metadata": {},
   "outputs": [
    {
     "data": {
      "text/plain": [
       "int"
      ]
     },
     "execution_count": 13,
     "metadata": {},
     "output_type": "execute_result"
    }
   ],
   "source": [
    "type(z)"
   ]
  },
  {
   "cell_type": "code",
   "execution_count": 14,
   "id": "8d938c65",
   "metadata": {},
   "outputs": [
    {
     "ename": "ValueError",
     "evalue": "too many values to unpack (expected 2)",
     "output_type": "error",
     "traceback": [
      "\u001b[0;31m---------------------------------------------------------------------------\u001b[0m",
      "\u001b[0;31mValueError\u001b[0m                                Traceback (most recent call last)",
      "\u001b[0;32m/var/folders/nn/c52y0d3j0gq59dpsswchkt2r0000gn/T/ipykernel_68599/406400431.py\u001b[0m in \u001b[0;36m<module>\u001b[0;34m\u001b[0m\n\u001b[0;32m----> 1\u001b[0;31m \u001b[0mx\u001b[0m\u001b[0;34m,\u001b[0m \u001b[0my\u001b[0m \u001b[0;34m=\u001b[0m \u001b[0;34m(\u001b[0m\u001b[0;36m1\u001b[0m\u001b[0;34m,\u001b[0m\u001b[0;36m2\u001b[0m\u001b[0;34m,\u001b[0m\u001b[0;36m3\u001b[0m\u001b[0;34m)\u001b[0m\u001b[0;34m\u001b[0m\u001b[0;34m\u001b[0m\u001b[0m\n\u001b[0m",
      "\u001b[0;31mValueError\u001b[0m: too many values to unpack (expected 2)"
     ]
    }
   ],
   "source": [
    "x, y = (1,2,3)"
   ]
  },
  {
   "cell_type": "code",
   "execution_count": 15,
   "id": "39ee58b1",
   "metadata": {},
   "outputs": [
    {
     "ename": "ValueError",
     "evalue": "not enough values to unpack (expected 4, got 3)",
     "output_type": "error",
     "traceback": [
      "\u001b[0;31m---------------------------------------------------------------------------\u001b[0m",
      "\u001b[0;31mValueError\u001b[0m                                Traceback (most recent call last)",
      "\u001b[0;32m/var/folders/nn/c52y0d3j0gq59dpsswchkt2r0000gn/T/ipykernel_68599/469624198.py\u001b[0m in \u001b[0;36m<module>\u001b[0;34m\u001b[0m\n\u001b[0;32m----> 1\u001b[0;31m \u001b[0mx\u001b[0m\u001b[0;34m,\u001b[0m \u001b[0my\u001b[0m\u001b[0;34m,\u001b[0m \u001b[0mz\u001b[0m\u001b[0;34m,\u001b[0m \u001b[0mw\u001b[0m \u001b[0;34m=\u001b[0m \u001b[0;34m(\u001b[0m\u001b[0;36m1\u001b[0m\u001b[0;34m,\u001b[0m\u001b[0;36m2\u001b[0m\u001b[0;34m,\u001b[0m\u001b[0;36m3\u001b[0m\u001b[0;34m)\u001b[0m\u001b[0;34m\u001b[0m\u001b[0;34m\u001b[0m\u001b[0m\n\u001b[0m",
      "\u001b[0;31mValueError\u001b[0m: not enough values to unpack (expected 4, got 3)"
     ]
    }
   ],
   "source": [
    "x, y, z, w = (1,2,3)"
   ]
  },
  {
   "cell_type": "code",
   "execution_count": 16,
   "id": "96a39436",
   "metadata": {},
   "outputs": [],
   "source": [
    "def random():\n",
    "    return 100, 200, 300, 400"
   ]
  },
  {
   "cell_type": "code",
   "execution_count": 17,
   "id": "2a36e6a2",
   "metadata": {},
   "outputs": [],
   "source": [
    "b = random()"
   ]
  },
  {
   "cell_type": "code",
   "execution_count": 18,
   "id": "d6b23be7",
   "metadata": {},
   "outputs": [
    {
     "data": {
      "text/plain": [
       "(100, 200, 300, 400)"
      ]
     },
     "execution_count": 18,
     "metadata": {},
     "output_type": "execute_result"
    }
   ],
   "source": [
    "b"
   ]
  },
  {
   "cell_type": "code",
   "execution_count": 19,
   "id": "71bb98de",
   "metadata": {},
   "outputs": [],
   "source": [
    "a, b, c, d = random()"
   ]
  },
  {
   "cell_type": "code",
   "execution_count": 20,
   "id": "a833f999",
   "metadata": {},
   "outputs": [
    {
     "data": {
      "text/plain": [
       "100"
      ]
     },
     "execution_count": 20,
     "metadata": {},
     "output_type": "execute_result"
    }
   ],
   "source": [
    "a"
   ]
  },
  {
   "cell_type": "code",
   "execution_count": 21,
   "id": "84843636",
   "metadata": {},
   "outputs": [
    {
     "data": {
      "text/plain": [
       "200"
      ]
     },
     "execution_count": 21,
     "metadata": {},
     "output_type": "execute_result"
    }
   ],
   "source": [
    "b"
   ]
  },
  {
   "cell_type": "code",
   "execution_count": 22,
   "id": "2693bdc9",
   "metadata": {},
   "outputs": [
    {
     "data": {
      "text/plain": [
       "300"
      ]
     },
     "execution_count": 22,
     "metadata": {},
     "output_type": "execute_result"
    }
   ],
   "source": [
    "c"
   ]
  },
  {
   "cell_type": "code",
   "execution_count": 23,
   "id": "bf52096a",
   "metadata": {},
   "outputs": [
    {
     "data": {
      "text/plain": [
       "400"
      ]
     },
     "execution_count": 23,
     "metadata": {},
     "output_type": "execute_result"
    }
   ],
   "source": [
    "d"
   ]
  },
  {
   "cell_type": "code",
   "execution_count": 24,
   "id": "50790e45",
   "metadata": {},
   "outputs": [],
   "source": [
    "a = [(1,\"a\"), (2, \"b\"), (3, \"c\"), (4, \"d\")]"
   ]
  },
  {
   "cell_type": "code",
   "execution_count": 28,
   "id": "cdd2f1ee",
   "metadata": {},
   "outputs": [
    {
     "name": "stdout",
     "output_type": "stream",
     "text": [
      "1 a\n",
      "2 b\n",
      "3 c\n",
      "4 d\n"
     ]
    }
   ],
   "source": [
    "for i, j in a:\n",
    "    print(i, j)"
   ]
  },
  {
   "cell_type": "code",
   "execution_count": 31,
   "id": "280cb485",
   "metadata": {},
   "outputs": [],
   "source": [
    "s = {4,5,6,1,2,3,8,9,10,50,45,30}"
   ]
  },
  {
   "cell_type": "code",
   "execution_count": 32,
   "id": "e653448d",
   "metadata": {},
   "outputs": [
    {
     "data": {
      "text/plain": [
       "{1, 2, 3, 4, 5, 6, 8, 9, 10, 30, 45, 50}"
      ]
     },
     "execution_count": 32,
     "metadata": {},
     "output_type": "execute_result"
    }
   ],
   "source": [
    "s"
   ]
  },
  {
   "cell_type": "code",
   "execution_count": 33,
   "id": "fe4fe681",
   "metadata": {},
   "outputs": [
    {
     "data": {
      "text/plain": [
       "1"
      ]
     },
     "execution_count": 33,
     "metadata": {},
     "output_type": "execute_result"
    }
   ],
   "source": [
    "s.pop()"
   ]
  },
  {
   "cell_type": "code",
   "execution_count": 34,
   "id": "ac5d7af1",
   "metadata": {},
   "outputs": [
    {
     "data": {
      "text/plain": [
       "2"
      ]
     },
     "execution_count": 34,
     "metadata": {},
     "output_type": "execute_result"
    }
   ],
   "source": [
    "s.pop()"
   ]
  },
  {
   "cell_type": "code",
   "execution_count": 35,
   "id": "a08ee396",
   "metadata": {},
   "outputs": [
    {
     "data": {
      "text/plain": [
       "3"
      ]
     },
     "execution_count": 35,
     "metadata": {},
     "output_type": "execute_result"
    }
   ],
   "source": [
    "s.pop()"
   ]
  },
  {
   "cell_type": "code",
   "execution_count": 36,
   "id": "177a49e6",
   "metadata": {},
   "outputs": [
    {
     "name": "stdout",
     "output_type": "stream",
     "text": [
      "{1, 2, 3, 4, 5, 6, 8, 9, 10, 45, 50, 30}\n",
      "1\n",
      "2\n",
      "3\n",
      "4\n",
      "5\n",
      "6\n",
      "8\n",
      "9\n",
      "10\n",
      "45\n",
      "50\n",
      "30\n"
     ]
    }
   ],
   "source": [
    "s = {4,5,6,1,2,3,8,9,10,50,45,30}\n",
    "print(s)\n",
    "print(s.pop())\n",
    "print(s.pop())\n",
    "print(s.pop())\n",
    "print(s.pop())\n",
    "print(s.pop())\n",
    "print(s.pop())\n",
    "print(s.pop())\n",
    "print(s.pop())\n",
    "print(s.pop())\n",
    "print(s.pop())\n",
    "print(s.pop())\n",
    "print(s.pop())"
   ]
  },
  {
   "cell_type": "code",
   "execution_count": 37,
   "id": "57615e73",
   "metadata": {},
   "outputs": [],
   "source": [
    "s = \"in data analysis we use data and process it further to create better interpreted data\""
   ]
  },
  {
   "cell_type": "code",
   "execution_count": 39,
   "id": "346da7c6",
   "metadata": {},
   "outputs": [],
   "source": [
    "s1 = s.split(\" \")"
   ]
  },
  {
   "cell_type": "code",
   "execution_count": 40,
   "id": "9027eb60",
   "metadata": {},
   "outputs": [
    {
     "data": {
      "text/plain": [
       "{'analysis',\n",
       " 'and',\n",
       " 'better',\n",
       " 'create',\n",
       " 'data',\n",
       " 'further',\n",
       " 'in',\n",
       " 'interpreted',\n",
       " 'it',\n",
       " 'process',\n",
       " 'to',\n",
       " 'use',\n",
       " 'we'}"
      ]
     },
     "execution_count": 40,
     "metadata": {},
     "output_type": "execute_result"
    }
   ],
   "source": [
    "set(s1)"
   ]
  },
  {
   "cell_type": "code",
   "execution_count": 41,
   "id": "1d2918d3",
   "metadata": {},
   "outputs": [],
   "source": [
    "a = [1,2,2,3,5,6,7,8,7,7,9]"
   ]
  },
  {
   "cell_type": "code",
   "execution_count": 43,
   "id": "847d6456",
   "metadata": {},
   "outputs": [],
   "source": [
    "# a.where(7)"
   ]
  },
  {
   "cell_type": "code",
   "execution_count": 45,
   "id": "4daad57c",
   "metadata": {},
   "outputs": [],
   "source": [
    "def remove_dupliates(a):\n",
    "    result = []\n",
    "    \n",
    "    for i in a:\n",
    "        if i not in result:\n",
    "            result.append(i)\n",
    "    \n",
    "    return result"
   ]
  },
  {
   "cell_type": "code",
   "execution_count": 46,
   "id": "e7ea0a2b",
   "metadata": {},
   "outputs": [],
   "source": [
    "a_no_duplicates = remove_dupliates(a)"
   ]
  },
  {
   "cell_type": "code",
   "execution_count": 47,
   "id": "6526464c",
   "metadata": {},
   "outputs": [
    {
     "data": {
      "text/plain": [
       "[1, 2, 3, 5, 6, 7, 8, 9]"
      ]
     },
     "execution_count": 47,
     "metadata": {},
     "output_type": "execute_result"
    }
   ],
   "source": [
    "a_no_duplicates"
   ]
  },
  {
   "cell_type": "code",
   "execution_count": 48,
   "id": "97814bcf",
   "metadata": {},
   "outputs": [
    {
     "data": {
      "text/plain": [
       "'\\nQuestion 1 - \\nGiven a string input. Verify whether it is a valid url or not.\\nExamples of valid urls - \\nhttp://www.google.com\\nHTTPS://www.random.com/random\\nhttps://www.random2.org/random.html\\n'"
      ]
     },
     "execution_count": 48,
     "metadata": {},
     "output_type": "execute_result"
    }
   ],
   "source": [
    "'''\n",
    "Question 1 - \n",
    "Given a string input. Verify whether it is a valid url or not.\n",
    "\n",
    "Examples of valid urls - \n",
    "http://www.google.com\n",
    "HTTPS://www.random.com/random\n",
    "https://www.random2.org/random.html\n",
    "\n",
    "Examples of invalid urls - \n",
    "www.google.com\n",
    "http://random.com\n",
    "httpstuv://www.something\n",
    "http://www.something/random\n",
    "'''"
   ]
  },
  {
   "cell_type": "code",
   "execution_count": 50,
   "id": "a77579c9",
   "metadata": {},
   "outputs": [],
   "source": [
    "# 1. Start with -> http:// or https://\n",
    "# 2. After that we have -> www\n",
    "# 3. If I split URL by \".\" -> It has atleast 3 parts"
   ]
  },
  {
   "cell_type": "code",
   "execution_count": 54,
   "id": "0599aa8f",
   "metadata": {},
   "outputs": [],
   "source": [
    "def check_url(url):\n",
    "    parts = url.split(\".\")\n",
    "    \n",
    "    condition_1 = (parts[0].lower().startswith(\"http://\") or parts[0].lower().startswith(\"https://\")) and parts[0].lower().endswith(\"www\")\n",
    "    \n",
    "    if not len(parts) >= 3:\n",
    "        return False\n",
    "    elif not condition_1:\n",
    "        return False\n",
    "    \n",
    "    return True"
   ]
  },
  {
   "cell_type": "code",
   "execution_count": 55,
   "id": "63b3e06c",
   "metadata": {},
   "outputs": [
    {
     "data": {
      "text/plain": [
       "False"
      ]
     },
     "execution_count": 55,
     "metadata": {},
     "output_type": "execute_result"
    }
   ],
   "source": [
    "check_url(\"www.google.com\")"
   ]
  },
  {
   "cell_type": "code",
   "execution_count": 56,
   "id": "c0a623af",
   "metadata": {},
   "outputs": [
    {
     "data": {
      "text/plain": [
       "False"
      ]
     },
     "execution_count": 56,
     "metadata": {},
     "output_type": "execute_result"
    }
   ],
   "source": [
    "check_url(\"http://random.com\")"
   ]
  },
  {
   "cell_type": "code",
   "execution_count": 57,
   "id": "ea16beb1",
   "metadata": {},
   "outputs": [
    {
     "data": {
      "text/plain": [
       "False"
      ]
     },
     "execution_count": 57,
     "metadata": {},
     "output_type": "execute_result"
    }
   ],
   "source": [
    "check_url(\"http://www.something/random\")"
   ]
  },
  {
   "cell_type": "code",
   "execution_count": 58,
   "id": "710cbba1",
   "metadata": {},
   "outputs": [
    {
     "data": {
      "text/plain": [
       "True"
      ]
     },
     "execution_count": 58,
     "metadata": {},
     "output_type": "execute_result"
    }
   ],
   "source": [
    "check_url(\"https://www.random2.org/random.html\")"
   ]
  },
  {
   "cell_type": "code",
   "execution_count": 59,
   "id": "8288f211",
   "metadata": {},
   "outputs": [
    {
     "data": {
      "text/plain": [
       "True"
      ]
     },
     "execution_count": 59,
     "metadata": {},
     "output_type": "execute_result"
    }
   ],
   "source": [
    "check_url(\"HTTPS://www.random.com/random\")"
   ]
  },
  {
   "cell_type": "code",
   "execution_count": 61,
   "id": "1461273b",
   "metadata": {},
   "outputs": [
    {
     "data": {
      "text/plain": [
       "'\\nQuestion 2 - \\nGiven a string. Return a count of all words which solely contain unique characters.\\nAssuming there are no punctuations in the string!\\n\\nINPUT - \"this is random mississippi truthy\"\\nOUTUT - 3\\n'"
      ]
     },
     "execution_count": 61,
     "metadata": {},
     "output_type": "execute_result"
    }
   ],
   "source": [
    "'''\n",
    "Question 2 - \n",
    "Given a string. Return a count of all words which solely contain unique characters.\n",
    "Assuming there are no punctuations in the string!\n",
    "\n",
    "INPUT - \"this is random mississippi truthy\"\n",
    "OUTUT - 3\n",
    "'''"
   ]
  },
  {
   "cell_type": "code",
   "execution_count": 62,
   "id": "f591eff0",
   "metadata": {},
   "outputs": [],
   "source": [
    "def unique_char_words(string):\n",
    "    words = string.split(\" \")\n",
    "    count = 0\n",
    "    \n",
    "    for word in words:\n",
    "        if len(word) == len(set(word)):\n",
    "            count += 1\n",
    "            \n",
    "    return count"
   ]
  },
  {
   "cell_type": "code",
   "execution_count": 64,
   "id": "4f837448",
   "metadata": {},
   "outputs": [
    {
     "data": {
      "text/plain": [
       "6"
      ]
     },
     "execution_count": 64,
     "metadata": {},
     "output_type": "execute_result"
    }
   ],
   "source": [
    "unique_char_words(\"this is random mississippi truthy another random word\")"
   ]
  },
  {
   "cell_type": "code",
   "execution_count": 65,
   "id": "37a51eae",
   "metadata": {},
   "outputs": [],
   "source": [
    "d = {}\n",
    "\n",
    "d[1] = \"Python\"\n",
    "d[1.1] = \"Javascript\"\n",
    "d[1.0] = \"Ruby\"\n",
    "d[1 + 0j] = \"C++\"\n",
    "d[True] = \"JAVA\""
   ]
  },
  {
   "cell_type": "code",
   "execution_count": 66,
   "id": "e5cf391b",
   "metadata": {},
   "outputs": [
    {
     "data": {
      "text/plain": [
       "'JAVA'"
      ]
     },
     "execution_count": 66,
     "metadata": {},
     "output_type": "execute_result"
    }
   ],
   "source": [
    "d[1]"
   ]
  },
  {
   "cell_type": "code",
   "execution_count": 67,
   "id": "591a069f",
   "metadata": {},
   "outputs": [
    {
     "data": {
      "text/plain": [
       "{1: 'JAVA', 1.1: 'Javascript'}"
      ]
     },
     "execution_count": 67,
     "metadata": {},
     "output_type": "execute_result"
    }
   ],
   "source": [
    "d"
   ]
  },
  {
   "cell_type": "code",
   "execution_count": 68,
   "id": "dd1d9682",
   "metadata": {},
   "outputs": [
    {
     "data": {
      "text/plain": [
       "True"
      ]
     },
     "execution_count": 68,
     "metadata": {},
     "output_type": "execute_result"
    }
   ],
   "source": [
    "1 == 1.0 == 1 + 0j == True"
   ]
  },
  {
   "cell_type": "code",
   "execution_count": 69,
   "id": "8e411ad5",
   "metadata": {},
   "outputs": [
    {
     "data": {
      "text/plain": [
       "complex"
      ]
     },
     "execution_count": 69,
     "metadata": {},
     "output_type": "execute_result"
    }
   ],
   "source": [
    "type(1+0j)"
   ]
  },
  {
   "cell_type": "code",
   "execution_count": 70,
   "id": "5e4d6284",
   "metadata": {},
   "outputs": [],
   "source": [
    "a = [5,5,5,5]\n",
    "a = [5]"
   ]
  },
  {
   "cell_type": "code",
   "execution_count": null,
   "id": "b5746adb",
   "metadata": {},
   "outputs": [],
   "source": [
    "len(set(a)) == 1"
   ]
  }
 ],
 "metadata": {
  "kernelspec": {
   "display_name": "Python 3 (ipykernel)",
   "language": "python",
   "name": "python3"
  },
  "language_info": {
   "codemirror_mode": {
    "name": "ipython",
    "version": 3
   },
   "file_extension": ".py",
   "mimetype": "text/x-python",
   "name": "python",
   "nbconvert_exporter": "python",
   "pygments_lexer": "ipython3",
   "version": "3.9.5"
  }
 },
 "nbformat": 4,
 "nbformat_minor": 5
}
