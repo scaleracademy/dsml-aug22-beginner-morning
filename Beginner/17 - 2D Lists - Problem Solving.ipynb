{
 "cells": [
  {
   "cell_type": "code",
   "execution_count": 1,
   "id": "0afa748b",
   "metadata": {},
   "outputs": [
    {
     "data": {
      "text/plain": [
       "'\\nQuestion 1 - \\n1. Write a function which takes two arguments - a list and a target element\\n2. Return index of the target element if it is present in the list\\n2. Otherwise return -1\\n'"
      ]
     },
     "execution_count": 1,
     "metadata": {},
     "output_type": "execute_result"
    }
   ],
   "source": [
    "'''\n",
    "Question 1 - \n",
    "1. Write a function which takes two arguments - a list and a target element\n",
    "2. Return index of the target element if it is present in the list\n",
    "2. Otherwise return -1\n",
    "'''"
   ]
  },
  {
   "cell_type": "code",
   "execution_count": 2,
   "id": "10f8bffb",
   "metadata": {},
   "outputs": [],
   "source": [
    "a = [5, 6, 7, 81, 34, 56, 19, 12]"
   ]
  },
  {
   "cell_type": "code",
   "execution_count": 4,
   "id": "34ed98c7",
   "metadata": {},
   "outputs": [
    {
     "data": {
      "text/plain": [
       "1"
      ]
     },
     "execution_count": 4,
     "metadata": {},
     "output_type": "execute_result"
    }
   ],
   "source": [
    "a.index(6)"
   ]
  },
  {
   "cell_type": "code",
   "execution_count": 5,
   "id": "79edf1b9",
   "metadata": {},
   "outputs": [],
   "source": [
    "def search_list(a, target):\n",
    "    for i in range(len(a)):\n",
    "        if a[i] == target:\n",
    "            return i\n",
    "        \n",
    "    return -1"
   ]
  },
  {
   "cell_type": "code",
   "execution_count": 7,
   "id": "459be8cf",
   "metadata": {},
   "outputs": [
    {
     "data": {
      "text/plain": [
       "7"
      ]
     },
     "execution_count": 7,
     "metadata": {},
     "output_type": "execute_result"
    }
   ],
   "source": [
    "search_list(a, 12)"
   ]
  },
  {
   "cell_type": "code",
   "execution_count": 8,
   "id": "8b8c7354",
   "metadata": {},
   "outputs": [],
   "source": [
    "def search_list_2(a, target):\n",
    "    counter = 0\n",
    "    for i in a:\n",
    "        if i == target:\n",
    "            return counter\n",
    "        \n",
    "        counter += 1\n",
    "        \n",
    "    return -1"
   ]
  },
  {
   "cell_type": "code",
   "execution_count": 9,
   "id": "56f0a6e6",
   "metadata": {},
   "outputs": [
    {
     "data": {
      "text/plain": [
       "5"
      ]
     },
     "execution_count": 9,
     "metadata": {},
     "output_type": "execute_result"
    }
   ],
   "source": [
    "search_list_2(a, 56)"
   ]
  },
  {
   "cell_type": "code",
   "execution_count": null,
   "id": "29c6734d",
   "metadata": {},
   "outputs": [],
   "source": []
  },
  {
   "cell_type": "code",
   "execution_count": 10,
   "id": "89dcce1f",
   "metadata": {},
   "outputs": [
    {
     "data": {
      "text/plain": [
       "'\\nQuestion 2 - \\n1. Take two matrices as input. User will first provide the size of the matrix.(3X3 initially)\\n2. Derive a third matrix C which is A + B.\\n'"
      ]
     },
     "execution_count": 10,
     "metadata": {},
     "output_type": "execute_result"
    }
   ],
   "source": [
    "'''\n",
    "Question 2 - \n",
    "1. Take two matrices as input. User will first provide the size of the matrix.(3X3 initially)\n",
    "2. Derive a third matrix C which is A + B.\n",
    "'''"
   ]
  },
  {
   "cell_type": "code",
   "execution_count": 11,
   "id": "a33e38c1",
   "metadata": {},
   "outputs": [
    {
     "name": "stdout",
     "output_type": "stream",
     "text": [
      "2\n",
      "2\n"
     ]
    }
   ],
   "source": [
    "rows = int(input())\n",
    "columns = int(input())"
   ]
  },
  {
   "cell_type": "code",
   "execution_count": 27,
   "id": "de5c4dee",
   "metadata": {},
   "outputs": [],
   "source": [
    "def input_matrix(rows, columns):\n",
    "    matrix = []\n",
    "\n",
    "    for i in range(rows):\n",
    "        row = []\n",
    "\n",
    "        for j in range(columns):\n",
    "            row.append(int(input(f\"Enter value for Row - {i}, Column - {j} -> \")))\n",
    "\n",
    "        matrix.append(row)\n",
    "        \n",
    "    return matrix"
   ]
  },
  {
   "cell_type": "code",
   "execution_count": 28,
   "id": "1fba5343",
   "metadata": {},
   "outputs": [
    {
     "name": "stdout",
     "output_type": "stream",
     "text": [
      "Enter value for Row - 0, Column - 0 -> 4\n",
      "Enter value for Row - 0, Column - 1 -> 5\n",
      "Enter value for Row - 1, Column - 0 -> 6\n",
      "Enter value for Row - 1, Column - 1 -> 7\n"
     ]
    }
   ],
   "source": [
    "A = input_matrix(rows, columns)"
   ]
  },
  {
   "cell_type": "code",
   "execution_count": 14,
   "id": "13fbc156",
   "metadata": {},
   "outputs": [
    {
     "data": {
      "text/plain": [
       "[[4, 5], [6, 7]]"
      ]
     },
     "execution_count": 14,
     "metadata": {},
     "output_type": "execute_result"
    }
   ],
   "source": [
    "A"
   ]
  },
  {
   "cell_type": "code",
   "execution_count": 15,
   "id": "efbb2ab3",
   "metadata": {},
   "outputs": [
    {
     "name": "stdout",
     "output_type": "stream",
     "text": [
      "2\n",
      "3\n",
      "9\n",
      "7\n"
     ]
    }
   ],
   "source": [
    "B = input_matrix(rows, columns)"
   ]
  },
  {
   "cell_type": "code",
   "execution_count": 16,
   "id": "609aab0f",
   "metadata": {},
   "outputs": [
    {
     "data": {
      "text/plain": [
       "[[2, 3], [9, 7]]"
      ]
     },
     "execution_count": 16,
     "metadata": {},
     "output_type": "execute_result"
    }
   ],
   "source": [
    "B"
   ]
  },
  {
   "cell_type": "code",
   "execution_count": 18,
   "id": "7dc00891",
   "metadata": {},
   "outputs": [],
   "source": [
    "def matrix_sum(A, B):\n",
    "    C = []\n",
    "    \n",
    "    for i in range(len(A)):\n",
    "        row = []\n",
    "        \n",
    "        for j in range(len(A[0])):\n",
    "            row.append(A[i][j] + B [i][j])\n",
    "            \n",
    "        C.append(row)\n",
    "        \n",
    "    return C"
   ]
  },
  {
   "cell_type": "code",
   "execution_count": 19,
   "id": "f92c90a1",
   "metadata": {},
   "outputs": [],
   "source": [
    "C = matrix_sum(A, B)"
   ]
  },
  {
   "cell_type": "code",
   "execution_count": 20,
   "id": "977b33c9",
   "metadata": {},
   "outputs": [
    {
     "data": {
      "text/plain": [
       "[[6, 8], [15, 14]]"
      ]
     },
     "execution_count": 20,
     "metadata": {},
     "output_type": "execute_result"
    }
   ],
   "source": [
    "C"
   ]
  },
  {
   "cell_type": "code",
   "execution_count": 22,
   "id": "c5d3d9e3",
   "metadata": {},
   "outputs": [
    {
     "data": {
      "text/plain": [
       "'\\nQuestion 3 - \\n1. Take a matrix as input from the user. User will first provide the size of the matrix.(3X3 initially)\\n2. Return True if the matrix is an identity matrix otherwise return False.\\n'"
      ]
     },
     "execution_count": 22,
     "metadata": {},
     "output_type": "execute_result"
    }
   ],
   "source": [
    "'''\n",
    "Question 3 - \n",
    "1. Take a matrix as input from the user. User will first provide the size of the matrix.(3X3 initially)\n",
    "2. Return True if the matrix is an identity matrix otherwise return False.\n",
    "'''"
   ]
  },
  {
   "cell_type": "code",
   "execution_count": 32,
   "id": "7506bb40",
   "metadata": {},
   "outputs": [
    {
     "name": "stdout",
     "output_type": "stream",
     "text": [
      "2\n",
      "2\n"
     ]
    }
   ],
   "source": [
    "rows = int(input())\n",
    "columns = int(input())"
   ]
  },
  {
   "cell_type": "code",
   "execution_count": 34,
   "id": "f86154d7",
   "metadata": {},
   "outputs": [
    {
     "name": "stdout",
     "output_type": "stream",
     "text": [
      "Enter value for Row - 0, Column - 0 -> 1\n",
      "Enter value for Row - 0, Column - 1 -> 0\n",
      "Enter value for Row - 1, Column - 0 -> 0\n",
      "Enter value for Row - 1, Column - 1 -> 1\n"
     ]
    }
   ],
   "source": [
    "A = input_matrix(rows, columns)"
   ]
  },
  {
   "cell_type": "code",
   "execution_count": 37,
   "id": "3dc5fa39",
   "metadata": {},
   "outputs": [],
   "source": [
    "def check_identity_matrix(A):\n",
    "    R = len(A)\n",
    "    C = len(A[0])\n",
    "    \n",
    "    if R != C:\n",
    "        return False\n",
    "    \n",
    "    for i in range(R):\n",
    "        for j in range(C):\n",
    "            # Check if all primary diagonal elements are 1\n",
    "            if i == j and A[i][j] != 1:\n",
    "                return False\n",
    "            # Check if all other elements are 0\n",
    "            elif i != j and A[i][j] != 0:\n",
    "                return False\n",
    "            \n",
    "    return True"
   ]
  },
  {
   "cell_type": "code",
   "execution_count": 38,
   "id": "c5fdd029",
   "metadata": {},
   "outputs": [
    {
     "data": {
      "text/plain": [
       "True"
      ]
     },
     "execution_count": 38,
     "metadata": {},
     "output_type": "execute_result"
    }
   ],
   "source": [
    "check_identity_matrix(A)"
   ]
  },
  {
   "cell_type": "code",
   "execution_count": 40,
   "id": "784b515f",
   "metadata": {},
   "outputs": [
    {
     "data": {
      "text/plain": [
       "'\\nHOMEWORK QUESTION - \\nGiven a matrix as input,\\nwrite a function which returns the transpose of a matrix.\\n'"
      ]
     },
     "execution_count": 40,
     "metadata": {},
     "output_type": "execute_result"
    }
   ],
   "source": [
    "'''\n",
    "HOMEWORK QUESTION - \n",
    "Given a matrix as input,\n",
    "write a function which returns the transpose of a matrix.\n",
    "'''"
   ]
  },
  {
   "cell_type": "code",
   "execution_count": 43,
   "id": "4f09b935",
   "metadata": {},
   "outputs": [],
   "source": [
    "a = \"yes\"*4"
   ]
  },
  {
   "cell_type": "code",
   "execution_count": 44,
   "id": "aa9fbf57",
   "metadata": {},
   "outputs": [
    {
     "data": {
      "text/plain": [
       "'yesyesyesyes'"
      ]
     },
     "execution_count": 44,
     "metadata": {},
     "output_type": "execute_result"
    }
   ],
   "source": [
    "a"
   ]
  },
  {
   "cell_type": "code",
   "execution_count": 41,
   "id": "efa997c4",
   "metadata": {},
   "outputs": [],
   "source": [
    "a = [\"random\"]*10"
   ]
  },
  {
   "cell_type": "code",
   "execution_count": 42,
   "id": "b604ba03",
   "metadata": {},
   "outputs": [
    {
     "data": {
      "text/plain": [
       "['random',\n",
       " 'random',\n",
       " 'random',\n",
       " 'random',\n",
       " 'random',\n",
       " 'random',\n",
       " 'random',\n",
       " 'random',\n",
       " 'random',\n",
       " 'random']"
      ]
     },
     "execution_count": 42,
     "metadata": {},
     "output_type": "execute_result"
    }
   ],
   "source": [
    "a"
   ]
  },
  {
   "cell_type": "code",
   "execution_count": 45,
   "id": "e093fb6d",
   "metadata": {},
   "outputs": [],
   "source": [
    "a = [None]*10"
   ]
  },
  {
   "cell_type": "code",
   "execution_count": 46,
   "id": "f1e5163e",
   "metadata": {},
   "outputs": [
    {
     "data": {
      "text/plain": [
       "[None, None, None, None, None, None, None, None, None, None]"
      ]
     },
     "execution_count": 46,
     "metadata": {},
     "output_type": "execute_result"
    }
   ],
   "source": [
    "a"
   ]
  },
  {
   "cell_type": "code",
   "execution_count": 47,
   "id": "dad83847",
   "metadata": {},
   "outputs": [],
   "source": [
    "a = [10,20,30,40,50]\n",
    "# [0,1,2,3,4]"
   ]
  },
  {
   "cell_type": "code",
   "execution_count": 48,
   "id": "c7c6dded",
   "metadata": {},
   "outputs": [],
   "source": [
    "# Input 1:\n",
    "# A = [2, 0, 1]\n",
    "# Input 2:\n",
    "# A = [3, 1, 0, 2]\n",
    "# Output 1:\n",
    "# [1, 2, 0]\n",
    "# Output 2:\n",
    "# [2, 1, 3, 0]"
   ]
  },
  {
   "cell_type": "code",
   "execution_count": 50,
   "id": "576214a0",
   "metadata": {},
   "outputs": [],
   "source": [
    "# insert is one way"
   ]
  },
  {
   "cell_type": "code",
   "execution_count": null,
   "id": "d16bb6d0",
   "metadata": {},
   "outputs": [],
   "source": []
  }
 ],
 "metadata": {
  "kernelspec": {
   "display_name": "Python 3 (ipykernel)",
   "language": "python",
   "name": "python3"
  },
  "language_info": {
   "codemirror_mode": {
    "name": "ipython",
    "version": 3
   },
   "file_extension": ".py",
   "mimetype": "text/x-python",
   "name": "python",
   "nbconvert_exporter": "python",
   "pygments_lexer": "ipython3",
   "version": "3.9.5"
  }
 },
 "nbformat": 4,
 "nbformat_minor": 5
}
