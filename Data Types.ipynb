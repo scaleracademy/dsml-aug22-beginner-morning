{
 "cells": [
  {
   "cell_type": "code",
   "execution_count": 2,
   "id": "9894aced",
   "metadata": {},
   "outputs": [
    {
     "data": {
      "text/plain": [
       "0.0"
      ]
     },
     "execution_count": 2,
     "metadata": {},
     "output_type": "execute_result"
    }
   ],
   "source": [
    "0."
   ]
  },
  {
   "cell_type": "code",
   "execution_count": 3,
   "id": "f98af4d8",
   "metadata": {
    "scrolled": true
   },
   "outputs": [
    {
     "name": "stdout",
     "output_type": "stream",
     "text": [
      "Some random string\n"
     ]
    }
   ],
   "source": [
    "print(\"Some random string\")"
   ]
  },
  {
   "cell_type": "code",
   "execution_count": 8,
   "id": "abda33f7",
   "metadata": {
    "scrolled": false
   },
   "outputs": [
    {
     "name": "stdout",
     "output_type": "stream",
     "text": [
      "<class 'str'>\n"
     ]
    }
   ],
   "source": [
    "print(type(\"Some random string\"))"
   ]
  },
  {
   "cell_type": "code",
   "execution_count": 5,
   "id": "70f234dd",
   "metadata": {},
   "outputs": [
    {
     "data": {
      "text/plain": [
       "int"
      ]
     },
     "execution_count": 5,
     "metadata": {},
     "output_type": "execute_result"
    }
   ],
   "source": [
    "type(45)"
   ]
  },
  {
   "cell_type": "code",
   "execution_count": 6,
   "id": "3232d4e5",
   "metadata": {},
   "outputs": [
    {
     "data": {
      "text/plain": [
       "float"
      ]
     },
     "execution_count": 6,
     "metadata": {},
     "output_type": "execute_result"
    }
   ],
   "source": [
    "type(67.8)"
   ]
  },
  {
   "cell_type": "code",
   "execution_count": 7,
   "id": "531b8cc0",
   "metadata": {},
   "outputs": [
    {
     "data": {
      "text/plain": [
       "bool"
      ]
     },
     "execution_count": 7,
     "metadata": {},
     "output_type": "execute_result"
    }
   ],
   "source": [
    "type(True)"
   ]
  },
  {
   "cell_type": "code",
   "execution_count": 9,
   "id": "7177c4d2",
   "metadata": {
    "scrolled": true
   },
   "outputs": [
    {
     "name": "stdout",
     "output_type": "stream",
     "text": [
      "None\n"
     ]
    }
   ],
   "source": [
    "print(None)"
   ]
  },
  {
   "cell_type": "code",
   "execution_count": 11,
   "id": "7e32cdba",
   "metadata": {},
   "outputs": [
    {
     "name": "stdout",
     "output_type": "stream",
     "text": [
      "<class 'bool'>\n"
     ]
    }
   ],
   "source": [
    "print(type(True))"
   ]
  },
  {
   "cell_type": "code",
   "execution_count": 19,
   "id": "06857bbe",
   "metadata": {},
   "outputs": [],
   "source": [
    "a = 3"
   ]
  },
  {
   "cell_type": "code",
   "execution_count": 20,
   "id": "8c6fdcfb",
   "metadata": {},
   "outputs": [
    {
     "name": "stdout",
     "output_type": "stream",
     "text": [
      "3\n"
     ]
    }
   ],
   "source": [
    "print(a)"
   ]
  },
  {
   "cell_type": "code",
   "execution_count": 21,
   "id": "1044ed78",
   "metadata": {},
   "outputs": [],
   "source": [
    "b = 4"
   ]
  },
  {
   "cell_type": "code",
   "execution_count": 22,
   "id": "a36efc34",
   "metadata": {},
   "outputs": [
    {
     "name": "stdout",
     "output_type": "stream",
     "text": [
      "7\n"
     ]
    }
   ],
   "source": [
    "print(a + b)"
   ]
  },
  {
   "cell_type": "code",
   "execution_count": 23,
   "id": "92364292",
   "metadata": {},
   "outputs": [
    {
     "data": {
      "text/plain": [
       "int"
      ]
     },
     "execution_count": 23,
     "metadata": {},
     "output_type": "execute_result"
    }
   ],
   "source": [
    "type(a)"
   ]
  },
  {
   "cell_type": "code",
   "execution_count": 24,
   "id": "c7157053",
   "metadata": {},
   "outputs": [],
   "source": [
    "a = None"
   ]
  },
  {
   "cell_type": "code",
   "execution_count": 26,
   "id": "a12f7d7e",
   "metadata": {},
   "outputs": [
    {
     "name": "stdout",
     "output_type": "stream",
     "text": [
      "<class 'NoneType'>\n"
     ]
    }
   ],
   "source": [
    "print(type(a))"
   ]
  },
  {
   "cell_type": "markdown",
   "id": "a9b5acf8",
   "metadata": {},
   "source": [
    "![nacho nacho](https://c.tenor.com/jRzqBWTvoQ8AAAAM/naatu-naatu-ramcharan.gif)"
   ]
  },
  {
   "cell_type": "code",
   "execution_count": 27,
   "id": "2cd1ae98",
   "metadata": {},
   "outputs": [
    {
     "name": "stdout",
     "output_type": "stream",
     "text": [
      "5\n"
     ]
    }
   ],
   "source": [
    "x = 3\n",
    "x = 5\n",
    "print(x)"
   ]
  },
  {
   "cell_type": "code",
   "execution_count": 28,
   "id": "fde26c27",
   "metadata": {},
   "outputs": [
    {
     "name": "stdout",
     "output_type": "stream",
     "text": [
      "random\n"
     ]
    }
   ],
   "source": [
    "print(\"random\")"
   ]
  },
  {
   "cell_type": "code",
   "execution_count": 29,
   "id": "e63f7c02",
   "metadata": {},
   "outputs": [],
   "source": [
    "x = \"I am\"\n",
    "y = \"legend!\""
   ]
  },
  {
   "cell_type": "code",
   "execution_count": 32,
   "id": "214a229c",
   "metadata": {},
   "outputs": [
    {
     "name": "stdout",
     "output_type": "stream",
     "text": [
      "I am\n",
      "legend!\n"
     ]
    }
   ],
   "source": [
    "print(x)\n",
    "print(y)"
   ]
  },
  {
   "cell_type": "code",
   "execution_count": 37,
   "id": "b7fb88ca",
   "metadata": {},
   "outputs": [
    {
     "name": "stdout",
     "output_type": "stream",
     "text": [
      "I am legend! 45 67 True\n"
     ]
    }
   ],
   "source": [
    "print(x, y, 45, 67, True)"
   ]
  },
  {
   "cell_type": "code",
   "execution_count": 38,
   "id": "20249efe",
   "metadata": {},
   "outputs": [
    {
     "name": "stdout",
     "output_type": "stream",
     "text": [
      "I am\n"
     ]
    }
   ],
   "source": [
    "print(x)"
   ]
  },
  {
   "cell_type": "code",
   "execution_count": 39,
   "id": "95cc76cc",
   "metadata": {},
   "outputs": [
    {
     "name": "stdout",
     "output_type": "stream",
     "text": [
      "I am legend 45 67 what?\n"
     ]
    }
   ],
   "source": [
    "print(\"I am\", 'legend', 45, 67, \"what?\")"
   ]
  },
  {
   "cell_type": "code",
   "execution_count": 40,
   "id": "405f2611",
   "metadata": {},
   "outputs": [],
   "source": [
    "my_age = 10000"
   ]
  },
  {
   "cell_type": "code",
   "execution_count": 41,
   "id": "e2cab1ad",
   "metadata": {},
   "outputs": [],
   "source": [
    "first_python_class = \"A CRAZY ONE!\""
   ]
  },
  {
   "cell_type": "code",
   "execution_count": 42,
   "id": "f1854ba6",
   "metadata": {},
   "outputs": [
    {
     "name": "stdout",
     "output_type": "stream",
     "text": [
      "10\n"
     ]
    }
   ],
   "source": [
    "x = 10\n",
    "y = x\n",
    "print(y)"
   ]
  },
  {
   "cell_type": "code",
   "execution_count": 43,
   "id": "1c1397f6",
   "metadata": {},
   "outputs": [],
   "source": [
    "# How do we take an input from a user"
   ]
  },
  {
   "cell_type": "code",
   "execution_count": 44,
   "id": "f6a39983",
   "metadata": {},
   "outputs": [
    {
     "name": "stdout",
     "output_type": "stream",
     "text": [
      "this is my input\n"
     ]
    },
    {
     "data": {
      "text/plain": [
       "'this is my input'"
      ]
     },
     "execution_count": 44,
     "metadata": {},
     "output_type": "execute_result"
    }
   ],
   "source": [
    "input()"
   ]
  },
  {
   "cell_type": "code",
   "execution_count": 45,
   "id": "55c86e8a",
   "metadata": {},
   "outputs": [
    {
     "name": "stdout",
     "output_type": "stream",
     "text": [
      "Raju\n"
     ]
    }
   ],
   "source": [
    "name = input()"
   ]
  },
  {
   "cell_type": "code",
   "execution_count": 46,
   "id": "14a3f73a",
   "metadata": {},
   "outputs": [
    {
     "data": {
      "text/plain": [
       "'Raju'"
      ]
     },
     "execution_count": 46,
     "metadata": {},
     "output_type": "execute_result"
    }
   ],
   "source": [
    "name"
   ]
  },
  {
   "cell_type": "code",
   "execution_count": 47,
   "id": "726e13a6",
   "metadata": {},
   "outputs": [
    {
     "name": "stdout",
     "output_type": "stream",
     "text": [
      "Edith\n",
      "Hello name\n"
     ]
    }
   ],
   "source": [
    "name = input()\n",
    "print(\"Hello name\")"
   ]
  },
  {
   "cell_type": "code",
   "execution_count": 48,
   "id": "ab2f13f3",
   "metadata": {},
   "outputs": [
    {
     "name": "stdout",
     "output_type": "stream",
     "text": [
      "Biswajeet\n",
      "Hello Biswajeet\n"
     ]
    }
   ],
   "source": [
    "name = input()\n",
    "print(\"Hello\", name)"
   ]
  },
  {
   "cell_type": "code",
   "execution_count": 49,
   "id": "ad34556e",
   "metadata": {},
   "outputs": [
    {
     "name": "stdout",
     "output_type": "stream",
     "text": [
      "45\n",
      "54\n",
      "4554\n"
     ]
    }
   ],
   "source": [
    "x = input()\n",
    "y = input()\n",
    "print(x + y)"
   ]
  },
  {
   "cell_type": "code",
   "execution_count": 50,
   "id": "0b24ec4b",
   "metadata": {},
   "outputs": [
    {
     "name": "stdout",
     "output_type": "stream",
     "text": [
      "5\n"
     ]
    }
   ],
   "source": [
    "random_variable = input()"
   ]
  },
  {
   "cell_type": "code",
   "execution_count": 51,
   "id": "9dad6549",
   "metadata": {},
   "outputs": [
    {
     "data": {
      "text/plain": [
       "str"
      ]
     },
     "execution_count": 51,
     "metadata": {},
     "output_type": "execute_result"
    }
   ],
   "source": [
    "type(random_variable)"
   ]
  },
  {
   "cell_type": "code",
   "execution_count": 53,
   "id": "ab4aa1ed",
   "metadata": {},
   "outputs": [
    {
     "name": "stdout",
     "output_type": "stream",
     "text": [
      "4\n",
      "5\n",
      "<class 'int'>\n",
      "<class 'int'>\n"
     ]
    }
   ],
   "source": [
    "x = input()\n",
    "y = input()\n",
    "\n",
    "int_x = int(x)\n",
    "int_y = int(y)\n",
    "\n",
    "print(type(int_x))\n",
    "print(type(int_y))"
   ]
  },
  {
   "cell_type": "code",
   "execution_count": 54,
   "id": "158d5fcd",
   "metadata": {},
   "outputs": [
    {
     "data": {
      "text/plain": [
       "9"
      ]
     },
     "execution_count": 54,
     "metadata": {},
     "output_type": "execute_result"
    }
   ],
   "source": [
    "int_x + int_y"
   ]
  },
  {
   "cell_type": "code",
   "execution_count": 55,
   "id": "9ba9988c",
   "metadata": {},
   "outputs": [
    {
     "ename": "ValueError",
     "evalue": "invalid literal for int() with base 10: 'I am not a string holding an integer'",
     "output_type": "error",
     "traceback": [
      "\u001b[0;31m---------------------------------------------------------------------------\u001b[0m",
      "\u001b[0;31mValueError\u001b[0m                                Traceback (most recent call last)",
      "\u001b[0;32m/var/folders/nn/c52y0d3j0gq59dpsswchkt2r0000gn/T/ipykernel_12351/3439955440.py\u001b[0m in \u001b[0;36m<module>\u001b[0;34m\u001b[0m\n\u001b[0;32m----> 1\u001b[0;31m \u001b[0mint\u001b[0m\u001b[0;34m(\u001b[0m\u001b[0;34m\"I am not a string holding an integer\"\u001b[0m\u001b[0;34m)\u001b[0m\u001b[0;34m\u001b[0m\u001b[0;34m\u001b[0m\u001b[0m\n\u001b[0m",
      "\u001b[0;31mValueError\u001b[0m: invalid literal for int() with base 10: 'I am not a string holding an integer'"
     ]
    }
   ],
   "source": [
    "int(\"I am not a string holding an integer\")"
   ]
  },
  {
   "cell_type": "code",
   "execution_count": 56,
   "id": "27642e64",
   "metadata": {},
   "outputs": [
    {
     "name": "stdout",
     "output_type": "stream",
     "text": [
      "5\n",
      "6\n",
      "11\n"
     ]
    }
   ],
   "source": [
    "x = int(input())\n",
    "y = int(input())\n",
    "\n",
    "print(x + y)"
   ]
  },
  {
   "cell_type": "code",
   "execution_count": 57,
   "id": "42e3ac38",
   "metadata": {},
   "outputs": [
    {
     "data": {
      "text/plain": [
       "'56789'"
      ]
     },
     "execution_count": 57,
     "metadata": {},
     "output_type": "execute_result"
    }
   ],
   "source": [
    "str(56789)"
   ]
  },
  {
   "cell_type": "code",
   "execution_count": null,
   "id": "13c6f3ce",
   "metadata": {},
   "outputs": [],
   "source": []
  }
 ],
 "metadata": {
  "kernelspec": {
   "display_name": "Python 3 (ipykernel)",
   "language": "python",
   "name": "python3"
  },
  "language_info": {
   "codemirror_mode": {
    "name": "ipython",
    "version": 3
   },
   "file_extension": ".py",
   "mimetype": "text/x-python",
   "name": "python",
   "nbconvert_exporter": "python",
   "pygments_lexer": "ipython3",
   "version": "3.9.5"
  }
 },
 "nbformat": 4,
 "nbformat_minor": 5
}
