{
 "cells": [
  {
   "cell_type": "code",
   "execution_count": 18,
   "id": "948d10fe",
   "metadata": {},
   "outputs": [
    {
     "ename": "TypeError",
     "evalue": "unhashable type: 'set'",
     "output_type": "error",
     "traceback": [
      "\u001b[0;31m---------------------------------------------------------------------------\u001b[0m",
      "\u001b[0;31mTypeError\u001b[0m                                 Traceback (most recent call last)",
      "\u001b[0;32m/var/folders/nn/c52y0d3j0gq59dpsswchkt2r0000gn/T/ipykernel_58544/3580191993.py\u001b[0m in \u001b[0;36m<module>\u001b[0;34m\u001b[0m\n\u001b[0;32m----> 1\u001b[0;31m \u001b[0ma\u001b[0m \u001b[0;34m=\u001b[0m \u001b[0;34m{\u001b[0m\u001b[0;34m{\u001b[0m\u001b[0;36m1\u001b[0m\u001b[0;34m,\u001b[0m\u001b[0;36m2\u001b[0m\u001b[0;34m,\u001b[0m\u001b[0;36m3\u001b[0m\u001b[0;34m,\u001b[0m\u001b[0;36m4\u001b[0m\u001b[0;34m,\u001b[0m\u001b[0;36m5\u001b[0m\u001b[0;34m}\u001b[0m\u001b[0;34m}\u001b[0m \u001b[0;31m# sets can't have sets, lists and dictionaries within it\u001b[0m\u001b[0;34m\u001b[0m\u001b[0;34m\u001b[0m\u001b[0m\n\u001b[0m",
      "\u001b[0;31mTypeError\u001b[0m: unhashable type: 'set'"
     ]
    }
   ],
   "source": [
    "a = {{1,2,3,4,5}} # sets can't have sets, lists and dictionaries within it"
   ]
  },
  {
   "cell_type": "code",
   "execution_count": 19,
   "id": "d3e561ce",
   "metadata": {},
   "outputs": [],
   "source": [
    "a = [[1,2], [3,4], (4,5)]"
   ]
  },
  {
   "cell_type": "code",
   "execution_count": 20,
   "id": "82baa0c4",
   "metadata": {},
   "outputs": [
    {
     "data": {
      "text/plain": [
       "[3, 4]"
      ]
     },
     "execution_count": 20,
     "metadata": {},
     "output_type": "execute_result"
    }
   ],
   "source": [
    "a[1]"
   ]
  },
  {
   "cell_type": "code",
   "execution_count": 21,
   "id": "c90f42ff",
   "metadata": {},
   "outputs": [],
   "source": [
    "a, b = a[1]"
   ]
  },
  {
   "cell_type": "code",
   "execution_count": 22,
   "id": "6ffb0948",
   "metadata": {},
   "outputs": [
    {
     "data": {
      "text/plain": [
       "3"
      ]
     },
     "execution_count": 22,
     "metadata": {},
     "output_type": "execute_result"
    }
   ],
   "source": [
    "a"
   ]
  },
  {
   "cell_type": "code",
   "execution_count": 23,
   "id": "6d0b01ee",
   "metadata": {},
   "outputs": [
    {
     "data": {
      "text/plain": [
       "4"
      ]
     },
     "execution_count": 23,
     "metadata": {},
     "output_type": "execute_result"
    }
   ],
   "source": [
    "b"
   ]
  },
  {
   "cell_type": "code",
   "execution_count": 24,
   "id": "a5d7e022",
   "metadata": {},
   "outputs": [],
   "source": [
    "s1 = {1,2,3}\n",
    "s2 = {2,3,4,5}\n",
    "\n",
    "result = s1 & s2 - s2"
   ]
  },
  {
   "cell_type": "code",
   "execution_count": 26,
   "id": "70408514",
   "metadata": {},
   "outputs": [
    {
     "data": {
      "text/plain": [
       "set()"
      ]
     },
     "execution_count": 26,
     "metadata": {},
     "output_type": "execute_result"
    }
   ],
   "source": [
    "result"
   ]
  },
  {
   "cell_type": "markdown",
   "id": "dc7fc095",
   "metadata": {},
   "source": [
    "# Dictionaries"
   ]
  },
  {
   "cell_type": "code",
   "execution_count": 27,
   "id": "4064611e",
   "metadata": {},
   "outputs": [],
   "source": [
    "a = {\n",
    "    \"random\": \"something which is not well defined!\",\n",
    "    \"bizzare\": \"Ajeeb!\",\n",
    "    \"ship\": \"sea transportation\"\n",
    "}"
   ]
  },
  {
   "cell_type": "code",
   "execution_count": 28,
   "id": "a7debfcc",
   "metadata": {},
   "outputs": [],
   "source": [
    "state_wise_data = {\n",
    "    \"Delhi\": 450,\n",
    "    \"Haryana\": 400,\n",
    "    \"UP\": 700\n",
    "}"
   ]
  },
  {
   "cell_type": "code",
   "execution_count": 29,
   "id": "91bb1d01",
   "metadata": {},
   "outputs": [],
   "source": [
    "state_wise_data = [(\"Delhi\", 450), (\"Haryana\", 400)]"
   ]
  },
  {
   "cell_type": "code",
   "execution_count": 31,
   "id": "a33149db",
   "metadata": {},
   "outputs": [
    {
     "data": {
      "text/plain": [
       "('Haryana', 400)"
      ]
     },
     "execution_count": 31,
     "metadata": {},
     "output_type": "execute_result"
    }
   ],
   "source": [
    "state_wise_data[1]"
   ]
  },
  {
   "cell_type": "code",
   "execution_count": 32,
   "id": "11b6391d",
   "metadata": {},
   "outputs": [],
   "source": [
    "state_wise_data = {\n",
    "    \"Delhi\": 450,\n",
    "    \"Haryana\": 400,\n",
    "    \"UP\": 700\n",
    "}"
   ]
  },
  {
   "cell_type": "code",
   "execution_count": 33,
   "id": "b410e0cb",
   "metadata": {},
   "outputs": [
    {
     "data": {
      "text/plain": [
       "450"
      ]
     },
     "execution_count": 33,
     "metadata": {},
     "output_type": "execute_result"
    }
   ],
   "source": [
    "state_wise_data[\"Delhi\"]"
   ]
  },
  {
   "cell_type": "code",
   "execution_count": 57,
   "id": "68a47bcd",
   "metadata": {},
   "outputs": [
    {
     "ename": "KeyError",
     "evalue": "0",
     "output_type": "error",
     "traceback": [
      "\u001b[0;31m---------------------------------------------------------------------------\u001b[0m",
      "\u001b[0;31mKeyError\u001b[0m                                  Traceback (most recent call last)",
      "\u001b[0;32m/var/folders/nn/c52y0d3j0gq59dpsswchkt2r0000gn/T/ipykernel_58544/4074872814.py\u001b[0m in \u001b[0;36m<module>\u001b[0;34m\u001b[0m\n\u001b[0;32m----> 1\u001b[0;31m \u001b[0mstate_wise_data\u001b[0m\u001b[0;34m[\u001b[0m\u001b[0;36m0\u001b[0m\u001b[0;34m]\u001b[0m\u001b[0;34m\u001b[0m\u001b[0;34m\u001b[0m\u001b[0m\n\u001b[0m",
      "\u001b[0;31mKeyError\u001b[0m: 0"
     ]
    }
   ],
   "source": [
    "state_wise_data[0]"
   ]
  },
  {
   "cell_type": "code",
   "execution_count": 34,
   "id": "673fbe5c",
   "metadata": {},
   "outputs": [
    {
     "data": {
      "text/plain": [
       "400"
      ]
     },
     "execution_count": 34,
     "metadata": {},
     "output_type": "execute_result"
    }
   ],
   "source": [
    "state_wise_data[\"Haryana\"]"
   ]
  },
  {
   "cell_type": "code",
   "execution_count": 36,
   "id": "76c4777b",
   "metadata": {},
   "outputs": [],
   "source": [
    "# Till python < 3.7 -> Dictionaries were unordered!\n",
    "# After 3.7 -> Dictionaries ordered!"
   ]
  },
  {
   "cell_type": "code",
   "execution_count": 37,
   "id": "aa15a3ff",
   "metadata": {},
   "outputs": [
    {
     "ename": "KeyError",
     "evalue": "0",
     "output_type": "error",
     "traceback": [
      "\u001b[0;31m---------------------------------------------------------------------------\u001b[0m",
      "\u001b[0;31mKeyError\u001b[0m                                  Traceback (most recent call last)",
      "\u001b[0;32m/var/folders/nn/c52y0d3j0gq59dpsswchkt2r0000gn/T/ipykernel_58544/4074872814.py\u001b[0m in \u001b[0;36m<module>\u001b[0;34m\u001b[0m\n\u001b[0;32m----> 1\u001b[0;31m \u001b[0mstate_wise_data\u001b[0m\u001b[0;34m[\u001b[0m\u001b[0;36m0\u001b[0m\u001b[0;34m]\u001b[0m\u001b[0;34m\u001b[0m\u001b[0;34m\u001b[0m\u001b[0m\n\u001b[0m",
      "\u001b[0;31mKeyError\u001b[0m: 0"
     ]
    }
   ],
   "source": [
    "state_wise_data[0]"
   ]
  },
  {
   "cell_type": "code",
   "execution_count": 38,
   "id": "8696b075",
   "metadata": {},
   "outputs": [
    {
     "name": "stdout",
     "output_type": "stream",
     "text": [
      "<class 'dict'>\n"
     ]
    }
   ],
   "source": [
    "a = {}\n",
    "print(type(a))"
   ]
  },
  {
   "cell_type": "code",
   "execution_count": 39,
   "id": "aa885b00",
   "metadata": {},
   "outputs": [],
   "source": [
    "a = set()"
   ]
  },
  {
   "cell_type": "code",
   "execution_count": 40,
   "id": "107beded",
   "metadata": {},
   "outputs": [],
   "source": [
    "a = {\n",
    "    \"Delhi\": 450,\n",
    "    \"Haryana\": 400,\n",
    "    \"UP\": 700\n",
    "}"
   ]
  },
  {
   "cell_type": "code",
   "execution_count": 47,
   "id": "177dc3d4",
   "metadata": {},
   "outputs": [],
   "source": [
    "a[\"Delhi\"] = 500 # update an existing key value pair"
   ]
  },
  {
   "cell_type": "code",
   "execution_count": 48,
   "id": "27bcd1a4",
   "metadata": {},
   "outputs": [
    {
     "data": {
      "text/plain": [
       "{'Delhi': 500, 'Haryana': 400, 'UP': 700, 'delhi': 600}"
      ]
     },
     "execution_count": 48,
     "metadata": {},
     "output_type": "execute_result"
    }
   ],
   "source": [
    "a"
   ]
  },
  {
   "cell_type": "code",
   "execution_count": 49,
   "id": "e4501414",
   "metadata": {},
   "outputs": [],
   "source": [
    "a[\"delhi\"] = 600 # add new key value pair to dict"
   ]
  },
  {
   "cell_type": "code",
   "execution_count": 50,
   "id": "9f4e5611",
   "metadata": {},
   "outputs": [
    {
     "data": {
      "text/plain": [
       "{'Delhi': 500, 'Haryana': 400, 'UP': 700, 'delhi': 600}"
      ]
     },
     "execution_count": 50,
     "metadata": {},
     "output_type": "execute_result"
    }
   ],
   "source": [
    "a"
   ]
  },
  {
   "cell_type": "code",
   "execution_count": 54,
   "id": "7c74d455",
   "metadata": {},
   "outputs": [],
   "source": [
    "Avenger = {\n",
    "    \"name\": \"Thor\",\n",
    "    \"age\": 1500,\n",
    "    \"weapon\": [\"mjolnir\", \"stormbreaker\"]\n",
    "}"
   ]
  },
  {
   "cell_type": "code",
   "execution_count": 55,
   "id": "553b8c44",
   "metadata": {},
   "outputs": [],
   "source": [
    "Avenger.update({\n",
    "    \"name\": \"Thor Odinson\",\n",
    "    \"weapon\": [\"stormbreaker\"],\n",
    "    \"strongest?\": True,\n",
    "    \"eyes\": 1\n",
    "})"
   ]
  },
  {
   "cell_type": "code",
   "execution_count": 56,
   "id": "96956b14",
   "metadata": {},
   "outputs": [
    {
     "data": {
      "text/plain": [
       "{'name': 'Thor Odinson',\n",
       " 'age': 1500,\n",
       " 'weapon': ['stormbreaker'],\n",
       " 'strongest?': True,\n",
       " 'eyes': 1}"
      ]
     },
     "execution_count": 56,
     "metadata": {},
     "output_type": "execute_result"
    }
   ],
   "source": [
    "Avenger"
   ]
  },
  {
   "cell_type": "code",
   "execution_count": 65,
   "id": "8c84a303",
   "metadata": {},
   "outputs": [],
   "source": [
    "random = {\n",
    "    \"a\": 1,\n",
    "    \"b\": 2,\n",
    "    \"c\": 3,\n",
    "    \"d\": None\n",
    "}"
   ]
  },
  {
   "cell_type": "code",
   "execution_count": 66,
   "id": "66a64074",
   "metadata": {},
   "outputs": [],
   "source": [
    "random[\"d\"]"
   ]
  },
  {
   "cell_type": "code",
   "execution_count": 67,
   "id": "b5aef43a",
   "metadata": {},
   "outputs": [],
   "source": [
    "result = random.get(\"d\")"
   ]
  },
  {
   "cell_type": "code",
   "execution_count": 68,
   "id": "c91fb4f6",
   "metadata": {},
   "outputs": [
    {
     "name": "stdout",
     "output_type": "stream",
     "text": [
      "None\n"
     ]
    }
   ],
   "source": [
    "print(result)"
   ]
  },
  {
   "cell_type": "code",
   "execution_count": 69,
   "id": "883187d0",
   "metadata": {},
   "outputs": [],
   "source": [
    "result = random.get(\"d\", \"Not Found\")"
   ]
  },
  {
   "cell_type": "code",
   "execution_count": 70,
   "id": "9d9c8d41",
   "metadata": {},
   "outputs": [],
   "source": [
    "result"
   ]
  },
  {
   "cell_type": "code",
   "execution_count": 71,
   "id": "ec153a17",
   "metadata": {},
   "outputs": [],
   "source": [
    "random.pop(\"d\")"
   ]
  },
  {
   "cell_type": "code",
   "execution_count": 72,
   "id": "758fa624",
   "metadata": {},
   "outputs": [
    {
     "data": {
      "text/plain": [
       "{'a': 1, 'b': 2, 'c': 3}"
      ]
     },
     "execution_count": 72,
     "metadata": {},
     "output_type": "execute_result"
    }
   ],
   "source": [
    "random"
   ]
  },
  {
   "cell_type": "code",
   "execution_count": 73,
   "id": "4189d509",
   "metadata": {},
   "outputs": [
    {
     "data": {
      "text/plain": [
       "2"
      ]
     },
     "execution_count": 73,
     "metadata": {},
     "output_type": "execute_result"
    }
   ],
   "source": [
    "random.pop(\"b\")"
   ]
  },
  {
   "cell_type": "code",
   "execution_count": 74,
   "id": "3c04ba0a",
   "metadata": {},
   "outputs": [
    {
     "data": {
      "text/plain": [
       "{'a': 1, 'c': 3}"
      ]
     },
     "execution_count": 74,
     "metadata": {},
     "output_type": "execute_result"
    }
   ],
   "source": [
    "random"
   ]
  },
  {
   "cell_type": "code",
   "execution_count": 75,
   "id": "27c79a31",
   "metadata": {},
   "outputs": [
    {
     "ename": "TypeError",
     "evalue": "pop expected at least 1 argument, got 0",
     "output_type": "error",
     "traceback": [
      "\u001b[0;31m---------------------------------------------------------------------------\u001b[0m",
      "\u001b[0;31mTypeError\u001b[0m                                 Traceback (most recent call last)",
      "\u001b[0;32m/var/folders/nn/c52y0d3j0gq59dpsswchkt2r0000gn/T/ipykernel_58544/1396421673.py\u001b[0m in \u001b[0;36m<module>\u001b[0;34m\u001b[0m\n\u001b[0;32m----> 1\u001b[0;31m \u001b[0mrandom\u001b[0m\u001b[0;34m.\u001b[0m\u001b[0mpop\u001b[0m\u001b[0;34m(\u001b[0m\u001b[0;34m)\u001b[0m\u001b[0;34m\u001b[0m\u001b[0;34m\u001b[0m\u001b[0m\n\u001b[0m",
      "\u001b[0;31mTypeError\u001b[0m: pop expected at least 1 argument, got 0"
     ]
    }
   ],
   "source": [
    "random.pop()"
   ]
  },
  {
   "cell_type": "code",
   "execution_count": 76,
   "id": "efe8d77e",
   "metadata": {},
   "outputs": [],
   "source": [
    "a = {\n",
    "    \"sad\": \"bad emotion\",\n",
    "    \"low\": \"bad emotion\",\n",
    "    \"grief\": \"bad emotion\",\n",
    "    \"unhappy\": \"bad emotion\"\n",
    "}"
   ]
  },
  {
   "cell_type": "code",
   "execution_count": 77,
   "id": "09bcccef",
   "metadata": {},
   "outputs": [
    {
     "data": {
      "text/plain": [
       "'bad emotion'"
      ]
     },
     "execution_count": 77,
     "metadata": {},
     "output_type": "execute_result"
    }
   ],
   "source": [
    "a.pop(\"unhappy\")"
   ]
  },
  {
   "cell_type": "code",
   "execution_count": 78,
   "id": "94ca12db",
   "metadata": {},
   "outputs": [
    {
     "data": {
      "text/plain": [
       "{'sad': 'bad emotion', 'low': 'bad emotion', 'grief': 'bad emotion'}"
      ]
     },
     "execution_count": 78,
     "metadata": {},
     "output_type": "execute_result"
    }
   ],
   "source": [
    "a"
   ]
  },
  {
   "cell_type": "code",
   "execution_count": 79,
   "id": "9d269da1",
   "metadata": {},
   "outputs": [
    {
     "ename": "TypeError",
     "evalue": "pop expected at least 1 argument, got 0",
     "output_type": "error",
     "traceback": [
      "\u001b[0;31m---------------------------------------------------------------------------\u001b[0m",
      "\u001b[0;31mTypeError\u001b[0m                                 Traceback (most recent call last)",
      "\u001b[0;32m/var/folders/nn/c52y0d3j0gq59dpsswchkt2r0000gn/T/ipykernel_58544/3178909854.py\u001b[0m in \u001b[0;36m<module>\u001b[0;34m\u001b[0m\n\u001b[0;32m----> 1\u001b[0;31m \u001b[0ma\u001b[0m\u001b[0;34m.\u001b[0m\u001b[0mpop\u001b[0m\u001b[0;34m(\u001b[0m\u001b[0;34m)\u001b[0m\u001b[0;34m\u001b[0m\u001b[0;34m\u001b[0m\u001b[0m\n\u001b[0m",
      "\u001b[0;31mTypeError\u001b[0m: pop expected at least 1 argument, got 0"
     ]
    }
   ],
   "source": [
    "a.pop()"
   ]
  },
  {
   "cell_type": "code",
   "execution_count": 80,
   "id": "2c238016",
   "metadata": {},
   "outputs": [],
   "source": [
    "a = \"fgdshfhds\""
   ]
  },
  {
   "cell_type": "code",
   "execution_count": 81,
   "id": "8fc40c20",
   "metadata": {},
   "outputs": [
    {
     "ename": "KeyError",
     "evalue": "0",
     "output_type": "error",
     "traceback": [
      "\u001b[0;31m---------------------------------------------------------------------------\u001b[0m",
      "\u001b[0;31mKeyError\u001b[0m                                  Traceback (most recent call last)",
      "\u001b[0;32m/var/folders/nn/c52y0d3j0gq59dpsswchkt2r0000gn/T/ipykernel_58544/497197780.py\u001b[0m in \u001b[0;36m<module>\u001b[0;34m\u001b[0m\n\u001b[0;32m----> 1\u001b[0;31m \u001b[0mAvenger\u001b[0m\u001b[0;34m[\u001b[0m\u001b[0;36m0\u001b[0m\u001b[0;34m]\u001b[0m\u001b[0;34m\u001b[0m\u001b[0;34m\u001b[0m\u001b[0m\n\u001b[0m",
      "\u001b[0;31mKeyError\u001b[0m: 0"
     ]
    }
   ],
   "source": [
    "Avenger[0]"
   ]
  },
  {
   "cell_type": "code",
   "execution_count": 83,
   "id": "bce979d2",
   "metadata": {},
   "outputs": [
    {
     "data": {
      "text/plain": [
       "{'name': 'Thor Odinson',\n",
       " 'age': 1500,\n",
       " 'weapon': ['stormbreaker'],\n",
       " 'strongest?': True,\n",
       " 'eyes': 1}"
      ]
     },
     "execution_count": 83,
     "metadata": {},
     "output_type": "execute_result"
    }
   ],
   "source": [
    "Avenger"
   ]
  },
  {
   "cell_type": "code",
   "execution_count": 85,
   "id": "40b298a0",
   "metadata": {},
   "outputs": [
    {
     "data": {
      "text/plain": [
       "1"
      ]
     },
     "execution_count": 85,
     "metadata": {},
     "output_type": "execute_result"
    }
   ],
   "source": [
    "Avenger.pop(\"eyes\")"
   ]
  },
  {
   "cell_type": "code",
   "execution_count": 86,
   "id": "2f32e123",
   "metadata": {},
   "outputs": [
    {
     "data": {
      "text/plain": [
       "{'name': 'Thor Odinson',\n",
       " 'age': 1500,\n",
       " 'weapon': ['stormbreaker'],\n",
       " 'strongest?': True}"
      ]
     },
     "execution_count": 86,
     "metadata": {},
     "output_type": "execute_result"
    }
   ],
   "source": [
    "Avenger"
   ]
  },
  {
   "cell_type": "code",
   "execution_count": 87,
   "id": "91db797d",
   "metadata": {},
   "outputs": [],
   "source": [
    "a = {\n",
    "    'name': 'Thor Odinson',\n",
    "    'age': 1500,\n",
    "    'weapon': ['stormbreaker'],\n",
    "    'strongest?': True,\n",
    "    'eyes': 1\n",
    "}"
   ]
  },
  {
   "cell_type": "code",
   "execution_count": 88,
   "id": "84af5091",
   "metadata": {},
   "outputs": [
    {
     "name": "stdout",
     "output_type": "stream",
     "text": [
      "name\n",
      "age\n",
      "weapon\n",
      "strongest?\n",
      "eyes\n"
     ]
    }
   ],
   "source": [
    "for i in a:\n",
    "    print(i)"
   ]
  },
  {
   "cell_type": "code",
   "execution_count": 89,
   "id": "2a3b0659",
   "metadata": {},
   "outputs": [
    {
     "name": "stdout",
     "output_type": "stream",
     "text": [
      "Thor Odinson\n",
      "1500\n",
      "['stormbreaker']\n",
      "True\n",
      "1\n"
     ]
    }
   ],
   "source": [
    "for i in a:\n",
    "    print(a[i])"
   ]
  },
  {
   "cell_type": "code",
   "execution_count": 90,
   "id": "a7e4b421",
   "metadata": {},
   "outputs": [
    {
     "name": "stdout",
     "output_type": "stream",
     "text": [
      "name -> Thor Odinson\n",
      "age -> 1500\n",
      "weapon -> ['stormbreaker']\n",
      "strongest? -> True\n",
      "eyes -> 1\n"
     ]
    }
   ],
   "source": [
    "for i in a:\n",
    "    print(f\"{i} -> {a[i]}\")"
   ]
  },
  {
   "cell_type": "code",
   "execution_count": 98,
   "id": "e5190b3e",
   "metadata": {},
   "outputs": [
    {
     "data": {
      "text/plain": [
       "['name', 'age', 'weapon', 'strongest?']"
      ]
     },
     "execution_count": 98,
     "metadata": {},
     "output_type": "execute_result"
    }
   ],
   "source": [
    "list(Avenger.keys()) # list of all keys"
   ]
  },
  {
   "cell_type": "code",
   "execution_count": 92,
   "id": "c9936ec2",
   "metadata": {},
   "outputs": [
    {
     "data": {
      "text/plain": [
       "dict_values(['Thor Odinson', 1500, ['stormbreaker'], True])"
      ]
     },
     "execution_count": 92,
     "metadata": {},
     "output_type": "execute_result"
    }
   ],
   "source": [
    "Avenger.values() # list of all values"
   ]
  },
  {
   "cell_type": "code",
   "execution_count": 94,
   "id": "63261a64",
   "metadata": {},
   "outputs": [
    {
     "data": {
      "text/plain": [
       "dict_items([('name', 'Thor Odinson'), ('age', 1500), ('weapon', ['stormbreaker']), ('strongest?', True)])"
      ]
     },
     "execution_count": 94,
     "metadata": {},
     "output_type": "execute_result"
    }
   ],
   "source": [
    "Avenger.items() # list of all key value pairs as tuples"
   ]
  },
  {
   "cell_type": "code",
   "execution_count": 97,
   "id": "aa804479",
   "metadata": {},
   "outputs": [
    {
     "data": {
      "text/plain": [
       "list"
      ]
     },
     "execution_count": 97,
     "metadata": {},
     "output_type": "execute_result"
    }
   ],
   "source": [
    "type(list(Avenger.keys()))"
   ]
  },
  {
   "cell_type": "code",
   "execution_count": 99,
   "id": "027b6818",
   "metadata": {},
   "outputs": [
    {
     "name": "stdout",
     "output_type": "stream",
     "text": [
      "name\n",
      "age\n",
      "weapon\n",
      "strongest?\n"
     ]
    }
   ],
   "source": [
    "for i in Avenger.keys():\n",
    "    print(i)"
   ]
  },
  {
   "cell_type": "code",
   "execution_count": 100,
   "id": "7de739eb",
   "metadata": {},
   "outputs": [
    {
     "name": "stdout",
     "output_type": "stream",
     "text": [
      "Thor Odinson\n",
      "1500\n",
      "['stormbreaker']\n",
      "True\n"
     ]
    }
   ],
   "source": [
    "for i in Avenger.values():\n",
    "    print(i)"
   ]
  },
  {
   "cell_type": "code",
   "execution_count": 101,
   "id": "d5c88215",
   "metadata": {},
   "outputs": [
    {
     "name": "stdout",
     "output_type": "stream",
     "text": [
      "('name', 'Thor Odinson')\n",
      "('age', 1500)\n",
      "('weapon', ['stormbreaker'])\n",
      "('strongest?', True)\n"
     ]
    }
   ],
   "source": [
    "for i in Avenger.items():\n",
    "    print(i)"
   ]
  },
  {
   "cell_type": "code",
   "execution_count": 102,
   "id": "904b34c5",
   "metadata": {},
   "outputs": [
    {
     "name": "stdout",
     "output_type": "stream",
     "text": [
      "name -> Thor Odinson\n",
      "age -> 1500\n",
      "weapon -> ['stormbreaker']\n",
      "strongest? -> True\n"
     ]
    }
   ],
   "source": [
    "for key, value in Avenger.items():\n",
    "    print(f\"{key} -> {value}\")"
   ]
  },
  {
   "cell_type": "code",
   "execution_count": 104,
   "id": "c8f3865b",
   "metadata": {},
   "outputs": [
    {
     "data": {
      "text/plain": [
       "dict_keys(['name', 'age', 'weapon', 'strongest?'])"
      ]
     },
     "execution_count": 104,
     "metadata": {},
     "output_type": "execute_result"
    }
   ],
   "source": [
    "Avenger.keys()"
   ]
  },
  {
   "cell_type": "code",
   "execution_count": 105,
   "id": "e4d0ee94",
   "metadata": {},
   "outputs": [],
   "source": [
    "a = [1,2,3,4,5]"
   ]
  },
  {
   "cell_type": "code",
   "execution_count": 106,
   "id": "f172536c",
   "metadata": {},
   "outputs": [
    {
     "data": {
      "text/plain": [
       "False"
      ]
     },
     "execution_count": 106,
     "metadata": {},
     "output_type": "execute_result"
    }
   ],
   "source": [
    "6 in a"
   ]
  },
  {
   "cell_type": "code",
   "execution_count": 107,
   "id": "f4e0da3b",
   "metadata": {},
   "outputs": [
    {
     "data": {
      "text/plain": [
       "False"
      ]
     },
     "execution_count": 107,
     "metadata": {},
     "output_type": "execute_result"
    }
   ],
   "source": [
    "\"eyes\" in Avenger.keys()"
   ]
  },
  {
   "cell_type": "code",
   "execution_count": 108,
   "id": "b5e657e3",
   "metadata": {},
   "outputs": [
    {
     "data": {
      "text/plain": [
       "True"
      ]
     },
     "execution_count": 108,
     "metadata": {},
     "output_type": "execute_result"
    }
   ],
   "source": [
    "\"name\" in Avenger.keys()"
   ]
  },
  {
   "cell_type": "code",
   "execution_count": 109,
   "id": "7549d53a",
   "metadata": {},
   "outputs": [],
   "source": [
    "# We can't have sets, dictionaries and list as elements of a set\n",
    "# BECAUSE THEY ARE MUTABLE -> UNHASHABLE"
   ]
  },
  {
   "cell_type": "code",
   "execution_count": 110,
   "id": "8d9fdbd3",
   "metadata": {},
   "outputs": [
    {
     "data": {
      "text/plain": [
       "'\\nDictionaries - \\n1. Values - Any Data Structure or Data Type\\n2. Keys - Lists, Sets and Dictionaries are not allowed\\n'"
      ]
     },
     "execution_count": 110,
     "metadata": {},
     "output_type": "execute_result"
    }
   ],
   "source": [
    "'''\n",
    "Dictionaries - \n",
    "1. Values - Any Data Structure or Data Type\n",
    "2. Keys - Lists, Sets and Dictionaries are not allowed\n",
    "'''"
   ]
  },
  {
   "cell_type": "code",
   "execution_count": 111,
   "id": "598e261a",
   "metadata": {},
   "outputs": [],
   "source": [
    "random = {\n",
    "    \"key1\": [45,56,78],\n",
    "    \"key2\": {\n",
    "        \"key3\": (1,2,3)\n",
    "    },\n",
    "    45: \"value3\",\n",
    "    56.78: \"678\",\n",
    "    (1,2,3): \"random value\"\n",
    "}"
   ]
  },
  {
   "cell_type": "code",
   "execution_count": 112,
   "id": "91d8090a",
   "metadata": {},
   "outputs": [
    {
     "data": {
      "text/plain": [
       "'random value'"
      ]
     },
     "execution_count": 112,
     "metadata": {},
     "output_type": "execute_result"
    }
   ],
   "source": [
    "random[(1,2,3)]"
   ]
  },
  {
   "cell_type": "code",
   "execution_count": 113,
   "id": "d4e7b059",
   "metadata": {},
   "outputs": [
    {
     "ename": "TypeError",
     "evalue": "unhashable type: 'list'",
     "output_type": "error",
     "traceback": [
      "\u001b[0;31m---------------------------------------------------------------------------\u001b[0m",
      "\u001b[0;31mTypeError\u001b[0m                                 Traceback (most recent call last)",
      "\u001b[0;32m/var/folders/nn/c52y0d3j0gq59dpsswchkt2r0000gn/T/ipykernel_58544/2532296523.py\u001b[0m in \u001b[0;36m<module>\u001b[0;34m\u001b[0m\n\u001b[0;32m----> 1\u001b[0;31m random = {\n\u001b[0m\u001b[1;32m      2\u001b[0m     \u001b[0;34m\"key1\"\u001b[0m\u001b[0;34m:\u001b[0m \u001b[0;34m[\u001b[0m\u001b[0;36m45\u001b[0m\u001b[0;34m,\u001b[0m\u001b[0;36m56\u001b[0m\u001b[0;34m,\u001b[0m\u001b[0;36m78\u001b[0m\u001b[0;34m]\u001b[0m\u001b[0;34m,\u001b[0m\u001b[0;34m\u001b[0m\u001b[0;34m\u001b[0m\u001b[0m\n\u001b[1;32m      3\u001b[0m     \"key2\": {\n\u001b[1;32m      4\u001b[0m         \u001b[0;34m\"key3\"\u001b[0m\u001b[0;34m:\u001b[0m \u001b[0;34m(\u001b[0m\u001b[0;36m1\u001b[0m\u001b[0;34m,\u001b[0m\u001b[0;36m2\u001b[0m\u001b[0;34m,\u001b[0m\u001b[0;36m3\u001b[0m\u001b[0;34m)\u001b[0m\u001b[0;34m\u001b[0m\u001b[0;34m\u001b[0m\u001b[0m\n\u001b[1;32m      5\u001b[0m     },\n",
      "\u001b[0;31mTypeError\u001b[0m: unhashable type: 'list'"
     ]
    }
   ],
   "source": [
    "random = {\n",
    "    \"key1\": [45,56,78],\n",
    "    \"key2\": {\n",
    "        \"key3\": (1,2,3)\n",
    "    },\n",
    "    45: \"value3\",\n",
    "    56.78: \"678\",\n",
    "    [1,2,3]: \"random value\"\n",
    "}"
   ]
  },
  {
   "cell_type": "code",
   "execution_count": 116,
   "id": "05ff8afa",
   "metadata": {},
   "outputs": [
    {
     "data": {
      "text/plain": [
       "'\\nQuestion - \\n1. Take a string as input.\\n2. Create a dictionary acc to the following criteria - \\n- There will be one key value pair for each unique character - \\n- Key will be character and value will be the count of character inside the list\\n\\nINPUT - \"rrsssstttt\"\\nOUTPUT -\\n{\\n    \"r\": 2,\\n    \"s\": 4,\\n    \"t\": 4\\n}\\n'"
      ]
     },
     "execution_count": 116,
     "metadata": {},
     "output_type": "execute_result"
    }
   ],
   "source": [
    "'''\n",
    "Question - \n",
    "1. Take a string as input.\n",
    "2. Create a dictionary acc to the following criteria - \n",
    "- There will be one key value pair for each unique character - \n",
    "- Key will be character and value will be the count of character inside the list\n",
    "\n",
    "INPUT - \"rrsssstttt\"\n",
    "OUTPUT -\n",
    "{\n",
    "    \"r\": 2,\n",
    "    \"s\": 4,\n",
    "    \"t\": 4\n",
    "}\n",
    "'''"
   ]
  },
  {
   "cell_type": "code",
   "execution_count": 117,
   "id": "8889bfee",
   "metadata": {},
   "outputs": [],
   "source": [
    "string = \"this is a random string with various characters\""
   ]
  },
  {
   "cell_type": "code",
   "execution_count": 118,
   "id": "332074d2",
   "metadata": {},
   "outputs": [
    {
     "data": {
      "text/plain": [
       "{' ',\n",
       " 'a',\n",
       " 'c',\n",
       " 'd',\n",
       " 'e',\n",
       " 'g',\n",
       " 'h',\n",
       " 'i',\n",
       " 'm',\n",
       " 'n',\n",
       " 'o',\n",
       " 'r',\n",
       " 's',\n",
       " 't',\n",
       " 'u',\n",
       " 'v',\n",
       " 'w'}"
      ]
     },
     "execution_count": 118,
     "metadata": {},
     "output_type": "execute_result"
    }
   ],
   "source": [
    "set(string)"
   ]
  },
  {
   "cell_type": "code",
   "execution_count": 119,
   "id": "adcbeca9",
   "metadata": {},
   "outputs": [],
   "source": [
    "result = {}\n",
    "\n",
    "for i in set(string):\n",
    "    result[i] = string.count(i)"
   ]
  },
  {
   "cell_type": "code",
   "execution_count": 120,
   "id": "98c8a6df",
   "metadata": {},
   "outputs": [
    {
     "data": {
      "text/plain": [
       "{'g': 1,\n",
       " 'w': 1,\n",
       " 'd': 1,\n",
       " 'e': 1,\n",
       " ' ': 7,\n",
       " 'n': 2,\n",
       " 's': 5,\n",
       " 'c': 2,\n",
       " 'r': 5,\n",
       " 't': 4,\n",
       " 'i': 5,\n",
       " 'm': 1,\n",
       " 'u': 1,\n",
       " 'o': 2,\n",
       " 'v': 1,\n",
       " 'a': 5,\n",
       " 'h': 3}"
      ]
     },
     "execution_count": 120,
     "metadata": {},
     "output_type": "execute_result"
    }
   ],
   "source": [
    "result"
   ]
  },
  {
   "cell_type": "code",
   "execution_count": 123,
   "id": "6ca628db",
   "metadata": {},
   "outputs": [
    {
     "ename": "ValueError",
     "evalue": "dictionary update sequence element #0 has length 1; 2 is required",
     "output_type": "error",
     "traceback": [
      "\u001b[0;31m---------------------------------------------------------------------------\u001b[0m",
      "\u001b[0;31mValueError\u001b[0m                                Traceback (most recent call last)",
      "\u001b[0;32m/var/folders/nn/c52y0d3j0gq59dpsswchkt2r0000gn/T/ipykernel_58544/1513063361.py\u001b[0m in \u001b[0;36m<module>\u001b[0;34m\u001b[0m\n\u001b[0;32m----> 1\u001b[0;31m \u001b[0mdict\u001b[0m\u001b[0;34m(\u001b[0m\u001b[0mlist\u001b[0m\u001b[0;34m(\u001b[0m\u001b[0mstring\u001b[0m\u001b[0;34m)\u001b[0m\u001b[0;34m)\u001b[0m\u001b[0;34m\u001b[0m\u001b[0;34m\u001b[0m\u001b[0m\n\u001b[0m",
      "\u001b[0;31mValueError\u001b[0m: dictionary update sequence element #0 has length 1; 2 is required"
     ]
    }
   ],
   "source": [
    "dict(list(string))"
   ]
  },
  {
   "cell_type": "code",
   "execution_count": null,
   "id": "196afcff",
   "metadata": {},
   "outputs": [],
   "source": []
  }
 ],
 "metadata": {
  "kernelspec": {
   "display_name": "Python 3 (ipykernel)",
   "language": "python",
   "name": "python3"
  },
  "language_info": {
   "codemirror_mode": {
    "name": "ipython",
    "version": 3
   },
   "file_extension": ".py",
   "mimetype": "text/x-python",
   "name": "python",
   "nbconvert_exporter": "python",
   "pygments_lexer": "ipython3",
   "version": "3.9.5"
  }
 },
 "nbformat": 4,
 "nbformat_minor": 5
}
