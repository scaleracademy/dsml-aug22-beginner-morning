{
 "cells": [
  {
   "cell_type": "code",
   "execution_count": 2,
   "id": "ecdd0f37",
   "metadata": {},
   "outputs": [
    {
     "data": {
      "text/plain": [
       "0.0"
      ]
     },
     "execution_count": 2,
     "metadata": {},
     "output_type": "execute_result"
    }
   ],
   "source": [
    "0."
   ]
  },
  {
   "cell_type": "code",
   "execution_count": 3,
   "id": "6a059779",
   "metadata": {
    "scrolled": true
   },
   "outputs": [
    {
     "name": "stdout",
     "output_type": "stream",
     "text": [
      "Some random string\n"
     ]
    }
   ],
   "source": [
    "print(\"Some random string\")"
   ]
  },
  {
   "cell_type": "code",
   "execution_count": 8,
   "id": "74246947",
   "metadata": {
    "scrolled": false
   },
   "outputs": [
    {
     "name": "stdout",
     "output_type": "stream",
     "text": [
      "<class 'str'>\n"
     ]
    }
   ],
   "source": [
    "print(type(\"Some random string\"))"
   ]
  },
  {
   "cell_type": "code",
   "execution_count": 5,
   "id": "fd325624",
   "metadata": {},
   "outputs": [
    {
     "data": {
      "text/plain": [
       "int"
      ]
     },
     "execution_count": 5,
     "metadata": {},
     "output_type": "execute_result"
    }
   ],
   "source": [
    "type(45)"
   ]
  },
  {
   "cell_type": "code",
   "execution_count": 6,
   "id": "cef6ca02",
   "metadata": {},
   "outputs": [
    {
     "data": {
      "text/plain": [
       "float"
      ]
     },
     "execution_count": 6,
     "metadata": {},
     "output_type": "execute_result"
    }
   ],
   "source": [
    "type(67.8)"
   ]
  },
  {
   "cell_type": "code",
   "execution_count": 7,
   "id": "380ddafa",
   "metadata": {},
   "outputs": [
    {
     "data": {
      "text/plain": [
       "bool"
      ]
     },
     "execution_count": 7,
     "metadata": {},
     "output_type": "execute_result"
    }
   ],
   "source": [
    "type(True)"
   ]
  },
  {
   "cell_type": "code",
   "execution_count": 9,
   "id": "2492f698",
   "metadata": {
    "scrolled": true
   },
   "outputs": [
    {
     "name": "stdout",
     "output_type": "stream",
     "text": [
      "None\n"
     ]
    }
   ],
   "source": [
    "print(None)"
   ]
  },
  {
   "cell_type": "code",
   "execution_count": 11,
   "id": "067e9971",
   "metadata": {},
   "outputs": [
    {
     "name": "stdout",
     "output_type": "stream",
     "text": [
      "<class 'bool'>\n"
     ]
    }
   ],
   "source": [
    "print(type(True))"
   ]
  },
  {
   "cell_type": "code",
   "execution_count": 19,
   "id": "072994d6",
   "metadata": {},
   "outputs": [],
   "source": [
    "a = 3"
   ]
  },
  {
   "cell_type": "code",
   "execution_count": 20,
   "id": "5bce637d",
   "metadata": {},
   "outputs": [
    {
     "name": "stdout",
     "output_type": "stream",
     "text": [
      "3\n"
     ]
    }
   ],
   "source": [
    "print(a)"
   ]
  },
  {
   "cell_type": "code",
   "execution_count": 21,
   "id": "1d4cfb55",
   "metadata": {},
   "outputs": [],
   "source": [
    "b = 4"
   ]
  },
  {
   "cell_type": "code",
   "execution_count": 22,
   "id": "1a2b7717",
   "metadata": {},
   "outputs": [
    {
     "name": "stdout",
     "output_type": "stream",
     "text": [
      "7\n"
     ]
    }
   ],
   "source": [
    "print(a + b)"
   ]
  },
  {
   "cell_type": "code",
   "execution_count": 23,
   "id": "15e4ab84",
   "metadata": {},
   "outputs": [
    {
     "data": {
      "text/plain": [
       "int"
      ]
     },
     "execution_count": 23,
     "metadata": {},
     "output_type": "execute_result"
    }
   ],
   "source": [
    "type(a)"
   ]
  },
  {
   "cell_type": "code",
   "execution_count": 24,
   "id": "a71db01a",
   "metadata": {},
   "outputs": [],
   "source": [
    "a = None"
   ]
  },
  {
   "cell_type": "code",
   "execution_count": 26,
   "id": "3ee1b4b4",
   "metadata": {},
   "outputs": [
    {
     "name": "stdout",
     "output_type": "stream",
     "text": [
      "<class 'NoneType'>\n"
     ]
    }
   ],
   "source": [
    "print(type(a))"
   ]
  },
  {
   "cell_type": "markdown",
   "id": "4392539d",
   "metadata": {},
   "source": [
    "![nacho nacho](https://c.tenor.com/jRzqBWTvoQ8AAAAM/naatu-naatu-ramcharan.gif)"
   ]
  },
  {
   "cell_type": "code",
   "execution_count": 27,
   "id": "99224d40",
   "metadata": {},
   "outputs": [
    {
     "name": "stdout",
     "output_type": "stream",
     "text": [
      "5\n"
     ]
    }
   ],
   "source": [
    "x = 3\n",
    "x = 5\n",
    "print(x)"
   ]
  },
  {
   "cell_type": "code",
   "execution_count": 28,
   "id": "d958c24e",
   "metadata": {},
   "outputs": [
    {
     "name": "stdout",
     "output_type": "stream",
     "text": [
      "random\n"
     ]
    }
   ],
   "source": [
    "print(\"random\")"
   ]
  },
  {
   "cell_type": "code",
   "execution_count": 29,
   "id": "322056ad",
   "metadata": {},
   "outputs": [],
   "source": [
    "x = \"I am\"\n",
    "y = \"legend!\""
   ]
  },
  {
   "cell_type": "code",
   "execution_count": 32,
   "id": "d1f150bc",
   "metadata": {},
   "outputs": [
    {
     "name": "stdout",
     "output_type": "stream",
     "text": [
      "I am\n",
      "legend!\n"
     ]
    }
   ],
   "source": [
    "print(x)\n",
    "print(y)"
   ]
  },
  {
   "cell_type": "code",
   "execution_count": 37,
   "id": "be98c0d2",
   "metadata": {},
   "outputs": [
    {
     "name": "stdout",
     "output_type": "stream",
     "text": [
      "I am legend! 45 67 True\n"
     ]
    }
   ],
   "source": [
    "print(x, y, 45, 67, True)"
   ]
  },
  {
   "cell_type": "code",
   "execution_count": 38,
   "id": "e7a0a732",
   "metadata": {},
   "outputs": [
    {
     "name": "stdout",
     "output_type": "stream",
     "text": [
      "I am\n"
     ]
    }
   ],
   "source": [
    "print(x)"
   ]
  },
  {
   "cell_type": "code",
   "execution_count": 39,
   "id": "9603c6c5",
   "metadata": {},
   "outputs": [
    {
     "name": "stdout",
     "output_type": "stream",
     "text": [
      "I am legend 45 67 what?\n"
     ]
    }
   ],
   "source": [
    "print(\"I am\", 'legend', 45, 67, \"what?\")"
   ]
  },
  {
   "cell_type": "code",
   "execution_count": 40,
   "id": "da760fb5",
   "metadata": {},
   "outputs": [],
   "source": [
    "my_age = 10000"
   ]
  },
  {
   "cell_type": "code",
   "execution_count": 41,
   "id": "53027529",
   "metadata": {},
   "outputs": [],
   "source": [
    "first_python_class = \"A CRAZY ONE!\""
   ]
  },
  {
   "cell_type": "code",
   "execution_count": 42,
   "id": "c2ad69ed",
   "metadata": {},
   "outputs": [
    {
     "name": "stdout",
     "output_type": "stream",
     "text": [
      "10\n"
     ]
    }
   ],
   "source": [
    "x = 10\n",
    "y = x\n",
    "print(y)"
   ]
  },
  {
   "cell_type": "code",
   "execution_count": 43,
   "id": "de176809",
   "metadata": {},
   "outputs": [],
   "source": [
    "# How do we take an input from a user"
   ]
  },
  {
   "cell_type": "code",
   "execution_count": 44,
   "id": "69d48853",
   "metadata": {},
   "outputs": [
    {
     "name": "stdout",
     "output_type": "stream",
     "text": [
      "this is my input\n"
     ]
    },
    {
     "data": {
      "text/plain": [
       "'this is my input'"
      ]
     },
     "execution_count": 44,
     "metadata": {},
     "output_type": "execute_result"
    }
   ],
   "source": [
    "input()"
   ]
  },
  {
   "cell_type": "code",
   "execution_count": 45,
   "id": "ab90ab60",
   "metadata": {},
   "outputs": [
    {
     "name": "stdout",
     "output_type": "stream",
     "text": [
      "Raju\n"
     ]
    }
   ],
   "source": [
    "name = input()"
   ]
  },
  {
   "cell_type": "code",
   "execution_count": 46,
   "id": "807088fa",
   "metadata": {},
   "outputs": [
    {
     "data": {
      "text/plain": [
       "'Raju'"
      ]
     },
     "execution_count": 46,
     "metadata": {},
     "output_type": "execute_result"
    }
   ],
   "source": [
    "name"
   ]
  },
  {
   "cell_type": "code",
   "execution_count": 47,
   "id": "b558e3f3",
   "metadata": {},
   "outputs": [
    {
     "name": "stdout",
     "output_type": "stream",
     "text": [
      "Edith\n",
      "Hello name\n"
     ]
    }
   ],
   "source": [
    "name = input()\n",
    "print(\"Hello name\")"
   ]
  },
  {
   "cell_type": "code",
   "execution_count": 48,
   "id": "5ccdd6df",
   "metadata": {},
   "outputs": [
    {
     "name": "stdout",
     "output_type": "stream",
     "text": [
      "Biswajeet\n",
      "Hello Biswajeet\n"
     ]
    }
   ],
   "source": [
    "name = input()\n",
    "print(\"Hello\", name)"
   ]
  },
  {
   "cell_type": "code",
   "execution_count": 49,
   "id": "62d79407",
   "metadata": {},
   "outputs": [
    {
     "name": "stdout",
     "output_type": "stream",
     "text": [
      "45\n",
      "54\n",
      "4554\n"
     ]
    }
   ],
   "source": [
    "x = input()\n",
    "y = input()\n",
    "print(x + y)"
   ]
  },
  {
   "cell_type": "code",
   "execution_count": 50,
   "id": "f271b8a8",
   "metadata": {},
   "outputs": [
    {
     "name": "stdout",
     "output_type": "stream",
     "text": [
      "5\n"
     ]
    }
   ],
   "source": [
    "random_variable = input()"
   ]
  },
  {
   "cell_type": "code",
   "execution_count": 51,
   "id": "023065fe",
   "metadata": {},
   "outputs": [
    {
     "data": {
      "text/plain": [
       "str"
      ]
     },
     "execution_count": 51,
     "metadata": {},
     "output_type": "execute_result"
    }
   ],
   "source": [
    "type(random_variable)"
   ]
  },
  {
   "cell_type": "code",
   "execution_count": 53,
   "id": "abf19227",
   "metadata": {},
   "outputs": [
    {
     "name": "stdout",
     "output_type": "stream",
     "text": [
      "4\n",
      "5\n",
      "<class 'int'>\n",
      "<class 'int'>\n"
     ]
    }
   ],
   "source": [
    "x = input()\n",
    "y = input()\n",
    "\n",
    "int_x = int(x)\n",
    "int_y = int(y)\n",
    "\n",
    "print(type(int_x))\n",
    "print(type(int_y))"
   ]
  },
  {
   "cell_type": "code",
   "execution_count": 54,
   "id": "87cf4c8d",
   "metadata": {},
   "outputs": [
    {
     "data": {
      "text/plain": [
       "9"
      ]
     },
     "execution_count": 54,
     "metadata": {},
     "output_type": "execute_result"
    }
   ],
   "source": [
    "int_x + int_y"
   ]
  },
  {
   "cell_type": "code",
   "execution_count": 55,
   "id": "9cf6d587",
   "metadata": {},
   "outputs": [
    {
     "ename": "ValueError",
     "evalue": "invalid literal for int() with base 10: 'I am not a string holding an integer'",
     "output_type": "error",
     "traceback": [
      "\u001b[0;31m---------------------------------------------------------------------------\u001b[0m",
      "\u001b[0;31mValueError\u001b[0m                                Traceback (most recent call last)",
      "\u001b[0;32m/var/folders/nn/c52y0d3j0gq59dpsswchkt2r0000gn/T/ipykernel_12351/3439955440.py\u001b[0m in \u001b[0;36m<module>\u001b[0;34m\u001b[0m\n\u001b[0;32m----> 1\u001b[0;31m \u001b[0mint\u001b[0m\u001b[0;34m(\u001b[0m\u001b[0;34m\"I am not a string holding an integer\"\u001b[0m\u001b[0;34m)\u001b[0m\u001b[0;34m\u001b[0m\u001b[0;34m\u001b[0m\u001b[0m\n\u001b[0m",
      "\u001b[0;31mValueError\u001b[0m: invalid literal for int() with base 10: 'I am not a string holding an integer'"
     ]
    }
   ],
   "source": [
    "int(\"I am not a string holding an integer\")"
   ]
  },
  {
   "cell_type": "code",
   "execution_count": 56,
   "id": "248e3c02",
   "metadata": {},
   "outputs": [
    {
     "name": "stdout",
     "output_type": "stream",
     "text": [
      "5\n",
      "6\n",
      "11\n"
     ]
    }
   ],
   "source": [
    "x = int(input())\n",
    "y = int(input())\n",
    "\n",
    "print(x + y)"
   ]
  },
  {
   "cell_type": "code",
   "execution_count": 57,
   "id": "ab990017",
   "metadata": {},
   "outputs": [
    {
     "data": {
      "text/plain": [
       "'56789'"
      ]
     },
     "execution_count": 57,
     "metadata": {},
     "output_type": "execute_result"
    }
   ],
   "source": [
    "str(56789)"
   ]
  },
  {
   "cell_type": "code",
   "execution_count": 1,
   "id": "fb4343eb",
   "metadata": {},
   "outputs": [
    {
     "name": "stdout",
     "output_type": "stream",
     "text": [
      "56\n"
     ]
    },
    {
     "data": {
      "text/plain": [
       "'56'"
      ]
     },
     "execution_count": 1,
     "metadata": {},
     "output_type": "execute_result"
    }
   ],
   "source": [
    "input()"
   ]
  },
  {
   "cell_type": "code",
   "execution_count": 2,
   "id": "fa3c7105",
   "metadata": {},
   "outputs": [
    {
     "name": "stdout",
     "output_type": "stream",
     "text": [
      "this is an input\n"
     ]
    }
   ],
   "source": [
    "a = input()"
   ]
  },
  {
   "cell_type": "code",
   "execution_count": 3,
   "id": "ab37563d",
   "metadata": {},
   "outputs": [
    {
     "data": {
      "text/plain": [
       "'this is an input'"
      ]
     },
     "execution_count": 3,
     "metadata": {},
     "output_type": "execute_result"
    }
   ],
   "source": [
    "a"
   ]
  },
  {
   "cell_type": "code",
   "execution_count": 6,
   "id": "a688ad78",
   "metadata": {},
   "outputs": [
    {
     "name": "stdout",
     "output_type": "stream",
     "text": [
      "5\n",
      "4\n"
     ]
    }
   ],
   "source": [
    "x = int(input())\n",
    "y = int(input())\n",
    "\n",
    "# print(x + y)"
   ]
  },
  {
   "cell_type": "code",
   "execution_count": 7,
   "id": "2bc7300c",
   "metadata": {},
   "outputs": [
    {
     "data": {
      "text/plain": [
       "9"
      ]
     },
     "execution_count": 7,
     "metadata": {},
     "output_type": "execute_result"
    }
   ],
   "source": [
    "x+y"
   ]
  },
  {
   "cell_type": "code",
   "execution_count": null,
   "id": "ef5c9bfc",
   "metadata": {},
   "outputs": [],
   "source": [
    "y = 'hello'\n",
    "num = y \n",
    "y = 5\n",
    "print(num, y)"
   ]
  }
 ],
 "metadata": {
  "kernelspec": {
   "display_name": "Python 3 (ipykernel)",
   "language": "python",
   "name": "python3"
  },
  "language_info": {
   "codemirror_mode": {
    "name": "ipython",
    "version": 3
   },
   "file_extension": ".py",
   "mimetype": "text/x-python",
   "name": "python",
   "nbconvert_exporter": "python",
   "pygments_lexer": "ipython3",
   "version": "3.9.5"
  }
 },
 "nbformat": 4,
 "nbformat_minor": 5
}
