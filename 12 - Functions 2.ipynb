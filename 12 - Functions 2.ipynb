{
 "cells": [
  {
   "cell_type": "code",
   "execution_count": 7,
   "id": "14754566",
   "metadata": {},
   "outputs": [
    {
     "data": {
      "text/plain": [
       "True"
      ]
     },
     "execution_count": 7,
     "metadata": {},
     "output_type": "execute_result"
    }
   ],
   "source": [
    "def random():\n",
    "    return True\n",
    "\n",
    "random()"
   ]
  },
  {
   "cell_type": "code",
   "execution_count": 9,
   "id": "db0289c6",
   "metadata": {},
   "outputs": [
    {
     "data": {
      "text/plain": [
       "'I am a function!'"
      ]
     },
     "execution_count": 9,
     "metadata": {},
     "output_type": "execute_result"
    }
   ],
   "source": [
    "def abc():\n",
    "    return \"I am a function!\"\n",
    "\n",
    "abc()"
   ]
  },
  {
   "cell_type": "code",
   "execution_count": 12,
   "id": "9aa94919",
   "metadata": {
    "scrolled": true
   },
   "outputs": [
    {
     "name": "stdout",
     "output_type": "stream",
     "text": [
      "100\n"
     ]
    },
    {
     "ename": "NameError",
     "evalue": "name 'number' is not defined",
     "output_type": "error",
     "traceback": [
      "\u001b[0;31m---------------------------------------------------------------------------\u001b[0m",
      "\u001b[0;31mNameError\u001b[0m                                 Traceback (most recent call last)",
      "\u001b[0;32m/var/folders/nn/c52y0d3j0gq59dpsswchkt2r0000gn/T/ipykernel_46976/3598147760.py\u001b[0m in \u001b[0;36m<module>\u001b[0;34m\u001b[0m\n\u001b[1;32m      5\u001b[0m \u001b[0;34m\u001b[0m\u001b[0m\n\u001b[1;32m      6\u001b[0m \u001b[0mcalculator\u001b[0m\u001b[0;34m(\u001b[0m\u001b[0ma\u001b[0m\u001b[0;34m)\u001b[0m\u001b[0;34m\u001b[0m\u001b[0;34m\u001b[0m\u001b[0m\n\u001b[0;32m----> 7\u001b[0;31m \u001b[0mprint\u001b[0m\u001b[0;34m(\u001b[0m\u001b[0mnumber\u001b[0m\u001b[0;34m)\u001b[0m\u001b[0;34m\u001b[0m\u001b[0;34m\u001b[0m\u001b[0m\n\u001b[0m\u001b[1;32m      8\u001b[0m \u001b[0mprint\u001b[0m\u001b[0;34m(\u001b[0m\u001b[0ma\u001b[0m\u001b[0;34m)\u001b[0m\u001b[0;34m\u001b[0m\u001b[0;34m\u001b[0m\u001b[0m\n",
      "\u001b[0;31mNameError\u001b[0m: name 'number' is not defined"
     ]
    }
   ],
   "source": [
    "a = 10\n",
    "\n",
    "def calculator(number):\n",
    "    print(number * 10)\n",
    "\n",
    "calculator(a)\n",
    "print(number)\n",
    "print(a)"
   ]
  },
  {
   "cell_type": "code",
   "execution_count": 14,
   "id": "59783214",
   "metadata": {},
   "outputs": [
    {
     "name": "stdout",
     "output_type": "stream",
     "text": [
      "100\n",
      "10\n"
     ]
    }
   ],
   "source": [
    "a = 10\n",
    "\n",
    "def calculator(number):\n",
    "    print(number * 10) # number = 10 -> 10*10 -> 100\n",
    "\n",
    "calculator(a) # calculator(10)\n",
    "print(a) # 10"
   ]
  },
  {
   "cell_type": "code",
   "execution_count": 15,
   "id": "98209fd5",
   "metadata": {},
   "outputs": [
    {
     "data": {
      "text/plain": [
       "'BIG'"
      ]
     },
     "execution_count": 15,
     "metadata": {},
     "output_type": "execute_result"
    }
   ],
   "source": [
    "a = 57\n",
    "\n",
    "def simple_function(a):\n",
    "    if a <= 10:\n",
    "        return \"SMALL\"\n",
    "    elif a > 10:\n",
    "        return \"BIG\"\n",
    "    \n",
    "simple_function(a)"
   ]
  },
  {
   "cell_type": "code",
   "execution_count": 16,
   "id": "2b7edf73",
   "metadata": {},
   "outputs": [],
   "source": [
    "def introduce_family(my_name, sibling_name, father_name, mother_name):\n",
    "    print(\"My name is\", my_name)\n",
    "    print(\"My sibling's is\", sibling_name)\n",
    "    print(\"My father's is\", father_name)\n",
    "    print(\"My mother's is\", mother_name)"
   ]
  },
  {
   "cell_type": "code",
   "execution_count": 17,
   "id": "a731dd06",
   "metadata": {},
   "outputs": [
    {
     "name": "stdout",
     "output_type": "stream",
     "text": [
      "My name is Bipin\n",
      "My sibling's is Deepak\n",
      "My father's is Deepa\n",
      "My mother's is Vidhi\n"
     ]
    }
   ],
   "source": [
    "introduce_family(\"Bipin\", \"Deepak\", \"Deepa\", \"Vidhi\")"
   ]
  },
  {
   "cell_type": "code",
   "execution_count": 18,
   "id": "87f3b67f",
   "metadata": {},
   "outputs": [],
   "source": [
    "# Keyworded Arguments"
   ]
  },
  {
   "cell_type": "code",
   "execution_count": 20,
   "id": "0b4b2193",
   "metadata": {},
   "outputs": [
    {
     "name": "stdout",
     "output_type": "stream",
     "text": [
      "My name is Bipin\n",
      "My sibling's is Vidhi\n",
      "My father's is Deepak\n",
      "My mother's is Deepa\n"
     ]
    }
   ],
   "source": [
    "introduce_family(\n",
    "    my_name = \"Bipin\",\n",
    "    father_name = \"Deepak\",\n",
    "    mother_name = \"Deepa\",\n",
    "    sibling_name = \"Vidhi\"\n",
    ")"
   ]
  },
  {
   "cell_type": "code",
   "execution_count": 21,
   "id": "8438d509",
   "metadata": {},
   "outputs": [
    {
     "ename": "SyntaxError",
     "evalue": "positional argument follows keyword argument (3482896144.py, line 6)",
     "output_type": "error",
     "traceback": [
      "\u001b[0;36m  File \u001b[0;32m\"/var/folders/nn/c52y0d3j0gq59dpsswchkt2r0000gn/T/ipykernel_46976/3482896144.py\"\u001b[0;36m, line \u001b[0;32m6\u001b[0m\n\u001b[0;31m    )\u001b[0m\n\u001b[0m    ^\u001b[0m\n\u001b[0;31mSyntaxError\u001b[0m\u001b[0;31m:\u001b[0m positional argument follows keyword argument\n"
     ]
    }
   ],
   "source": [
    "introduce_family(\n",
    "    my_name = \"Bipin\",\n",
    "    father_name = \"Deepak\",\n",
    "    mother_name = \"Deepa\",\n",
    "    \"Vidhi\"\n",
    ")"
   ]
  },
  {
   "cell_type": "code",
   "execution_count": 22,
   "id": "48cf253b",
   "metadata": {},
   "outputs": [],
   "source": [
    "def random(a, b, c, d):\n",
    "    print(a,b,c,d)"
   ]
  },
  {
   "cell_type": "code",
   "execution_count": 25,
   "id": "6f0155e9",
   "metadata": {},
   "outputs": [
    {
     "name": "stdout",
     "output_type": "stream",
     "text": [
      "4 5 6 7\n"
     ]
    }
   ],
   "source": [
    "random(4, 5, 6, 7)"
   ]
  },
  {
   "cell_type": "code",
   "execution_count": 26,
   "id": "3a97b600",
   "metadata": {},
   "outputs": [
    {
     "name": "stdout",
     "output_type": "stream",
     "text": [
      "5 6 7 9\n"
     ]
    }
   ],
   "source": [
    "random(b = 6, c = 7, d = 9, a = 5)"
   ]
  },
  {
   "cell_type": "code",
   "execution_count": 27,
   "id": "094182ce",
   "metadata": {},
   "outputs": [
    {
     "ename": "SyntaxError",
     "evalue": "positional argument follows keyword argument (2778486202.py, line 1)",
     "output_type": "error",
     "traceback": [
      "\u001b[0;36m  File \u001b[0;32m\"/var/folders/nn/c52y0d3j0gq59dpsswchkt2r0000gn/T/ipykernel_46976/2778486202.py\"\u001b[0;36m, line \u001b[0;32m1\u001b[0m\n\u001b[0;31m    random(b = 6, c = 7, d = 9, 5 )\u001b[0m\n\u001b[0m                                  ^\u001b[0m\n\u001b[0;31mSyntaxError\u001b[0m\u001b[0;31m:\u001b[0m positional argument follows keyword argument\n"
     ]
    }
   ],
   "source": [
    "random(b = 6, c = 7, d = 9, 5 )"
   ]
  },
  {
   "cell_type": "code",
   "execution_count": 28,
   "id": "444f079d",
   "metadata": {},
   "outputs": [
    {
     "name": "stdout",
     "output_type": "stream",
     "text": [
      "4 5 7 6\n"
     ]
    }
   ],
   "source": [
    "random(4, 5, d = 6, c = 7)"
   ]
  },
  {
   "cell_type": "code",
   "execution_count": 29,
   "id": "a1507b81",
   "metadata": {},
   "outputs": [
    {
     "ename": "TypeError",
     "evalue": "random() got multiple values for argument 'a'",
     "output_type": "error",
     "traceback": [
      "\u001b[0;31m---------------------------------------------------------------------------\u001b[0m",
      "\u001b[0;31mTypeError\u001b[0m                                 Traceback (most recent call last)",
      "\u001b[0;32m/var/folders/nn/c52y0d3j0gq59dpsswchkt2r0000gn/T/ipykernel_46976/3836193223.py\u001b[0m in \u001b[0;36m<module>\u001b[0;34m\u001b[0m\n\u001b[0;32m----> 1\u001b[0;31m \u001b[0mrandom\u001b[0m\u001b[0;34m(\u001b[0m\u001b[0;36m4\u001b[0m\u001b[0;34m,\u001b[0m \u001b[0;36m6\u001b[0m\u001b[0;34m,\u001b[0m \u001b[0ma\u001b[0m \u001b[0;34m=\u001b[0m \u001b[0;36m5\u001b[0m\u001b[0;34m,\u001b[0m \u001b[0mc\u001b[0m \u001b[0;34m=\u001b[0m \u001b[0;36m7\u001b[0m\u001b[0;34m)\u001b[0m\u001b[0;34m\u001b[0m\u001b[0;34m\u001b[0m\u001b[0m\n\u001b[0m",
      "\u001b[0;31mTypeError\u001b[0m: random() got multiple values for argument 'a'"
     ]
    }
   ],
   "source": [
    "random(4, 6, a = 5, c = 7)"
   ]
  },
  {
   "cell_type": "code",
   "execution_count": 30,
   "id": "4718eadd",
   "metadata": {},
   "outputs": [],
   "source": [
    "# Simple Interest"
   ]
  },
  {
   "cell_type": "code",
   "execution_count": 31,
   "id": "0b8f9a95",
   "metadata": {},
   "outputs": [],
   "source": [
    "# Default Value ->\n",
    "# rate of interest = 5%"
   ]
  },
  {
   "cell_type": "code",
   "execution_count": 32,
   "id": "e3bb4455",
   "metadata": {},
   "outputs": [],
   "source": [
    "def simple_interest(p, r, t):\n",
    "    interest = (p*r*t) / 100\n",
    "    \n",
    "    return interest"
   ]
  },
  {
   "cell_type": "code",
   "execution_count": 34,
   "id": "15093781",
   "metadata": {},
   "outputs": [
    {
     "ename": "TypeError",
     "evalue": "simple_interest() missing 1 required positional argument: 't'",
     "output_type": "error",
     "traceback": [
      "\u001b[0;31m---------------------------------------------------------------------------\u001b[0m",
      "\u001b[0;31mTypeError\u001b[0m                                 Traceback (most recent call last)",
      "\u001b[0;32m/var/folders/nn/c52y0d3j0gq59dpsswchkt2r0000gn/T/ipykernel_46976/927123737.py\u001b[0m in \u001b[0;36m<module>\u001b[0;34m\u001b[0m\n\u001b[0;32m----> 1\u001b[0;31m \u001b[0msimple_interest\u001b[0m\u001b[0;34m(\u001b[0m\u001b[0;36m50000\u001b[0m\u001b[0;34m,\u001b[0m \u001b[0;36m3\u001b[0m\u001b[0;34m)\u001b[0m\u001b[0;34m\u001b[0m\u001b[0;34m\u001b[0m\u001b[0m\n\u001b[0m",
      "\u001b[0;31mTypeError\u001b[0m: simple_interest() missing 1 required positional argument: 't'"
     ]
    }
   ],
   "source": [
    "simple_interest(50000, 3)"
   ]
  },
  {
   "cell_type": "code",
   "execution_count": 37,
   "id": "cb5d8641",
   "metadata": {},
   "outputs": [],
   "source": [
    "def simple_interest(p, t, r = 5): # default argument\n",
    "    interest = (p*r*t) / 100\n",
    "    \n",
    "    return interest"
   ]
  },
  {
   "cell_type": "code",
   "execution_count": 38,
   "id": "b58a0490",
   "metadata": {},
   "outputs": [
    {
     "data": {
      "text/plain": [
       "7500.0"
      ]
     },
     "execution_count": 38,
     "metadata": {},
     "output_type": "execute_result"
    }
   ],
   "source": [
    "simple_interest(50000, 3)"
   ]
  },
  {
   "cell_type": "code",
   "execution_count": 39,
   "id": "df5cdfbf",
   "metadata": {},
   "outputs": [
    {
     "data": {
      "text/plain": [
       "15000.0"
      ]
     },
     "execution_count": 39,
     "metadata": {},
     "output_type": "execute_result"
    }
   ],
   "source": [
    "simple_interest(50000, 3, 10)"
   ]
  },
  {
   "cell_type": "code",
   "execution_count": null,
   "id": "2f598219",
   "metadata": {},
   "outputs": [],
   "source": []
  }
 ],
 "metadata": {
  "kernelspec": {
   "display_name": "Python 3 (ipykernel)",
   "language": "python",
   "name": "python3"
  },
  "language_info": {
   "codemirror_mode": {
    "name": "ipython",
    "version": 3
   },
   "file_extension": ".py",
   "mimetype": "text/x-python",
   "name": "python",
   "nbconvert_exporter": "python",
   "pygments_lexer": "ipython3",
   "version": "3.9.5"
  }
 },
 "nbformat": 4,
 "nbformat_minor": 5
}
