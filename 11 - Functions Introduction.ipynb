{
 "cells": [
  {
   "cell_type": "code",
   "execution_count": 1,
   "id": "fd517851",
   "metadata": {},
   "outputs": [
    {
     "name": "stdout",
     "output_type": "stream",
     "text": [
      "knock knock knock shahnoor\n",
      "knock knock knock shahnoor\n",
      "knock knock knock shahnoor\n"
     ]
    }
   ],
   "source": [
    "print(\"knock knock knock shahnoor\")\n",
    "print(\"knock knock knock shahnoor\")\n",
    "print(\"knock knock knock shahnoor\")"
   ]
  },
  {
   "cell_type": "code",
   "execution_count": 2,
   "id": "9a3b093a",
   "metadata": {},
   "outputs": [
    {
     "name": "stdout",
     "output_type": "stream",
     "text": [
      "knock knock knock sathish\n",
      "knock knock knock sathish\n",
      "knock knock knock sathish\n"
     ]
    }
   ],
   "source": [
    "print(\"knock knock knock sathish\")\n",
    "print(\"knock knock knock sathish\")\n",
    "print(\"knock knock knock sathish\")"
   ]
  },
  {
   "cell_type": "code",
   "execution_count": 3,
   "id": "f7c6b9c1",
   "metadata": {},
   "outputs": [
    {
     "name": "stdout",
     "output_type": "stream",
     "text": [
      "Dust all the rooms!\n",
      "Arrange the Living Area!\n",
      "Go and get cold drinks and mixtures!\n",
      "Don't misbehave in front of the guests!\n",
      "Touch feet when you greet them!\n"
     ]
    }
   ],
   "source": [
    "print(\"Dust all the rooms!\")\n",
    "print(\"Arrange the Living Area!\")\n",
    "print(\"Go and get cold drinks and mixtures!\")\n",
    "print(\"Don't misbehave in front of the guests!\")\n",
    "print(\"Touch feet when you greet them!\")"
   ]
  },
  {
   "cell_type": "code",
   "execution_count": 4,
   "id": "f89c8f89",
   "metadata": {},
   "outputs": [
    {
     "name": "stdout",
     "output_type": "stream",
     "text": [
      "Dust all the rooms!\n",
      "Arrange the Living Area!\n",
      "Go and get cold drinks and mixtures!\n",
      "Don't misbehave in front of the guests!\n",
      "Touch feet when you greet them!\n"
     ]
    }
   ],
   "source": [
    "print(\"Dust all the rooms!\")\n",
    "print(\"Arrange the Living Area!\")\n",
    "print(\"Go and get cold drinks and mixtures!\")\n",
    "print(\"Don't misbehave in front of the guests!\")\n",
    "print(\"Touch feet when you greet them!\")"
   ]
  },
  {
   "cell_type": "code",
   "execution_count": 5,
   "id": "6d45a6e6",
   "metadata": {},
   "outputs": [
    {
     "name": "stdout",
     "output_type": "stream",
     "text": [
      "Dust all the rooms!\n",
      "Arrange the Living Area!\n",
      "Go and get cold drinks and mixtures!\n",
      "Don't misbehave in front of the guests!\n",
      "Touch feet when you greet them!\n"
     ]
    }
   ],
   "source": [
    "print(\"Dust all the rooms!\")\n",
    "print(\"Arrange the Living Area!\")\n",
    "print(\"Go and get cold drinks and mixtures!\")\n",
    "print(\"Don't misbehave in front of the guests!\")\n",
    "print(\"Touch feet when you greet them!\")"
   ]
  },
  {
   "cell_type": "code",
   "execution_count": 6,
   "id": "9e6da5d4",
   "metadata": {},
   "outputs": [],
   "source": [
    "# A function is a set of instructions that can be invoked whenever needed\n",
    "# Modular code\n",
    "\n",
    "def prepare_for_guests():\n",
    "    print(\"Dust all the rooms!\")\n",
    "    print(\"Arrange the Living Area!\")\n",
    "    print(\"Go and get cold drinks and mixtures!\")\n",
    "    print(\"Don't misbehave in front of the guests!\")\n",
    "    print(\"Touch feet when you greet them!\")"
   ]
  },
  {
   "cell_type": "code",
   "execution_count": 7,
   "id": "abfd71fc",
   "metadata": {},
   "outputs": [
    {
     "name": "stdout",
     "output_type": "stream",
     "text": [
      "Dust all the rooms!\n",
      "Arrange the Living Area!\n",
      "Go and get cold drinks and mixtures!\n",
      "Don't misbehave in front of the guests!\n",
      "Touch feet when you greet them!\n"
     ]
    }
   ],
   "source": [
    "prepare_for_guests() # calling or invoking a function"
   ]
  },
  {
   "cell_type": "code",
   "execution_count": 8,
   "id": "9c1dd77c",
   "metadata": {},
   "outputs": [
    {
     "name": "stdout",
     "output_type": "stream",
     "text": [
      "Dust all the rooms!\n",
      "Arrange the Living Area!\n",
      "Go and get cold drinks and mixtures!\n",
      "Don't misbehave in front of the guests!\n",
      "Touch feet when you greet them!\n"
     ]
    }
   ],
   "source": [
    "prepare_for_guests()"
   ]
  },
  {
   "cell_type": "code",
   "execution_count": 9,
   "id": "6a867079",
   "metadata": {},
   "outputs": [
    {
     "data": {
      "text/plain": [
       "'\\nWrite a piece of code which cooks tea 5 times.\\n'"
      ]
     },
     "execution_count": 9,
     "metadata": {},
     "output_type": "execute_result"
    }
   ],
   "source": [
    "'''\n",
    "Write a piece of code which cooks tea 5 times.\n",
    "'''"
   ]
  },
  {
   "cell_type": "code",
   "execution_count": 10,
   "id": "13642361",
   "metadata": {},
   "outputs": [],
   "source": [
    "def make_tea():\n",
    "    print(\"I am making tea!\")"
   ]
  },
  {
   "cell_type": "code",
   "execution_count": 11,
   "id": "075279e7",
   "metadata": {},
   "outputs": [
    {
     "name": "stdout",
     "output_type": "stream",
     "text": [
      "I am making tea!\n",
      "I am making tea!\n",
      "I am making tea!\n",
      "I am making tea!\n",
      "I am making tea!\n"
     ]
    }
   ],
   "source": [
    "for i in range(5):\n",
    "    make_tea()"
   ]
  },
  {
   "cell_type": "code",
   "execution_count": 12,
   "id": "2aaa964b",
   "metadata": {},
   "outputs": [
    {
     "name": "stdout",
     "output_type": "stream",
     "text": [
      "I am making tea!\n"
     ]
    }
   ],
   "source": [
    "make_tea()"
   ]
  },
  {
   "cell_type": "code",
   "execution_count": 21,
   "id": "69bce71d",
   "metadata": {},
   "outputs": [],
   "source": [
    "# Functions can accept arguments or parameters\n",
    "def sheldon_knock(name):\n",
    "    print(name)\n",
    "    print(\"knock knock knock\", name)\n",
    "    print(\"knock knock knock\", name)\n",
    "    print(\"knock knock knock\", name)"
   ]
  },
  {
   "cell_type": "code",
   "execution_count": 20,
   "id": "378d6b97",
   "metadata": {},
   "outputs": [
    {
     "name": "stdout",
     "output_type": "stream",
     "text": [
      "Penny\n",
      "knock knock knock Penny\n",
      "knock knock knock Penny\n",
      "knock knock knock Penny\n"
     ]
    }
   ],
   "source": [
    "sheldon_knock(\"Penny\")"
   ]
  },
  {
   "cell_type": "code",
   "execution_count": 22,
   "id": "b7a07c21",
   "metadata": {},
   "outputs": [
    {
     "name": "stdout",
     "output_type": "stream",
     "text": [
      "Bipin\n",
      "knock knock knock Bipin\n",
      "knock knock knock Bipin\n",
      "knock knock knock Bipin\n"
     ]
    }
   ],
   "source": [
    "sheldon_knock(\"Bipin\")"
   ]
  },
  {
   "cell_type": "code",
   "execution_count": 23,
   "id": "07240e43",
   "metadata": {},
   "outputs": [
    {
     "name": "stdout",
     "output_type": "stream",
     "text": [
      "Akash\n",
      "knock knock knock Akash\n",
      "knock knock knock Akash\n",
      "knock knock knock Akash\n"
     ]
    }
   ],
   "source": [
    "sheldon_knock(\"Akash\")"
   ]
  },
  {
   "cell_type": "code",
   "execution_count": 25,
   "id": "e45afd28",
   "metadata": {},
   "outputs": [
    {
     "data": {
      "text/plain": [
       "'\\nQuestion 1 - \\nTake a name as input.\\nWrite a greeter function which prints \"Hello name!\"\\nafter accepting a name as argument.\\n'"
      ]
     },
     "execution_count": 25,
     "metadata": {},
     "output_type": "execute_result"
    }
   ],
   "source": [
    "'''\n",
    "Question 1 - \n",
    "Take a name as input.\n",
    "Write a greeter function which prints \"Hello name!\"\n",
    "after accepting a name as argument.\n",
    "'''"
   ]
  },
  {
   "cell_type": "code",
   "execution_count": 26,
   "id": "150ce76c",
   "metadata": {},
   "outputs": [
    {
     "name": "stdout",
     "output_type": "stream",
     "text": [
      "Bipin\n"
     ]
    }
   ],
   "source": [
    "name = input()\n",
    "\n",
    "def greet(name):\n",
    "    print(\"Hello\", name)"
   ]
  },
  {
   "cell_type": "code",
   "execution_count": 28,
   "id": "c3d4b9bf",
   "metadata": {},
   "outputs": [
    {
     "name": "stdout",
     "output_type": "stream",
     "text": [
      "Hello Bipin\n"
     ]
    }
   ],
   "source": [
    "greet(name)"
   ]
  },
  {
   "cell_type": "code",
   "execution_count": 29,
   "id": "262c4b7e",
   "metadata": {},
   "outputs": [
    {
     "name": "stdout",
     "output_type": "stream",
     "text": [
      "Megha\n"
     ]
    }
   ],
   "source": [
    "name2 = input()"
   ]
  },
  {
   "cell_type": "code",
   "execution_count": 30,
   "id": "293e078c",
   "metadata": {},
   "outputs": [
    {
     "name": "stdout",
     "output_type": "stream",
     "text": [
      "Hello Megha\n"
     ]
    }
   ],
   "source": [
    "greet(name2)"
   ]
  },
  {
   "cell_type": "code",
   "execution_count": 31,
   "id": "060b9357",
   "metadata": {},
   "outputs": [
    {
     "data": {
      "text/plain": [
       "'\\nQuestion 2 - \\nTake a name as input for Uday\\'s sake.\\nPrint \"I love you name!\" based on the input as an argument\\n'"
      ]
     },
     "execution_count": 31,
     "metadata": {},
     "output_type": "execute_result"
    }
   ],
   "source": [
    "'''\n",
    "Question 2 - \n",
    "Take a name as input for Uday's sake.\n",
    "Print \"I love you name!\" based on the input as an argument\n",
    "'''"
   ]
  },
  {
   "cell_type": "code",
   "execution_count": 32,
   "id": "7cc68c6b",
   "metadata": {},
   "outputs": [],
   "source": [
    "def propose(name):\n",
    "    print(\"I LOVE YOU\", name)"
   ]
  },
  {
   "cell_type": "code",
   "execution_count": 33,
   "id": "f721cd4d",
   "metadata": {},
   "outputs": [
    {
     "name": "stdout",
     "output_type": "stream",
     "text": [
      "Emma Watson\n"
     ]
    }
   ],
   "source": [
    "name = input()"
   ]
  },
  {
   "cell_type": "code",
   "execution_count": 34,
   "id": "fe3c2199",
   "metadata": {},
   "outputs": [
    {
     "name": "stdout",
     "output_type": "stream",
     "text": [
      "I LOVE YOU Emma Watson\n"
     ]
    }
   ],
   "source": [
    "propose(name)"
   ]
  },
  {
   "cell_type": "code",
   "execution_count": 35,
   "id": "e688beb8",
   "metadata": {},
   "outputs": [],
   "source": [
    "# Introduce my family!"
   ]
  },
  {
   "cell_type": "code",
   "execution_count": 41,
   "id": "5b1e685f",
   "metadata": {},
   "outputs": [
    {
     "name": "stdout",
     "output_type": "stream",
     "text": [
      "random\n"
     ]
    }
   ],
   "source": [
    "father = input()"
   ]
  },
  {
   "cell_type": "code",
   "execution_count": null,
   "id": "0b083631",
   "metadata": {},
   "outputs": [],
   "source": [
    "type(father)"
   ]
  },
  {
   "cell_type": "code",
   "execution_count": null,
   "id": "fb16147c",
   "metadata": {},
   "outputs": [],
   "source": []
  },
  {
   "cell_type": "code",
   "execution_count": 42,
   "id": "659f4d58",
   "metadata": {},
   "outputs": [],
   "source": [
    "def introduce_family(father, mother, sibling):\n",
    "    print(\"Father:\", father)\n",
    "    print(\"Mother:\", mother)\n",
    "    print(\"Sibling:\", sibling)"
   ]
  },
  {
   "cell_type": "code",
   "execution_count": 43,
   "id": "c9d2a5ba",
   "metadata": {},
   "outputs": [
    {
     "name": "stdout",
     "output_type": "stream",
     "text": [
      "Father: A\n",
      "Mother: C\n",
      "Sibling: B\n"
     ]
    }
   ],
   "source": [
    "introduce_family(\"A\", \"C\", \"B\") # positinal arguments"
   ]
  },
  {
   "cell_type": "code",
   "execution_count": 44,
   "id": "bdf89b2d",
   "metadata": {},
   "outputs": [
    {
     "ename": "TypeError",
     "evalue": "introduce_family() missing 1 required positional argument: 'sibling'",
     "output_type": "error",
     "traceback": [
      "\u001b[0;31m---------------------------------------------------------------------------\u001b[0m",
      "\u001b[0;31mTypeError\u001b[0m                                 Traceback (most recent call last)",
      "\u001b[0;32m/var/folders/nn/c52y0d3j0gq59dpsswchkt2r0000gn/T/ipykernel_38764/3389999355.py\u001b[0m in \u001b[0;36m<module>\u001b[0;34m\u001b[0m\n\u001b[0;32m----> 1\u001b[0;31m \u001b[0mintroduce_family\u001b[0m\u001b[0;34m(\u001b[0m\u001b[0;34m\"A\"\u001b[0m\u001b[0;34m,\u001b[0m \u001b[0;34m\"B\"\u001b[0m\u001b[0;34m)\u001b[0m\u001b[0;34m\u001b[0m\u001b[0;34m\u001b[0m\u001b[0m\n\u001b[0m",
      "\u001b[0;31mTypeError\u001b[0m: introduce_family() missing 1 required positional argument: 'sibling'"
     ]
    }
   ],
   "source": [
    "introduce_family(\"A\", \"B\")"
   ]
  },
  {
   "cell_type": "code",
   "execution_count": 46,
   "id": "ef20cdcf",
   "metadata": {},
   "outputs": [
    {
     "ename": "TypeError",
     "evalue": "introduce_family() takes 3 positional arguments but 4 were given",
     "output_type": "error",
     "traceback": [
      "\u001b[0;31m---------------------------------------------------------------------------\u001b[0m",
      "\u001b[0;31mTypeError\u001b[0m                                 Traceback (most recent call last)",
      "\u001b[0;32m/var/folders/nn/c52y0d3j0gq59dpsswchkt2r0000gn/T/ipykernel_38764/3169200133.py\u001b[0m in \u001b[0;36m<module>\u001b[0;34m\u001b[0m\n\u001b[0;32m----> 1\u001b[0;31m \u001b[0mintroduce_family\u001b[0m\u001b[0;34m(\u001b[0m\u001b[0;34m\"A\"\u001b[0m\u001b[0;34m,\u001b[0m \u001b[0;34m\"B\"\u001b[0m\u001b[0;34m,\u001b[0m \u001b[0;34m\"C\"\u001b[0m\u001b[0;34m,\u001b[0m \u001b[0;34m\"D\"\u001b[0m\u001b[0;34m)\u001b[0m\u001b[0;34m\u001b[0m\u001b[0;34m\u001b[0m\u001b[0m\n\u001b[0m",
      "\u001b[0;31mTypeError\u001b[0m: introduce_family() takes 3 positional arguments but 4 were given"
     ]
    }
   ],
   "source": [
    "introduce_family(\"A\", \"B\", \"C\", \"D\")"
   ]
  },
  {
   "cell_type": "code",
   "execution_count": 47,
   "id": "4e761883",
   "metadata": {},
   "outputs": [],
   "source": [
    "abc = \"ac\""
   ]
  },
  {
   "cell_type": "code",
   "execution_count": null,
   "id": "9ceb6351",
   "metadata": {},
   "outputs": [],
   "source": [
    "abc = input()"
   ]
  },
  {
   "cell_type": "code",
   "execution_count": 48,
   "id": "bdcb2289",
   "metadata": {},
   "outputs": [
    {
     "data": {
      "text/plain": [
       "'ac'"
      ]
     },
     "execution_count": 48,
     "metadata": {},
     "output_type": "execute_result"
    }
   ],
   "source": [
    "abc"
   ]
  },
  {
   "cell_type": "code",
   "execution_count": 49,
   "id": "4c17dcac",
   "metadata": {},
   "outputs": [
    {
     "data": {
      "text/plain": [
       "'ac'"
      ]
     },
     "execution_count": 49,
     "metadata": {},
     "output_type": "execute_result"
    }
   ],
   "source": [
    "\"ac\""
   ]
  },
  {
   "cell_type": "code",
   "execution_count": 53,
   "id": "1f7d2a95",
   "metadata": {},
   "outputs": [],
   "source": [
    "abc = '''\n",
    "this is a very weird string\n",
    "somehow!\n",
    "'''\n",
    "\n",
    "# Multi line strings which preserve white spaces! "
   ]
  },
  {
   "cell_type": "code",
   "execution_count": 54,
   "id": "f90352a5",
   "metadata": {},
   "outputs": [
    {
     "data": {
      "text/plain": [
       "'\\nthis is a very weird string\\nsomehow!\\n'"
      ]
     },
     "execution_count": 54,
     "metadata": {},
     "output_type": "execute_result"
    }
   ],
   "source": [
    "abc"
   ]
  },
  {
   "cell_type": "code",
   "execution_count": 55,
   "id": "cf5b1b84",
   "metadata": {},
   "outputs": [
    {
     "data": {
      "text/plain": [
       "str"
      ]
     },
     "execution_count": 55,
     "metadata": {},
     "output_type": "execute_result"
    }
   ],
   "source": [
    "type(abc)"
   ]
  },
  {
   "cell_type": "code",
   "execution_count": 56,
   "id": "c0227672",
   "metadata": {},
   "outputs": [],
   "source": [
    "def random(a, b):\n",
    "    '''\n",
    "    This function takes two arguments - \n",
    "    a and b can be of any type.\n",
    "    This function just prints both the arguments.\n",
    "    '''\n",
    "    \n",
    "    print(a, b)"
   ]
  },
  {
   "cell_type": "code",
   "execution_count": 57,
   "id": "1647556e",
   "metadata": {},
   "outputs": [
    {
     "name": "stdout",
     "output_type": "stream",
     "text": [
      "4 5\n"
     ]
    }
   ],
   "source": [
    "random(4, 5)"
   ]
  },
  {
   "cell_type": "code",
   "execution_count": 58,
   "id": "bf3c151f",
   "metadata": {},
   "outputs": [
    {
     "name": "stdout",
     "output_type": "stream",
     "text": [
      "Help on function random in module __main__:\n",
      "\n",
      "random(a, b)\n",
      "    This function takes two arguments - \n",
      "    a and b can be of any type.\n",
      "    This function just prints both the arguments.\n",
      "\n"
     ]
    }
   ],
   "source": [
    "help(random)"
   ]
  },
  {
   "cell_type": "code",
   "execution_count": 59,
   "id": "b7b27524",
   "metadata": {},
   "outputs": [
    {
     "data": {
      "text/plain": [
       "'abcxyz'"
      ]
     },
     "execution_count": 59,
     "metadata": {},
     "output_type": "execute_result"
    }
   ],
   "source": [
    "\"abc\" + \"xyz\""
   ]
  },
  {
   "cell_type": "code",
   "execution_count": 60,
   "id": "3b940fa6",
   "metadata": {},
   "outputs": [
    {
     "data": {
      "text/plain": [
       "99"
      ]
     },
     "execution_count": 60,
     "metadata": {},
     "output_type": "execute_result"
    }
   ],
   "source": [
    "45 + 54"
   ]
  },
  {
   "cell_type": "code",
   "execution_count": 61,
   "id": "589a0d4b",
   "metadata": {},
   "outputs": [
    {
     "ename": "TypeError",
     "evalue": "can only concatenate str (not \"int\") to str",
     "output_type": "error",
     "traceback": [
      "\u001b[0;31m---------------------------------------------------------------------------\u001b[0m",
      "\u001b[0;31mTypeError\u001b[0m                                 Traceback (most recent call last)",
      "\u001b[0;32m/var/folders/nn/c52y0d3j0gq59dpsswchkt2r0000gn/T/ipykernel_38764/4066600655.py\u001b[0m in \u001b[0;36m<module>\u001b[0;34m\u001b[0m\n\u001b[0;32m----> 1\u001b[0;31m \u001b[0;34m\"abc\"\u001b[0m \u001b[0;34m+\u001b[0m \u001b[0;36m54\u001b[0m\u001b[0;34m\u001b[0m\u001b[0;34m\u001b[0m\u001b[0m\n\u001b[0m",
      "\u001b[0;31mTypeError\u001b[0m: can only concatenate str (not \"int\") to str"
     ]
    }
   ],
   "source": [
    "\"abc\" + 54"
   ]
  },
  {
   "cell_type": "code",
   "execution_count": 66,
   "id": "a0a1b90e",
   "metadata": {},
   "outputs": [],
   "source": [
    "def add_two(a, b):\n",
    "    '''\n",
    "    Arguments - \n",
    "    a: Int or String\n",
    "    b: Int or String\n",
    "    \n",
    "    Note - Please do not enter different data types in one function call.\n",
    "    \n",
    "    Output - \n",
    "    Str + Str -> Concatenation\n",
    "    Int + Int -> Addition\n",
    "    '''\n",
    "    result = a + b\n",
    "    print(result)"
   ]
  },
  {
   "cell_type": "code",
   "execution_count": 67,
   "id": "f2962af8",
   "metadata": {},
   "outputs": [
    {
     "name": "stdout",
     "output_type": "stream",
     "text": [
      "Help on function add_two in module __main__:\n",
      "\n",
      "add_two(a, b)\n",
      "    Arguments - \n",
      "    a: Int or String\n",
      "    b: Int or String\n",
      "    \n",
      "    Note - Please do not enter different data types in one function call.\n",
      "    \n",
      "    Output - \n",
      "    Str + Str -> Concatenation\n",
      "    Int + Int -> Addition\n",
      "\n"
     ]
    }
   ],
   "source": [
    "help(add_two)"
   ]
  },
  {
   "cell_type": "code",
   "execution_count": 63,
   "id": "03d29c46",
   "metadata": {},
   "outputs": [
    {
     "name": "stdout",
     "output_type": "stream",
     "text": [
      "9\n"
     ]
    }
   ],
   "source": [
    "add_two(4,5)"
   ]
  },
  {
   "cell_type": "code",
   "execution_count": 64,
   "id": "b684292e",
   "metadata": {},
   "outputs": [
    {
     "name": "stdout",
     "output_type": "stream",
     "text": [
      "Iam\n"
     ]
    }
   ],
   "source": [
    "add_two(\"I\", \"am\")"
   ]
  },
  {
   "cell_type": "code",
   "execution_count": 65,
   "id": "63451897",
   "metadata": {},
   "outputs": [
    {
     "ename": "TypeError",
     "evalue": "unsupported operand type(s) for +: 'int' and 'str'",
     "output_type": "error",
     "traceback": [
      "\u001b[0;31m---------------------------------------------------------------------------\u001b[0m",
      "\u001b[0;31mTypeError\u001b[0m                                 Traceback (most recent call last)",
      "\u001b[0;32m/var/folders/nn/c52y0d3j0gq59dpsswchkt2r0000gn/T/ipykernel_38764/261198040.py\u001b[0m in \u001b[0;36m<module>\u001b[0;34m\u001b[0m\n\u001b[0;32m----> 1\u001b[0;31m \u001b[0madd_two\u001b[0m\u001b[0;34m(\u001b[0m\u001b[0;36m4\u001b[0m\u001b[0;34m,\u001b[0m \u001b[0;34m\"I\"\u001b[0m\u001b[0;34m)\u001b[0m\u001b[0;34m\u001b[0m\u001b[0;34m\u001b[0m\u001b[0m\n\u001b[0m",
      "\u001b[0;32m/var/folders/nn/c52y0d3j0gq59dpsswchkt2r0000gn/T/ipykernel_38764/3191240787.py\u001b[0m in \u001b[0;36madd_two\u001b[0;34m(a, b)\u001b[0m\n\u001b[1;32m      1\u001b[0m \u001b[0;32mdef\u001b[0m \u001b[0madd_two\u001b[0m\u001b[0;34m(\u001b[0m\u001b[0ma\u001b[0m\u001b[0;34m,\u001b[0m \u001b[0mb\u001b[0m\u001b[0;34m)\u001b[0m\u001b[0;34m:\u001b[0m\u001b[0;34m\u001b[0m\u001b[0;34m\u001b[0m\u001b[0m\n\u001b[0;32m----> 2\u001b[0;31m     \u001b[0mresult\u001b[0m \u001b[0;34m=\u001b[0m \u001b[0ma\u001b[0m \u001b[0;34m+\u001b[0m \u001b[0mb\u001b[0m\u001b[0;34m\u001b[0m\u001b[0;34m\u001b[0m\u001b[0m\n\u001b[0m\u001b[1;32m      3\u001b[0m     \u001b[0mprint\u001b[0m\u001b[0;34m(\u001b[0m\u001b[0mresult\u001b[0m\u001b[0;34m)\u001b[0m\u001b[0;34m\u001b[0m\u001b[0;34m\u001b[0m\u001b[0m\n",
      "\u001b[0;31mTypeError\u001b[0m: unsupported operand type(s) for +: 'int' and 'str'"
     ]
    }
   ],
   "source": [
    "add_two(4, \"I\")"
   ]
  },
  {
   "cell_type": "code",
   "execution_count": 69,
   "id": "5428f36d",
   "metadata": {},
   "outputs": [
    {
     "name": "stdout",
     "output_type": "stream",
     "text": [
      "4\n",
      "5\n"
     ]
    }
   ],
   "source": [
    "num1 = int(input())\n",
    "num2 = int(input())"
   ]
  },
  {
   "cell_type": "code",
   "execution_count": 71,
   "id": "64e2c0a7",
   "metadata": {},
   "outputs": [
    {
     "name": "stdout",
     "output_type": "stream",
     "text": [
      "9\n"
     ]
    }
   ],
   "source": [
    "addition_result = add_two(num1, num2)"
   ]
  },
  {
   "cell_type": "code",
   "execution_count": 72,
   "id": "fb80bf69",
   "metadata": {},
   "outputs": [
    {
     "name": "stdout",
     "output_type": "stream",
     "text": [
      "None\n"
     ]
    }
   ],
   "source": [
    "print(addition_result)"
   ]
  },
  {
   "cell_type": "code",
   "execution_count": 73,
   "id": "e44e597f",
   "metadata": {},
   "outputs": [],
   "source": [
    "def accept_money(amount):\n",
    "    print(2*amount)"
   ]
  },
  {
   "cell_type": "code",
   "execution_count": 74,
   "id": "ba8fe3d4",
   "metadata": {},
   "outputs": [
    {
     "name": "stdout",
     "output_type": "stream",
     "text": [
      "2000\n"
     ]
    }
   ],
   "source": [
    "accept_money(1000)"
   ]
  },
  {
   "cell_type": "code",
   "execution_count": 75,
   "id": "675518c6",
   "metadata": {},
   "outputs": [
    {
     "name": "stdout",
     "output_type": "stream",
     "text": [
      "2000\n"
     ]
    }
   ],
   "source": [
    "result_money = accept_money(1000)"
   ]
  },
  {
   "cell_type": "code",
   "execution_count": 76,
   "id": "1fbe5718",
   "metadata": {},
   "outputs": [
    {
     "name": "stdout",
     "output_type": "stream",
     "text": [
      "None\n"
     ]
    }
   ],
   "source": [
    "print(result_money)"
   ]
  },
  {
   "cell_type": "code",
   "execution_count": 79,
   "id": "4bccee1b",
   "metadata": {},
   "outputs": [],
   "source": [
    "def accept_money(amount):\n",
    "    print(2 * amount)\n",
    "    \n",
    "    return 2 * amount"
   ]
  },
  {
   "cell_type": "code",
   "execution_count": 80,
   "id": "6e1c35a4",
   "metadata": {
    "scrolled": false
   },
   "outputs": [
    {
     "name": "stdout",
     "output_type": "stream",
     "text": [
      "2000\n"
     ]
    }
   ],
   "source": [
    "result_money = accept_money(1000)"
   ]
  },
  {
   "cell_type": "code",
   "execution_count": 81,
   "id": "ad29faa9",
   "metadata": {
    "scrolled": false
   },
   "outputs": [
    {
     "data": {
      "text/plain": [
       "2000"
      ]
     },
     "execution_count": 81,
     "metadata": {},
     "output_type": "execute_result"
    }
   ],
   "source": [
    "result_money"
   ]
  },
  {
   "cell_type": "code",
   "execution_count": 82,
   "id": "62335cba",
   "metadata": {},
   "outputs": [],
   "source": [
    "result = 4 + 5"
   ]
  },
  {
   "cell_type": "code",
   "execution_count": 83,
   "id": "4fb5f965",
   "metadata": {
    "scrolled": true
   },
   "outputs": [
    {
     "data": {
      "text/plain": [
       "9"
      ]
     },
     "execution_count": 83,
     "metadata": {},
     "output_type": "execute_result"
    }
   ],
   "source": [
    "result"
   ]
  },
  {
   "cell_type": "code",
   "execution_count": 84,
   "id": "ff509937",
   "metadata": {},
   "outputs": [
    {
     "name": "stdout",
     "output_type": "stream",
     "text": [
      "9\n"
     ]
    }
   ],
   "source": [
    "print(\"9\")"
   ]
  },
  {
   "cell_type": "code",
   "execution_count": 85,
   "id": "cb2e69b7",
   "metadata": {},
   "outputs": [
    {
     "data": {
      "text/plain": [
       "'\\nQuestion 3 - \\nWrite a function which takes 2 numbers are arguments and returns the product of those numbers.\\n'"
      ]
     },
     "execution_count": 85,
     "metadata": {},
     "output_type": "execute_result"
    }
   ],
   "source": [
    "'''\n",
    "Question 3 - \n",
    "Write a function which takes 2 numbers are arguments and returns the product of those numbers.\n",
    "'''"
   ]
  },
  {
   "cell_type": "code",
   "execution_count": 86,
   "id": "de8d3b59",
   "metadata": {},
   "outputs": [],
   "source": [
    "def prod(a, b):\n",
    "    print(a * b)"
   ]
  },
  {
   "cell_type": "code",
   "execution_count": 87,
   "id": "f61b3355",
   "metadata": {
    "scrolled": true
   },
   "outputs": [
    {
     "name": "stdout",
     "output_type": "stream",
     "text": [
      "20\n"
     ]
    }
   ],
   "source": [
    "prod(4,5)"
   ]
  },
  {
   "cell_type": "code",
   "execution_count": 88,
   "id": "6f9211fe",
   "metadata": {
    "scrolled": true
   },
   "outputs": [
    {
     "name": "stdout",
     "output_type": "stream",
     "text": [
      "20\n"
     ]
    }
   ],
   "source": [
    "result = prod(4, 5)"
   ]
  },
  {
   "cell_type": "code",
   "execution_count": 89,
   "id": "798bfd06",
   "metadata": {},
   "outputs": [
    {
     "name": "stdout",
     "output_type": "stream",
     "text": [
      "None\n"
     ]
    }
   ],
   "source": [
    "print(result)"
   ]
  },
  {
   "cell_type": "code",
   "execution_count": 90,
   "id": "f9e80e59",
   "metadata": {},
   "outputs": [],
   "source": [
    "def prod(a, b):\n",
    "    return a * b"
   ]
  },
  {
   "cell_type": "code",
   "execution_count": 91,
   "id": "742676b1",
   "metadata": {},
   "outputs": [
    {
     "data": {
      "text/plain": [
       "20"
      ]
     },
     "execution_count": 91,
     "metadata": {},
     "output_type": "execute_result"
    }
   ],
   "source": [
    "prod(4, 5)"
   ]
  },
  {
   "cell_type": "code",
   "execution_count": 92,
   "id": "adb5a896",
   "metadata": {},
   "outputs": [],
   "source": [
    "result = prod(4, 5)"
   ]
  },
  {
   "cell_type": "code",
   "execution_count": 93,
   "id": "0182c9c5",
   "metadata": {},
   "outputs": [
    {
     "data": {
      "text/plain": [
       "20"
      ]
     },
     "execution_count": 93,
     "metadata": {},
     "output_type": "execute_result"
    }
   ],
   "source": [
    "result"
   ]
  },
  {
   "cell_type": "code",
   "execution_count": 96,
   "id": "8c4ce9c9",
   "metadata": {},
   "outputs": [],
   "source": [
    "def random():\n",
    "    print(\"before return\")\n",
    "    return 0\n",
    "    print(\"after return\")"
   ]
  },
  {
   "cell_type": "code",
   "execution_count": 97,
   "id": "7f339b03",
   "metadata": {},
   "outputs": [
    {
     "name": "stdout",
     "output_type": "stream",
     "text": [
      "before return\n"
     ]
    },
    {
     "data": {
      "text/plain": [
       "0"
      ]
     },
     "execution_count": 97,
     "metadata": {},
     "output_type": "execute_result"
    }
   ],
   "source": [
    "random()"
   ]
  },
  {
   "cell_type": "code",
   "execution_count": 99,
   "id": "a9cdbd23",
   "metadata": {},
   "outputs": [
    {
     "name": "stdout",
     "output_type": "stream",
     "text": [
      "this is an argument\n"
     ]
    }
   ],
   "source": [
    "print(\"this is an argument\") #inbuilt function"
   ]
  },
  {
   "cell_type": "code",
   "execution_count": 100,
   "id": "a5548fc0",
   "metadata": {},
   "outputs": [
    {
     "data": {
      "text/plain": [
       "int"
      ]
     },
     "execution_count": 100,
     "metadata": {},
     "output_type": "execute_result"
    }
   ],
   "source": [
    "type(45)"
   ]
  },
  {
   "cell_type": "code",
   "execution_count": 101,
   "id": "d669f280",
   "metadata": {},
   "outputs": [
    {
     "data": {
      "text/plain": [
       "190"
      ]
     },
     "execution_count": 101,
     "metadata": {},
     "output_type": "execute_result"
    }
   ],
   "source": [
    "max(4,5,76,8,190)"
   ]
  },
  {
   "cell_type": "code",
   "execution_count": 102,
   "id": "6c11d77e",
   "metadata": {},
   "outputs": [
    {
     "data": {
      "text/plain": [
       "1"
      ]
     },
     "execution_count": 102,
     "metadata": {},
     "output_type": "execute_result"
    }
   ],
   "source": [
    "min(6,7,1)"
   ]
  },
  {
   "cell_type": "code",
   "execution_count": null,
   "id": "fcdc3874",
   "metadata": {},
   "outputs": [],
   "source": []
  }
 ],
 "metadata": {
  "kernelspec": {
   "display_name": "Python 3 (ipykernel)",
   "language": "python",
   "name": "python3"
  },
  "language_info": {
   "codemirror_mode": {
    "name": "ipython",
    "version": 3
   },
   "file_extension": ".py",
   "mimetype": "text/x-python",
   "name": "python",
   "nbconvert_exporter": "python",
   "pygments_lexer": "ipython3",
   "version": "3.9.5"
  }
 },
 "nbformat": 4,
 "nbformat_minor": 5
}
