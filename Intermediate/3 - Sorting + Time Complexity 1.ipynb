{
 "cells": [
  {
   "cell_type": "code",
   "execution_count": 1,
   "id": "15b9354e",
   "metadata": {},
   "outputs": [],
   "source": [
    "def foo():\n",
    "    x = 1 # 1 operation\n",
    "    y = 2 # 2 operation\n",
    "    z = 3 # 3 operation"
   ]
  },
  {
   "cell_type": "code",
   "execution_count": 17,
   "id": "136dd331",
   "metadata": {},
   "outputs": [],
   "source": [
    "# C(foo()) = 3\n",
    "# O(1)"
   ]
  },
  {
   "cell_type": "code",
   "execution_count": 6,
   "id": "5881c085",
   "metadata": {},
   "outputs": [],
   "source": [
    "def foo(n):\n",
    "    x = 1 # 1\n",
    "    y = 2 # 2\n",
    "    z = 3 # 3"
   ]
  },
  {
   "cell_type": "code",
   "execution_count": 7,
   "id": "af6fecbc",
   "metadata": {},
   "outputs": [],
   "source": [
    "foo(1000)\n",
    "foo(5)\n",
    "foo(545678765435678)\n",
    "\n",
    "# in either of these cases, the number of operations remains constant"
   ]
  },
  {
   "cell_type": "code",
   "execution_count": 13,
   "id": "1474c04e",
   "metadata": {},
   "outputs": [],
   "source": [
    "def foo(n):\n",
    "    for i in range(n):\n",
    "        print(i) # n times"
   ]
  },
  {
   "cell_type": "code",
   "execution_count": 18,
   "id": "5ff3efcc",
   "metadata": {},
   "outputs": [],
   "source": [
    "# C(foo()) = n + constant\n",
    "# O(n)"
   ]
  },
  {
   "cell_type": "code",
   "execution_count": 10,
   "id": "ffd32d56",
   "metadata": {},
   "outputs": [
    {
     "name": "stdout",
     "output_type": "stream",
     "text": [
      "0\n",
      "1\n",
      "2\n",
      "3\n",
      "4\n"
     ]
    }
   ],
   "source": [
    "foo(5) # 5 operations"
   ]
  },
  {
   "cell_type": "code",
   "execution_count": 12,
   "id": "4940a9ae",
   "metadata": {},
   "outputs": [
    {
     "name": "stdout",
     "output_type": "stream",
     "text": [
      "0\n",
      "1\n"
     ]
    }
   ],
   "source": [
    "foo(2) # 2 operations"
   ]
  },
  {
   "cell_type": "code",
   "execution_count": 14,
   "id": "8c20d190",
   "metadata": {},
   "outputs": [],
   "source": [
    "def foo(m, n):\n",
    "    for i in range(n):\n",
    "        print(i)\n",
    "        \n",
    "# Cost function wrt m -> Constant\n",
    "# Cost function wrt n -> linear"
   ]
  },
  {
   "cell_type": "code",
   "execution_count": 15,
   "id": "746f03ec",
   "metadata": {},
   "outputs": [],
   "source": [
    "def foo(m, n):\n",
    "    for i in range(n):\n",
    "        for i in range(m):\n",
    "            print(i)\n",
    "            \n",
    "# Cost function wrt n -> linear"
   ]
  },
  {
   "cell_type": "code",
   "execution_count": 19,
   "id": "238b2262",
   "metadata": {},
   "outputs": [],
   "source": [
    "def foo(n):\n",
    "    for i in range(n):\n",
    "        for j in range(n):\n",
    "            print(i) # n^2 times\n",
    "            \n",
    "    for i in range(n):\n",
    "        print(i) # n times\n",
    "        \n",
    "    x = 5 # 1\n",
    "    y = 6 # 1\n",
    "    \n",
    "# C(foo()) = n^2 + n + 2\n",
    "# O(n^2)"
   ]
  },
  {
   "cell_type": "code",
   "execution_count": 21,
   "id": "b6e2be84",
   "metadata": {},
   "outputs": [
    {
     "data": {
      "text/plain": [
       "'\\nQuestion 1 - \\nGiven an unsorted list.\\nWrite a python function to return a sorted version of it.\\n\\nINPUT - [5,3,2,8,1]\\nOUTPUT - [1,2,3,5,8]\\n'"
      ]
     },
     "execution_count": 21,
     "metadata": {},
     "output_type": "execute_result"
    }
   ],
   "source": [
    "'''\n",
    "Question 1 - \n",
    "Given an unsorted list.\n",
    "Write a python function to return a sorted version of it.\n",
    "\n",
    "INPUT - [5,3,2,8,1]\n",
    "OUTPUT - [1,2,3,5,8]\n",
    "'''"
   ]
  },
  {
   "cell_type": "markdown",
   "id": "1e7c5692",
   "metadata": {},
   "source": [
    "## Bubble Sort"
   ]
  },
  {
   "cell_type": "code",
   "execution_count": 42,
   "id": "b62751d3",
   "metadata": {},
   "outputs": [],
   "source": [
    "a = [5, 1, 2, 4, 7, 3]"
   ]
  },
  {
   "cell_type": "code",
   "execution_count": 45,
   "id": "fe276d2b",
   "metadata": {},
   "outputs": [],
   "source": [
    "def bubble_sort(a):\n",
    "    for i in range(len(a) - 1):\n",
    "        print(a)\n",
    "        print(\"-\"*20)\n",
    "        \n",
    "        for j in range(len(a) - i - 1):\n",
    "            if a[j] > a[j+1]:\n",
    "                a[j], a[j+1] = a[j+1], a[j]\n",
    "                \n",
    "    return a\n",
    "\n",
    "# WORST CASE TC -> O(n^2)"
   ]
  },
  {
   "cell_type": "code",
   "execution_count": 44,
   "id": "5d4fe7ea",
   "metadata": {},
   "outputs": [
    {
     "name": "stdout",
     "output_type": "stream",
     "text": [
      "[5, 1, 2, 4, 7, 3]\n",
      "--------------------\n",
      "[1, 2, 4, 5, 3, 7]\n",
      "--------------------\n",
      "[1, 2, 4, 3, 5, 7]\n",
      "--------------------\n",
      "[1, 2, 3, 4, 5, 7]\n",
      "--------------------\n",
      "[1, 2, 3, 4, 5, 7]\n",
      "--------------------\n"
     ]
    },
    {
     "data": {
      "text/plain": [
       "[1, 2, 3, 4, 5, 7]"
      ]
     },
     "execution_count": 44,
     "metadata": {},
     "output_type": "execute_result"
    }
   ],
   "source": [
    "bubble_sort(a)"
   ]
  },
  {
   "cell_type": "code",
   "execution_count": 35,
   "id": "3fc5037c",
   "metadata": {},
   "outputs": [],
   "source": [
    "a = 5\n",
    "b = 6"
   ]
  },
  {
   "cell_type": "code",
   "execution_count": 36,
   "id": "7f19336f",
   "metadata": {},
   "outputs": [],
   "source": [
    "a,b = b,a"
   ]
  },
  {
   "cell_type": "code",
   "execution_count": 37,
   "id": "3b0a1a61",
   "metadata": {},
   "outputs": [
    {
     "data": {
      "text/plain": [
       "6"
      ]
     },
     "execution_count": 37,
     "metadata": {},
     "output_type": "execute_result"
    }
   ],
   "source": [
    "a"
   ]
  },
  {
   "cell_type": "code",
   "execution_count": 38,
   "id": "c8004ebe",
   "metadata": {},
   "outputs": [
    {
     "data": {
      "text/plain": [
       "5"
      ]
     },
     "execution_count": 38,
     "metadata": {},
     "output_type": "execute_result"
    }
   ],
   "source": [
    "b"
   ]
  },
  {
   "cell_type": "code",
   "execution_count": 61,
   "id": "b97f3387",
   "metadata": {},
   "outputs": [],
   "source": [
    "def bubble_sort_1(a):\n",
    "    count = 0\n",
    "    for i in range(len(a) - 1):\n",
    "        for j in range(len(a) - i - 1):\n",
    "            count += 1\n",
    "            if a[j] > a[j+1]:\n",
    "                a[j], a[j+1] = a[j+1], a[j]\n",
    "                \n",
    "    print(count)\n",
    "                \n",
    "    return a"
   ]
  },
  {
   "cell_type": "code",
   "execution_count": 49,
   "id": "547a13ef",
   "metadata": {},
   "outputs": [],
   "source": [
    "a = [4,3,2,1,7]"
   ]
  },
  {
   "cell_type": "code",
   "execution_count": 50,
   "id": "e9a1fa75",
   "metadata": {},
   "outputs": [
    {
     "name": "stdout",
     "output_type": "stream",
     "text": [
      "[4, 3, 2, 1, 7]\n",
      "--------------------\n",
      "[3, 2, 1, 4, 7]\n",
      "--------------------\n",
      "[2, 1, 3, 4, 7]\n",
      "--------------------\n",
      "[1, 2, 3, 4, 7]\n",
      "--------------------\n",
      "10\n"
     ]
    },
    {
     "data": {
      "text/plain": [
       "[1, 2, 3, 4, 7]"
      ]
     },
     "execution_count": 50,
     "metadata": {},
     "output_type": "execute_result"
    }
   ],
   "source": [
    "bubble_sort_1(a)"
   ]
  },
  {
   "cell_type": "code",
   "execution_count": 57,
   "id": "1759ccb7",
   "metadata": {},
   "outputs": [],
   "source": [
    "a = [1,2,3,4,5,5]"
   ]
  },
  {
   "cell_type": "code",
   "execution_count": 58,
   "id": "670128e9",
   "metadata": {},
   "outputs": [
    {
     "name": "stdout",
     "output_type": "stream",
     "text": [
      "[1, 2, 3, 4, 5, 5]\n",
      "--------------------\n",
      "[1, 2, 3, 4, 5, 5]\n",
      "--------------------\n",
      "[1, 2, 3, 4, 5, 5]\n",
      "--------------------\n",
      "[1, 2, 3, 4, 5, 5]\n",
      "--------------------\n",
      "[1, 2, 3, 4, 5, 5]\n",
      "--------------------\n",
      "15\n"
     ]
    },
    {
     "data": {
      "text/plain": [
       "[1, 2, 3, 4, 5, 5]"
      ]
     },
     "execution_count": 58,
     "metadata": {},
     "output_type": "execute_result"
    }
   ],
   "source": [
    "bubble_sort_1(a)"
   ]
  },
  {
   "cell_type": "code",
   "execution_count": 59,
   "id": "79fce919",
   "metadata": {},
   "outputs": [
    {
     "data": {
      "text/plain": [
       "'\\nQuestion 2 - \\nOptimise bubble sort for best case scenarios - list already sorted.\\n'"
      ]
     },
     "execution_count": 59,
     "metadata": {},
     "output_type": "execute_result"
    }
   ],
   "source": [
    "'''\n",
    "Question 2 - \n",
    "Optimise bubble sort for best case scenarios - list already sorted.\n",
    "'''"
   ]
  },
  {
   "cell_type": "code",
   "execution_count": 60,
   "id": "603c38f6",
   "metadata": {},
   "outputs": [],
   "source": [
    "def bubble_sort_optimised(a):\n",
    "    count = 0\n",
    "    for i in range(len(a) - 1):\n",
    "        is_sorted = True\n",
    "        \n",
    "        for j in range(len(a) - i - 1):\n",
    "            count += 1\n",
    "            if a[j] > a[j+1]:\n",
    "                is_sorted = False\n",
    "                a[j], a[j+1] = a[j+1], a[j]\n",
    "        \n",
    "        if is_sorted:\n",
    "            break\n",
    "                \n",
    "    print(count)\n",
    "                \n",
    "    return a"
   ]
  },
  {
   "cell_type": "code",
   "execution_count": 62,
   "id": "5cdef602",
   "metadata": {},
   "outputs": [],
   "source": [
    "a = [1,2,3,4,5,6]"
   ]
  },
  {
   "cell_type": "code",
   "execution_count": 63,
   "id": "e2b26239",
   "metadata": {},
   "outputs": [
    {
     "name": "stdout",
     "output_type": "stream",
     "text": [
      "15\n"
     ]
    },
    {
     "data": {
      "text/plain": [
       "[1, 2, 3, 4, 5, 6]"
      ]
     },
     "execution_count": 63,
     "metadata": {},
     "output_type": "execute_result"
    }
   ],
   "source": [
    "bubble_sort_1(a)"
   ]
  },
  {
   "cell_type": "code",
   "execution_count": 65,
   "id": "0a82d67f",
   "metadata": {},
   "outputs": [
    {
     "name": "stdout",
     "output_type": "stream",
     "text": [
      "5\n"
     ]
    },
    {
     "data": {
      "text/plain": [
       "[1, 2, 3, 4, 5, 6]"
      ]
     },
     "execution_count": 65,
     "metadata": {},
     "output_type": "execute_result"
    }
   ],
   "source": [
    "bubble_sort_optimised(a)\n",
    "# Best case TC -> Omega(n)\n",
    "# Worst case TC -> O(n^2)"
   ]
  },
  {
   "cell_type": "code",
   "execution_count": 1,
   "id": "46fabfdf",
   "metadata": {},
   "outputs": [],
   "source": [
    "def bubble_sort(a):\n",
    "    for i in range(len(a) - 1):\n",
    "        print(a)\n",
    "        print(\"-\"*20)\n",
    "        \n",
    "        for j in range(len(a) - i - 1):\n",
    "            if a[j] > a[j+1]:\n",
    "                a[j], a[j+1] = a[j+1], a[j]\n",
    "            \n",
    "            print(\"\\t\", a)\n",
    "                \n",
    "    return a"
   ]
  },
  {
   "cell_type": "code",
   "execution_count": 2,
   "id": "5b92d84a",
   "metadata": {},
   "outputs": [],
   "source": [
    "a = [2, 8, 5, 3, 9, 4, 1]"
   ]
  },
  {
   "cell_type": "code",
   "execution_count": 3,
   "id": "b290967e",
   "metadata": {},
   "outputs": [
    {
     "name": "stdout",
     "output_type": "stream",
     "text": [
      "[2, 8, 5, 3, 9, 4, 1]\n",
      "--------------------\n",
      "\t [2, 8, 5, 3, 9, 4, 1]\n",
      "\t [2, 5, 8, 3, 9, 4, 1]\n",
      "\t [2, 5, 3, 8, 9, 4, 1]\n",
      "\t [2, 5, 3, 8, 9, 4, 1]\n",
      "\t [2, 5, 3, 8, 4, 9, 1]\n",
      "\t [2, 5, 3, 8, 4, 1, 9]\n",
      "[2, 5, 3, 8, 4, 1, 9]\n",
      "--------------------\n",
      "\t [2, 5, 3, 8, 4, 1, 9]\n",
      "\t [2, 3, 5, 8, 4, 1, 9]\n",
      "\t [2, 3, 5, 8, 4, 1, 9]\n",
      "\t [2, 3, 5, 4, 8, 1, 9]\n",
      "\t [2, 3, 5, 4, 1, 8, 9]\n",
      "[2, 3, 5, 4, 1, 8, 9]\n",
      "--------------------\n",
      "\t [2, 3, 5, 4, 1, 8, 9]\n",
      "\t [2, 3, 5, 4, 1, 8, 9]\n",
      "\t [2, 3, 4, 5, 1, 8, 9]\n",
      "\t [2, 3, 4, 1, 5, 8, 9]\n",
      "[2, 3, 4, 1, 5, 8, 9]\n",
      "--------------------\n",
      "\t [2, 3, 4, 1, 5, 8, 9]\n",
      "\t [2, 3, 4, 1, 5, 8, 9]\n",
      "\t [2, 3, 1, 4, 5, 8, 9]\n",
      "[2, 3, 1, 4, 5, 8, 9]\n",
      "--------------------\n",
      "\t [2, 3, 1, 4, 5, 8, 9]\n",
      "\t [2, 1, 3, 4, 5, 8, 9]\n",
      "[2, 1, 3, 4, 5, 8, 9]\n",
      "--------------------\n",
      "\t [1, 2, 3, 4, 5, 8, 9]\n"
     ]
    },
    {
     "data": {
      "text/plain": [
       "[1, 2, 3, 4, 5, 8, 9]"
      ]
     },
     "execution_count": 3,
     "metadata": {},
     "output_type": "execute_result"
    }
   ],
   "source": [
    "bubble_sort(a)"
   ]
  },
  {
   "cell_type": "code",
   "execution_count": 3,
   "id": "fbf36090",
   "metadata": {},
   "outputs": [],
   "source": [
    "def bubble_sort(a):\n",
    "    for i in range(len(a) - 1):\n",
    "        count = 0\n",
    "        \n",
    "        for j in range(len(a) - i - 1):\n",
    "            count += 1\n",
    "            if a[j] > a[j+1]:\n",
    "                a[j], a[j+1] = a[j+1], a[j]\n",
    "        \n",
    "        print(count)\n",
    "                \n",
    "    return a\n",
    "\n",
    "# WORST CASE TC -> O(n^2)"
   ]
  },
  {
   "cell_type": "code",
   "execution_count": 4,
   "id": "396de4fd",
   "metadata": {},
   "outputs": [
    {
     "name": "stdout",
     "output_type": "stream",
     "text": [
      "5\n",
      "4\n",
      "3\n",
      "2\n",
      "1\n"
     ]
    },
    {
     "data": {
      "text/plain": [
       "[4, 5, 6, 7, 8, 9]"
      ]
     },
     "execution_count": 4,
     "metadata": {},
     "output_type": "execute_result"
    }
   ],
   "source": [
    "bubble_sort([4,5,6,7,8,9])"
   ]
  },
  {
   "cell_type": "code",
   "execution_count": null,
   "id": "e1a9541d",
   "metadata": {},
   "outputs": [],
   "source": []
  }
 ],
 "metadata": {
  "kernelspec": {
   "display_name": "Python 3 (ipykernel)",
   "language": "python",
   "name": "python3"
  },
  "language_info": {
   "codemirror_mode": {
    "name": "ipython",
    "version": 3
   },
   "file_extension": ".py",
   "mimetype": "text/x-python",
   "name": "python",
   "nbconvert_exporter": "python",
   "pygments_lexer": "ipython3",
   "version": "3.9.5"
  }
 },
 "nbformat": 4,
 "nbformat_minor": 5
}
