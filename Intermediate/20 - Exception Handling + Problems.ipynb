{
 "cells": [
  {
   "cell_type": "code",
   "execution_count": 2,
   "id": "4c3a1ae9",
   "metadata": {},
   "outputs": [
    {
     "ename": "NameError",
     "evalue": "name 'random' is not defined",
     "output_type": "error",
     "traceback": [
      "\u001b[0;31m---------------------------------------------------------------------------\u001b[0m",
      "\u001b[0;31mNameError\u001b[0m                                 Traceback (most recent call last)",
      "\u001b[0;32m/var/folders/nn/c52y0d3j0gq59dpsswchkt2r0000gn/T/ipykernel_13505/2295140055.py\u001b[0m in \u001b[0;36m<module>\u001b[0;34m\u001b[0m\n\u001b[0;32m----> 1\u001b[0;31m \u001b[0mprint\u001b[0m\u001b[0;34m(\u001b[0m\u001b[0mrandom\u001b[0m\u001b[0;34m)\u001b[0m \u001b[0;31m# variable not defined\u001b[0m\u001b[0;34m\u001b[0m\u001b[0;34m\u001b[0m\u001b[0m\n\u001b[0m",
      "\u001b[0;31mNameError\u001b[0m: name 'random' is not defined"
     ]
    }
   ],
   "source": [
    "print(random) # variable not defined"
   ]
  },
  {
   "cell_type": "code",
   "execution_count": 4,
   "id": "613376fd",
   "metadata": {},
   "outputs": [
    {
     "ename": "IndentationError",
     "evalue": "expected an indented block (1537395659.py, line 1)",
     "output_type": "error",
     "traceback": [
      "\u001b[0;36m  File \u001b[0;32m\"/var/folders/nn/c52y0d3j0gq59dpsswchkt2r0000gn/T/ipykernel_13505/1537395659.py\"\u001b[0;36m, line \u001b[0;32m1\u001b[0m\n\u001b[0;31m    if 53: # indented block exception\u001b[0m\n\u001b[0m                                     ^\u001b[0m\n\u001b[0;31mIndentationError\u001b[0m\u001b[0;31m:\u001b[0m expected an indented block\n"
     ]
    }
   ],
   "source": [
    "if 53: # indented block exception"
   ]
  },
  {
   "cell_type": "code",
   "execution_count": 5,
   "id": "8dae64e1",
   "metadata": {},
   "outputs": [
    {
     "ename": "ModuleNotFoundError",
     "evalue": "No module named 'random_library'",
     "output_type": "error",
     "traceback": [
      "\u001b[0;31m---------------------------------------------------------------------------\u001b[0m",
      "\u001b[0;31mModuleNotFoundError\u001b[0m                       Traceback (most recent call last)",
      "\u001b[0;32m/var/folders/nn/c52y0d3j0gq59dpsswchkt2r0000gn/T/ipykernel_13505/89223032.py\u001b[0m in \u001b[0;36m<module>\u001b[0;34m\u001b[0m\n\u001b[0;32m----> 1\u001b[0;31m \u001b[0;32mimport\u001b[0m \u001b[0mrandom_library\u001b[0m\u001b[0;34m\u001b[0m\u001b[0;34m\u001b[0m\u001b[0m\n\u001b[0m",
      "\u001b[0;31mModuleNotFoundError\u001b[0m: No module named 'random_library'"
     ]
    }
   ],
   "source": [
    "import random_library"
   ]
  },
  {
   "cell_type": "code",
   "execution_count": 7,
   "id": "c6dffa9f",
   "metadata": {},
   "outputs": [
    {
     "ename": "AttributeError",
     "evalue": "'str' object has no attribute 'sort'",
     "output_type": "error",
     "traceback": [
      "\u001b[0;31m---------------------------------------------------------------------------\u001b[0m",
      "\u001b[0;31mAttributeError\u001b[0m                            Traceback (most recent call last)",
      "\u001b[0;32m/var/folders/nn/c52y0d3j0gq59dpsswchkt2r0000gn/T/ipykernel_13505/510852927.py\u001b[0m in \u001b[0;36m<module>\u001b[0;34m\u001b[0m\n\u001b[0;32m----> 1\u001b[0;31m \u001b[0;34m\"random string wried\"\u001b[0m\u001b[0;34m.\u001b[0m\u001b[0msort\u001b[0m\u001b[0;34m(\u001b[0m\u001b[0;34m)\u001b[0m\u001b[0;34m\u001b[0m\u001b[0;34m\u001b[0m\u001b[0m\n\u001b[0m",
      "\u001b[0;31mAttributeError\u001b[0m: 'str' object has no attribute 'sort'"
     ]
    }
   ],
   "source": [
    "\"random string wried\".sort()"
   ]
  },
  {
   "cell_type": "code",
   "execution_count": 8,
   "id": "f70edc7a",
   "metadata": {},
   "outputs": [
    {
     "ename": "ZeroDivisionError",
     "evalue": "integer division or modulo by zero",
     "output_type": "error",
     "traceback": [
      "\u001b[0;31m---------------------------------------------------------------------------\u001b[0m",
      "\u001b[0;31mZeroDivisionError\u001b[0m                         Traceback (most recent call last)",
      "\u001b[0;32m/var/folders/nn/c52y0d3j0gq59dpsswchkt2r0000gn/T/ipykernel_13505/914108395.py\u001b[0m in \u001b[0;36m<module>\u001b[0;34m\u001b[0m\n\u001b[0;32m----> 1\u001b[0;31m \u001b[0;36m1\u001b[0m \u001b[0;34m//\u001b[0m \u001b[0;36m0\u001b[0m\u001b[0;34m\u001b[0m\u001b[0;34m\u001b[0m\u001b[0m\n\u001b[0m",
      "\u001b[0;31mZeroDivisionError\u001b[0m: integer division or modulo by zero"
     ]
    }
   ],
   "source": [
    "1 // 0"
   ]
  },
  {
   "cell_type": "code",
   "execution_count": 11,
   "id": "7ccf97e6",
   "metadata": {},
   "outputs": [],
   "source": [
    "# dir(__builtins__)"
   ]
  },
  {
   "cell_type": "code",
   "execution_count": 12,
   "id": "43157600",
   "metadata": {},
   "outputs": [],
   "source": [
    "def divide(a, b):\n",
    "    return a / b"
   ]
  },
  {
   "cell_type": "code",
   "execution_count": 13,
   "id": "4356922d",
   "metadata": {},
   "outputs": [
    {
     "ename": "ZeroDivisionError",
     "evalue": "division by zero",
     "output_type": "error",
     "traceback": [
      "\u001b[0;31m---------------------------------------------------------------------------\u001b[0m",
      "\u001b[0;31mZeroDivisionError\u001b[0m                         Traceback (most recent call last)",
      "\u001b[0;32m/var/folders/nn/c52y0d3j0gq59dpsswchkt2r0000gn/T/ipykernel_13505/4088679331.py\u001b[0m in \u001b[0;36m<module>\u001b[0;34m\u001b[0m\n\u001b[0;32m----> 1\u001b[0;31m \u001b[0mdivide\u001b[0m\u001b[0;34m(\u001b[0m\u001b[0;36m4\u001b[0m\u001b[0;34m,\u001b[0m\u001b[0;36m0\u001b[0m\u001b[0;34m)\u001b[0m\u001b[0;34m\u001b[0m\u001b[0;34m\u001b[0m\u001b[0m\n\u001b[0m",
      "\u001b[0;32m/var/folders/nn/c52y0d3j0gq59dpsswchkt2r0000gn/T/ipykernel_13505/769709219.py\u001b[0m in \u001b[0;36mdivide\u001b[0;34m(a, b)\u001b[0m\n\u001b[1;32m      1\u001b[0m \u001b[0;32mdef\u001b[0m \u001b[0mdivide\u001b[0m\u001b[0;34m(\u001b[0m\u001b[0ma\u001b[0m\u001b[0;34m,\u001b[0m \u001b[0mb\u001b[0m\u001b[0;34m)\u001b[0m\u001b[0;34m:\u001b[0m\u001b[0;34m\u001b[0m\u001b[0;34m\u001b[0m\u001b[0m\n\u001b[0;32m----> 2\u001b[0;31m     \u001b[0;32mreturn\u001b[0m \u001b[0ma\u001b[0m \u001b[0;34m/\u001b[0m \u001b[0mb\u001b[0m\u001b[0;34m\u001b[0m\u001b[0;34m\u001b[0m\u001b[0m\n\u001b[0m",
      "\u001b[0;31mZeroDivisionError\u001b[0m: division by zero"
     ]
    }
   ],
   "source": [
    "divide(4,0)"
   ]
  },
  {
   "cell_type": "code",
   "execution_count": 17,
   "id": "958a5927",
   "metadata": {},
   "outputs": [
    {
     "name": "stdout",
     "output_type": "stream",
     "text": [
      "Why are you trying to divide by zero?\n"
     ]
    }
   ],
   "source": [
    "try:\n",
    "    print(divide(4, 0))\n",
    "except:\n",
    "    print(\"Why are you trying to divide by zero?\")"
   ]
  },
  {
   "cell_type": "code",
   "execution_count": 19,
   "id": "d0127b89",
   "metadata": {},
   "outputs": [
    {
     "name": "stdout",
     "output_type": "stream",
     "text": [
      "Exception Occurred - division by zero\n"
     ]
    }
   ],
   "source": [
    "try:\n",
    "    print(divide(4, 0))\n",
    "except Exception as e:\n",
    "    print(f\"Exception Occurred - {e}\")"
   ]
  },
  {
   "cell_type": "code",
   "execution_count": 21,
   "id": "bf1e5fd5",
   "metadata": {},
   "outputs": [],
   "source": [
    "import keyword"
   ]
  },
  {
   "cell_type": "code",
   "execution_count": 23,
   "id": "f58805da",
   "metadata": {},
   "outputs": [
    {
     "data": {
      "text/plain": [
       "36"
      ]
     },
     "execution_count": 23,
     "metadata": {},
     "output_type": "execute_result"
    }
   ],
   "source": [
    "len(keyword.kwlist)"
   ]
  },
  {
   "cell_type": "code",
   "execution_count": 24,
   "id": "413d97f4",
   "metadata": {},
   "outputs": [
    {
     "name": "stdout",
     "output_type": "stream",
     "text": [
      "Current element - 2\n",
      "Result - 2.5\n",
      "--------------------\n",
      "Current element - 0\n",
      "Error Occured - division by zero\n",
      "--------------------\n",
      "Current element - hello\n",
      "Error Occured - invalid literal for int() with base 10: 'hello'\n",
      "--------------------\n",
      "Current element - None\n",
      "Error Occured - int() argument must be a string, a bytes-like object or a number, not 'NoneType'\n",
      "--------------------\n",
      "Execution Successful!\n"
     ]
    }
   ],
   "source": [
    "l1 = [2, 0, \"hello\", None]\n",
    "\n",
    "for element in l1:\n",
    "    try:\n",
    "        print(f\"Current element - {element}\")\n",
    "        result = 5 / int(element)\n",
    "        print(f\"Result - {result}\")\n",
    "    except Exception as e:\n",
    "        print(f\"Error Occured - {e}\")\n",
    "        \n",
    "    print(\"-\"*20)\n",
    "    \n",
    "print(\"Execution Successful!\")"
   ]
  },
  {
   "cell_type": "code",
   "execution_count": 25,
   "id": "864322c3",
   "metadata": {},
   "outputs": [
    {
     "name": "stdout",
     "output_type": "stream",
     "text": [
      "Current element - 2\n",
      "Result - 2.5\n",
      "--------------------\n",
      "Current element - 0\n",
      "Result - 5\n",
      "--------------------\n",
      "Current element - hello\n",
      "Error Occured - invalid literal for int() with base 10: 'hello'\n",
      "--------------------\n",
      "Current element - None\n",
      "Error Occured - int() argument must be a string, a bytes-like object or a number, not 'NoneType'\n",
      "--------------------\n",
      "Execution Successful!\n"
     ]
    }
   ],
   "source": [
    "l1 = [2, 0, \"hello\", None]\n",
    "\n",
    "for element in l1:\n",
    "    try: # if\n",
    "        print(f\"Current element - {element}\")\n",
    "        result = 5 / int(element)\n",
    "        print(f\"Result - {result}\")\n",
    "    except ZeroDivisionError as z: # elif\n",
    "        print(\"Result - 5\")\n",
    "    except Exception as e: # else\n",
    "        print(f\"Error Occured - {e}\")\n",
    "        \n",
    "    print(\"-\"*20)\n",
    "    \n",
    "print(\"Execution Successful!\")"
   ]
  },
  {
   "cell_type": "code",
   "execution_count": 31,
   "id": "df4eae64",
   "metadata": {},
   "outputs": [
    {
     "name": "stdout",
     "output_type": "stream",
     "text": [
      "Exception occured.\n",
      "I run no matter what!\n"
     ]
    }
   ],
   "source": [
    "try:\n",
    "    divide(4,0)\n",
    "except:\n",
    "    print(\"Exception occured.\")\n",
    "else: # will only run in case of no exception\n",
    "    print(\"Exception did not occur.\")\n",
    "finally: # will always run after everything\n",
    "    print(\"I run no matter what!\")\n",
    "    \n",
    "# HOMEWORK\n",
    "# WHY FINALLY?"
   ]
  },
  {
   "cell_type": "code",
   "execution_count": 33,
   "id": "d91e9d8e",
   "metadata": {},
   "outputs": [
    {
     "name": "stdout",
     "output_type": "stream",
     "text": [
      "Exception\n",
      "Finally\n"
     ]
    }
   ],
   "source": [
    "try:\n",
    "    1/0\n",
    "except:\n",
    "    print(\"Exception\")\n",
    "else:\n",
    "    print(\"Else\")\n",
    "finally:\n",
    "    print(\"Finally\")"
   ]
  },
  {
   "cell_type": "code",
   "execution_count": 35,
   "id": "1bd0ef44",
   "metadata": {},
   "outputs": [
    {
     "ename": "Exception",
     "evalue": "My custom exception!",
     "output_type": "error",
     "traceback": [
      "\u001b[0;31m---------------------------------------------------------------------------\u001b[0m",
      "\u001b[0;31mException\u001b[0m                                 Traceback (most recent call last)",
      "\u001b[0;32m/var/folders/nn/c52y0d3j0gq59dpsswchkt2r0000gn/T/ipykernel_13505/2179475036.py\u001b[0m in \u001b[0;36m<module>\u001b[0;34m\u001b[0m\n\u001b[0;32m----> 1\u001b[0;31m \u001b[0;32mraise\u001b[0m \u001b[0mException\u001b[0m\u001b[0;34m(\u001b[0m\u001b[0;34m\"My custom exception!\"\u001b[0m\u001b[0;34m)\u001b[0m\u001b[0;34m\u001b[0m\u001b[0;34m\u001b[0m\u001b[0m\n\u001b[0m",
      "\u001b[0;31mException\u001b[0m: My custom exception!"
     ]
    }
   ],
   "source": [
    "raise Exception(\"My custom exception!\")"
   ]
  },
  {
   "cell_type": "code",
   "execution_count": 36,
   "id": "99b8e0e4",
   "metadata": {},
   "outputs": [],
   "source": [
    "class CustomException(Exception):\n",
    "    def __str__(self):\n",
    "        return \"Custom Exception String!\""
   ]
  },
  {
   "cell_type": "code",
   "execution_count": 37,
   "id": "38f1308a",
   "metadata": {},
   "outputs": [
    {
     "ename": "CustomException",
     "evalue": "Custom Exception String!",
     "output_type": "error",
     "traceback": [
      "\u001b[0;31m---------------------------------------------------------------------------\u001b[0m",
      "\u001b[0;31mCustomException\u001b[0m                           Traceback (most recent call last)",
      "\u001b[0;32m/var/folders/nn/c52y0d3j0gq59dpsswchkt2r0000gn/T/ipykernel_13505/2293553209.py\u001b[0m in \u001b[0;36m<module>\u001b[0;34m\u001b[0m\n\u001b[0;32m----> 1\u001b[0;31m \u001b[0;32mraise\u001b[0m \u001b[0mCustomException\u001b[0m\u001b[0;34m\u001b[0m\u001b[0;34m\u001b[0m\u001b[0m\n\u001b[0m",
      "\u001b[0;31mCustomException\u001b[0m: Custom Exception String!"
     ]
    }
   ],
   "source": [
    "raise CustomException"
   ]
  },
  {
   "cell_type": "code",
   "execution_count": null,
   "id": "94d49390",
   "metadata": {},
   "outputs": [],
   "source": [
    "from functools import reduce\n",
    "\n",
    "array = {1, 2, 3}\n",
    "result = reduce(lambda P, x: P + [subset | {x} for subset in P], array , [set()])\n",
    "print(result)"
   ]
  },
  {
   "cell_type": "code",
   "execution_count": 38,
   "id": "9300002a",
   "metadata": {},
   "outputs": [
    {
     "data": {
      "text/plain": [
       "{1}"
      ]
     },
     "execution_count": 38,
     "metadata": {},
     "output_type": "execute_result"
    }
   ],
   "source": [
    "set() | {1}"
   ]
  },
  {
   "cell_type": "code",
   "execution_count": 49,
   "id": "d23acaaf",
   "metadata": {},
   "outputs": [],
   "source": [
    "class Parent:\n",
    "    def test(self):\n",
    "        print(\"test of parent called\", end=\", \")\n",
    "        \n",
    "class Child1(Parent):\n",
    "    def test(self):\n",
    "        print(\"test of child1 called\", end=\", \")\n",
    "        # super().test()\n",
    "        \n",
    "class Child2(Parent):\n",
    "    def test(self):\n",
    "        print(\"test of child2 called\", end=\", \")\n",
    "        super().test()\n",
    "        \n",
    "class Brother(Child1, Child2):\n",
    "    def test2(self):\n",
    "        print(\"test of Brother called\", end=\", \" )"
   ]
  },
  {
   "cell_type": "code",
   "execution_count": 50,
   "id": "d4f99359",
   "metadata": {},
   "outputs": [
    {
     "name": "stdout",
     "output_type": "stream",
     "text": [
      "test of child1 called, "
     ]
    }
   ],
   "source": [
    "obj = Brother()\n",
    "obj.test()"
   ]
  },
  {
   "cell_type": "code",
   "execution_count": 51,
   "id": "4606998e",
   "metadata": {},
   "outputs": [],
   "source": [
    "string = '''\n",
    "     CREATE TABLE abc\n",
    "     create TABLE XYZ\n",
    "'''"
   ]
  },
  {
   "cell_type": "code",
   "execution_count": 54,
   "id": "22ff5f32",
   "metadata": {},
   "outputs": [],
   "source": [
    "string = string.replace(\"CREATE\", \"create\")\n",
    "string = string.replace(\"TABLE\", \"table\")"
   ]
  },
  {
   "cell_type": "code",
   "execution_count": 55,
   "id": "ae90de69",
   "metadata": {},
   "outputs": [
    {
     "data": {
      "text/plain": [
       "'\\n     create table abc\\n     create table XYZ\\n'"
      ]
     },
     "execution_count": 55,
     "metadata": {},
     "output_type": "execute_result"
    }
   ],
   "source": [
    "string"
   ]
  },
  {
   "cell_type": "code",
   "execution_count": 60,
   "id": "fa3121c1",
   "metadata": {},
   "outputs": [
    {
     "data": {
      "text/plain": [
       "'random string'"
      ]
     },
     "execution_count": 60,
     "metadata": {},
     "output_type": "execute_result"
    }
   ],
   "source": [
    "\"   \\n\\n  random string \\t\".strip()"
   ]
  },
  {
   "cell_type": "code",
   "execution_count": 56,
   "id": "f98a5a74",
   "metadata": {
    "scrolled": true
   },
   "outputs": [
    {
     "data": {
      "text/plain": [
       "['\\n     ', ' abc\\n     ', ' XYZ\\n']"
      ]
     },
     "execution_count": 56,
     "metadata": {},
     "output_type": "execute_result"
    }
   ],
   "source": [
    "string.split(\"create table\")"
   ]
  },
  {
   "cell_type": "code",
   "execution_count": 57,
   "id": "e0203775",
   "metadata": {},
   "outputs": [],
   "source": [
    "m = map(lambda x: x.strip(), string.split(\"create table\"))"
   ]
  },
  {
   "cell_type": "code",
   "execution_count": 58,
   "id": "359baab2",
   "metadata": {},
   "outputs": [],
   "source": [
    "result = list(m)"
   ]
  },
  {
   "cell_type": "code",
   "execution_count": 59,
   "id": "b47b3b0f",
   "metadata": {},
   "outputs": [
    {
     "data": {
      "text/plain": [
       "['', 'abc', 'XYZ']"
      ]
     },
     "execution_count": 59,
     "metadata": {},
     "output_type": "execute_result"
    }
   ],
   "source": [
    "result"
   ]
  },
  {
   "cell_type": "code",
   "execution_count": 61,
   "id": "09cb7f23",
   "metadata": {},
   "outputs": [],
   "source": [
    "result = list(filter(lambda x: len(x) != 0, result))"
   ]
  },
  {
   "cell_type": "code",
   "execution_count": 62,
   "id": "ded48a3e",
   "metadata": {},
   "outputs": [
    {
     "data": {
      "text/plain": [
       "['abc', 'XYZ']"
      ]
     },
     "execution_count": 62,
     "metadata": {},
     "output_type": "execute_result"
    }
   ],
   "source": [
    "result"
   ]
  },
  {
   "cell_type": "code",
   "execution_count": null,
   "id": "25a10505",
   "metadata": {},
   "outputs": [],
   "source": []
  }
 ],
 "metadata": {
  "kernelspec": {
   "display_name": "Python 3 (ipykernel)",
   "language": "python",
   "name": "python3"
  },
  "language_info": {
   "codemirror_mode": {
    "name": "ipython",
    "version": 3
   },
   "file_extension": ".py",
   "mimetype": "text/x-python",
   "name": "python",
   "nbconvert_exporter": "python",
   "pygments_lexer": "ipython3",
   "version": "3.9.5"
  }
 },
 "nbformat": 4,
 "nbformat_minor": 5
}
