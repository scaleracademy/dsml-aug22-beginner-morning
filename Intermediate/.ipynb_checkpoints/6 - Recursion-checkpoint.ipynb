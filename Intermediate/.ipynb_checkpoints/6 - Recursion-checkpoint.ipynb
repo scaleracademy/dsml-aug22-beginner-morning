{
 "cells": [
  {
   "cell_type": "code",
   "execution_count": 2,
   "id": "34e636be",
   "metadata": {},
   "outputs": [
    {
     "data": {
      "text/plain": [
       "'\\nQuestion 1 - \\nWrite a program to calculate the factorial of a number.\\n\\nINPUT - 5\\nOUTPUT - 120\\nEXPLANATION - 5*4*3*2*1\\n\\nIMPORTANT - \\n1! = 1\\n0! = 1\\n'"
      ]
     },
     "execution_count": 2,
     "metadata": {},
     "output_type": "execute_result"
    }
   ],
   "source": [
    "'''\n",
    "Question 1 - \n",
    "Write a program to calculate the factorial of a number.\n",
    "\n",
    "INPUT - 5\n",
    "OUTPUT - 120\n",
    "EXPLANATION - 5*4*3*2*1\n",
    "\n",
    "IMPORTANT - \n",
    "1! = 1\n",
    "0! = 1\n",
    "'''"
   ]
  },
  {
   "cell_type": "code",
   "execution_count": 4,
   "id": "68184366",
   "metadata": {},
   "outputs": [],
   "source": [
    "def factorial_iterative(n):\n",
    "    fact = 1\n",
    "    \n",
    "    if n == 0 or n == 1:\n",
    "        return 1\n",
    "    elif n < 0:\n",
    "        return \"Incorrect Input\"\n",
    "    \n",
    "    for i in range(2, n+1):\n",
    "        fact *= i\n",
    "        \n",
    "    # for i in range(n, 1, -1):\n",
    "    #     fact *= i\n",
    "        \n",
    "    return fact"
   ]
  },
  {
   "cell_type": "code",
   "execution_count": 6,
   "id": "0d75875b",
   "metadata": {},
   "outputs": [
    {
     "data": {
      "text/plain": [
       "24"
      ]
     },
     "execution_count": 6,
     "metadata": {},
     "output_type": "execute_result"
    }
   ],
   "source": [
    "factorial_iterative(4)"
   ]
  },
  {
   "cell_type": "code",
   "execution_count": 7,
   "id": "61af5603",
   "metadata": {},
   "outputs": [],
   "source": [
    "def factorial(n):\n",
    "    if n < 0:\n",
    "        return \"Incorrect Input!\"\n",
    "    \n",
    "    if n == 1 or n == 0:\n",
    "        return 1\n",
    "    \n",
    "    return n * factorial(n-1) # n times"
   ]
  },
  {
   "cell_type": "code",
   "execution_count": 10,
   "id": "7b555d1c",
   "metadata": {},
   "outputs": [
    {
     "data": {
      "text/plain": [
       "720"
      ]
     },
     "execution_count": 10,
     "metadata": {},
     "output_type": "execute_result"
    }
   ],
   "source": [
    "factorial(6)"
   ]
  },
  {
   "cell_type": "code",
   "execution_count": 11,
   "id": "dde26f6e",
   "metadata": {},
   "outputs": [
    {
     "data": {
      "text/plain": [
       "'\\nQuestion 2 - \\nImplement Merge Sort using recursion.\\n'"
      ]
     },
     "execution_count": 11,
     "metadata": {},
     "output_type": "execute_result"
    }
   ],
   "source": [
    "'''\n",
    "Question 2 - \n",
    "Implement Merge Sort using recursion.\n",
    "'''"
   ]
  },
  {
   "cell_type": "code",
   "execution_count": 14,
   "id": "9b7e0adb",
   "metadata": {},
   "outputs": [],
   "source": [
    "def merge_two_lists(left, right):\n",
    "    i, j = 0, 0\n",
    "\n",
    "    result = []\n",
    "\n",
    "    while i < len(left) and j < len(right):\n",
    "        if left[i] <= right[j]:\n",
    "            result.append(left[i])\n",
    "            i += 1\n",
    "        else:\n",
    "            result.append(right[j])\n",
    "            j += 1\n",
    "\n",
    "    if i < len(left):\n",
    "        result += left[i:]\n",
    "    elif j < len(right):\n",
    "        result += right[j:]\n",
    "            \n",
    "    return result"
   ]
  },
  {
   "cell_type": "code",
   "execution_count": 15,
   "id": "c9f3af81",
   "metadata": {},
   "outputs": [
    {
     "data": {
      "text/plain": [
       "[1, 2, 3, 4, 5]"
      ]
     },
     "execution_count": 15,
     "metadata": {},
     "output_type": "execute_result"
    }
   ],
   "source": [
    "merge_two_lists([1,4,5], [2,3])"
   ]
  },
  {
   "cell_type": "code",
   "execution_count": 19,
   "id": "17e6c9f1",
   "metadata": {},
   "outputs": [],
   "source": [
    "a = [4,5,1,2,3]"
   ]
  },
  {
   "cell_type": "code",
   "execution_count": 16,
   "id": "62af847d",
   "metadata": {},
   "outputs": [],
   "source": [
    "def merge_sort(a):\n",
    "    # BASE CONDITION\n",
    "    if len(a) <= 1:\n",
    "        return a\n",
    "    \n",
    "    n = len(a)\n",
    "    \n",
    "    # RECURSIVE CODE\n",
    "    left = merge_sort(a[:n//2])\n",
    "    right = merge_sort(a[n//2:])\n",
    "    \n",
    "    # MERGING CODE\n",
    "    i, j = 0, 0\n",
    "    \n",
    "    result = []\n",
    "    \n",
    "    while i < len(left) and j < len(right):\n",
    "        if left[i] <= right[j]:\n",
    "            result.append(left[i])\n",
    "            i += 1\n",
    "        else:\n",
    "            result.append(right[j])\n",
    "            j += 1\n",
    "            \n",
    "    if i < len(left):\n",
    "        result += left[i:]\n",
    "    elif j < len(right):\n",
    "        result += right[j:]\n",
    "        \n",
    "    return result"
   ]
  },
  {
   "cell_type": "code",
   "execution_count": 27,
   "id": "c9234a01",
   "metadata": {},
   "outputs": [],
   "source": []
  },
  {
   "cell_type": "code",
   "execution_count": 28,
   "id": "fea9d2af",
   "metadata": {
    "scrolled": true
   },
   "outputs": [
    {
     "name": "stdout",
     "output_type": "stream",
     "text": [
      "[4, 5, 1, 2, 3]\n",
      "[4, 5]\n",
      "[1, 2, 3]\n",
      "--------------------\n",
      "[]\n",
      "[1]\n",
      "[1, 2]\n",
      "[1, 2, 3, 4, 5]\n"
     ]
    },
    {
     "data": {
      "text/plain": [
       "[1, 2, 3, 4, 5]"
      ]
     },
     "execution_count": 28,
     "metadata": {},
     "output_type": "execute_result"
    }
   ],
   "source": [
    "merge_sort_1(a)"
   ]
  },
  {
   "cell_type": "code",
   "execution_count": null,
   "id": "4794e3fe",
   "metadata": {},
   "outputs": [],
   "source": []
  }
 ],
 "metadata": {
  "kernelspec": {
   "display_name": "Python 3 (ipykernel)",
   "language": "python",
   "name": "python3"
  },
  "language_info": {
   "codemirror_mode": {
    "name": "ipython",
    "version": 3
   },
   "file_extension": ".py",
   "mimetype": "text/x-python",
   "name": "python",
   "nbconvert_exporter": "python",
   "pygments_lexer": "ipython3",
   "version": "3.9.5"
  }
 },
 "nbformat": 4,
 "nbformat_minor": 5
}
