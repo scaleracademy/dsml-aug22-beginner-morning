{
 "cells": [
  {
   "cell_type": "code",
   "execution_count": 1,
   "id": "b7b5601c",
   "metadata": {},
   "outputs": [
    {
     "data": {
      "text/plain": [
       "7.416198487095663"
      ]
     },
     "execution_count": 1,
     "metadata": {},
     "output_type": "execute_result"
    }
   ],
   "source": [
    "55**0.5"
   ]
  },
  {
   "cell_type": "code",
   "execution_count": 8,
   "id": "cdb1a01a",
   "metadata": {},
   "outputs": [],
   "source": [
    "students = [(\"Asha\", 4),(\"Bipin\", 1), (\"Sathish\", 1), (\"Vishakha\", 3), (\"Arup\", 2), (\"Hemanth\", 2)]"
   ]
  },
  {
   "cell_type": "code",
   "execution_count": 9,
   "id": "0e0a56df",
   "metadata": {},
   "outputs": [],
   "source": [
    "grades = list(set(map(lambda x: x[1], students)))"
   ]
  },
  {
   "cell_type": "code",
   "execution_count": 10,
   "id": "b393875f",
   "metadata": {},
   "outputs": [
    {
     "data": {
      "text/plain": [
       "[1, 2, 3, 4]"
      ]
     },
     "execution_count": 10,
     "metadata": {},
     "output_type": "execute_result"
    }
   ],
   "source": [
    "grades"
   ]
  },
  {
   "cell_type": "code",
   "execution_count": 11,
   "id": "2dbd7c7b",
   "metadata": {},
   "outputs": [],
   "source": [
    "second_lowest_grade = grades[1]"
   ]
  },
  {
   "cell_type": "code",
   "execution_count": 12,
   "id": "13a5c170",
   "metadata": {},
   "outputs": [
    {
     "name": "stdout",
     "output_type": "stream",
     "text": [
      "Arup\n",
      "Hemanth\n"
     ]
    }
   ],
   "source": [
    "for name, grade in students:\n",
    "    if grade == second_lowest_grade:\n",
    "        print(name)"
   ]
  },
  {
   "cell_type": "code",
   "execution_count": 13,
   "id": "7ed6133a",
   "metadata": {},
   "outputs": [
    {
     "name": "stdout",
     "output_type": "stream",
     "text": [
      "[(True, 64), (False, 125), (True, 216)]\n"
     ]
    }
   ],
   "source": [
    "class solution:\n",
    "    def initial(self, sets):\n",
    "        return self.final(sets)\n",
    "    \n",
    "    def final(self, sets):\n",
    "        return list(map(lambda x: ((x**3)%2==0,x**3),sets))\n",
    "\n",
    "print(solution().initial([4,5,6]))"
   ]
  },
  {
   "cell_type": "code",
   "execution_count": 23,
   "id": "eab743b4",
   "metadata": {},
   "outputs": [],
   "source": [
    "def check_valid_email(email):\n",
    "    parts = email.split(\"@\")\n",
    "    \n",
    "    if len(parts) != 2:\n",
    "        return \"Not Valid\"\n",
    "    \n",
    "    if len(parts[0]) == 0 or len(parts[1]) == 0:\n",
    "        return \"Not Valid\"\n",
    "    \n",
    "    if len(parts[0]) > 20:\n",
    "        return \"Not Valid\"\n",
    "    \n",
    "    return \"Valid\""
   ]
  },
  {
   "cell_type": "code",
   "execution_count": 20,
   "id": "f725a9c0",
   "metadata": {},
   "outputs": [],
   "source": [
    "result = check_valid_email(\"randomemail.com\")"
   ]
  },
  {
   "cell_type": "code",
   "execution_count": 21,
   "id": "aa14479e",
   "metadata": {},
   "outputs": [
    {
     "data": {
      "text/plain": [
       "'Not Valid'"
      ]
     },
     "execution_count": 21,
     "metadata": {},
     "output_type": "execute_result"
    }
   ],
   "source": [
    "result"
   ]
  },
  {
   "cell_type": "code",
   "execution_count": 22,
   "id": "e444aa8d",
   "metadata": {},
   "outputs": [
    {
     "data": {
      "text/plain": [
       "'Not Valid'"
      ]
     },
     "execution_count": 22,
     "metadata": {},
     "output_type": "execute_result"
    }
   ],
   "source": [
    "check_valid_email(\"@random.com\")"
   ]
  },
  {
   "cell_type": "code",
   "execution_count": 24,
   "id": "b747601e",
   "metadata": {},
   "outputs": [
    {
     "data": {
      "text/plain": [
       "'Valid'"
      ]
     },
     "execution_count": 24,
     "metadata": {},
     "output_type": "execute_result"
    }
   ],
   "source": [
    "check_valid_email(\"bipinkalra@gmail.com\")"
   ]
  },
  {
   "cell_type": "code",
   "execution_count": 30,
   "id": "7da2f7bf",
   "metadata": {},
   "outputs": [],
   "source": [
    "class MachineLearning:\n",
    "    def __init__(self, name, category):\n",
    "        self.name = name\n",
    "        self.category = category\n",
    "        \n",
    "    def getname(self):\n",
    "        return self.name\n",
    "    \n",
    "    def getcategory(self):\n",
    "        return self.category\n",
    "    \n",
    "    def print(self):\n",
    "        print(\"Name:\", self.name)\n",
    "        print(\"Category:\", self.category)"
   ]
  },
  {
   "cell_type": "code",
   "execution_count": 31,
   "id": "03dd6b47",
   "metadata": {},
   "outputs": [],
   "source": [
    "class Supervised(MachineLearning):\n",
    "    def __init__(self, name, category):\n",
    "        super().__init__(name, category)\n",
    "        \n",
    "    def type(self):\n",
    "        print(\"Supervised Learning Algorithm\")"
   ]
  },
  {
   "cell_type": "code",
   "execution_count": 32,
   "id": "be9c0e13",
   "metadata": {},
   "outputs": [],
   "source": [
    "s = Supervised(\"Decision Tree\", \"Trees\")"
   ]
  },
  {
   "cell_type": "code",
   "execution_count": 33,
   "id": "e0ef9563",
   "metadata": {},
   "outputs": [
    {
     "data": {
      "text/plain": [
       "<__main__.Supervised at 0x7fdab8993280>"
      ]
     },
     "execution_count": 33,
     "metadata": {},
     "output_type": "execute_result"
    }
   ],
   "source": [
    "s"
   ]
  },
  {
   "cell_type": "code",
   "execution_count": 34,
   "id": "8f629fd4",
   "metadata": {},
   "outputs": [
    {
     "name": "stdout",
     "output_type": "stream",
     "text": [
      "Supervised Learning Algorithm\n"
     ]
    }
   ],
   "source": [
    "s.type()"
   ]
  },
  {
   "cell_type": "code",
   "execution_count": 35,
   "id": "b8d34458",
   "metadata": {},
   "outputs": [
    {
     "name": "stdout",
     "output_type": "stream",
     "text": [
      "random\n"
     ]
    }
   ],
   "source": [
    "print(\"random\")"
   ]
  },
  {
   "cell_type": "code",
   "execution_count": 36,
   "id": "23d8d875",
   "metadata": {},
   "outputs": [],
   "source": [
    "a = [\"random\", \"abc\", \"faaaltu\", \"noice\", \"aaaaaahhhhh\"]"
   ]
  },
  {
   "cell_type": "code",
   "execution_count": 37,
   "id": "cf83fed3",
   "metadata": {},
   "outputs": [
    {
     "data": {
      "text/plain": [
       "['noice', 'random', 'abc', 'faaaltu', 'aaaaaahhhhh']"
      ]
     },
     "execution_count": 37,
     "metadata": {},
     "output_type": "execute_result"
    }
   ],
   "source": [
    "sorted(a, key = lambda x: x.count(\"a\"))"
   ]
  },
  {
   "cell_type": "code",
   "execution_count": 38,
   "id": "c8aca9fc",
   "metadata": {},
   "outputs": [],
   "source": [
    "list1 = [[1,2,3],[4,5,6],[7,8,9]]\n",
    "list2 = [[9,8,7],[6,5,4],[3,2,1]]\n",
    "ls11,ls12,ls13=list1\n",
    "ls21,ls22,ls23=list2"
   ]
  },
  {
   "cell_type": "code",
   "execution_count": 39,
   "id": "9f754e84",
   "metadata": {},
   "outputs": [
    {
     "data": {
      "text/plain": [
       "[1, 2, 3]"
      ]
     },
     "execution_count": 39,
     "metadata": {},
     "output_type": "execute_result"
    }
   ],
   "source": [
    "ls11"
   ]
  },
  {
   "cell_type": "code",
   "execution_count": 40,
   "id": "ba06df28",
   "metadata": {},
   "outputs": [
    {
     "data": {
      "text/plain": [
       "[4, 5, 6]"
      ]
     },
     "execution_count": 40,
     "metadata": {},
     "output_type": "execute_result"
    }
   ],
   "source": [
    "ls12"
   ]
  },
  {
   "cell_type": "code",
   "execution_count": 41,
   "id": "b7dbc606",
   "metadata": {},
   "outputs": [
    {
     "data": {
      "text/plain": [
       "[7, 8, 9]"
      ]
     },
     "execution_count": 41,
     "metadata": {},
     "output_type": "execute_result"
    }
   ],
   "source": [
    "ls13"
   ]
  },
  {
   "cell_type": "code",
   "execution_count": 42,
   "id": "18eacc43",
   "metadata": {},
   "outputs": [
    {
     "data": {
      "text/plain": [
       "[9, 8, 7]"
      ]
     },
     "execution_count": 42,
     "metadata": {},
     "output_type": "execute_result"
    }
   ],
   "source": [
    "ls21"
   ]
  },
  {
   "cell_type": "code",
   "execution_count": 43,
   "id": "f428fe5e",
   "metadata": {},
   "outputs": [
    {
     "data": {
      "text/plain": [
       "[(1, 4), (2, 5), (3, 6)]"
      ]
     },
     "execution_count": 43,
     "metadata": {},
     "output_type": "execute_result"
    }
   ],
   "source": [
    "list(zip([1,2,3], [4,5,6]))"
   ]
  },
  {
   "cell_type": "code",
   "execution_count": 44,
   "id": "726625db",
   "metadata": {},
   "outputs": [
    {
     "name": "stdout",
     "output_type": "stream",
     "text": [
      "[(1, 4, 7, 9, 6, 3), (2, 5, 8, 8, 5, 2), (3, 6, 9, 7, 4, 1)]\n"
     ]
    }
   ],
   "source": [
    "print(list(zip(ls11,ls12,ls13,ls21,ls22,ls23)))"
   ]
  },
  {
   "cell_type": "code",
   "execution_count": 47,
   "id": "c064d298",
   "metadata": {},
   "outputs": [],
   "source": [
    "student_data = [(\"Asha\", 4),(\"Bipin\", 1), (\"Sathish\", 1), (\"Vishakha\", 3), (\"Arup\", 2), (\"Hemanth\", 2)]"
   ]
  },
  {
   "cell_type": "code",
   "execution_count": 52,
   "id": "d73fe48b",
   "metadata": {},
   "outputs": [],
   "source": [
    "students = [\"Asha\", \"Bipin\", \"Satish\", \"Arup\", \"Vishakha\"]\n",
    "scores = [3,1,1,3,2]\n"
   ]
  },
  {
   "cell_type": "code",
   "execution_count": 53,
   "id": "156bdac9",
   "metadata": {},
   "outputs": [],
   "source": [
    "def second_lowest(students, scores):\n",
    "    '''\n",
    "    input:\n",
    "    students -> a list of students\n",
    "    scores -> list of the scores, with each score being that of the ith student\n",
    "    output:\n",
    "    student_data -> 2d list of data, with each inner list having name of student as 1st and score of 2nd as second element respectively\n",
    "    second_low_score -> the second lowest score\n",
    "    second_names -> list of students with score same as second lowest score, in the same order as in the students list\n",
    "    '''\n",
    "    student_data, second_low_score, second_names = [], 0, None\n",
    "    # Your code starts here\n",
    "    lowest_score = 0\n",
    "    for i in range(len(students)):\n",
    "        student_data.append([students[i],float(scores[i])])\n",
    "        if lowest_score > scores[i]:\n",
    "            lowest_score = scores[i]\n",
    "    for i in range(len(scores)):\n",
    "        if lowest_score < second_low_score > scores[i] :\n",
    "            second_low_score = float(scores[i])\n",
    "            # second_names.append(students[i])\n",
    "            second_names = students[i]\n",
    "   # print(f\"{student_data}\\n{second_low_score}\\n{second_names}\")\n",
    "    # Your code ends here\n",
    "    return f\"{student_data}\\n{second_low_score}\\n{second_names}\""
   ]
  },
  {
   "cell_type": "code",
   "execution_count": null,
   "id": "fa6a6e65",
   "metadata": {},
   "outputs": [],
   "source": []
  }
 ],
 "metadata": {
  "kernelspec": {
   "display_name": "Python 3 (ipykernel)",
   "language": "python",
   "name": "python3"
  },
  "language_info": {
   "codemirror_mode": {
    "name": "ipython",
    "version": 3
   },
   "file_extension": ".py",
   "mimetype": "text/x-python",
   "name": "python",
   "nbconvert_exporter": "python",
   "pygments_lexer": "ipython3",
   "version": "3.9.5"
  }
 },
 "nbformat": 4,
 "nbformat_minor": 5
}
