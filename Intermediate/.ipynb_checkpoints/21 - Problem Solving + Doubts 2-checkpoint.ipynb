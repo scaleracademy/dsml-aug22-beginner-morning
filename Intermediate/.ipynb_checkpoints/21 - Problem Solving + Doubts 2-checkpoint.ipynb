{
 "cells": [
  {
   "cell_type": "code",
   "execution_count": 1,
   "id": "74520d25",
   "metadata": {},
   "outputs": [],
   "source": [
    "# 1 1 2 3 5 8 13 21...N numbers in the fibonacci series"
   ]
  },
  {
   "cell_type": "code",
   "execution_count": 18,
   "id": "1fcfaa2e",
   "metadata": {},
   "outputs": [],
   "source": [
    "def fibonacci(n, result = [0, 1], num1 = 0, num2 = 1):\n",
    "    if n > 2:\n",
    "        result += [num1 + num2]\n",
    "        return fibonacci(n-1, result, num2, num1 + num2)\n",
    "    else:\n",
    "        return result"
   ]
  },
  {
   "cell_type": "code",
   "execution_count": 19,
   "id": "f113827c",
   "metadata": {},
   "outputs": [
    {
     "name": "stdout",
     "output_type": "stream",
     "text": [
      "Enter the number of elements you want - 10\n"
     ]
    }
   ],
   "source": [
    "n = int(input(\"Enter the number of elements you want - \"))\n",
    "\n",
    "result = fibonacci(n)"
   ]
  },
  {
   "cell_type": "code",
   "execution_count": 20,
   "id": "a26f8788",
   "metadata": {},
   "outputs": [
    {
     "data": {
      "text/plain": [
       "[0, 1, 1, 2, 3, 5, 8, 13, 21, 34]"
      ]
     },
     "execution_count": 20,
     "metadata": {},
     "output_type": "execute_result"
    }
   ],
   "source": [
    "result"
   ]
  },
  {
   "cell_type": "code",
   "execution_count": 34,
   "id": "296498d3",
   "metadata": {},
   "outputs": [],
   "source": [
    "result_1 = result.copy()"
   ]
  },
  {
   "cell_type": "code",
   "execution_count": 35,
   "id": "f8e483d6",
   "metadata": {},
   "outputs": [
    {
     "data": {
      "text/plain": [
       "[0, 1, 1, 2, 3, 5, 8, 13, 21, 34]"
      ]
     },
     "execution_count": 35,
     "metadata": {},
     "output_type": "execute_result"
    }
   ],
   "source": [
    "result_1"
   ]
  },
  {
   "cell_type": "code",
   "execution_count": 28,
   "id": "e0e06567",
   "metadata": {},
   "outputs": [],
   "source": [
    "def check_prime(x):\n",
    "    divisors = 2\n",
    "    \n",
    "    for i in range(2, x//2 + 1):\n",
    "        if x % i == 0:\n",
    "            divisors += 1\n",
    "            return False\n",
    "        \n",
    "    return True\n",
    "\n",
    "def factorial(x):\n",
    "    if x == 0 or x == 1:\n",
    "        return 1\n",
    "    \n",
    "    return x * factorial(x-1)\n",
    "\n",
    "def mapping_logic(x):\n",
    "    is_prime = check_prime(x)\n",
    "    \n",
    "    if is_prime:\n",
    "        return factorial(x)\n",
    "    else:\n",
    "        return x"
   ]
  },
  {
   "cell_type": "code",
   "execution_count": 33,
   "id": "bc120c85",
   "metadata": {
    "scrolled": true
   },
   "outputs": [
    {
     "data": {
      "text/plain": [
       "False"
      ]
     },
     "execution_count": 33,
     "metadata": {},
     "output_type": "execute_result"
    }
   ],
   "source": [
    "check_prime(8)"
   ]
  },
  {
   "cell_type": "code",
   "execution_count": 36,
   "id": "7de16818",
   "metadata": {},
   "outputs": [],
   "source": [
    "result_1 = list(map(mapping_logic, result_1))"
   ]
  },
  {
   "cell_type": "code",
   "execution_count": 37,
   "id": "9b40ebc1",
   "metadata": {},
   "outputs": [
    {
     "data": {
      "text/plain": [
       "[1, 1, 1, 2, 6, 120, 8, 6227020800, 21, 34]"
      ]
     },
     "execution_count": 37,
     "metadata": {},
     "output_type": "execute_result"
    }
   ],
   "source": [
    "result_1"
   ]
  },
  {
   "cell_type": "code",
   "execution_count": 38,
   "id": "d555e867",
   "metadata": {},
   "outputs": [
    {
     "data": {
      "text/plain": [
       "'\\nProblem Description\\nIn this exercise, complete the function func, \\nwhich takes integers, names, and numbers as the parameters. \\n\\na. Use map() to return the list of the squares of each number. \\nb. Use filter() to return the list with only those names that have less than or equal to seven letters. \\nc. Use reduce() to return the product of elements of list numbers.\\n'"
      ]
     },
     "execution_count": 38,
     "metadata": {},
     "output_type": "execute_result"
    }
   ],
   "source": [
    "'''\n",
    "Problem Description\n",
    "In this exercise, complete the function func, \n",
    "which takes integers, names, and numbers as the parameters. \n",
    "\n",
    "a. Use map() to return the list of the squares of each number. \n",
    "b. Use filter() to return the list with only those names that have less than or equal to seven letters. \n",
    "c. Use reduce() to return the product of elements of list numbers.\n",
    "'''"
   ]
  },
  {
   "cell_type": "code",
   "execution_count": 39,
   "id": "8dbc8e84",
   "metadata": {},
   "outputs": [],
   "source": [
    "integers = [4,5,1,2,3,6,7,8,9,0]\n",
    "names = [\"arup\", \"vishakha\", \"bipin\", \"venugopal\"]"
   ]
  },
  {
   "cell_type": "code",
   "execution_count": 40,
   "id": "058dc52b",
   "metadata": {},
   "outputs": [],
   "source": [
    "result_map = list(map(lambda x: x**2, integers))"
   ]
  },
  {
   "cell_type": "code",
   "execution_count": 41,
   "id": "9677b1f5",
   "metadata": {},
   "outputs": [
    {
     "data": {
      "text/plain": [
       "[16, 25, 1, 4, 9, 36, 49, 64, 81, 0]"
      ]
     },
     "execution_count": 41,
     "metadata": {},
     "output_type": "execute_result"
    }
   ],
   "source": [
    "result_map"
   ]
  },
  {
   "cell_type": "code",
   "execution_count": null,
   "id": "e6c0fee2",
   "metadata": {},
   "outputs": [],
   "source": [
    "result_filter = "
   ]
  }
 ],
 "metadata": {
  "kernelspec": {
   "display_name": "Python 3 (ipykernel)",
   "language": "python",
   "name": "python3"
  },
  "language_info": {
   "codemirror_mode": {
    "name": "ipython",
    "version": 3
   },
   "file_extension": ".py",
   "mimetype": "text/x-python",
   "name": "python",
   "nbconvert_exporter": "python",
   "pygments_lexer": "ipython3",
   "version": "3.9.5"
  }
 },
 "nbformat": 4,
 "nbformat_minor": 5
}
