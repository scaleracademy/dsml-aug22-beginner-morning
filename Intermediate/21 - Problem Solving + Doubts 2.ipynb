{
 "cells": [
  {
   "cell_type": "code",
   "execution_count": 1,
   "id": "aa7b19da",
   "metadata": {},
   "outputs": [],
   "source": [
    "# 1 1 2 3 5 8 13 21...N numbers in the fibonacci series"
   ]
  },
  {
   "cell_type": "code",
   "execution_count": 18,
   "id": "d67572d0",
   "metadata": {},
   "outputs": [],
   "source": [
    "def fibonacci(n, result = [0, 1], num1 = 0, num2 = 1):\n",
    "    if n > 2:\n",
    "        result += [num1 + num2]\n",
    "        return fibonacci(n-1, result, num2, num1 + num2)\n",
    "    else:\n",
    "        return result"
   ]
  },
  {
   "cell_type": "code",
   "execution_count": 19,
   "id": "528aa6b9",
   "metadata": {},
   "outputs": [
    {
     "name": "stdout",
     "output_type": "stream",
     "text": [
      "Enter the number of elements you want - 10\n"
     ]
    }
   ],
   "source": [
    "n = int(input(\"Enter the number of elements you want - \"))\n",
    "\n",
    "result = fibonacci(n)"
   ]
  },
  {
   "cell_type": "code",
   "execution_count": 20,
   "id": "7d2a502a",
   "metadata": {},
   "outputs": [
    {
     "data": {
      "text/plain": [
       "[0, 1, 1, 2, 3, 5, 8, 13, 21, 34]"
      ]
     },
     "execution_count": 20,
     "metadata": {},
     "output_type": "execute_result"
    }
   ],
   "source": [
    "result"
   ]
  },
  {
   "cell_type": "code",
   "execution_count": 34,
   "id": "bd285812",
   "metadata": {},
   "outputs": [],
   "source": [
    "result_1 = result.copy()"
   ]
  },
  {
   "cell_type": "code",
   "execution_count": 35,
   "id": "5243d644",
   "metadata": {},
   "outputs": [
    {
     "data": {
      "text/plain": [
       "[0, 1, 1, 2, 3, 5, 8, 13, 21, 34]"
      ]
     },
     "execution_count": 35,
     "metadata": {},
     "output_type": "execute_result"
    }
   ],
   "source": [
    "result_1"
   ]
  },
  {
   "cell_type": "code",
   "execution_count": 28,
   "id": "06c4328c",
   "metadata": {},
   "outputs": [],
   "source": [
    "def check_prime(x):\n",
    "    divisors = 2\n",
    "    \n",
    "    for i in range(2, x//2 + 1):\n",
    "        if x % i == 0:\n",
    "            divisors += 1\n",
    "            return False\n",
    "        \n",
    "    return True\n",
    "\n",
    "def factorial(x):\n",
    "    if x == 0 or x == 1:\n",
    "        return 1\n",
    "    \n",
    "    return x * factorial(x-1)\n",
    "\n",
    "def mapping_logic(x):\n",
    "    is_prime = check_prime(x)\n",
    "    \n",
    "    if is_prime:\n",
    "        return factorial(x)\n",
    "    else:\n",
    "        return x"
   ]
  },
  {
   "cell_type": "code",
   "execution_count": 33,
   "id": "8d7c15c6",
   "metadata": {
    "scrolled": true
   },
   "outputs": [
    {
     "data": {
      "text/plain": [
       "False"
      ]
     },
     "execution_count": 33,
     "metadata": {},
     "output_type": "execute_result"
    }
   ],
   "source": [
    "check_prime(8)"
   ]
  },
  {
   "cell_type": "code",
   "execution_count": 36,
   "id": "5ea4a694",
   "metadata": {},
   "outputs": [],
   "source": [
    "result_1 = list(map(mapping_logic, result_1))"
   ]
  },
  {
   "cell_type": "code",
   "execution_count": 37,
   "id": "71a45d7f",
   "metadata": {},
   "outputs": [
    {
     "data": {
      "text/plain": [
       "[1, 1, 1, 2, 6, 120, 8, 6227020800, 21, 34]"
      ]
     },
     "execution_count": 37,
     "metadata": {},
     "output_type": "execute_result"
    }
   ],
   "source": [
    "result_1"
   ]
  },
  {
   "cell_type": "code",
   "execution_count": 38,
   "id": "860b4dfc",
   "metadata": {},
   "outputs": [
    {
     "data": {
      "text/plain": [
       "'\\nProblem Description\\nIn this exercise, complete the function func, \\nwhich takes integers, names, and numbers as the parameters. \\n\\na. Use map() to return the list of the squares of each number. \\nb. Use filter() to return the list with only those names that have less than or equal to seven letters. \\nc. Use reduce() to return the product of elements of list numbers.\\n'"
      ]
     },
     "execution_count": 38,
     "metadata": {},
     "output_type": "execute_result"
    }
   ],
   "source": [
    "'''\n",
    "Problem Description\n",
    "In this exercise, complete the function func, \n",
    "which takes integers, names, and numbers as the parameters. \n",
    "\n",
    "a. Use map() to return the list of the squares of each number. \n",
    "b. Use filter() to return the list with only those names that have less than or equal to seven letters. \n",
    "c. Use reduce() to return the product of elements of list numbers.\n",
    "'''"
   ]
  },
  {
   "cell_type": "code",
   "execution_count": 39,
   "id": "cb7942e6",
   "metadata": {},
   "outputs": [],
   "source": [
    "integers = [4,5,1,2,3,6,7,8,9,0]\n",
    "names = [\"arup\", \"vishakha\", \"bipin\", \"venugopal\"]"
   ]
  },
  {
   "cell_type": "code",
   "execution_count": 40,
   "id": "02421bcc",
   "metadata": {},
   "outputs": [],
   "source": [
    "result_map = list(map(lambda x: x**2, integers))"
   ]
  },
  {
   "cell_type": "code",
   "execution_count": 41,
   "id": "bba027d9",
   "metadata": {},
   "outputs": [
    {
     "data": {
      "text/plain": [
       "[16, 25, 1, 4, 9, 36, 49, 64, 81, 0]"
      ]
     },
     "execution_count": 41,
     "metadata": {},
     "output_type": "execute_result"
    }
   ],
   "source": [
    "result_map"
   ]
  },
  {
   "cell_type": "code",
   "execution_count": 42,
   "id": "dd3a1e28",
   "metadata": {},
   "outputs": [],
   "source": [
    "result_filter = list(filter(lambda x: len(x) <= 7, names))"
   ]
  },
  {
   "cell_type": "code",
   "execution_count": 43,
   "id": "61405667",
   "metadata": {},
   "outputs": [
    {
     "data": {
      "text/plain": [
       "['arup', 'bipin']"
      ]
     },
     "execution_count": 43,
     "metadata": {},
     "output_type": "execute_result"
    }
   ],
   "source": [
    "result_filter"
   ]
  },
  {
   "cell_type": "code",
   "execution_count": 46,
   "id": "d2279976",
   "metadata": {},
   "outputs": [],
   "source": [
    "integers = [1,2,3,4,5]\n",
    "from functools import reduce\n",
    "result_reduce = reduce(lambda x, y: x*y, integers)"
   ]
  },
  {
   "cell_type": "code",
   "execution_count": 47,
   "id": "14e780b2",
   "metadata": {},
   "outputs": [
    {
     "data": {
      "text/plain": [
       "120"
      ]
     },
     "execution_count": 47,
     "metadata": {},
     "output_type": "execute_result"
    }
   ],
   "source": [
    "result_reduce"
   ]
  },
  {
   "cell_type": "code",
   "execution_count": 48,
   "id": "ce01588a",
   "metadata": {},
   "outputs": [],
   "source": [
    "string = '''\n",
    "We spend several years building our own database engine, Amazon Aurora, a fully-managed MySQL and PostreSQL-compatible service with the same or better durability and vailability as the commercial engines, but at one-tenth of the cost. We are not surprised when this worked.\n",
    "'''"
   ]
  },
  {
   "cell_type": "code",
   "execution_count": 49,
   "id": "97a8a202",
   "metadata": {},
   "outputs": [
    {
     "name": "stdout",
     "output_type": "stream",
     "text": [
      "a fully-managed MySQL and PostreSQL-\n"
     ]
    }
   ],
   "source": [
    "result = lambda key, val: key[ key.find(val) - 18: key.find(val) + 18 ] if val in key else - 1\n",
    "\n",
    "print(result(string, \"SQL\"))"
   ]
  },
  {
   "cell_type": "code",
   "execution_count": 50,
   "id": "834e68f4",
   "metadata": {},
   "outputs": [],
   "source": [
    "def result(key, val):\n",
    "    r = key[ key.find(val) - 18: key.find(val) + 18 ] if val in key else -1\n",
    "    return r"
   ]
  },
  {
   "cell_type": "code",
   "execution_count": 51,
   "id": "4f826382",
   "metadata": {},
   "outputs": [
    {
     "name": "stdout",
     "output_type": "stream",
     "text": [
      "a fully-managed MySQL and PostreSQL-\n"
     ]
    }
   ],
   "source": [
    "print(result(string, \"SQL\"))"
   ]
  },
  {
   "cell_type": "code",
   "execution_count": 79,
   "id": "4606998e",
   "metadata": {},
   "outputs": [],
   "source": [
    "# string = '''\n",
    "#      CREATE TABLE abc\n",
    "#      create TABLE XYZ\n",
    "# '''\n",
    "\n",
    "string = '''\n",
    "    CREATE TABLE abc\n",
    "    random\n",
    "    xyz\n",
    "    create TABLE XYZ\n",
    "'''"
   ]
  },
  {
   "cell_type": "code",
   "execution_count": 87,
   "id": "7de61e40",
   "metadata": {},
   "outputs": [
    {
     "data": {
      "text/plain": [
       "-1"
      ]
     },
     "execution_count": 87,
     "metadata": {},
     "output_type": "execute_result"
    }
   ],
   "source": [
    "\"random string\".find(\"abc\")"
   ]
  },
  {
   "cell_type": "code",
   "execution_count": 88,
   "id": "9fadd706",
   "metadata": {},
   "outputs": [],
   "source": [
    "string = string.replace(\"CREATE\", \"create\")\n",
    "string = string.replace(\"TABLE\", \"table\")\n",
    "\n",
    "table_names = []\n",
    "\n",
    "\n",
    "while string.find(\"create table\") != -1:\n",
    "    start = string.find(\"create table\")\n",
    "    start += 13\n",
    "\n",
    "    table_name = \"\"\n",
    "\n",
    "    while string[start] != \"\\n\":\n",
    "        table_name += string[start]\n",
    "        start += 1\n",
    "\n",
    "    table_names.append(table_name)\n",
    "    \n",
    "    string = string[start + len(table_name):]"
   ]
  },
  {
   "cell_type": "code",
   "execution_count": 90,
   "id": "bfa73b26",
   "metadata": {},
   "outputs": [
    {
     "data": {
      "text/plain": [
       "['abc', 'XYZ']"
      ]
     },
     "execution_count": 90,
     "metadata": {},
     "output_type": "execute_result"
    }
   ],
   "source": [
    "table_names"
   ]
  },
  {
   "cell_type": "code",
   "execution_count": 91,
   "id": "4c7360da",
   "metadata": {},
   "outputs": [],
   "source": [
    "def return_table_names(string):\n",
    "    string = string.replace(\"CREATE\", \"create\")\n",
    "    string = string.replace(\"TABLE\", \"table\")\n",
    "\n",
    "    table_names = []\n",
    "\n",
    "\n",
    "    while string.find(\"create table\") != -1:\n",
    "        start = string.find(\"create table\")\n",
    "        start += 13\n",
    "\n",
    "        table_name = \"\"\n",
    "\n",
    "        while string[start] != \"\\n\":\n",
    "            table_name += string[start]\n",
    "            start += 1\n",
    "\n",
    "        table_names.append(table_name)\n",
    "\n",
    "        string = string[start + len(table_name):]\n",
    "        \n",
    "    return table_names"
   ]
  },
  {
   "cell_type": "code",
   "execution_count": 92,
   "id": "b87b81f2",
   "metadata": {},
   "outputs": [],
   "source": [
    "# Towards Data Science -> Medium\n",
    "# Andrew NG -> Video Course\n",
    "# 3 Blue 1 Brown -> Maths Youtube\n",
    "# Coursera Courses\n",
    "# Udacity Nanodegree"
   ]
  },
  {
   "cell_type": "code",
   "execution_count": 93,
   "id": "f42f01a3",
   "metadata": {},
   "outputs": [],
   "source": [
    "c = (5,6) # coordinate"
   ]
  },
  {
   "cell_type": "code",
   "execution_count": 94,
   "id": "2c03431d",
   "metadata": {},
   "outputs": [],
   "source": [
    "coordinates = [(5,6), (9,0), (0,9), (5,10)] # coordinates in order - ABCD"
   ]
  },
  {
   "cell_type": "code",
   "execution_count": 95,
   "id": "e38f0fec",
   "metadata": {},
   "outputs": [],
   "source": [
    "import math\n",
    "distance = math.sqrt((coordinates[1][0] - coordinates[0][0])**2 + (coordinates[1][1] - coordinates[0][1])**2)"
   ]
  },
  {
   "cell_type": "code",
   "execution_count": 96,
   "id": "7abee14e",
   "metadata": {},
   "outputs": [
    {
     "data": {
      "text/plain": [
       "7.211102550927978"
      ]
     },
     "execution_count": 96,
     "metadata": {},
     "output_type": "execute_result"
    }
   ],
   "source": [
    "distance"
   ]
  },
  {
   "cell_type": "code",
   "execution_count": null,
   "id": "bcd6d5c3",
   "metadata": {},
   "outputs": [],
   "source": []
  }
 ],
 "metadata": {
  "kernelspec": {
   "display_name": "Python 3 (ipykernel)",
   "language": "python",
   "name": "python3"
  },
  "language_info": {
   "codemirror_mode": {
    "name": "ipython",
    "version": 3
   },
   "file_extension": ".py",
   "mimetype": "text/x-python",
   "name": "python",
   "nbconvert_exporter": "python",
   "pygments_lexer": "ipython3",
   "version": "3.9.5"
  }
 },
 "nbformat": 4,
 "nbformat_minor": 5
}
