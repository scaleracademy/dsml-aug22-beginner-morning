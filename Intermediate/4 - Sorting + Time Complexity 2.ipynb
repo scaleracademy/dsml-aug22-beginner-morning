{
 "cells": [
  {
   "cell_type": "markdown",
   "id": "80010a6e",
   "metadata": {},
   "source": [
    "## Selection Sort"
   ]
  },
  {
   "cell_type": "code",
   "execution_count": 1,
   "id": "128afd72",
   "metadata": {},
   "outputs": [],
   "source": [
    "a = [4,5,6,7,2,3,9]"
   ]
  },
  {
   "cell_type": "code",
   "execution_count": 2,
   "id": "9e8cad45",
   "metadata": {},
   "outputs": [],
   "source": [
    "def min_value(a):\n",
    "    current_min = a[0]\n",
    "    \n",
    "    for i in a:\n",
    "        if i < current_min:\n",
    "            current_min = i\n",
    "            \n",
    "    return current_min"
   ]
  },
  {
   "cell_type": "code",
   "execution_count": 3,
   "id": "e2430382",
   "metadata": {},
   "outputs": [
    {
     "data": {
      "text/plain": [
       "2"
      ]
     },
     "execution_count": 3,
     "metadata": {},
     "output_type": "execute_result"
    }
   ],
   "source": [
    "min_value(a)"
   ]
  },
  {
   "cell_type": "code",
   "execution_count": 10,
   "id": "5f1be165",
   "metadata": {},
   "outputs": [],
   "source": [
    "def selection_sort(a):\n",
    "    for i in range(len(a) - 1):\n",
    "        print(a)\n",
    "        print(\"-\"*20)\n",
    "        min_index = i\n",
    "        \n",
    "        for j in range(i + 1, len(a)):\n",
    "            if a[min_index] > a[j]:\n",
    "                min_index = j\n",
    "                \n",
    "        if min_index != i:\n",
    "            a[i], a[min_index] = a[min_index], a[i]\n",
    "            \n",
    "    return a\n",
    "\n",
    "# O(n^2)\n",
    "# Omega(n^2)"
   ]
  },
  {
   "cell_type": "code",
   "execution_count": 11,
   "id": "d8c75e0c",
   "metadata": {},
   "outputs": [],
   "source": [
    "a = [2, 8, 5, 3, 9, 4, 1]"
   ]
  },
  {
   "cell_type": "code",
   "execution_count": 12,
   "id": "b85a2b73",
   "metadata": {},
   "outputs": [
    {
     "name": "stdout",
     "output_type": "stream",
     "text": [
      "[2, 8, 5, 3, 9, 4, 1]\n",
      "--------------------\n",
      "[1, 8, 5, 3, 9, 4, 2]\n",
      "--------------------\n",
      "[1, 2, 5, 3, 9, 4, 8]\n",
      "--------------------\n",
      "[1, 2, 3, 5, 9, 4, 8]\n",
      "--------------------\n",
      "[1, 2, 3, 4, 9, 5, 8]\n",
      "--------------------\n",
      "[1, 2, 3, 4, 5, 9, 8]\n",
      "--------------------\n"
     ]
    },
    {
     "data": {
      "text/plain": [
       "[1, 2, 3, 4, 5, 8, 9]"
      ]
     },
     "execution_count": 12,
     "metadata": {},
     "output_type": "execute_result"
    }
   ],
   "source": [
    "selection_sort(a)"
   ]
  },
  {
   "cell_type": "markdown",
   "id": "24a28c73",
   "metadata": {},
   "source": [
    "## Insertion Sort"
   ]
  },
  {
   "cell_type": "code",
   "execution_count": 20,
   "id": "270b19c0",
   "metadata": {},
   "outputs": [],
   "source": [
    "def insertion_sort(a):\n",
    "    for i in range(1, len(a)):\n",
    "        index_to_insert = i\n",
    "        j = i - 1\n",
    "        \n",
    "        print(a[:index_to_insert], \"|\", a[index_to_insert:])\n",
    "        print(\"-\"*20)\n",
    "\n",
    "        while j >= 0:\n",
    "            if a[j] < a[index_to_insert]:\n",
    "                break\n",
    "\n",
    "            a[j], a[index_to_insert] = a[index_to_insert], a[j]\n",
    "            index_to_insert = j\n",
    "            j -= 1\n",
    "        \n",
    "    return a\n",
    "\n",
    "# O(n^2)\n",
    "# Omega(n)"
   ]
  },
  {
   "cell_type": "code",
   "execution_count": 18,
   "id": "077e0692",
   "metadata": {},
   "outputs": [],
   "source": [
    "a = [2, 8, 5, 3, 9, 4, 1]"
   ]
  },
  {
   "cell_type": "code",
   "execution_count": 19,
   "id": "59904e08",
   "metadata": {},
   "outputs": [
    {
     "name": "stdout",
     "output_type": "stream",
     "text": [
      "[2] | [8, 5, 3, 9, 4, 1]\n",
      "--------------------\n",
      "[2, 8] | [5, 3, 9, 4, 1]\n",
      "--------------------\n",
      "[2, 5, 8] | [3, 9, 4, 1]\n",
      "--------------------\n",
      "[2, 3, 5, 8] | [9, 4, 1]\n",
      "--------------------\n",
      "[2, 3, 5, 8, 9] | [4, 1]\n",
      "--------------------\n",
      "[2, 3, 4, 5, 8, 9] | [1]\n",
      "--------------------\n"
     ]
    },
    {
     "data": {
      "text/plain": [
       "[1, 2, 3, 4, 5, 8, 9]"
      ]
     },
     "execution_count": 19,
     "metadata": {},
     "output_type": "execute_result"
    }
   ],
   "source": [
    "insertion_sort(a)"
   ]
  },
  {
   "cell_type": "code",
   "execution_count": null,
   "id": "46ace890",
   "metadata": {},
   "outputs": [],
   "source": []
  }
 ],
 "metadata": {
  "kernelspec": {
   "display_name": "Python 3 (ipykernel)",
   "language": "python",
   "name": "python3"
  },
  "language_info": {
   "codemirror_mode": {
    "name": "ipython",
    "version": 3
   },
   "file_extension": ".py",
   "mimetype": "text/x-python",
   "name": "python",
   "nbconvert_exporter": "python",
   "pygments_lexer": "ipython3",
   "version": "3.9.5"
  }
 },
 "nbformat": 4,
 "nbformat_minor": 5
}
