{
 "cells": [
  {
   "cell_type": "code",
   "execution_count": 2,
   "id": "33aedd70",
   "metadata": {},
   "outputs": [
    {
     "data": {
      "text/plain": [
       "True"
      ]
     },
     "execution_count": 2,
     "metadata": {},
     "output_type": "execute_result"
    }
   ],
   "source": [
    "isinstance(print, object) # all functions are also objects"
   ]
  },
  {
   "cell_type": "code",
   "execution_count": 3,
   "id": "a21d6499",
   "metadata": {},
   "outputs": [],
   "source": [
    "# LAMBDA FUNCTIONS"
   ]
  },
  {
   "cell_type": "code",
   "execution_count": 4,
   "id": "c034e50a",
   "metadata": {},
   "outputs": [],
   "source": [
    "def square(x):\n",
    "    return x**2"
   ]
  },
  {
   "cell_type": "code",
   "execution_count": 5,
   "id": "930652eb",
   "metadata": {},
   "outputs": [
    {
     "data": {
      "text/plain": [
       "4"
      ]
     },
     "execution_count": 5,
     "metadata": {},
     "output_type": "execute_result"
    }
   ],
   "source": [
    "square(2)"
   ]
  },
  {
   "cell_type": "code",
   "execution_count": 6,
   "id": "9dcad721",
   "metadata": {},
   "outputs": [],
   "source": [
    "square2 = lambda x: x**2"
   ]
  },
  {
   "cell_type": "code",
   "execution_count": 7,
   "id": "6568ec44",
   "metadata": {},
   "outputs": [
    {
     "data": {
      "text/plain": [
       "4"
      ]
     },
     "execution_count": 7,
     "metadata": {},
     "output_type": "execute_result"
    }
   ],
   "source": [
    "square2(2)"
   ]
  },
  {
   "cell_type": "code",
   "execution_count": 8,
   "id": "04d93e3b",
   "metadata": {},
   "outputs": [],
   "source": [
    "add_two = lambda x, y: x + y"
   ]
  },
  {
   "cell_type": "code",
   "execution_count": 9,
   "id": "c884b772",
   "metadata": {},
   "outputs": [
    {
     "data": {
      "text/plain": [
       "9"
      ]
     },
     "execution_count": 9,
     "metadata": {},
     "output_type": "execute_result"
    }
   ],
   "source": [
    "add_two(4,5)"
   ]
  },
  {
   "cell_type": "code",
   "execution_count": 10,
   "id": "737ed0d3",
   "metadata": {},
   "outputs": [],
   "source": [
    "# Lambda functions are anonymous"
   ]
  },
  {
   "cell_type": "code",
   "execution_count": 12,
   "id": "93e0e9c4",
   "metadata": {},
   "outputs": [
    {
     "data": {
      "text/plain": [
       "64"
      ]
     },
     "execution_count": 12,
     "metadata": {},
     "output_type": "execute_result"
    }
   ],
   "source": [
    "(lambda x: x**3)(4)\n",
    "# Function got created and called immediately without a name"
   ]
  },
  {
   "cell_type": "code",
   "execution_count": 13,
   "id": "627524ff",
   "metadata": {},
   "outputs": [],
   "source": [
    "logical = lambda x: x if True else x + 5 # ternary operator can be utilised to add control flow"
   ]
  },
  {
   "cell_type": "code",
   "execution_count": 14,
   "id": "434109a9",
   "metadata": {},
   "outputs": [],
   "source": [
    "a = [4,5,1,2,3,8,9,10]"
   ]
  },
  {
   "cell_type": "code",
   "execution_count": 15,
   "id": "8d4ddbc5",
   "metadata": {},
   "outputs": [
    {
     "data": {
      "text/plain": [
       "[1, 2, 3, 4, 5, 8, 9, 10]"
      ]
     },
     "execution_count": 15,
     "metadata": {},
     "output_type": "execute_result"
    }
   ],
   "source": [
    "sorted(a)"
   ]
  },
  {
   "cell_type": "code",
   "execution_count": 16,
   "id": "1a075432",
   "metadata": {},
   "outputs": [],
   "source": [
    "students = [\n",
    "    { \"name\": \"A\", \"marks\": 50 },\n",
    "    { \"name\": \"B\", \"marks\": 100 },\n",
    "    { \"name\": \"C\", \"marks\": 40 },\n",
    "    { \"name\": \"D\", \"marks\": 80 },\n",
    "    { \"name\": \"E\", \"marks\": 70 },\n",
    "]"
   ]
  },
  {
   "cell_type": "code",
   "execution_count": 17,
   "id": "79cd8b89",
   "metadata": {},
   "outputs": [
    {
     "ename": "TypeError",
     "evalue": "'<' not supported between instances of 'dict' and 'dict'",
     "output_type": "error",
     "traceback": [
      "\u001b[0;31m---------------------------------------------------------------------------\u001b[0m",
      "\u001b[0;31mTypeError\u001b[0m                                 Traceback (most recent call last)",
      "\u001b[0;32m/var/folders/nn/c52y0d3j0gq59dpsswchkt2r0000gn/T/ipykernel_44774/645918957.py\u001b[0m in \u001b[0;36m<module>\u001b[0;34m\u001b[0m\n\u001b[0;32m----> 1\u001b[0;31m \u001b[0msorted\u001b[0m\u001b[0;34m(\u001b[0m\u001b[0mstudents\u001b[0m\u001b[0;34m)\u001b[0m\u001b[0;34m\u001b[0m\u001b[0;34m\u001b[0m\u001b[0m\n\u001b[0m",
      "\u001b[0;31mTypeError\u001b[0m: '<' not supported between instances of 'dict' and 'dict'"
     ]
    }
   ],
   "source": [
    "sorted(students)"
   ]
  },
  {
   "cell_type": "code",
   "execution_count": 18,
   "id": "525b1e92",
   "metadata": {},
   "outputs": [],
   "source": [
    "# TRY SORTING THIS DATA STRUCTURE BY MARKS"
   ]
  },
  {
   "cell_type": "code",
   "execution_count": 19,
   "id": "210c94e1",
   "metadata": {},
   "outputs": [],
   "source": [
    "sorted?"
   ]
  },
  {
   "cell_type": "code",
   "execution_count": 22,
   "id": "17b28138",
   "metadata": {},
   "outputs": [
    {
     "data": {
      "text/plain": [
       "[{'name': 'B', 'marks': 100},\n",
       " {'name': 'D', 'marks': 80},\n",
       " {'name': 'E', 'marks': 70},\n",
       " {'name': 'A', 'marks': 50},\n",
       " {'name': 'C', 'marks': 40}]"
      ]
     },
     "execution_count": 22,
     "metadata": {},
     "output_type": "execute_result"
    }
   ],
   "source": [
    "sorted(students, key = lambda x: x[\"marks\"], reverse = True)\n",
    "# x -> Each inidividual dictionary\n",
    "# x[\"marks\"] -> Marks for that paritcular student"
   ]
  },
  {
   "cell_type": "code",
   "execution_count": 23,
   "id": "528a6c20",
   "metadata": {},
   "outputs": [
    {
     "data": {
      "text/plain": [
       "[{'name': 'B', 'marks': 100},\n",
       " {'name': 'D', 'marks': 80},\n",
       " {'name': 'E', 'marks': 70},\n",
       " {'name': 'A', 'marks': 50},\n",
       " {'name': 'C', 'marks': 40}]"
      ]
     },
     "execution_count": 23,
     "metadata": {},
     "output_type": "execute_result"
    }
   ],
   "source": [
    "def custom_sort_logic(x):\n",
    "    return x[\"marks\"]\n",
    "\n",
    "sorted(students, key = custom_sort_logic, reverse = True)"
   ]
  },
  {
   "cell_type": "code",
   "execution_count": 24,
   "id": "cec14674",
   "metadata": {},
   "outputs": [],
   "source": [
    "# HOMEWORK\n",
    "# IMPLEMENT KEY APPROACH FOR ALL 4 SORTING ALGOS"
   ]
  },
  {
   "cell_type": "code",
   "execution_count": 25,
   "id": "9a3e9432",
   "metadata": {},
   "outputs": [],
   "source": [
    "# HIGHER ORDER FUNCTIONS"
   ]
  },
  {
   "cell_type": "code",
   "execution_count": 26,
   "id": "bd14fa47",
   "metadata": {},
   "outputs": [],
   "source": [
    "def gen_exp(n):\n",
    "    def exp(x):\n",
    "        return x**n\n",
    "    \n",
    "    return exp"
   ]
  },
  {
   "cell_type": "code",
   "execution_count": 27,
   "id": "e7c5c96b",
   "metadata": {},
   "outputs": [],
   "source": [
    "exp_5 = gen_exp(5)"
   ]
  },
  {
   "cell_type": "code",
   "execution_count": 28,
   "id": "3815aeea",
   "metadata": {},
   "outputs": [
    {
     "data": {
      "text/plain": [
       "function"
      ]
     },
     "execution_count": 28,
     "metadata": {},
     "output_type": "execute_result"
    }
   ],
   "source": [
    "type(exp_5)"
   ]
  },
  {
   "cell_type": "code",
   "execution_count": 29,
   "id": "30af7865",
   "metadata": {},
   "outputs": [
    {
     "data": {
      "text/plain": [
       "32"
      ]
     },
     "execution_count": 29,
     "metadata": {},
     "output_type": "execute_result"
    }
   ],
   "source": [
    "exp_5(2)"
   ]
  },
  {
   "cell_type": "code",
   "execution_count": 31,
   "id": "24f8b6ec",
   "metadata": {},
   "outputs": [],
   "source": [
    "exp_10 = gen_exp(10)"
   ]
  },
  {
   "cell_type": "code",
   "execution_count": 32,
   "id": "5ab8149f",
   "metadata": {},
   "outputs": [
    {
     "data": {
      "text/plain": [
       "1024"
      ]
     },
     "execution_count": 32,
     "metadata": {},
     "output_type": "execute_result"
    }
   ],
   "source": [
    "exp_10(2)"
   ]
  },
  {
   "cell_type": "code",
   "execution_count": 33,
   "id": "5553faa0",
   "metadata": {},
   "outputs": [],
   "source": [
    "def random():\n",
    "    return \"randdom\""
   ]
  },
  {
   "cell_type": "code",
   "execution_count": 34,
   "id": "0c2e1cc3",
   "metadata": {},
   "outputs": [
    {
     "data": {
      "text/plain": [
       "<function __main__.random()>"
      ]
     },
     "execution_count": 34,
     "metadata": {},
     "output_type": "execute_result"
    }
   ],
   "source": [
    "random"
   ]
  },
  {
   "cell_type": "code",
   "execution_count": 35,
   "id": "9dc11fa0",
   "metadata": {},
   "outputs": [
    {
     "data": {
      "text/plain": [
       "'randdom'"
      ]
     },
     "execution_count": 35,
     "metadata": {},
     "output_type": "execute_result"
    }
   ],
   "source": [
    "random()"
   ]
  },
  {
   "cell_type": "code",
   "execution_count": 36,
   "id": "57fe89da",
   "metadata": {},
   "outputs": [],
   "source": [
    "random = lambda : \"random\""
   ]
  },
  {
   "cell_type": "code",
   "execution_count": 37,
   "id": "f57eb22c",
   "metadata": {},
   "outputs": [
    {
     "data": {
      "text/plain": [
       "'random'"
      ]
     },
     "execution_count": 37,
     "metadata": {},
     "output_type": "execute_result"
    }
   ],
   "source": [
    "random()"
   ]
  },
  {
   "cell_type": "code",
   "execution_count": 38,
   "id": "90a9c5c3",
   "metadata": {},
   "outputs": [],
   "source": [
    "# DECORATORS"
   ]
  },
  {
   "cell_type": "code",
   "execution_count": 39,
   "id": "93b3a8a9",
   "metadata": {},
   "outputs": [],
   "source": [
    "def hello():\n",
    "    print(\"Hello\")"
   ]
  },
  {
   "cell_type": "code",
   "execution_count": 40,
   "id": "877fa7cb",
   "metadata": {},
   "outputs": [
    {
     "name": "stdout",
     "output_type": "stream",
     "text": [
      "Hello\n"
     ]
    }
   ],
   "source": [
    "hello()"
   ]
  },
  {
   "cell_type": "code",
   "execution_count": 41,
   "id": "805657ba",
   "metadata": {},
   "outputs": [
    {
     "data": {
      "text/plain": [
       "'\\n--------------------\\nHello\\n--------------------\\n'"
      ]
     },
     "execution_count": 41,
     "metadata": {},
     "output_type": "execute_result"
    }
   ],
   "source": [
    "'''\n",
    "--------------------\n",
    "Hello\n",
    "--------------------\n",
    "'''"
   ]
  },
  {
   "cell_type": "code",
   "execution_count": 42,
   "id": "0d547b83",
   "metadata": {},
   "outputs": [],
   "source": [
    "def hello():\n",
    "    print(\"-\"*20)\n",
    "    print(\"Hello\")\n",
    "    print(\"-\"*20)"
   ]
  },
  {
   "cell_type": "code",
   "execution_count": 43,
   "id": "1ba75b93",
   "metadata": {},
   "outputs": [
    {
     "name": "stdout",
     "output_type": "stream",
     "text": [
      "--------------------\n",
      "Hello\n",
      "--------------------\n"
     ]
    }
   ],
   "source": [
    "hello()"
   ]
  },
  {
   "cell_type": "code",
   "execution_count": 44,
   "id": "e09c8b73",
   "metadata": {},
   "outputs": [],
   "source": [
    "def bye():\n",
    "    print(\"-\"*20) # some code before it\n",
    "    print(\"Bye\")\n",
    "    print(\"-\"*20) # some code after it"
   ]
  },
  {
   "cell_type": "code",
   "execution_count": 45,
   "id": "36f25589",
   "metadata": {},
   "outputs": [
    {
     "name": "stdout",
     "output_type": "stream",
     "text": [
      "--------------------\n",
      "Bye\n",
      "--------------------\n"
     ]
    }
   ],
   "source": [
    "bye()"
   ]
  },
  {
   "cell_type": "code",
   "execution_count": 47,
   "id": "61ad2ddb",
   "metadata": {},
   "outputs": [],
   "source": [
    "def hello():\n",
    "    print(\"hello\")\n",
    "    \n",
    "def bye():\n",
    "    print(\"bye\")\n",
    "    \n",
    "def random():\n",
    "    print(\"random\")"
   ]
  },
  {
   "cell_type": "code",
   "execution_count": 48,
   "id": "6f59b188",
   "metadata": {},
   "outputs": [],
   "source": [
    "def pretty(f): # takes a function as an argument\n",
    "    def wrapper():\n",
    "        print(\"-\"*20)\n",
    "        f()\n",
    "        print(\"-\"*20)\n",
    "        \n",
    "    return wrapper"
   ]
  },
  {
   "cell_type": "code",
   "execution_count": 49,
   "id": "12bec2c7",
   "metadata": {},
   "outputs": [],
   "source": [
    "hello = pretty(hello)\n",
    "bye = pretty(bye)\n",
    "random = pretty(random)"
   ]
  },
  {
   "cell_type": "code",
   "execution_count": 50,
   "id": "b65f0bfc",
   "metadata": {},
   "outputs": [
    {
     "name": "stdout",
     "output_type": "stream",
     "text": [
      "--------------------\n",
      "hello\n",
      "--------------------\n"
     ]
    }
   ],
   "source": [
    "hello()"
   ]
  },
  {
   "cell_type": "code",
   "execution_count": 51,
   "id": "67e78242",
   "metadata": {},
   "outputs": [
    {
     "name": "stdout",
     "output_type": "stream",
     "text": [
      "--------------------\n",
      "bye\n",
      "--------------------\n"
     ]
    }
   ],
   "source": [
    "bye()"
   ]
  },
  {
   "cell_type": "code",
   "execution_count": 52,
   "id": "5a316d0f",
   "metadata": {},
   "outputs": [
    {
     "name": "stdout",
     "output_type": "stream",
     "text": [
      "--------------------\n",
      "random\n",
      "--------------------\n"
     ]
    }
   ],
   "source": [
    "random()"
   ]
  },
  {
   "cell_type": "code",
   "execution_count": 54,
   "id": "23141bac",
   "metadata": {},
   "outputs": [],
   "source": [
    "def super_1():\n",
    "    print(\"super\")"
   ]
  },
  {
   "cell_type": "code",
   "execution_count": 55,
   "id": "aea80c36",
   "metadata": {},
   "outputs": [],
   "source": [
    "super_1 = pretty(super_1)"
   ]
  },
  {
   "cell_type": "code",
   "execution_count": 56,
   "id": "799ea4b3",
   "metadata": {},
   "outputs": [],
   "source": [
    "@pretty\n",
    "def example():\n",
    "    print(\"example\")"
   ]
  },
  {
   "cell_type": "code",
   "execution_count": 57,
   "id": "58f61099",
   "metadata": {},
   "outputs": [
    {
     "name": "stdout",
     "output_type": "stream",
     "text": [
      "--------------------\n",
      "example\n",
      "--------------------\n"
     ]
    }
   ],
   "source": [
    "example()"
   ]
  },
  {
   "cell_type": "code",
   "execution_count": 58,
   "id": "454ddb4b",
   "metadata": {},
   "outputs": [
    {
     "name": "stdout",
     "output_type": "stream",
     "text": [
      "[100, 2, 3]\n",
      "[100, 2, 3]\n"
     ]
    }
   ],
   "source": [
    "def random(arr):\n",
    "    arr[0] = 100\n",
    "    print(arr)\n",
    "    \n",
    "a = [1,2,3]\n",
    "random(a)\n",
    "\n",
    "print(a)"
   ]
  },
  {
   "cell_type": "code",
   "execution_count": 60,
   "id": "531c41d6",
   "metadata": {},
   "outputs": [
    {
     "name": "stdout",
     "output_type": "stream",
     "text": [
      "[1, 2, 3, 4] 4\n"
     ]
    }
   ],
   "source": [
    "def random(a, n):\n",
    "    a.append(n)\n",
    "    n -= 4\n",
    "    \n",
    "a = [1,2,3]\n",
    "n = 4\n",
    "\n",
    "random(a, n)\n",
    "\n",
    "print(a, n)"
   ]
  },
  {
   "cell_type": "code",
   "execution_count": 61,
   "id": "6f5f6669",
   "metadata": {},
   "outputs": [],
   "source": [
    "# Three principles of Functional Programming"
   ]
  },
  {
   "cell_type": "code",
   "execution_count": 62,
   "id": "0332a09d",
   "metadata": {},
   "outputs": [],
   "source": [
    "x = 5"
   ]
  },
  {
   "cell_type": "code",
   "execution_count": 63,
   "id": "e13ccf0b",
   "metadata": {},
   "outputs": [],
   "source": [
    "# Mutations on x\n",
    "x = 2 * x\n",
    "x += 1"
   ]
  },
  {
   "cell_type": "code",
   "execution_count": 64,
   "id": "4cd507a8",
   "metadata": {},
   "outputs": [
    {
     "data": {
      "text/plain": [
       "11"
      ]
     },
     "execution_count": 64,
     "metadata": {},
     "output_type": "execute_result"
    }
   ],
   "source": [
    "x"
   ]
  },
  {
   "cell_type": "code",
   "execution_count": 65,
   "id": "04e92aae",
   "metadata": {},
   "outputs": [],
   "source": [
    "# One function for each set of mutations"
   ]
  },
  {
   "cell_type": "code",
   "execution_count": 66,
   "id": "66c9ff05",
   "metadata": {},
   "outputs": [],
   "source": [
    "x = 5"
   ]
  },
  {
   "cell_type": "code",
   "execution_count": 67,
   "id": "09560f3a",
   "metadata": {},
   "outputs": [],
   "source": [
    "def mutation_1(x):\n",
    "    x *= 2\n",
    "    x -= 1\n",
    "    \n",
    "    return x"
   ]
  },
  {
   "cell_type": "code",
   "execution_count": 68,
   "id": "d6bc8133",
   "metadata": {},
   "outputs": [],
   "source": [
    "x1 = mutation_1(x)"
   ]
  },
  {
   "cell_type": "code",
   "execution_count": 69,
   "id": "47a103c5",
   "metadata": {},
   "outputs": [
    {
     "data": {
      "text/plain": [
       "9"
      ]
     },
     "execution_count": 69,
     "metadata": {},
     "output_type": "execute_result"
    }
   ],
   "source": [
    "x1"
   ]
  },
  {
   "cell_type": "code",
   "execution_count": 70,
   "id": "b7599700",
   "metadata": {},
   "outputs": [
    {
     "data": {
      "text/plain": [
       "5"
      ]
     },
     "execution_count": 70,
     "metadata": {},
     "output_type": "execute_result"
    }
   ],
   "source": [
    "x"
   ]
  },
  {
   "cell_type": "code",
   "execution_count": 71,
   "id": "8baceb56",
   "metadata": {},
   "outputs": [],
   "source": [
    "# Principles of FP ->\n",
    "# 1. Separate data from mutations\n",
    "# 2. Treat variables as immutable\n",
    "# 3. Treat functions as objects"
   ]
  },
  {
   "cell_type": "code",
   "execution_count": null,
   "id": "e4a5bb05",
   "metadata": {},
   "outputs": [],
   "source": []
  }
 ],
 "metadata": {
  "kernelspec": {
   "display_name": "Python 3 (ipykernel)",
   "language": "python",
   "name": "python3"
  },
  "language_info": {
   "codemirror_mode": {
    "name": "ipython",
    "version": 3
   },
   "file_extension": ".py",
   "mimetype": "text/x-python",
   "name": "python",
   "nbconvert_exporter": "python",
   "pygments_lexer": "ipython3",
   "version": "3.9.5"
  }
 },
 "nbformat": 4,
 "nbformat_minor": 5
}
