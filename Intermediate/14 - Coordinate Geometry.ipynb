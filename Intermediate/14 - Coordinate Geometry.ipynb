{
 "cells": [
  {
   "cell_type": "code",
   "execution_count": 1,
   "id": "aab919cd",
   "metadata": {},
   "outputs": [
    {
     "data": {
      "text/plain": [
       "'\\nQuestion 1 - \\nGiven 4 points A(0,-1), B(6,7), C(-2,3) and D(8,3).\\nCheck whether these 4 points form a rectangle or not.\\n'"
      ]
     },
     "execution_count": 1,
     "metadata": {},
     "output_type": "execute_result"
    }
   ],
   "source": [
    "'''\n",
    "Question 1 - \n",
    "Given 4 points A(0,-1), B(6,7), C(-2,3) and D(8,3).\n",
    "Check whether these 4 points form a rectangle or not.\n",
    "'''"
   ]
  },
  {
   "cell_type": "code",
   "execution_count": 2,
   "id": "b7120b7b",
   "metadata": {},
   "outputs": [],
   "source": [
    "vertices = [(0,-1), (6,7), (-2,3), (8,3)]"
   ]
  },
  {
   "cell_type": "code",
   "execution_count": 3,
   "id": "b0f9bc26",
   "metadata": {},
   "outputs": [],
   "source": [
    "# vertices[0] vertices[1]"
   ]
  },
  {
   "cell_type": "code",
   "execution_count": 4,
   "id": "ab7a035c",
   "metadata": {},
   "outputs": [
    {
     "data": {
      "text/plain": [
       "'\\nQuestion 2 -\\nGiven three points (0,4), (0,0), (3,0) -> check whether these will\\nmake a triangle or not.\\n'"
      ]
     },
     "execution_count": 4,
     "metadata": {},
     "output_type": "execute_result"
    }
   ],
   "source": [
    "'''\n",
    "Question 2 -\n",
    "Given three points (0,4), (0,0), (3,0) -> check whether these will\n",
    "make a triangle or not.\n",
    "'''"
   ]
  },
  {
   "cell_type": "code",
   "execution_count": 5,
   "id": "83796736",
   "metadata": {},
   "outputs": [],
   "source": [
    "import math"
   ]
  },
  {
   "cell_type": "code",
   "execution_count": 7,
   "id": "e40d1442",
   "metadata": {},
   "outputs": [],
   "source": [
    "# help(math)"
   ]
  },
  {
   "cell_type": "code",
   "execution_count": 8,
   "id": "fe11b070",
   "metadata": {},
   "outputs": [
    {
     "data": {
      "text/plain": [
       "4"
      ]
     },
     "execution_count": 8,
     "metadata": {},
     "output_type": "execute_result"
    }
   ],
   "source": [
    "math.floor(4.5)"
   ]
  },
  {
   "cell_type": "code",
   "execution_count": 9,
   "id": "b6f14e04",
   "metadata": {},
   "outputs": [
    {
     "data": {
      "text/plain": [
       "1.6094379124341003"
      ]
     },
     "execution_count": 9,
     "metadata": {},
     "output_type": "execute_result"
    }
   ],
   "source": [
    "math.log(5)"
   ]
  },
  {
   "cell_type": "code",
   "execution_count": 10,
   "id": "db0d4c43",
   "metadata": {},
   "outputs": [
    {
     "data": {
      "text/plain": [
       "0.6989700043360189"
      ]
     },
     "execution_count": 10,
     "metadata": {},
     "output_type": "execute_result"
    }
   ],
   "source": [
    "math.log10(5)"
   ]
  },
  {
   "cell_type": "code",
   "execution_count": 11,
   "id": "c63f6c9b",
   "metadata": {},
   "outputs": [
    {
     "data": {
      "text/plain": [
       "0.7738906815578891"
      ]
     },
     "execution_count": 11,
     "metadata": {},
     "output_type": "execute_result"
    }
   ],
   "source": [
    "math.sin(70)"
   ]
  },
  {
   "cell_type": "code",
   "execution_count": 12,
   "id": "f0b59003",
   "metadata": {},
   "outputs": [],
   "source": [
    "A = (4,5)\n",
    "B = (7,8)"
   ]
  },
  {
   "cell_type": "code",
   "execution_count": 13,
   "id": "43b74707",
   "metadata": {},
   "outputs": [
    {
     "data": {
      "text/plain": [
       "4.242640687119285"
      ]
     },
     "execution_count": 13,
     "metadata": {},
     "output_type": "execute_result"
    }
   ],
   "source": [
    "math.sqrt((B[0]-A[0])**2 + (B[1]-A[1])**2)\n",
    "# sqrt((x2-x1)**2 + (y2-y1)**2)"
   ]
  },
  {
   "cell_type": "code",
   "execution_count": null,
   "id": "92187cb8",
   "metadata": {},
   "outputs": [],
   "source": []
  }
 ],
 "metadata": {
  "kernelspec": {
   "display_name": "Python 3 (ipykernel)",
   "language": "python",
   "name": "python3"
  },
  "language_info": {
   "codemirror_mode": {
    "name": "ipython",
    "version": 3
   },
   "file_extension": ".py",
   "mimetype": "text/x-python",
   "name": "python",
   "nbconvert_exporter": "python",
   "pygments_lexer": "ipython3",
   "version": "3.9.5"
  }
 },
 "nbformat": 4,
 "nbformat_minor": 5
}
