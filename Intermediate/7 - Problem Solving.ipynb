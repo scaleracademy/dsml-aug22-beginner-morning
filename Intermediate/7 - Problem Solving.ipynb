{
 "cells": [
  {
   "cell_type": "code",
   "execution_count": 1,
   "id": "712481ce",
   "metadata": {},
   "outputs": [],
   "source": [
    "# r! = 120 -> 1*2*3*4....r = 120"
   ]
  },
  {
   "cell_type": "code",
   "execution_count": 4,
   "id": "d192a424",
   "metadata": {},
   "outputs": [
    {
     "name": "stdout",
     "output_type": "stream",
     "text": [
      "6\n"
     ]
    }
   ],
   "source": [
    "i = 1\n",
    "fact = 1\n",
    "\n",
    "while True:\n",
    "    fact *= i\n",
    "    \n",
    "    if fact == 720:\n",
    "        print(i)\n",
    "        break\n",
    "    \n",
    "    i += 1"
   ]
  },
  {
   "cell_type": "code",
   "execution_count": 5,
   "id": "09b5fb38",
   "metadata": {},
   "outputs": [],
   "source": [
    "def fact_to_number(f):\n",
    "    i = 1\n",
    "    fact = 1\n",
    "    \n",
    "    while True:\n",
    "        fact *= i\n",
    "        \n",
    "        if fact == f:\n",
    "            return i\n",
    "        \n",
    "        i += 1"
   ]
  },
  {
   "cell_type": "code",
   "execution_count": 6,
   "id": "8272e0dc",
   "metadata": {},
   "outputs": [
    {
     "data": {
      "text/plain": [
       "5"
      ]
     },
     "execution_count": 6,
     "metadata": {},
     "output_type": "execute_result"
    }
   ],
   "source": [
    "fact_to_number(120)"
   ]
  },
  {
   "cell_type": "code",
   "execution_count": 7,
   "id": "a2968b81",
   "metadata": {},
   "outputs": [],
   "source": [
    "import math # libraries, packages and modules"
   ]
  },
  {
   "cell_type": "code",
   "execution_count": 8,
   "id": "0c5dbc6a",
   "metadata": {},
   "outputs": [],
   "source": [
    "import math"
   ]
  },
  {
   "cell_type": "code",
   "execution_count": 10,
   "id": "208acdd1",
   "metadata": {},
   "outputs": [
    {
     "data": {
      "text/plain": [
       "6689502913449127057588118054090372586752746333138029810295671352301633557244962989366874165271984981308157637893214090552534408589408121859898481114389650005964960521256960000000000000000000000000000"
      ]
     },
     "execution_count": 10,
     "metadata": {},
     "output_type": "execute_result"
    }
   ],
   "source": [
    "math.factorial(120)"
   ]
  },
  {
   "cell_type": "code",
   "execution_count": 11,
   "id": "8d1f26ec",
   "metadata": {},
   "outputs": [
    {
     "data": {
      "text/plain": [
       "[(1, 2), (2, 3), (5, 6)]"
      ]
     },
     "execution_count": 11,
     "metadata": {},
     "output_type": "execute_result"
    }
   ],
   "source": [
    "arr = [(1,2),(2,3),(2,3),(1,2),(5,6)]\n",
    "[ (a,b) for i, [a,b] in enumerate(arr) if not any ((d==b and a==c) for c, d in arr[ : i])]"
   ]
  },
  {
   "cell_type": "code",
   "execution_count": 12,
   "id": "74892809",
   "metadata": {},
   "outputs": [
    {
     "data": {
      "text/plain": [
       "[(0, (1, 2)), (1, (2, 3))]"
      ]
     },
     "execution_count": 12,
     "metadata": {},
     "output_type": "execute_result"
    }
   ],
   "source": [
    "list(enumerate([(1,2), (2,3)]))"
   ]
  },
  {
   "cell_type": "code",
   "execution_count": 18,
   "id": "4ae7f092",
   "metadata": {},
   "outputs": [
    {
     "data": {
      "text/plain": [
       "True"
      ]
     },
     "execution_count": 18,
     "metadata": {},
     "output_type": "execute_result"
    }
   ],
   "source": [
    "any([0,0,0,0,True]) # will return true if any value inside the list is truthy"
   ]
  },
  {
   "cell_type": "code",
   "execution_count": 20,
   "id": "63f1a84b",
   "metadata": {},
   "outputs": [
    {
     "data": {
      "text/plain": [
       "False"
      ]
     },
     "execution_count": 20,
     "metadata": {},
     "output_type": "execute_result"
    }
   ],
   "source": [
    "all([1,1,1,1,0]) # will return true if all values inside the list are truthy"
   ]
  },
  {
   "cell_type": "code",
   "execution_count": 21,
   "id": "d24aa32b",
   "metadata": {},
   "outputs": [],
   "source": [
    "a = [1,2,3,4,5,6]"
   ]
  },
  {
   "cell_type": "code",
   "execution_count": 22,
   "id": "bd2b41e9",
   "metadata": {},
   "outputs": [
    {
     "data": {
      "text/plain": [
       "[2, 4, 6]"
      ]
     },
     "execution_count": 22,
     "metadata": {},
     "output_type": "execute_result"
    }
   ],
   "source": [
    "[ i for i in a if i % 2 == 0]"
   ]
  },
  {
   "cell_type": "code",
   "execution_count": 23,
   "id": "f5a3c6a1",
   "metadata": {},
   "outputs": [],
   "source": [
    "result = []\n",
    "\n",
    "for i in a:\n",
    "    result.append(i)"
   ]
  },
  {
   "cell_type": "code",
   "execution_count": 24,
   "id": "025f9ff5",
   "metadata": {},
   "outputs": [
    {
     "data": {
      "text/plain": [
       "[1, 2, 3, 4, 5, 6]"
      ]
     },
     "execution_count": 24,
     "metadata": {},
     "output_type": "execute_result"
    }
   ],
   "source": [
    "[ i for i in a ]"
   ]
  },
  {
   "cell_type": "code",
   "execution_count": 25,
   "id": "5a96d684",
   "metadata": {},
   "outputs": [
    {
     "data": {
      "text/plain": [
       "[1, 4, 9, 16, 25, 36]"
      ]
     },
     "execution_count": 25,
     "metadata": {},
     "output_type": "execute_result"
    }
   ],
   "source": [
    "[i**2 for i in a]"
   ]
  },
  {
   "cell_type": "code",
   "execution_count": 26,
   "id": "5980429d",
   "metadata": {},
   "outputs": [
    {
     "data": {
      "text/plain": [
       "'\\nQuestion 1 - \\n[ (a,b) for i, [a,b] in enumerate(arr) if not any ((d==b and a==c) for c, d in arr[ : i])]\\n\\nWrite this list comprehension down in expanded loop format.\\n'"
      ]
     },
     "execution_count": 26,
     "metadata": {},
     "output_type": "execute_result"
    }
   ],
   "source": [
    "'''\n",
    "Question 1 - \n",
    "[ (a,b) for i, [a,b] in enumerate(arr) if not any ((d==b and a==c) for c, d in arr[ : i])]\n",
    "\n",
    "Write this list comprehension down in expanded loop format.\n",
    "'''"
   ]
  },
  {
   "cell_type": "code",
   "execution_count": 27,
   "id": "f3a99757",
   "metadata": {},
   "outputs": [],
   "source": [
    "arr = [(1,2),(2,3),(2,3),(1,2),(5,6)]"
   ]
  },
  {
   "cell_type": "code",
   "execution_count": 31,
   "id": "cbe278f7",
   "metadata": {},
   "outputs": [],
   "source": [
    "def remove_duplicates(arr):\n",
    "    result = []\n",
    "    \n",
    "    for i, [a,b] in enumerate(arr):\n",
    "        internal_list = []\n",
    "        \n",
    "        for c, d in arr[:i]:\n",
    "            internal_list.append(d==b and a==c)\n",
    "            \n",
    "        if not any(internal_list):\n",
    "            result.append((a,b))\n",
    "            \n",
    "    return result"
   ]
  },
  {
   "cell_type": "code",
   "execution_count": 32,
   "id": "273612ec",
   "metadata": {},
   "outputs": [
    {
     "data": {
      "text/plain": [
       "[(1, 2), (2, 3), (5, 6)]"
      ]
     },
     "execution_count": 32,
     "metadata": {},
     "output_type": "execute_result"
    }
   ],
   "source": [
    "remove_duplicates(arr)"
   ]
  },
  {
   "cell_type": "code",
   "execution_count": null,
   "id": "3c807088",
   "metadata": {},
   "outputs": [],
   "source": []
  }
 ],
 "metadata": {
  "kernelspec": {
   "display_name": "Python 3 (ipykernel)",
   "language": "python",
   "name": "python3"
  },
  "language_info": {
   "codemirror_mode": {
    "name": "ipython",
    "version": 3
   },
   "file_extension": ".py",
   "mimetype": "text/x-python",
   "name": "python",
   "nbconvert_exporter": "python",
   "pygments_lexer": "ipython3",
   "version": "3.9.5"
  }
 },
 "nbformat": 4,
 "nbformat_minor": 5
}
