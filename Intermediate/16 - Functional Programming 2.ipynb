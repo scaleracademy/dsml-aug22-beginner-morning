{
 "cells": [
  {
   "cell_type": "markdown",
   "id": "d37dd5a2",
   "metadata": {},
   "source": [
    "# Maps"
   ]
  },
  {
   "cell_type": "code",
   "execution_count": 1,
   "id": "3f1e70ce",
   "metadata": {},
   "outputs": [],
   "source": [
    "a = [1,2,3,4,5]"
   ]
  },
  {
   "cell_type": "code",
   "execution_count": 2,
   "id": "8e6a11b7",
   "metadata": {},
   "outputs": [],
   "source": [
    "# Approach 1 -> List Comprehension\n",
    "result = [ 2*i for i in a ]"
   ]
  },
  {
   "cell_type": "code",
   "execution_count": 3,
   "id": "ab6ab9ff",
   "metadata": {},
   "outputs": [
    {
     "data": {
      "text/plain": [
       "[2, 4, 6, 8, 10]"
      ]
     },
     "execution_count": 3,
     "metadata": {},
     "output_type": "execute_result"
    }
   ],
   "source": [
    "result"
   ]
  },
  {
   "cell_type": "code",
   "execution_count": 4,
   "id": "98ecf487",
   "metadata": {},
   "outputs": [],
   "source": [
    "m = map(lambda x: 2*x , a)"
   ]
  },
  {
   "cell_type": "code",
   "execution_count": 6,
   "id": "22087eb8",
   "metadata": {},
   "outputs": [],
   "source": [
    "result2 = list(m)"
   ]
  },
  {
   "cell_type": "code",
   "execution_count": 7,
   "id": "e349a719",
   "metadata": {},
   "outputs": [
    {
     "data": {
      "text/plain": [
       "[2, 4, 6, 8, 10]"
      ]
     },
     "execution_count": 7,
     "metadata": {},
     "output_type": "execute_result"
    }
   ],
   "source": [
    "result2"
   ]
  },
  {
   "cell_type": "code",
   "execution_count": 8,
   "id": "04be1847",
   "metadata": {},
   "outputs": [
    {
     "data": {
      "text/plain": [
       "'\\nQueston 1 - \\nConvert heights to t shirt sizes ->\\nh < 150 - S\\nh >= 150 and h < 180 - M\\nh >= 180 - L\\n\\nYou will be given a list of heights.\\n\\nEXAMPLE ->\\nINPUT - [150, 170, 190]\\nOUTPUT - [\"M\", \"M\", \"L\"]\\n'"
      ]
     },
     "execution_count": 8,
     "metadata": {},
     "output_type": "execute_result"
    }
   ],
   "source": [
    "'''\n",
    "Queston 1 - \n",
    "Convert heights to t shirt sizes ->\n",
    "h < 150 - S\n",
    "h >= 150 and h < 180 - M\n",
    "h >= 180 - L\n",
    "\n",
    "You will be given a list of heights.\n",
    "\n",
    "EXAMPLE ->\n",
    "INPUT - [150, 170, 190]\n",
    "OUTPUT - [\"M\", \"M\", \"L\"]\n",
    "'''"
   ]
  },
  {
   "cell_type": "code",
   "execution_count": 9,
   "id": "635e8e9e",
   "metadata": {},
   "outputs": [],
   "source": [
    "heights = [150, 130, 155, 170, 190, 180, 200, 145]"
   ]
  },
  {
   "cell_type": "code",
   "execution_count": 10,
   "id": "56c9108d",
   "metadata": {},
   "outputs": [],
   "source": [
    "h = 160\n",
    "condition = \"S\" if h < 150 else \"M\" if h >= 150 and h < 180 else \"L\""
   ]
  },
  {
   "cell_type": "code",
   "execution_count": 11,
   "id": "9c7282cd",
   "metadata": {},
   "outputs": [
    {
     "data": {
      "text/plain": [
       "'M'"
      ]
     },
     "execution_count": 11,
     "metadata": {},
     "output_type": "execute_result"
    }
   ],
   "source": [
    "condition"
   ]
  },
  {
   "cell_type": "code",
   "execution_count": 12,
   "id": "c092da00",
   "metadata": {},
   "outputs": [],
   "source": [
    "sizes = list(map(lambda h: \"S\" if h < 150 else \"M\" if h >= 150 and h < 180 else \"L\" , heights))"
   ]
  },
  {
   "cell_type": "code",
   "execution_count": 13,
   "id": "c8b49685",
   "metadata": {},
   "outputs": [
    {
     "data": {
      "text/plain": [
       "['M', 'S', 'M', 'M', 'L', 'L', 'L', 'S']"
      ]
     },
     "execution_count": 13,
     "metadata": {},
     "output_type": "execute_result"
    }
   ],
   "source": [
    "sizes"
   ]
  },
  {
   "cell_type": "code",
   "execution_count": 14,
   "id": "23e2bbfc",
   "metadata": {},
   "outputs": [],
   "source": [
    "def sizing_logic(h):\n",
    "    if h < 150:\n",
    "        return \"S\"\n",
    "    elif h >=150 and h < 180:\n",
    "        return \"M\"\n",
    "    else:\n",
    "        return \"L\""
   ]
  },
  {
   "cell_type": "code",
   "execution_count": 15,
   "id": "ba358df5",
   "metadata": {},
   "outputs": [],
   "source": [
    "sizes = list(map(sizing_logic, heights))"
   ]
  },
  {
   "cell_type": "code",
   "execution_count": 16,
   "id": "e7286dcd",
   "metadata": {},
   "outputs": [
    {
     "data": {
      "text/plain": [
       "['M', 'S', 'M', 'M', 'L', 'L', 'L', 'S']"
      ]
     },
     "execution_count": 16,
     "metadata": {},
     "output_type": "execute_result"
    }
   ],
   "source": [
    "sizes"
   ]
  },
  {
   "cell_type": "code",
   "execution_count": 17,
   "id": "95e2b050",
   "metadata": {},
   "outputs": [
    {
     "data": {
      "text/plain": [
       "'\\nQuestion 2 - \\nA = [1,0,1,0,0,1]\\nB = [0,0,0,1,1,1]\\n\\nOUTPUT -> [False, True, False, False, False, True]\\n'"
      ]
     },
     "execution_count": 17,
     "metadata": {},
     "output_type": "execute_result"
    }
   ],
   "source": [
    "'''\n",
    "Question 2 - \n",
    "A = [1,0,1,0,0,1]\n",
    "B = [0,0,0,1,1,1]\n",
    "\n",
    "OUTPUT -> [False, True, False, False, False, True]\n",
    "'''"
   ]
  },
  {
   "cell_type": "code",
   "execution_count": 18,
   "id": "36180093",
   "metadata": {},
   "outputs": [],
   "source": [
    "A = [1,0,1,0,0,1]\n",
    "B = [0,0,0,1,1,1]"
   ]
  },
  {
   "cell_type": "code",
   "execution_count": 19,
   "id": "389adae4",
   "metadata": {},
   "outputs": [],
   "source": [
    "result = list(map(lambda x, y: x == y, A, B))"
   ]
  },
  {
   "cell_type": "code",
   "execution_count": 20,
   "id": "5b9d1844",
   "metadata": {},
   "outputs": [
    {
     "data": {
      "text/plain": [
       "[False, True, False, False, False, True]"
      ]
     },
     "execution_count": 20,
     "metadata": {},
     "output_type": "execute_result"
    }
   ],
   "source": [
    "result"
   ]
  },
  {
   "cell_type": "code",
   "execution_count": 21,
   "id": "e4c5b066",
   "metadata": {},
   "outputs": [],
   "source": [
    "A = [1,0,1,0,0,1]\n",
    "B = [0,0,0,1,1,1,0,1,0,0,0,1,0,1,0]"
   ]
  },
  {
   "cell_type": "code",
   "execution_count": 22,
   "id": "716002c3",
   "metadata": {},
   "outputs": [],
   "source": [
    "result = list(map(lambda x, y: x == y, A, B))"
   ]
  },
  {
   "cell_type": "code",
   "execution_count": 23,
   "id": "8e9b4813",
   "metadata": {},
   "outputs": [
    {
     "data": {
      "text/plain": [
       "[False, True, False, False, False, True]"
      ]
     },
     "execution_count": 23,
     "metadata": {},
     "output_type": "execute_result"
    }
   ],
   "source": [
    "result"
   ]
  },
  {
   "cell_type": "code",
   "execution_count": 24,
   "id": "f2c3823d",
   "metadata": {},
   "outputs": [
    {
     "data": {
      "text/plain": [
       "['aaa', 'bbc', 'ccb']"
      ]
     },
     "execution_count": 24,
     "metadata": {},
     "output_type": "execute_result"
    }
   ],
   "source": [
    "list(map(lambda x, y, z: x + y + z, [\"a\", \"b\", \"c\"], \"abc\", {\"a\", \"b\", \"c\"}))"
   ]
  },
  {
   "cell_type": "markdown",
   "id": "b8cfbebf",
   "metadata": {},
   "source": [
    "# Filters"
   ]
  },
  {
   "cell_type": "code",
   "execution_count": 25,
   "id": "af705181",
   "metadata": {},
   "outputs": [],
   "source": [
    "a = [1,2,3,4,5,6,7,8,9,10]"
   ]
  },
  {
   "cell_type": "code",
   "execution_count": 26,
   "id": "f9195221",
   "metadata": {},
   "outputs": [],
   "source": [
    "f = filter(lambda x: x % 2 == 0, a)"
   ]
  },
  {
   "cell_type": "code",
   "execution_count": 29,
   "id": "83826d0b",
   "metadata": {},
   "outputs": [],
   "source": [
    "result = list(f)"
   ]
  },
  {
   "cell_type": "code",
   "execution_count": 30,
   "id": "38ce8707",
   "metadata": {},
   "outputs": [
    {
     "data": {
      "text/plain": [
       "[2, 4, 6, 8, 10]"
      ]
     },
     "execution_count": 30,
     "metadata": {},
     "output_type": "execute_result"
    }
   ],
   "source": [
    "result"
   ]
  },
  {
   "cell_type": "markdown",
   "id": "de751c29",
   "metadata": {},
   "source": [
    "# Reduce"
   ]
  },
  {
   "cell_type": "code",
   "execution_count": 31,
   "id": "ec3ff026",
   "metadata": {},
   "outputs": [],
   "source": [
    "from functools import reduce"
   ]
  },
  {
   "cell_type": "code",
   "execution_count": 32,
   "id": "7a019edb",
   "metadata": {},
   "outputs": [],
   "source": [
    "a = [1,2,3,4,5,6,7,8,9,10]"
   ]
  },
  {
   "cell_type": "code",
   "execution_count": 33,
   "id": "0fc13a30",
   "metadata": {},
   "outputs": [],
   "source": [
    "r = reduce(lambda x, y: x + y, a)"
   ]
  },
  {
   "cell_type": "code",
   "execution_count": 34,
   "id": "5112ac9f",
   "metadata": {},
   "outputs": [
    {
     "data": {
      "text/plain": [
       "55"
      ]
     },
     "execution_count": 34,
     "metadata": {},
     "output_type": "execute_result"
    }
   ],
   "source": [
    "r"
   ]
  },
  {
   "cell_type": "code",
   "execution_count": 35,
   "id": "90d1b437",
   "metadata": {},
   "outputs": [],
   "source": [
    "reduce?"
   ]
  },
  {
   "cell_type": "code",
   "execution_count": 36,
   "id": "ab16b657",
   "metadata": {},
   "outputs": [],
   "source": [
    "r = reduce(lambda x, y: x + y, a, 100)"
   ]
  },
  {
   "cell_type": "code",
   "execution_count": 37,
   "id": "eb03e2f5",
   "metadata": {},
   "outputs": [
    {
     "data": {
      "text/plain": [
       "155"
      ]
     },
     "execution_count": 37,
     "metadata": {},
     "output_type": "execute_result"
    }
   ],
   "source": [
    "r"
   ]
  },
  {
   "cell_type": "code",
   "execution_count": 38,
   "id": "702ed3e5",
   "metadata": {},
   "outputs": [],
   "source": [
    "a = \"this is a random string\"\n",
    "a = a.split(\" \")"
   ]
  },
  {
   "cell_type": "code",
   "execution_count": 39,
   "id": "48fcb232",
   "metadata": {},
   "outputs": [
    {
     "data": {
      "text/plain": [
       "['this', 'is', 'a', 'random', 'string']"
      ]
     },
     "execution_count": 39,
     "metadata": {},
     "output_type": "execute_result"
    }
   ],
   "source": [
    "a"
   ]
  },
  {
   "cell_type": "code",
   "execution_count": 40,
   "id": "839ae87f",
   "metadata": {},
   "outputs": [],
   "source": [
    "r = reduce(lambda x, y: x + \"-\" + y, a)"
   ]
  },
  {
   "cell_type": "code",
   "execution_count": 41,
   "id": "37a1004b",
   "metadata": {},
   "outputs": [
    {
     "data": {
      "text/plain": [
       "'this-is-a-random-string'"
      ]
     },
     "execution_count": 41,
     "metadata": {},
     "output_type": "execute_result"
    }
   ],
   "source": [
    "r"
   ]
  },
  {
   "cell_type": "code",
   "execution_count": 42,
   "id": "4e2f8eba",
   "metadata": {},
   "outputs": [
    {
     "data": {
      "text/plain": [
       "'\\nQuestion 3 -\\na = list(range(1,11))\\nb = a[::-1]\\n\\nreduce(lambda x, y: x * y, a) == reduce(lambda x, y: x * y, b)\\n'"
      ]
     },
     "execution_count": 42,
     "metadata": {},
     "output_type": "execute_result"
    }
   ],
   "source": [
    "'''\n",
    "Question 3 -\n",
    "a = list(range(1,11))\n",
    "b = a[::-1]\n",
    "\n",
    "reduce(lambda x, y: x * y, a) == reduce(lambda x, y: x * y, b)\n",
    "'''"
   ]
  },
  {
   "cell_type": "code",
   "execution_count": 43,
   "id": "db686169",
   "metadata": {},
   "outputs": [
    {
     "data": {
      "text/plain": [
       "True"
      ]
     },
     "execution_count": 43,
     "metadata": {},
     "output_type": "execute_result"
    }
   ],
   "source": [
    "a = list(range(1,11))\n",
    "b = a[::-1]\n",
    "\n",
    "reduce(lambda x, y: x * y, a) == reduce(lambda x, y: x * y, b)"
   ]
  },
  {
   "cell_type": "code",
   "execution_count": 44,
   "id": "d1c8e1cc",
   "metadata": {},
   "outputs": [
    {
     "data": {
      "text/plain": [
       "'\\nQuestion 4 - \\nUsing reduce, write your own custom function to calculate max in a list.\\n'"
      ]
     },
     "execution_count": 44,
     "metadata": {},
     "output_type": "execute_result"
    }
   ],
   "source": [
    "'''\n",
    "Question 4 - \n",
    "Using reduce, write your own custom function to calculate max in a list.\n",
    "'''"
   ]
  },
  {
   "cell_type": "code",
   "execution_count": 45,
   "id": "a3dc7de5",
   "metadata": {},
   "outputs": [],
   "source": [
    "a = [5,6,78,90,134,52,12,10]"
   ]
  },
  {
   "cell_type": "code",
   "execution_count": 46,
   "id": "db8e60c4",
   "metadata": {},
   "outputs": [],
   "source": [
    "r = reduce(lambda x, y: x if x > y else y, a)"
   ]
  },
  {
   "cell_type": "code",
   "execution_count": 47,
   "id": "c2bf8c34",
   "metadata": {},
   "outputs": [
    {
     "data": {
      "text/plain": [
       "134"
      ]
     },
     "execution_count": 47,
     "metadata": {},
     "output_type": "execute_result"
    }
   ],
   "source": [
    "r"
   ]
  },
  {
   "cell_type": "markdown",
   "id": "a5431b27",
   "metadata": {},
   "source": [
    "# ZIP"
   ]
  },
  {
   "cell_type": "code",
   "execution_count": 50,
   "id": "c71123cb",
   "metadata": {},
   "outputs": [],
   "source": [
    "a = [1,2,3,4,5]\n",
    "b = [\"a\", \"b\", \"c\"]\n",
    "c = [\"this\", \"is\", \"very\", \"random\"]"
   ]
  },
  {
   "cell_type": "code",
   "execution_count": 51,
   "id": "ede0f841",
   "metadata": {},
   "outputs": [],
   "source": [
    "result = list(zip(a, b, c))"
   ]
  },
  {
   "cell_type": "code",
   "execution_count": 52,
   "id": "efb162cc",
   "metadata": {},
   "outputs": [
    {
     "data": {
      "text/plain": [
       "[(1, 'a', 'this'), (2, 'b', 'is'), (3, 'c', 'very')]"
      ]
     },
     "execution_count": 52,
     "metadata": {},
     "output_type": "execute_result"
    }
   ],
   "source": [
    "result"
   ]
  },
  {
   "cell_type": "code",
   "execution_count": 53,
   "id": "97f6f200",
   "metadata": {},
   "outputs": [],
   "source": [
    "a = [1,2,3,4,5]\n",
    "b = \"abc\"\n",
    "c = (\"this\", \"is\", \"very\", \"random\")"
   ]
  },
  {
   "cell_type": "code",
   "execution_count": 54,
   "id": "be422931",
   "metadata": {},
   "outputs": [],
   "source": [
    "result = list(zip(a, b, c))"
   ]
  },
  {
   "cell_type": "code",
   "execution_count": 55,
   "id": "e0066da6",
   "metadata": {},
   "outputs": [
    {
     "data": {
      "text/plain": [
       "[(1, 'a', 'this'), (2, 'b', 'is'), (3, 'c', 'very')]"
      ]
     },
     "execution_count": 55,
     "metadata": {},
     "output_type": "execute_result"
    }
   ],
   "source": [
    "result"
   ]
  },
  {
   "cell_type": "code",
   "execution_count": 60,
   "id": "d62343ae",
   "metadata": {},
   "outputs": [],
   "source": [
    "keys = [\"key1\", \"key2\", \"key3\", \"key4\", \"key5\"]\n",
    "values = [\"value1\", \"value2\", \"value3\", \"value4\"]"
   ]
  },
  {
   "cell_type": "code",
   "execution_count": 61,
   "id": "6718f674",
   "metadata": {},
   "outputs": [
    {
     "data": {
      "text/plain": [
       "{'key1': 'value1', 'key2': 'value2', 'key3': 'value3', 'key4': 'value4'}"
      ]
     },
     "execution_count": 61,
     "metadata": {},
     "output_type": "execute_result"
    }
   ],
   "source": [
    "dict(zip(keys, values))"
   ]
  },
  {
   "cell_type": "code",
   "execution_count": 62,
   "id": "0126f030",
   "metadata": {},
   "outputs": [],
   "source": [
    "a = [1,2,3,4,5]\n",
    "b = \"abc\"\n",
    "c = {\n",
    "    \"key1\" : \"value1\",\n",
    "    56 : \"value2\"\n",
    "}"
   ]
  },
  {
   "cell_type": "code",
   "execution_count": 63,
   "id": "7460661f",
   "metadata": {},
   "outputs": [
    {
     "data": {
      "text/plain": [
       "[(1, 'a', 'key1'), (2, 'b', 56)]"
      ]
     },
     "execution_count": 63,
     "metadata": {},
     "output_type": "execute_result"
    }
   ],
   "source": [
    "list(zip(a, b, c))"
   ]
  },
  {
   "cell_type": "markdown",
   "id": "182f29f3",
   "metadata": {},
   "source": [
    "# Args and Kwargs"
   ]
  },
  {
   "cell_type": "code",
   "execution_count": 64,
   "id": "a90b6170",
   "metadata": {},
   "outputs": [],
   "source": [
    "def sum_custom(a, b):\n",
    "    return a + b"
   ]
  },
  {
   "cell_type": "code",
   "execution_count": 69,
   "id": "e22e95be",
   "metadata": {},
   "outputs": [
    {
     "ename": "TypeError",
     "evalue": "sum_custom() takes 2 positional arguments but 4 were given",
     "output_type": "error",
     "traceback": [
      "\u001b[0;31m---------------------------------------------------------------------------\u001b[0m",
      "\u001b[0;31mTypeError\u001b[0m                                 Traceback (most recent call last)",
      "\u001b[0;32m/var/folders/nn/c52y0d3j0gq59dpsswchkt2r0000gn/T/ipykernel_55550/4055293318.py\u001b[0m in \u001b[0;36m<module>\u001b[0;34m\u001b[0m\n\u001b[0;32m----> 1\u001b[0;31m \u001b[0msum_custom\u001b[0m\u001b[0;34m(\u001b[0m\u001b[0;36m4\u001b[0m\u001b[0;34m,\u001b[0m \u001b[0;36m5\u001b[0m\u001b[0;34m,\u001b[0m \u001b[0;36m6\u001b[0m\u001b[0;34m,\u001b[0m \u001b[0;36m7\u001b[0m\u001b[0;34m)\u001b[0m\u001b[0;34m\u001b[0m\u001b[0;34m\u001b[0m\u001b[0m\n\u001b[0m",
      "\u001b[0;31mTypeError\u001b[0m: sum_custom() takes 2 positional arguments but 4 were given"
     ]
    }
   ],
   "source": [
    "sum_custom(4, 5, 6, 7)"
   ]
  },
  {
   "cell_type": "code",
   "execution_count": 72,
   "id": "3974e542",
   "metadata": {},
   "outputs": [],
   "source": [
    "def sum_custom(a, b, *args):\n",
    "    # print(a)\n",
    "    # print(b)\n",
    "    # print(args)\n",
    "    \n",
    "    return a + b + sum(args)"
   ]
  },
  {
   "cell_type": "code",
   "execution_count": 73,
   "id": "1cdc26f9",
   "metadata": {},
   "outputs": [
    {
     "data": {
      "text/plain": [
       "49"
      ]
     },
     "execution_count": 73,
     "metadata": {},
     "output_type": "execute_result"
    }
   ],
   "source": [
    "sum_custom(5, 6, 7, 8, 9 , 10, 4)"
   ]
  },
  {
   "cell_type": "code",
   "execution_count": 89,
   "id": "b550cfe6",
   "metadata": {},
   "outputs": [],
   "source": [
    "def sum_custom(a, b, *anything_i_desire):\n",
    "    # print(a)\n",
    "    # print(b)\n",
    "    # print(anything_i_desire)\n",
    "    \n",
    "    return a + b + sum(anything_i_desire)"
   ]
  },
  {
   "cell_type": "code",
   "execution_count": 90,
   "id": "e5cf13b8",
   "metadata": {},
   "outputs": [
    {
     "data": {
      "text/plain": [
       "22"
      ]
     },
     "execution_count": 90,
     "metadata": {},
     "output_type": "execute_result"
    }
   ],
   "source": [
    "sum_custom(4,5,6,7)"
   ]
  },
  {
   "cell_type": "code",
   "execution_count": 91,
   "id": "c0cc4869",
   "metadata": {},
   "outputs": [],
   "source": [
    "def random():\n",
    "    return 100, 200, 300, 400, 500"
   ]
  },
  {
   "cell_type": "code",
   "execution_count": 92,
   "id": "0120610e",
   "metadata": {},
   "outputs": [],
   "source": [
    "x, y, *z = random()"
   ]
  },
  {
   "cell_type": "code",
   "execution_count": 93,
   "id": "509b3c9f",
   "metadata": {},
   "outputs": [
    {
     "data": {
      "text/plain": [
       "[300, 400, 500]"
      ]
     },
     "execution_count": 93,
     "metadata": {},
     "output_type": "execute_result"
    }
   ],
   "source": [
    "z"
   ]
  },
  {
   "cell_type": "code",
   "execution_count": 94,
   "id": "215986e4",
   "metadata": {},
   "outputs": [
    {
     "data": {
      "text/plain": [
       "100"
      ]
     },
     "execution_count": 94,
     "metadata": {},
     "output_type": "execute_result"
    }
   ],
   "source": [
    "x"
   ]
  },
  {
   "cell_type": "code",
   "execution_count": 95,
   "id": "f0e284d1",
   "metadata": {},
   "outputs": [
    {
     "data": {
      "text/plain": [
       "200"
      ]
     },
     "execution_count": 95,
     "metadata": {},
     "output_type": "execute_result"
    }
   ],
   "source": [
    "y"
   ]
  },
  {
   "cell_type": "code",
   "execution_count": 96,
   "id": "aabc5609",
   "metadata": {},
   "outputs": [],
   "source": [
    "sum_custom = lambda x, y, *z: x + y + sum(z)"
   ]
  },
  {
   "cell_type": "code",
   "execution_count": 97,
   "id": "78f4cb72",
   "metadata": {},
   "outputs": [
    {
     "data": {
      "text/plain": [
       "22"
      ]
     },
     "execution_count": 97,
     "metadata": {},
     "output_type": "execute_result"
    }
   ],
   "source": [
    "sum_custom(4,5,6,7)"
   ]
  },
  {
   "cell_type": "code",
   "execution_count": 101,
   "id": "bf26b14e",
   "metadata": {},
   "outputs": [],
   "source": [
    "def create_person(name, age, profession, *args):\n",
    "    person = {\n",
    "        \"name\": name,\n",
    "        \"age\": age,\n",
    "        \"profession\": profession\n",
    "    }\n",
    "    \n",
    "    return person"
   ]
  },
  {
   "cell_type": "code",
   "execution_count": 102,
   "id": "3c5d40f5",
   "metadata": {},
   "outputs": [
    {
     "ename": "TypeError",
     "evalue": "create_person() got an unexpected keyword argument 'hobbies'",
     "output_type": "error",
     "traceback": [
      "\u001b[0;31m---------------------------------------------------------------------------\u001b[0m",
      "\u001b[0;31mTypeError\u001b[0m                                 Traceback (most recent call last)",
      "\u001b[0;32m/var/folders/nn/c52y0d3j0gq59dpsswchkt2r0000gn/T/ipykernel_55550/4271892864.py\u001b[0m in \u001b[0;36m<module>\u001b[0;34m\u001b[0m\n\u001b[0;32m----> 1\u001b[0;31m \u001b[0mcreate_person\u001b[0m\u001b[0;34m(\u001b[0m\u001b[0mname\u001b[0m \u001b[0;34m=\u001b[0m \u001b[0;34m\"Bipin\"\u001b[0m\u001b[0;34m,\u001b[0m \u001b[0mage\u001b[0m \u001b[0;34m=\u001b[0m \u001b[0;36m5000\u001b[0m\u001b[0;34m,\u001b[0m \u001b[0mprofession\u001b[0m \u001b[0;34m=\u001b[0m \u001b[0;34m\"Engineer\"\u001b[0m\u001b[0;34m,\u001b[0m \u001b[0mhobbies\u001b[0m \u001b[0;34m=\u001b[0m \u001b[0;34m\"painting\"\u001b[0m\u001b[0;34m)\u001b[0m\u001b[0;34m\u001b[0m\u001b[0;34m\u001b[0m\u001b[0m\n\u001b[0m",
      "\u001b[0;31mTypeError\u001b[0m: create_person() got an unexpected keyword argument 'hobbies'"
     ]
    }
   ],
   "source": [
    "create_person(name = \"Bipin\", age = 5000, profession = \"Engineer\", hobbies = \"painting\")"
   ]
  },
  {
   "cell_type": "code",
   "execution_count": 107,
   "id": "2eff1e22",
   "metadata": {},
   "outputs": [],
   "source": [
    "def create_person(name, age, profession, **kwargs):\n",
    "    person = {\n",
    "        \"name\": name,\n",
    "        \"age\": age,\n",
    "        \"profession\": profession\n",
    "    }\n",
    "    \n",
    "    print(f\"kwargs -> {kwargs}\")\n",
    "    \n",
    "    if kwargs:\n",
    "        person.update(kwargs)\n",
    "    \n",
    "    return person"
   ]
  },
  {
   "cell_type": "code",
   "execution_count": 108,
   "id": "45fb85ea",
   "metadata": {},
   "outputs": [
    {
     "name": "stdout",
     "output_type": "stream",
     "text": [
      "kwargs -> {'hobbies': 'painting', 'height': '6ft'}\n"
     ]
    },
    {
     "data": {
      "text/plain": [
       "{'name': 'Bipin',\n",
       " 'age': 5000,\n",
       " 'profession': 'Engineer',\n",
       " 'hobbies': 'painting',\n",
       " 'height': '6ft'}"
      ]
     },
     "execution_count": 108,
     "metadata": {},
     "output_type": "execute_result"
    }
   ],
   "source": [
    "create_person(name = \"Bipin\", age = 5000, profession = \"Engineer\", hobbies = \"painting\", height = \"6ft\")"
   ]
  },
  {
   "cell_type": "code",
   "execution_count": 109,
   "id": "656ade0d",
   "metadata": {},
   "outputs": [],
   "source": [
    "# positional -> args -> keyworded -> kwargs"
   ]
  },
  {
   "cell_type": "code",
   "execution_count": null,
   "id": "520a2e96",
   "metadata": {},
   "outputs": [],
   "source": []
  }
 ],
 "metadata": {
  "kernelspec": {
   "display_name": "Python 3 (ipykernel)",
   "language": "python",
   "name": "python3"
  },
  "language_info": {
   "codemirror_mode": {
    "name": "ipython",
    "version": 3
   },
   "file_extension": ".py",
   "mimetype": "text/x-python",
   "name": "python",
   "nbconvert_exporter": "python",
   "pygments_lexer": "ipython3",
   "version": "3.9.5"
  }
 },
 "nbformat": 4,
 "nbformat_minor": 5
}
