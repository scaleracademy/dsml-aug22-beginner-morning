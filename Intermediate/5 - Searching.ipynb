{
 "cells": [
  {
   "cell_type": "code",
   "execution_count": 1,
   "id": "1ee3804c",
   "metadata": {},
   "outputs": [
    {
     "data": {
      "text/plain": [
       "'\\nQuestion 1 - \\nGiven a list of numbers and a target number.\\nWrite a function which prints the index of the target in the list.\\nIf target is not present, it should print -1.\\n'"
      ]
     },
     "execution_count": 1,
     "metadata": {},
     "output_type": "execute_result"
    }
   ],
   "source": [
    "'''\n",
    "Question 1 - \n",
    "Given a list of numbers and a target number.\n",
    "Write a function which prints the index of the target in the list.\n",
    "If target is not present, it should print -1.\n",
    "'''"
   ]
  },
  {
   "cell_type": "code",
   "execution_count": 3,
   "id": "d2709789",
   "metadata": {},
   "outputs": [],
   "source": [
    "def linear_search(a, target):\n",
    "    for i in range(len(a)):\n",
    "        if a[i] == target:\n",
    "            return i\n",
    "        \n",
    "    return -1"
   ]
  },
  {
   "cell_type": "code",
   "execution_count": 4,
   "id": "4b46aa68",
   "metadata": {},
   "outputs": [],
   "source": [
    "a = [5,6,7,8,1,2,3,9,0]"
   ]
  },
  {
   "cell_type": "code",
   "execution_count": 6,
   "id": "a369ed71",
   "metadata": {},
   "outputs": [
    {
     "data": {
      "text/plain": [
       "3"
      ]
     },
     "execution_count": 6,
     "metadata": {},
     "output_type": "execute_result"
    }
   ],
   "source": [
    "linear_search(a, 8)"
   ]
  },
  {
   "cell_type": "code",
   "execution_count": 7,
   "id": "5407aa8b",
   "metadata": {},
   "outputs": [],
   "source": [
    "enumerated_a = list(enumerate(a))"
   ]
  },
  {
   "cell_type": "code",
   "execution_count": 8,
   "id": "365f37e1",
   "metadata": {},
   "outputs": [
    {
     "data": {
      "text/plain": [
       "[(0, 5), (1, 6), (2, 7), (3, 8), (4, 1), (5, 2), (6, 3), (7, 9), (8, 0)]"
      ]
     },
     "execution_count": 8,
     "metadata": {},
     "output_type": "execute_result"
    }
   ],
   "source": [
    "enumerated_a"
   ]
  },
  {
   "cell_type": "code",
   "execution_count": 9,
   "id": "c92482ec",
   "metadata": {},
   "outputs": [],
   "source": [
    "def linear_search(a, target):\n",
    "    for i, value in enumerate(a):\n",
    "        if value == target:\n",
    "            return i\n",
    "        \n",
    "    return -1"
   ]
  },
  {
   "cell_type": "code",
   "execution_count": 10,
   "id": "d5d59c59",
   "metadata": {},
   "outputs": [
    {
     "data": {
      "text/plain": [
       "3"
      ]
     },
     "execution_count": 10,
     "metadata": {},
     "output_type": "execute_result"
    }
   ],
   "source": [
    "linear_search(a, 8)"
   ]
  },
  {
   "cell_type": "code",
   "execution_count": 11,
   "id": "17293114",
   "metadata": {},
   "outputs": [],
   "source": [
    "tax_brackets = [\"top bracket\", \"mid bracket\", \"low bracket\"]"
   ]
  },
  {
   "cell_type": "code",
   "execution_count": 12,
   "id": "88f8e5ec",
   "metadata": {},
   "outputs": [],
   "source": [
    "tax_brackets = list(enumerate(tax_brackets))"
   ]
  },
  {
   "cell_type": "code",
   "execution_count": 13,
   "id": "93e81d27",
   "metadata": {},
   "outputs": [
    {
     "data": {
      "text/plain": [
       "[(0, 'top bracket'), (1, 'mid bracket'), (2, 'low bracket')]"
      ]
     },
     "execution_count": 13,
     "metadata": {},
     "output_type": "execute_result"
    }
   ],
   "source": [
    "tax_brackets"
   ]
  },
  {
   "cell_type": "markdown",
   "id": "2ed46b53",
   "metadata": {},
   "source": [
    "## BINARY SEARCH"
   ]
  },
  {
   "cell_type": "code",
   "execution_count": 15,
   "id": "67fb72dd",
   "metadata": {},
   "outputs": [],
   "source": [
    "a = list(range(1,21))"
   ]
  },
  {
   "cell_type": "code",
   "execution_count": 16,
   "id": "0db0b10d",
   "metadata": {},
   "outputs": [
    {
     "data": {
      "text/plain": [
       "[1, 2, 3, 4, 5, 6, 7, 8, 9, 10, 11, 12, 13, 14, 15, 16, 17, 18, 19, 20]"
      ]
     },
     "execution_count": 16,
     "metadata": {},
     "output_type": "execute_result"
    }
   ],
   "source": [
    "a"
   ]
  },
  {
   "cell_type": "code",
   "execution_count": 22,
   "id": "25603787",
   "metadata": {},
   "outputs": [],
   "source": [
    "def binary_search(a, target):\n",
    "    start, end = 0, len(a) - 1\n",
    "    \n",
    "    while start <= end:\n",
    "        mid = (start + end) // 2\n",
    "        \n",
    "        if target == a[mid]:\n",
    "            return mid\n",
    "        elif target < a[mid]:\n",
    "            end = mid - 1\n",
    "        else:\n",
    "            start = mid + 1\n",
    "            \n",
    "    return -1"
   ]
  },
  {
   "cell_type": "code",
   "execution_count": 21,
   "id": "c02197f2",
   "metadata": {},
   "outputs": [
    {
     "data": {
      "text/plain": [
       "19"
      ]
     },
     "execution_count": 21,
     "metadata": {},
     "output_type": "execute_result"
    }
   ],
   "source": [
    "binary_search(a, 20)"
   ]
  },
  {
   "cell_type": "code",
   "execution_count": 30,
   "id": "57d5875c",
   "metadata": {},
   "outputs": [],
   "source": [
    "def binary_search_withcount(a, target):\n",
    "    start, end = 0, len(a) - 1\n",
    "    count = 0\n",
    "    \n",
    "    while start <= end:\n",
    "        mid = (start + end) // 2\n",
    "        count = count + 1\n",
    "        \n",
    "        if target == a[mid]:\n",
    "            print(count)\n",
    "            return mid\n",
    "        elif target < a[mid]:\n",
    "            end = mid - 1\n",
    "        else:\n",
    "            start = mid + 1\n",
    "\n",
    "    return -1"
   ]
  },
  {
   "cell_type": "code",
   "execution_count": 31,
   "id": "a6680bec",
   "metadata": {},
   "outputs": [],
   "source": [
    "def linear_search_withcount(a, target):\n",
    "    count = 0\n",
    "    \n",
    "    for i in range(len(a)):\n",
    "        count = count + 1\n",
    "        \n",
    "        if a[i] == target:\n",
    "            print(count)\n",
    "            return i\n",
    "        \n",
    "    return -1"
   ]
  },
  {
   "cell_type": "code",
   "execution_count": 32,
   "id": "fbbdce27",
   "metadata": {},
   "outputs": [
    {
     "name": "stdout",
     "output_type": "stream",
     "text": [
      "3\n"
     ]
    },
    {
     "data": {
      "text/plain": [
       "17"
      ]
     },
     "execution_count": 32,
     "metadata": {},
     "output_type": "execute_result"
    }
   ],
   "source": [
    "binary_search_withcount(a, 18)"
   ]
  },
  {
   "cell_type": "code",
   "execution_count": 33,
   "id": "852d3413",
   "metadata": {
    "scrolled": true
   },
   "outputs": [
    {
     "name": "stdout",
     "output_type": "stream",
     "text": [
      "18\n"
     ]
    },
    {
     "data": {
      "text/plain": [
       "17"
      ]
     },
     "execution_count": 33,
     "metadata": {},
     "output_type": "execute_result"
    }
   ],
   "source": [
    "linear_search_withcount(a, 18)"
   ]
  },
  {
   "cell_type": "code",
   "execution_count": 40,
   "id": "63316990",
   "metadata": {},
   "outputs": [],
   "source": [
    "a = list(range(1,10000001))"
   ]
  },
  {
   "cell_type": "code",
   "execution_count": 41,
   "id": "afde22ae",
   "metadata": {},
   "outputs": [
    {
     "name": "stdout",
     "output_type": "stream",
     "text": [
      "899999\n"
     ]
    },
    {
     "data": {
      "text/plain": [
       "899998"
      ]
     },
     "execution_count": 41,
     "metadata": {},
     "output_type": "execute_result"
    }
   ],
   "source": [
    "linear_search_withcount(a, 899999)"
   ]
  },
  {
   "cell_type": "code",
   "execution_count": 42,
   "id": "75c8b471",
   "metadata": {},
   "outputs": [
    {
     "name": "stdout",
     "output_type": "stream",
     "text": [
      "24\n"
     ]
    },
    {
     "data": {
      "text/plain": [
       "899998"
      ]
     },
     "execution_count": 42,
     "metadata": {},
     "output_type": "execute_result"
    }
   ],
   "source": [
    "binary_search_withcount(a, 899999)"
   ]
  },
  {
   "cell_type": "code",
   "execution_count": null,
   "id": "0836948b",
   "metadata": {},
   "outputs": [],
   "source": []
  },
  {
   "cell_type": "code",
   "execution_count": 34,
   "id": "26ca1a94",
   "metadata": {},
   "outputs": [],
   "source": [
    "def selection_sort(a):\n",
    "    count = 0\n",
    "    \n",
    "    for i in range(len(a) - 1):\n",
    "        min_index = i\n",
    "        \n",
    "        count = count + 1\n",
    "        \n",
    "        for j in range(i + 1, len(a)):\n",
    "            if a[min_index] > a[j]:\n",
    "                min_index = j\n",
    "                \n",
    "        if min_index != i:\n",
    "            a[i], a[min_index] = a[min_index], a[i]\n",
    "            \n",
    "    print(count)\n",
    "    return a"
   ]
  },
  {
   "cell_type": "code",
   "execution_count": 35,
   "id": "62ce1245",
   "metadata": {},
   "outputs": [],
   "source": [
    "a = [10, 30, 5, 6, 90, 100, 25, 46, 89, 99, 22, 123]"
   ]
  },
  {
   "cell_type": "code",
   "execution_count": 36,
   "id": "1580245a",
   "metadata": {},
   "outputs": [
    {
     "name": "stdout",
     "output_type": "stream",
     "text": [
      "11\n"
     ]
    }
   ],
   "source": [
    "a = selection_sort(a)"
   ]
  },
  {
   "cell_type": "code",
   "execution_count": 37,
   "id": "19d29265",
   "metadata": {},
   "outputs": [
    {
     "name": "stdout",
     "output_type": "stream",
     "text": [
      "4\n"
     ]
    },
    {
     "data": {
      "text/plain": [
       "7"
      ]
     },
     "execution_count": 37,
     "metadata": {},
     "output_type": "execute_result"
    }
   ],
   "source": [
    "binary_search_withcount(a, 89)"
   ]
  },
  {
   "cell_type": "code",
   "execution_count": 38,
   "id": "5d91a098",
   "metadata": {},
   "outputs": [],
   "source": [
    "a = [10, 30, 5, 6, 90, 100, 25, 46, 89, 99, 22, 123]"
   ]
  },
  {
   "cell_type": "code",
   "execution_count": 39,
   "id": "0a5ea278",
   "metadata": {},
   "outputs": [
    {
     "name": "stdout",
     "output_type": "stream",
     "text": [
      "9\n"
     ]
    },
    {
     "data": {
      "text/plain": [
       "8"
      ]
     },
     "execution_count": 39,
     "metadata": {},
     "output_type": "execute_result"
    }
   ],
   "source": [
    "linear_search_withcount(a, 89)"
   ]
  },
  {
   "cell_type": "code",
   "execution_count": 43,
   "id": "81fae410",
   "metadata": {},
   "outputs": [],
   "source": [
    "x = 10"
   ]
  },
  {
   "cell_type": "code",
   "execution_count": 44,
   "id": "16e37031",
   "metadata": {},
   "outputs": [],
   "source": [
    "x = x // 2"
   ]
  },
  {
   "cell_type": "code",
   "execution_count": 45,
   "id": "50c035c7",
   "metadata": {},
   "outputs": [
    {
     "data": {
      "text/plain": [
       "5"
      ]
     },
     "execution_count": 45,
     "metadata": {},
     "output_type": "execute_result"
    }
   ],
   "source": [
    "x"
   ]
  },
  {
   "cell_type": "code",
   "execution_count": 46,
   "id": "8ec1a265",
   "metadata": {},
   "outputs": [],
   "source": [
    "x //= 2"
   ]
  },
  {
   "cell_type": "code",
   "execution_count": null,
   "id": "232717df",
   "metadata": {},
   "outputs": [],
   "source": []
  }
 ],
 "metadata": {
  "kernelspec": {
   "display_name": "Python 3 (ipykernel)",
   "language": "python",
   "name": "python3"
  },
  "language_info": {
   "codemirror_mode": {
    "name": "ipython",
    "version": 3
   },
   "file_extension": ".py",
   "mimetype": "text/x-python",
   "name": "python",
   "nbconvert_exporter": "python",
   "pygments_lexer": "ipython3",
   "version": "3.9.5"
  }
 },
 "nbformat": 4,
 "nbformat_minor": 5
}
