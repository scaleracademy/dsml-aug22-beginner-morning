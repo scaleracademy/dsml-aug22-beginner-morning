{
 "cells": [
  {
   "cell_type": "code",
   "execution_count": 2,
   "id": "c15ee6d7",
   "metadata": {},
   "outputs": [],
   "source": [
    "a = [[4, \"Bipin\", 5000], [2, \"Arup\", 10000]]\n",
    "b = [(4, \"Bipin\", 5000), (2, \"Arup\", 10000)]\n",
    "c = [\n",
    "    {\n",
    "        \"roll_number\": 4,\n",
    "        \"name\": \"Bipin\",\n",
    "        \"Age\": 5000\n",
    "    },\n",
    "    {\n",
    "        \"roll_number\": 2,\n",
    "        \"name\": \"Arup\",\n",
    "        \"Age\": 4000\n",
    "    }\n",
    "]"
   ]
  },
  {
   "cell_type": "code",
   "execution_count": 3,
   "id": "8c62fa50",
   "metadata": {},
   "outputs": [],
   "source": [
    "Person = {\n",
    "    \"name\": \"Bipin\"\n",
    "}"
   ]
  },
  {
   "cell_type": "code",
   "execution_count": 4,
   "id": "cb8b6dc7",
   "metadata": {},
   "outputs": [
    {
     "data": {
      "text/plain": [
       "'Bipin'"
      ]
     },
     "execution_count": 4,
     "metadata": {},
     "output_type": "execute_result"
    }
   ],
   "source": [
    "Person[\"name\"]"
   ]
  },
  {
   "cell_type": "code",
   "execution_count": 5,
   "id": "abb95428",
   "metadata": {},
   "outputs": [
    {
     "data": {
      "text/plain": [
       "2"
      ]
     },
     "execution_count": 5,
     "metadata": {},
     "output_type": "execute_result"
    }
   ],
   "source": [
    "5 >> 1"
   ]
  },
  {
   "cell_type": "code",
   "execution_count": 14,
   "id": "00a287c0",
   "metadata": {},
   "outputs": [],
   "source": [
    "a = {f\"key {i}\":i for i in range(1,11)}"
   ]
  },
  {
   "cell_type": "code",
   "execution_count": 15,
   "id": "1694473e",
   "metadata": {},
   "outputs": [
    {
     "data": {
      "text/plain": [
       "{'key 1': 1,\n",
       " 'key 2': 2,\n",
       " 'key 3': 3,\n",
       " 'key 4': 4,\n",
       " 'key 5': 5,\n",
       " 'key 6': 6,\n",
       " 'key 7': 7,\n",
       " 'key 8': 8,\n",
       " 'key 9': 9,\n",
       " 'key 10': 10}"
      ]
     },
     "execution_count": 15,
     "metadata": {},
     "output_type": "execute_result"
    }
   ],
   "source": [
    "a"
   ]
  },
  {
   "cell_type": "code",
   "execution_count": 16,
   "id": "fde0dbdc",
   "metadata": {},
   "outputs": [],
   "source": [
    "a = [{f\"key {j}\":j for j in range(i)} for i in range(1,11)]"
   ]
  },
  {
   "cell_type": "code",
   "execution_count": 17,
   "id": "6c5e8a7f",
   "metadata": {},
   "outputs": [
    {
     "data": {
      "text/plain": [
       "[{'key 0': 0},\n",
       " {'key 0': 0, 'key 1': 1},\n",
       " {'key 0': 0, 'key 1': 1, 'key 2': 2},\n",
       " {'key 0': 0, 'key 1': 1, 'key 2': 2, 'key 3': 3},\n",
       " {'key 0': 0, 'key 1': 1, 'key 2': 2, 'key 3': 3, 'key 4': 4},\n",
       " {'key 0': 0, 'key 1': 1, 'key 2': 2, 'key 3': 3, 'key 4': 4, 'key 5': 5},\n",
       " {'key 0': 0,\n",
       "  'key 1': 1,\n",
       "  'key 2': 2,\n",
       "  'key 3': 3,\n",
       "  'key 4': 4,\n",
       "  'key 5': 5,\n",
       "  'key 6': 6},\n",
       " {'key 0': 0,\n",
       "  'key 1': 1,\n",
       "  'key 2': 2,\n",
       "  'key 3': 3,\n",
       "  'key 4': 4,\n",
       "  'key 5': 5,\n",
       "  'key 6': 6,\n",
       "  'key 7': 7},\n",
       " {'key 0': 0,\n",
       "  'key 1': 1,\n",
       "  'key 2': 2,\n",
       "  'key 3': 3,\n",
       "  'key 4': 4,\n",
       "  'key 5': 5,\n",
       "  'key 6': 6,\n",
       "  'key 7': 7,\n",
       "  'key 8': 8},\n",
       " {'key 0': 0,\n",
       "  'key 1': 1,\n",
       "  'key 2': 2,\n",
       "  'key 3': 3,\n",
       "  'key 4': 4,\n",
       "  'key 5': 5,\n",
       "  'key 6': 6,\n",
       "  'key 7': 7,\n",
       "  'key 8': 8,\n",
       "  'key 9': 9}]"
      ]
     },
     "execution_count": 17,
     "metadata": {},
     "output_type": "execute_result"
    }
   ],
   "source": [
    "a"
   ]
  },
  {
   "cell_type": "code",
   "execution_count": 10,
   "id": "b97a2265",
   "metadata": {},
   "outputs": [],
   "source": [
    "result = []\n",
    "\n",
    "something = {\n",
    "    \"some\": \"thing\"\n",
    "}\n",
    "\n",
    "for i in range(1,11):\n",
    "    result.append(something)"
   ]
  },
  {
   "cell_type": "code",
   "execution_count": 11,
   "id": "4ee54c11",
   "metadata": {},
   "outputs": [
    {
     "data": {
      "text/plain": [
       "[{'some': 'thing'},\n",
       " {'some': 'thing'},\n",
       " {'some': 'thing'},\n",
       " {'some': 'thing'},\n",
       " {'some': 'thing'},\n",
       " {'some': 'thing'},\n",
       " {'some': 'thing'},\n",
       " {'some': 'thing'},\n",
       " {'some': 'thing'},\n",
       " {'some': 'thing'}]"
      ]
     },
     "execution_count": 11,
     "metadata": {},
     "output_type": "execute_result"
    }
   ],
   "source": [
    "result"
   ]
  },
  {
   "cell_type": "code",
   "execution_count": null,
   "id": "640a040d",
   "metadata": {},
   "outputs": [],
   "source": []
  }
 ],
 "metadata": {
  "kernelspec": {
   "display_name": "Python 3 (ipykernel)",
   "language": "python",
   "name": "python3"
  },
  "language_info": {
   "codemirror_mode": {
    "name": "ipython",
    "version": 3
   },
   "file_extension": ".py",
   "mimetype": "text/x-python",
   "name": "python",
   "nbconvert_exporter": "python",
   "pygments_lexer": "ipython3",
   "version": "3.9.5"
  }
 },
 "nbformat": 4,
 "nbformat_minor": 5
}
