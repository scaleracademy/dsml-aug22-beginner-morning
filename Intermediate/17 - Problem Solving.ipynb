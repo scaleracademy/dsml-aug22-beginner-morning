{
 "cells": [
  {
   "cell_type": "code",
   "execution_count": 1,
   "id": "b7b5601c",
   "metadata": {},
   "outputs": [
    {
     "data": {
      "text/plain": [
       "7.416198487095663"
      ]
     },
     "execution_count": 1,
     "metadata": {},
     "output_type": "execute_result"
    }
   ],
   "source": [
    "55**0.5"
   ]
  },
  {
   "cell_type": "code",
   "execution_count": 67,
   "id": "839161e3",
   "metadata": {},
   "outputs": [],
   "source": [
    "students = [(\"Asha\", 4),(\"Bipin\", 1), (\"Sathish\", 1), (\"Vishakha\", 3), (\"Arup\", 2), (\"Hemanth\", 2)]"
   ]
  },
  {
   "cell_type": "code",
   "execution_count": 68,
   "id": "0528125f",
   "metadata": {},
   "outputs": [],
   "source": [
    "grades = list(set(map(lambda x: x[1], students)))"
   ]
  },
  {
   "cell_type": "code",
   "execution_count": 69,
   "id": "58db7e50",
   "metadata": {},
   "outputs": [
    {
     "data": {
      "text/plain": [
       "[1, 2, 3, 4]"
      ]
     },
     "execution_count": 69,
     "metadata": {},
     "output_type": "execute_result"
    }
   ],
   "source": [
    "grades"
   ]
  },
  {
   "cell_type": "code",
   "execution_count": 70,
   "id": "06cfcadf",
   "metadata": {},
   "outputs": [],
   "source": [
    "second_lowest_grade = grades[1]"
   ]
  },
  {
   "cell_type": "code",
   "execution_count": 71,
   "id": "c1a78404",
   "metadata": {},
   "outputs": [],
   "source": [
    "results = []\n",
    "for name, grade in students:\n",
    "    if grade == second_lowest_grade:\n",
    "        results.append(name)"
   ]
  },
  {
   "cell_type": "code",
   "execution_count": 72,
   "id": "9aeef5fa",
   "metadata": {},
   "outputs": [
    {
     "data": {
      "text/plain": [
       "['Arup', 'Hemanth']"
      ]
     },
     "execution_count": 72,
     "metadata": {},
     "output_type": "execute_result"
    }
   ],
   "source": [
    "results"
   ]
  },
  {
   "cell_type": "code",
   "execution_count": 13,
   "id": "d08197c4",
   "metadata": {},
   "outputs": [
    {
     "name": "stdout",
     "output_type": "stream",
     "text": [
      "[(True, 64), (False, 125), (True, 216)]\n"
     ]
    }
   ],
   "source": [
    "class solution:\n",
    "    def initial(self, sets):\n",
    "        return self.final(sets)\n",
    "    \n",
    "    def final(self, sets):\n",
    "        return list(map(lambda x: ((x**3)%2==0,x**3),sets))\n",
    "\n",
    "print(solution().initial([4,5,6]))"
   ]
  },
  {
   "cell_type": "code",
   "execution_count": 23,
   "id": "cace74eb",
   "metadata": {},
   "outputs": [],
   "source": [
    "def check_valid_email(email):\n",
    "    parts = email.split(\"@\")\n",
    "    \n",
    "    if len(parts) != 2:\n",
    "        return \"Not Valid\"\n",
    "    \n",
    "    if len(parts[0]) == 0 or len(parts[1]) == 0:\n",
    "        return \"Not Valid\"\n",
    "    \n",
    "    if len(parts[0]) > 20:\n",
    "        return \"Not Valid\"\n",
    "    \n",
    "    return \"Valid\""
   ]
  },
  {
   "cell_type": "code",
   "execution_count": 20,
   "id": "dc43d028",
   "metadata": {},
   "outputs": [],
   "source": [
    "result = check_valid_email(\"randomemail.com\")"
   ]
  },
  {
   "cell_type": "code",
   "execution_count": 21,
   "id": "445304e6",
   "metadata": {},
   "outputs": [
    {
     "data": {
      "text/plain": [
       "'Not Valid'"
      ]
     },
     "execution_count": 21,
     "metadata": {},
     "output_type": "execute_result"
    }
   ],
   "source": [
    "result"
   ]
  },
  {
   "cell_type": "code",
   "execution_count": 22,
   "id": "3397fe9e",
   "metadata": {},
   "outputs": [
    {
     "data": {
      "text/plain": [
       "'Not Valid'"
      ]
     },
     "execution_count": 22,
     "metadata": {},
     "output_type": "execute_result"
    }
   ],
   "source": [
    "check_valid_email(\"@random.com\")"
   ]
  },
  {
   "cell_type": "code",
   "execution_count": 24,
   "id": "1fca33ec",
   "metadata": {},
   "outputs": [
    {
     "data": {
      "text/plain": [
       "'Valid'"
      ]
     },
     "execution_count": 24,
     "metadata": {},
     "output_type": "execute_result"
    }
   ],
   "source": [
    "check_valid_email(\"bipinkalra@gmail.com\")"
   ]
  },
  {
   "cell_type": "code",
   "execution_count": 30,
   "id": "48407fd5",
   "metadata": {},
   "outputs": [],
   "source": [
    "class MachineLearning:\n",
    "    def __init__(self, name, category):\n",
    "        self.name = name\n",
    "        self.category = category\n",
    "        \n",
    "    def getname(self):\n",
    "        return self.name\n",
    "    \n",
    "    def getcategory(self):\n",
    "        return self.category\n",
    "    \n",
    "    def print(self):\n",
    "        print(\"Name:\", self.name)\n",
    "        print(\"Category:\", self.category)"
   ]
  },
  {
   "cell_type": "code",
   "execution_count": 31,
   "id": "3d44fcfa",
   "metadata": {},
   "outputs": [],
   "source": [
    "class Supervised(MachineLearning):\n",
    "    def __init__(self, name, category):\n",
    "        super().__init__(name, category)\n",
    "        \n",
    "    def type(self):\n",
    "        print(\"Supervised Learning Algorithm\")"
   ]
  },
  {
   "cell_type": "code",
   "execution_count": 32,
   "id": "bc85b6fe",
   "metadata": {},
   "outputs": [],
   "source": [
    "s = Supervised(\"Decision Tree\", \"Trees\")"
   ]
  },
  {
   "cell_type": "code",
   "execution_count": 33,
   "id": "4be1981b",
   "metadata": {},
   "outputs": [
    {
     "data": {
      "text/plain": [
       "<__main__.Supervised at 0x7fdab8993280>"
      ]
     },
     "execution_count": 33,
     "metadata": {},
     "output_type": "execute_result"
    }
   ],
   "source": [
    "s"
   ]
  },
  {
   "cell_type": "code",
   "execution_count": 34,
   "id": "5829fc1e",
   "metadata": {},
   "outputs": [
    {
     "name": "stdout",
     "output_type": "stream",
     "text": [
      "Supervised Learning Algorithm\n"
     ]
    }
   ],
   "source": [
    "s.type()"
   ]
  },
  {
   "cell_type": "code",
   "execution_count": 35,
   "id": "a27789e6",
   "metadata": {},
   "outputs": [
    {
     "name": "stdout",
     "output_type": "stream",
     "text": [
      "random\n"
     ]
    }
   ],
   "source": [
    "print(\"random\")"
   ]
  },
  {
   "cell_type": "code",
   "execution_count": 36,
   "id": "17405e68",
   "metadata": {},
   "outputs": [],
   "source": [
    "a = [\"random\", \"abc\", \"faaaltu\", \"noice\", \"aaaaaahhhhh\"]"
   ]
  },
  {
   "cell_type": "code",
   "execution_count": 37,
   "id": "112ddda0",
   "metadata": {},
   "outputs": [
    {
     "data": {
      "text/plain": [
       "['noice', 'random', 'abc', 'faaaltu', 'aaaaaahhhhh']"
      ]
     },
     "execution_count": 37,
     "metadata": {},
     "output_type": "execute_result"
    }
   ],
   "source": [
    "sorted(a, key = lambda x: x.count(\"a\"))"
   ]
  },
  {
   "cell_type": "code",
   "execution_count": 38,
   "id": "4b2d00f1",
   "metadata": {},
   "outputs": [],
   "source": [
    "list1 = [[1,2,3],[4,5,6],[7,8,9]]\n",
    "list2 = [[9,8,7],[6,5,4],[3,2,1]]\n",
    "ls11,ls12,ls13=list1\n",
    "ls21,ls22,ls23=list2"
   ]
  },
  {
   "cell_type": "code",
   "execution_count": 39,
   "id": "e8df4f29",
   "metadata": {},
   "outputs": [
    {
     "data": {
      "text/plain": [
       "[1, 2, 3]"
      ]
     },
     "execution_count": 39,
     "metadata": {},
     "output_type": "execute_result"
    }
   ],
   "source": [
    "ls11"
   ]
  },
  {
   "cell_type": "code",
   "execution_count": 40,
   "id": "ab5324d3",
   "metadata": {},
   "outputs": [
    {
     "data": {
      "text/plain": [
       "[4, 5, 6]"
      ]
     },
     "execution_count": 40,
     "metadata": {},
     "output_type": "execute_result"
    }
   ],
   "source": [
    "ls12"
   ]
  },
  {
   "cell_type": "code",
   "execution_count": 41,
   "id": "b9ed9224",
   "metadata": {},
   "outputs": [
    {
     "data": {
      "text/plain": [
       "[7, 8, 9]"
      ]
     },
     "execution_count": 41,
     "metadata": {},
     "output_type": "execute_result"
    }
   ],
   "source": [
    "ls13"
   ]
  },
  {
   "cell_type": "code",
   "execution_count": 42,
   "id": "19be2c4a",
   "metadata": {},
   "outputs": [
    {
     "data": {
      "text/plain": [
       "[9, 8, 7]"
      ]
     },
     "execution_count": 42,
     "metadata": {},
     "output_type": "execute_result"
    }
   ],
   "source": [
    "ls21"
   ]
  },
  {
   "cell_type": "code",
   "execution_count": 43,
   "id": "21d82fe4",
   "metadata": {},
   "outputs": [
    {
     "data": {
      "text/plain": [
       "[(1, 4), (2, 5), (3, 6)]"
      ]
     },
     "execution_count": 43,
     "metadata": {},
     "output_type": "execute_result"
    }
   ],
   "source": [
    "list(zip([1,2,3], [4,5,6]))"
   ]
  },
  {
   "cell_type": "code",
   "execution_count": 44,
   "id": "e77c7467",
   "metadata": {},
   "outputs": [
    {
     "name": "stdout",
     "output_type": "stream",
     "text": [
      "[(1, 4, 7, 9, 6, 3), (2, 5, 8, 8, 5, 2), (3, 6, 9, 7, 4, 1)]\n"
     ]
    }
   ],
   "source": [
    "print(list(zip(ls11,ls12,ls13,ls21,ls22,ls23)))"
   ]
  },
  {
   "cell_type": "code",
   "execution_count": 47,
   "id": "6c90b414",
   "metadata": {},
   "outputs": [],
   "source": [
    "student_data = [(\"Asha\", 4),(\"Bipin\", 1), (\"Sathish\", 1), (\"Vishakha\", 3), (\"Arup\", 2), (\"Hemanth\", 2)]"
   ]
  },
  {
   "cell_type": "code",
   "execution_count": 52,
   "id": "ed943b79",
   "metadata": {},
   "outputs": [],
   "source": [
    "students = [\"Asha\", \"Bipin\", \"Satish\", \"Arup\", \"Vishakha\"]\n",
    "scores = [3,1,1,3,2]\n"
   ]
  },
  {
   "cell_type": "code",
   "execution_count": 65,
   "id": "e1600815",
   "metadata": {},
   "outputs": [],
   "source": [
    "def second_lowest(students, scores):\n",
    "    student_data, second_low_score, second_names = [], 0, None\n",
    "    # Your code starts here\n",
    "    for i in range(len(students)):\n",
    "        student_data.append([students[i],float(scores[i])])\n",
    "            \n",
    "#     print(lowest_score)\n",
    "#     print(student_data)\n",
    "\n",
    "    unique_scores = list(set(scores))\n",
    "    second_lowest_score = unique_scores[1]\n",
    "    \n",
    "    print(second_lowest_score)\n",
    "    \n",
    "    for name, grade in student_data:\n",
    "        if grade == second_lowest_score:\n",
    "            print(name)\n",
    "#         if lowest_score < second_low_score > scores[i] :\n",
    "#             second_low_score = float(scores[i])\n",
    "#             # second_names.append(students[i])\n",
    "#             second_names = students[i]\n",
    "\n",
    "    return f\"{student_data}\\n{second_low_score}\\n{second_names}\""
   ]
  },
  {
   "cell_type": "code",
   "execution_count": 66,
   "id": "45b481d5",
   "metadata": {},
   "outputs": [
    {
     "name": "stdout",
     "output_type": "stream",
     "text": [
      "2\n",
      "Vishakha\n"
     ]
    },
    {
     "data": {
      "text/plain": [
       "\"[['Asha', 3.0], ['Bipin', 1.0], ['Satish', 1.0], ['Arup', 3.0], ['Vishakha', 2.0]]\\n0\\nNone\""
      ]
     },
     "execution_count": 66,
     "metadata": {},
     "output_type": "execute_result"
    }
   ],
   "source": [
    "second_lowest(students, scores)"
   ]
  },
  {
   "cell_type": "code",
   "execution_count": null,
   "id": "8886f3dc",
   "metadata": {},
   "outputs": [],
   "source": []
  }
 ],
 "metadata": {
  "kernelspec": {
   "display_name": "Python 3 (ipykernel)",
   "language": "python",
   "name": "python3"
  },
  "language_info": {
   "codemirror_mode": {
    "name": "ipython",
    "version": 3
   },
   "file_extension": ".py",
   "mimetype": "text/x-python",
   "name": "python",
   "nbconvert_exporter": "python",
   "pygments_lexer": "ipython3",
   "version": "3.9.5"
  }
 },
 "nbformat": 4,
 "nbformat_minor": 5
}
