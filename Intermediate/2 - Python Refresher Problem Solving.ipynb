{
 "cells": [
  {
   "cell_type": "code",
   "execution_count": 1,
   "id": "e5454f42",
   "metadata": {},
   "outputs": [
    {
     "name": "stdout",
     "output_type": "stream",
     "text": [
      "True\n"
     ]
    }
   ],
   "source": [
    "a, b = 12, 5\n",
    "\n",
    "if a+b:\n",
    "    print('True')\n",
    "else:\n",
    "    print('False')"
   ]
  },
  {
   "cell_type": "code",
   "execution_count": 2,
   "id": "217f3648",
   "metadata": {},
   "outputs": [
    {
     "name": "stdout",
     "output_type": "stream",
     "text": [
      "100\n"
     ]
    }
   ],
   "source": [
    "x = 0\n",
    "\n",
    "while (x < 100):\n",
    "    x += 2 # 0 -> 2 -> 4 -> ... ->96 -> 98 -> 100\n",
    "\n",
    "print(x)"
   ]
  },
  {
   "cell_type": "code",
   "execution_count": 3,
   "id": "75fa80ff",
   "metadata": {},
   "outputs": [],
   "source": [
    "a = \"python\""
   ]
  },
  {
   "cell_type": "code",
   "execution_count": 4,
   "id": "6271189c",
   "metadata": {},
   "outputs": [],
   "source": [
    "it = iter(a)"
   ]
  },
  {
   "cell_type": "code",
   "execution_count": 5,
   "id": "e35e3428",
   "metadata": {},
   "outputs": [
    {
     "data": {
      "text/plain": [
       "<str_iterator at 0x7fa1e012a5b0>"
      ]
     },
     "execution_count": 5,
     "metadata": {},
     "output_type": "execute_result"
    }
   ],
   "source": [
    "it"
   ]
  },
  {
   "cell_type": "code",
   "execution_count": 7,
   "id": "ace146c2",
   "metadata": {},
   "outputs": [
    {
     "data": {
      "text/plain": [
       "'y'"
      ]
     },
     "execution_count": 7,
     "metadata": {},
     "output_type": "execute_result"
    }
   ],
   "source": [
    "next(it)"
   ]
  },
  {
   "cell_type": "code",
   "execution_count": 8,
   "id": "5a7cd743",
   "metadata": {},
   "outputs": [],
   "source": [
    "t1 = 1,2,3"
   ]
  },
  {
   "cell_type": "code",
   "execution_count": 9,
   "id": "46126696",
   "metadata": {},
   "outputs": [
    {
     "name": "stdout",
     "output_type": "stream",
     "text": [
      "(1, 2, 3)\n"
     ]
    }
   ],
   "source": [
    "print(t1)"
   ]
  },
  {
   "cell_type": "code",
   "execution_count": 10,
   "id": "2b6ddab3",
   "metadata": {},
   "outputs": [
    {
     "name": "stdout",
     "output_type": "stream",
     "text": [
      "567890\n"
     ]
    }
   ],
   "source": [
    "a = int(input())"
   ]
  },
  {
   "cell_type": "code",
   "execution_count": 11,
   "id": "2d0298a3",
   "metadata": {},
   "outputs": [],
   "source": [
    "b = a"
   ]
  },
  {
   "cell_type": "code",
   "execution_count": 12,
   "id": "432a303e",
   "metadata": {},
   "outputs": [
    {
     "data": {
      "text/plain": [
       "567890"
      ]
     },
     "execution_count": 12,
     "metadata": {},
     "output_type": "execute_result"
    }
   ],
   "source": [
    "b"
   ]
  },
  {
   "cell_type": "code",
   "execution_count": 13,
   "id": "b243b3c8",
   "metadata": {},
   "outputs": [
    {
     "data": {
      "text/plain": [
       "0"
      ]
     },
     "execution_count": 13,
     "metadata": {},
     "output_type": "execute_result"
    }
   ],
   "source": [
    "b % 10"
   ]
  },
  {
   "cell_type": "code",
   "execution_count": 14,
   "id": "d2b68b32",
   "metadata": {},
   "outputs": [
    {
     "data": {
      "text/plain": [
       "56789"
      ]
     },
     "execution_count": 14,
     "metadata": {},
     "output_type": "execute_result"
    }
   ],
   "source": [
    "b // 10"
   ]
  },
  {
   "cell_type": "code",
   "execution_count": 15,
   "id": "97f92d48",
   "metadata": {},
   "outputs": [],
   "source": [
    "result = []\n",
    "while a > 0:\n",
    "    last_digit = a % 10\n",
    "    result.append(last_digit)\n",
    "    a //= 10"
   ]
  },
  {
   "cell_type": "code",
   "execution_count": 17,
   "id": "1239396c",
   "metadata": {},
   "outputs": [
    {
     "data": {
      "text/plain": [
       "[5, 6, 7, 8, 9, 0]"
      ]
     },
     "execution_count": 17,
     "metadata": {},
     "output_type": "execute_result"
    }
   ],
   "source": [
    "result[::-1]"
   ]
  },
  {
   "cell_type": "code",
   "execution_count": null,
   "id": "a1498481",
   "metadata": {},
   "outputs": [],
   "source": [
    "for i in range(10):\n",
    "    if i<10:\n",
    "        print('if')\n",
    "else:\n",
    "    print('else')"
   ]
  },
  {
   "cell_type": "code",
   "execution_count": 21,
   "id": "485e4d7e",
   "metadata": {},
   "outputs": [],
   "source": [
    "y = 100 + 200 - 150 / 3 \\\n",
    "- 40 + 50"
   ]
  },
  {
   "cell_type": "code",
   "execution_count": 22,
   "id": "32e2610c",
   "metadata": {},
   "outputs": [
    {
     "data": {
      "text/plain": [
       "260.0"
      ]
     },
     "execution_count": 22,
     "metadata": {},
     "output_type": "execute_result"
    }
   ],
   "source": [
    "y"
   ]
  },
  {
   "cell_type": "code",
   "execution_count": 23,
   "id": "39834b62",
   "metadata": {},
   "outputs": [
    {
     "data": {
      "text/plain": [
       "20"
      ]
     },
     "execution_count": 23,
     "metadata": {},
     "output_type": "execute_result"
    }
   ],
   "source": [
    "y = 100 \\\n",
    "# + 20 \\\n",
    "+ 20"
   ]
  },
  {
   "cell_type": "code",
   "execution_count": 24,
   "id": "86340db7",
   "metadata": {},
   "outputs": [
    {
     "data": {
      "text/plain": [
       "100"
      ]
     },
     "execution_count": 24,
     "metadata": {},
     "output_type": "execute_result"
    }
   ],
   "source": [
    "y"
   ]
  },
  {
   "cell_type": "code",
   "execution_count": 25,
   "id": "47a259a3",
   "metadata": {},
   "outputs": [
    {
     "ename": "SyntaxError",
     "evalue": "invalid syntax (198145793.py, line 5)",
     "output_type": "error",
     "traceback": [
      "\u001b[0;36m  File \u001b[0;32m\"/var/folders/nn/c52y0d3j0gq59dpsswchkt2r0000gn/T/ipykernel_20600/198145793.py\"\u001b[0;36m, line \u001b[0;32m5\u001b[0m\n\u001b[0;31m    -------\u001b[0m\n\u001b[0m           ^\u001b[0m\n\u001b[0;31mSyntaxError\u001b[0m\u001b[0;31m:\u001b[0m invalid syntax\n"
     ]
    }
   ],
   "source": [
    "y = 100 \\\n",
    "# + 20 \\\n",
    "+ 20\n",
    "x = 200\n",
    "-------"
   ]
  },
  {
   "cell_type": "code",
   "execution_count": 26,
   "id": "ac08474c",
   "metadata": {},
   "outputs": [],
   "source": [
    "a = \"this is a string\" + \\\n",
    "\"this is another string\" + \\\n",
    "\"this is the third string\""
   ]
  },
  {
   "cell_type": "code",
   "execution_count": 27,
   "id": "ae8b5706",
   "metadata": {},
   "outputs": [
    {
     "data": {
      "text/plain": [
       "'this is a stringthis is another stringthis is the third string'"
      ]
     },
     "execution_count": 27,
     "metadata": {},
     "output_type": "execute_result"
    }
   ],
   "source": [
    "a"
   ]
  },
  {
   "cell_type": "code",
   "execution_count": 31,
   "id": "3d4c9f07",
   "metadata": {},
   "outputs": [
    {
     "ename": "SyntaxError",
     "evalue": "can't use starred expression here (2832014702.py, line 1)",
     "output_type": "error",
     "traceback": [
      "\u001b[0;36m  File \u001b[0;32m\"/var/folders/nn/c52y0d3j0gq59dpsswchkt2r0000gn/T/ipykernel_20600/2832014702.py\"\u001b[0;36m, line \u001b[0;32m1\u001b[0m\n\u001b[0;31m    *80\u001b[0m\n\u001b[0m    ^\u001b[0m\n\u001b[0;31mSyntaxError\u001b[0m\u001b[0;31m:\u001b[0m can't use starred expression here\n"
     ]
    }
   ],
   "source": [
    "*80"
   ]
  },
  {
   "cell_type": "code",
   "execution_count": 35,
   "id": "fa1e5606",
   "metadata": {},
   "outputs": [],
   "source": [
    "# To take two lists as input ->\n",
    "\n",
    "# METHOD 1\n",
    "# 1. Sizes of lists will be taken as input"
   ]
  },
  {
   "cell_type": "code",
   "execution_count": 37,
   "id": "98e0e64d",
   "metadata": {},
   "outputs": [
    {
     "name": "stdout",
     "output_type": "stream",
     "text": [
      "List 1 size - 2\n",
      "List 2 size - 3\n"
     ]
    }
   ],
   "source": [
    "m = int(input(\"List 1 size - \"))\n",
    "n = int(input(\"List 2 size - \"))"
   ]
  },
  {
   "cell_type": "code",
   "execution_count": 38,
   "id": "3a400503",
   "metadata": {},
   "outputs": [],
   "source": [
    "# 2. Run a loop for each list input"
   ]
  },
  {
   "cell_type": "code",
   "execution_count": 39,
   "id": "2ddabd15",
   "metadata": {},
   "outputs": [
    {
     "name": "stdout",
     "output_type": "stream",
     "text": [
      "5 6 7 8 9 10 11 13 45\n",
      "6 7 8 45 67 34\n"
     ]
    }
   ],
   "source": [
    "# METHOD 2\n",
    "l1 = input()\n",
    "l2 = input()"
   ]
  },
  {
   "cell_type": "code",
   "execution_count": 40,
   "id": "05593f22",
   "metadata": {},
   "outputs": [],
   "source": [
    "l1 = l1.split(\" \")"
   ]
  },
  {
   "cell_type": "code",
   "execution_count": 41,
   "id": "adc20e25",
   "metadata": {},
   "outputs": [
    {
     "data": {
      "text/plain": [
       "['5', '6', '7', '8', '9', '10', '11', '13', '45']"
      ]
     },
     "execution_count": 41,
     "metadata": {},
     "output_type": "execute_result"
    }
   ],
   "source": [
    "l1"
   ]
  },
  {
   "cell_type": "code",
   "execution_count": 42,
   "id": "3fc3ff2d",
   "metadata": {},
   "outputs": [],
   "source": [
    "l2 = l2.split(\" \")"
   ]
  },
  {
   "cell_type": "code",
   "execution_count": 43,
   "id": "ec8261d1",
   "metadata": {},
   "outputs": [
    {
     "data": {
      "text/plain": [
       "['6', '7', '8', '45', '67', '34']"
      ]
     },
     "execution_count": 43,
     "metadata": {},
     "output_type": "execute_result"
    }
   ],
   "source": [
    "l2"
   ]
  },
  {
   "cell_type": "code",
   "execution_count": 44,
   "id": "b14d4027",
   "metadata": {},
   "outputs": [
    {
     "name": "stdout",
     "output_type": "stream",
     "text": [
      "123545111116789\n"
     ]
    }
   ],
   "source": [
    "number = int(input())"
   ]
  },
  {
   "cell_type": "code",
   "execution_count": 45,
   "id": "a3eb4a88",
   "metadata": {},
   "outputs": [],
   "source": [
    "str_number = str(number)"
   ]
  },
  {
   "cell_type": "code",
   "execution_count": 46,
   "id": "a4651a0b",
   "metadata": {},
   "outputs": [
    {
     "data": {
      "text/plain": [
       "6"
      ]
     },
     "execution_count": 46,
     "metadata": {},
     "output_type": "execute_result"
    }
   ],
   "source": [
    "str_number.count(\"1\")"
   ]
  },
  {
   "cell_type": "code",
   "execution_count": 47,
   "id": "2d6bfe1f",
   "metadata": {},
   "outputs": [],
   "source": [
    "def count_digit(number, digit):\n",
    "    count = 0\n",
    "    \n",
    "    while number > 0:\n",
    "        last_digit = number % 10\n",
    "        \n",
    "        if last_digit == digit:\n",
    "            count += 1\n",
    "            \n",
    "        number //= 10\n",
    "        \n",
    "    return count"
   ]
  },
  {
   "cell_type": "code",
   "execution_count": 48,
   "id": "013145e2",
   "metadata": {},
   "outputs": [
    {
     "data": {
      "text/plain": [
       "6"
      ]
     },
     "execution_count": 48,
     "metadata": {},
     "output_type": "execute_result"
    }
   ],
   "source": [
    "count_digit(number, 1)"
   ]
  },
  {
   "cell_type": "code",
   "execution_count": 49,
   "id": "84495b34",
   "metadata": {},
   "outputs": [],
   "source": [
    "a = \"string\""
   ]
  },
  {
   "cell_type": "code",
   "execution_count": 50,
   "id": "137014e8",
   "metadata": {},
   "outputs": [
    {
     "data": {
      "text/plain": [
       "'s'"
      ]
     },
     "execution_count": 50,
     "metadata": {},
     "output_type": "execute_result"
    }
   ],
   "source": [
    "a[0]"
   ]
  },
  {
   "cell_type": "code",
   "execution_count": 51,
   "id": "78094e0d",
   "metadata": {},
   "outputs": [
    {
     "name": "stdout",
     "output_type": "stream",
     "text": [
      "0\n",
      "1\n",
      "2\n",
      "3\n",
      "4\n"
     ]
    }
   ],
   "source": [
    "for i in range(5):\n",
    "    print(i)"
   ]
  },
  {
   "cell_type": "code",
   "execution_count": 52,
   "id": "1eb63df5",
   "metadata": {},
   "outputs": [],
   "source": [
    "a = [1,2,3,\"random\",\"string\"]"
   ]
  },
  {
   "cell_type": "code",
   "execution_count": 53,
   "id": "dc6eb993",
   "metadata": {},
   "outputs": [
    {
     "data": {
      "text/plain": [
       "'random'"
      ]
     },
     "execution_count": 53,
     "metadata": {},
     "output_type": "execute_result"
    }
   ],
   "source": [
    "a[3]"
   ]
  },
  {
   "cell_type": "code",
   "execution_count": 55,
   "id": "7118eb27",
   "metadata": {},
   "outputs": [
    {
     "name": "stdout",
     "output_type": "stream",
     "text": [
      "r\n",
      "a\n",
      "n\n",
      "d\n",
      "o\n",
      "m\n"
     ]
    }
   ],
   "source": [
    "for i in range(len(a[3])):\n",
    "    print(a[3][i])"
   ]
  },
  {
   "cell_type": "code",
   "execution_count": 67,
   "id": "0f48f00f",
   "metadata": {},
   "outputs": [
    {
     "data": {
      "text/plain": [
       "'\\nQuestion 1 - \\nWrite a function to merge two sorted lists in sorted order -\\na = [2,4,6,8,9]\\nb = [1,3,5,9]\\nRESULT = [1,2,3,4,5,6,8,9,9]\\n\\nNO INTERNAL SORTING FUNCTIONS CAN BE USED. :)\\n'"
      ]
     },
     "execution_count": 67,
     "metadata": {},
     "output_type": "execute_result"
    }
   ],
   "source": [
    "'''\n",
    "Question 1 - \n",
    "Write a function to merge two sorted lists in sorted order -\n",
    "a = [2,4,6,8,9]\n",
    "b = [1,3,5,9]\n",
    "RESULT = [1,2,3,4,5,6,8,9,9]\n",
    "\n",
    "NO INTERNAL SORTING FUNCTIONS CAN BE USED. :)\n",
    "'''"
   ]
  },
  {
   "cell_type": "code",
   "execution_count": 68,
   "id": "dd1761b4",
   "metadata": {},
   "outputs": [],
   "source": [
    "a = [2,4,6,8]\n",
    "b = [1,3,5,9]"
   ]
  },
  {
   "cell_type": "code",
   "execution_count": 62,
   "id": "b511b443",
   "metadata": {},
   "outputs": [],
   "source": [
    "a.extend(b)"
   ]
  },
  {
   "cell_type": "code",
   "execution_count": 63,
   "id": "64081079",
   "metadata": {},
   "outputs": [
    {
     "data": {
      "text/plain": [
       "[2, 4, 6, 8, 1, 3, 5, 9]"
      ]
     },
     "execution_count": 63,
     "metadata": {},
     "output_type": "execute_result"
    }
   ],
   "source": [
    "a"
   ]
  },
  {
   "cell_type": "code",
   "execution_count": 66,
   "id": "8a573f7f",
   "metadata": {},
   "outputs": [
    {
     "ename": "AttributeError",
     "evalue": "'list' object has no attribute 'update'",
     "output_type": "error",
     "traceback": [
      "\u001b[0;31m---------------------------------------------------------------------------\u001b[0m",
      "\u001b[0;31mAttributeError\u001b[0m                            Traceback (most recent call last)",
      "\u001b[0;32m/var/folders/nn/c52y0d3j0gq59dpsswchkt2r0000gn/T/ipykernel_20600/207032691.py\u001b[0m in \u001b[0;36m<module>\u001b[0;34m\u001b[0m\n\u001b[0;32m----> 1\u001b[0;31m \u001b[0ma\u001b[0m\u001b[0;34m.\u001b[0m\u001b[0mupdate\u001b[0m\u001b[0;34m(\u001b[0m\u001b[0mb\u001b[0m\u001b[0;34m)\u001b[0m\u001b[0;34m\u001b[0m\u001b[0;34m\u001b[0m\u001b[0m\n\u001b[0m",
      "\u001b[0;31mAttributeError\u001b[0m: 'list' object has no attribute 'update'"
     ]
    }
   ],
   "source": [
    "a.update(b)"
   ]
  },
  {
   "cell_type": "code",
   "execution_count": 69,
   "id": "148472d3",
   "metadata": {},
   "outputs": [
    {
     "name": "stdout",
     "output_type": "stream",
     "text": [
      "5 1 2 3 4 5\n"
     ]
    }
   ],
   "source": [
    "a = input()"
   ]
  },
  {
   "cell_type": "code",
   "execution_count": 70,
   "id": "ee13cb90",
   "metadata": {},
   "outputs": [],
   "source": [
    "a = a.split(\" \")"
   ]
  },
  {
   "cell_type": "code",
   "execution_count": 71,
   "id": "b5dcc19e",
   "metadata": {},
   "outputs": [
    {
     "data": {
      "text/plain": [
       "['5', '1', '2', '3', '4', '5']"
      ]
     },
     "execution_count": 71,
     "metadata": {},
     "output_type": "execute_result"
    }
   ],
   "source": [
    "a"
   ]
  },
  {
   "cell_type": "code",
   "execution_count": 72,
   "id": "eb3c1e73",
   "metadata": {},
   "outputs": [],
   "source": [
    "size = int(a[0])\n",
    "list1 = a[1:]"
   ]
  },
  {
   "cell_type": "code",
   "execution_count": 73,
   "id": "891d99f3",
   "metadata": {},
   "outputs": [
    {
     "data": {
      "text/plain": [
       "5"
      ]
     },
     "execution_count": 73,
     "metadata": {},
     "output_type": "execute_result"
    }
   ],
   "source": [
    "size"
   ]
  },
  {
   "cell_type": "code",
   "execution_count": 74,
   "id": "944c538b",
   "metadata": {},
   "outputs": [
    {
     "data": {
      "text/plain": [
       "['1', '2', '3', '4', '5']"
      ]
     },
     "execution_count": 74,
     "metadata": {},
     "output_type": "execute_result"
    }
   ],
   "source": [
    "list1"
   ]
  },
  {
   "cell_type": "code",
   "execution_count": null,
   "id": "570b8dc0",
   "metadata": {},
   "outputs": [],
   "source": []
  }
 ],
 "metadata": {
  "kernelspec": {
   "display_name": "Python 3 (ipykernel)",
   "language": "python",
   "name": "python3"
  },
  "language_info": {
   "codemirror_mode": {
    "name": "ipython",
    "version": 3
   },
   "file_extension": ".py",
   "mimetype": "text/x-python",
   "name": "python",
   "nbconvert_exporter": "python",
   "pygments_lexer": "ipython3",
   "version": "3.9.5"
  }
 },
 "nbformat": 4,
 "nbformat_minor": 5
}
