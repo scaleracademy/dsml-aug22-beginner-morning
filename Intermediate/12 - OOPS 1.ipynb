{
 "cells": [
  {
   "cell_type": "code",
   "execution_count": 1,
   "id": "437722b8",
   "metadata": {},
   "outputs": [],
   "source": [
    "class Student: # this class name is capital by convention\n",
    "    pass"
   ]
  },
  {
   "cell_type": "code",
   "execution_count": 2,
   "id": "c6f179c2",
   "metadata": {},
   "outputs": [],
   "source": [
    "a = Student() # creating an object of class Student or instantiating class Student"
   ]
  },
  {
   "cell_type": "code",
   "execution_count": 3,
   "id": "84d6f118",
   "metadata": {},
   "outputs": [
    {
     "data": {
      "text/plain": [
       "__main__.Student"
      ]
     },
     "execution_count": 3,
     "metadata": {},
     "output_type": "execute_result"
    }
   ],
   "source": [
    "type(a)"
   ]
  },
  {
   "cell_type": "code",
   "execution_count": 4,
   "id": "db8a9124",
   "metadata": {},
   "outputs": [
    {
     "data": {
      "text/plain": [
       "101"
      ]
     },
     "execution_count": 4,
     "metadata": {},
     "output_type": "execute_result"
    }
   ],
   "source": [
    "45 + 56"
   ]
  },
  {
   "cell_type": "code",
   "execution_count": 5,
   "id": "c0014e39",
   "metadata": {},
   "outputs": [
    {
     "data": {
      "text/plain": [
       "'strign1string2'"
      ]
     },
     "execution_count": 5,
     "metadata": {},
     "output_type": "execute_result"
    }
   ],
   "source": [
    "\"strign1\" + \"string2\""
   ]
  },
  {
   "cell_type": "code",
   "execution_count": 6,
   "id": "3af9e3c9",
   "metadata": {},
   "outputs": [
    {
     "data": {
      "text/plain": [
       "<__main__.Student at 0x7fc220f92a90>"
      ]
     },
     "execution_count": 6,
     "metadata": {},
     "output_type": "execute_result"
    }
   ],
   "source": [
    "a"
   ]
  },
  {
   "cell_type": "code",
   "execution_count": 7,
   "id": "8408df7a",
   "metadata": {},
   "outputs": [],
   "source": [
    "name = \"Bipin\""
   ]
  },
  {
   "cell_type": "code",
   "execution_count": 8,
   "id": "0343d630",
   "metadata": {},
   "outputs": [],
   "source": [
    "a.name = \"Bipin\""
   ]
  },
  {
   "cell_type": "code",
   "execution_count": 9,
   "id": "79e4368a",
   "metadata": {},
   "outputs": [
    {
     "data": {
      "text/plain": [
       "'Bipin'"
      ]
     },
     "execution_count": 9,
     "metadata": {},
     "output_type": "execute_result"
    }
   ],
   "source": [
    "a.name"
   ]
  },
  {
   "cell_type": "code",
   "execution_count": 10,
   "id": "342c13da",
   "metadata": {},
   "outputs": [],
   "source": [
    "b = Student()"
   ]
  },
  {
   "cell_type": "code",
   "execution_count": 11,
   "id": "76dcaddd",
   "metadata": {},
   "outputs": [
    {
     "ename": "AttributeError",
     "evalue": "'Student' object has no attribute 'name'",
     "output_type": "error",
     "traceback": [
      "\u001b[0;31m---------------------------------------------------------------------------\u001b[0m",
      "\u001b[0;31mAttributeError\u001b[0m                            Traceback (most recent call last)",
      "\u001b[0;32m/var/folders/nn/c52y0d3j0gq59dpsswchkt2r0000gn/T/ipykernel_30381/1674586819.py\u001b[0m in \u001b[0;36m<module>\u001b[0;34m\u001b[0m\n\u001b[0;32m----> 1\u001b[0;31m \u001b[0mb\u001b[0m\u001b[0;34m.\u001b[0m\u001b[0mname\u001b[0m\u001b[0;34m\u001b[0m\u001b[0;34m\u001b[0m\u001b[0m\n\u001b[0m",
      "\u001b[0;31mAttributeError\u001b[0m: 'Student' object has no attribute 'name'"
     ]
    }
   ],
   "source": [
    "b.name"
   ]
  },
  {
   "cell_type": "code",
   "execution_count": 16,
   "id": "10380898",
   "metadata": {},
   "outputs": [],
   "source": [
    "class Student:\n",
    "    def __init__(self):\n",
    "        print(f\"self -> {id(self)}\")"
   ]
  },
  {
   "cell_type": "code",
   "execution_count": 17,
   "id": "d3d60541",
   "metadata": {},
   "outputs": [
    {
     "name": "stdout",
     "output_type": "stream",
     "text": [
      "self -> 140471753890112\n"
     ]
    }
   ],
   "source": [
    "s = Student()"
   ]
  },
  {
   "cell_type": "code",
   "execution_count": 18,
   "id": "60763d00",
   "metadata": {},
   "outputs": [
    {
     "data": {
      "text/plain": [
       "140471753890112"
      ]
     },
     "execution_count": 18,
     "metadata": {},
     "output_type": "execute_result"
    }
   ],
   "source": [
    "id(s)"
   ]
  },
  {
   "cell_type": "code",
   "execution_count": 19,
   "id": "ea6e70ba",
   "metadata": {},
   "outputs": [],
   "source": [
    "class Student:\n",
    "    def __init__(self):\n",
    "        self.name = \"Random Template Name\""
   ]
  },
  {
   "cell_type": "code",
   "execution_count": 24,
   "id": "96550b04",
   "metadata": {},
   "outputs": [],
   "source": [
    "a = Student()\n",
    "# Student.__init__(a)\n",
    "# self -> a\n",
    "# self.name = \"Random\" -> a.name = \"Random\""
   ]
  },
  {
   "cell_type": "code",
   "execution_count": 25,
   "id": "195ff31d",
   "metadata": {},
   "outputs": [
    {
     "data": {
      "text/plain": [
       "'Random Template Name'"
      ]
     },
     "execution_count": 25,
     "metadata": {},
     "output_type": "execute_result"
    }
   ],
   "source": [
    "a.name"
   ]
  },
  {
   "cell_type": "code",
   "execution_count": 26,
   "id": "f247f2fc",
   "metadata": {},
   "outputs": [],
   "source": [
    "b = Student()"
   ]
  },
  {
   "cell_type": "code",
   "execution_count": 27,
   "id": "188cf3f2",
   "metadata": {},
   "outputs": [
    {
     "data": {
      "text/plain": [
       "'Random Template Name'"
      ]
     },
     "execution_count": 27,
     "metadata": {},
     "output_type": "execute_result"
    }
   ],
   "source": [
    "b.name"
   ]
  },
  {
   "cell_type": "code",
   "execution_count": 28,
   "id": "085c9553",
   "metadata": {},
   "outputs": [],
   "source": [
    "class Student:\n",
    "    def __init__(self, custom_name):\n",
    "        self.name = custom_name"
   ]
  },
  {
   "cell_type": "code",
   "execution_count": 33,
   "id": "28aaf84e",
   "metadata": {},
   "outputs": [],
   "source": [
    "a = Student(\"Bipin Kalra\")\n",
    "# Student.__init__(a, \"Bipin Kalra\") # a or self was passed automatically by python"
   ]
  },
  {
   "cell_type": "code",
   "execution_count": 30,
   "id": "91fb3ec8",
   "metadata": {},
   "outputs": [
    {
     "data": {
      "text/plain": [
       "'Bipin Kalra'"
      ]
     },
     "execution_count": 30,
     "metadata": {},
     "output_type": "execute_result"
    }
   ],
   "source": [
    "a.name"
   ]
  },
  {
   "cell_type": "code",
   "execution_count": 31,
   "id": "ee98593f",
   "metadata": {},
   "outputs": [],
   "source": [
    "b = Student(\"Sathish\")"
   ]
  },
  {
   "cell_type": "code",
   "execution_count": 32,
   "id": "89da64d2",
   "metadata": {},
   "outputs": [
    {
     "data": {
      "text/plain": [
       "'Sathish'"
      ]
     },
     "execution_count": 32,
     "metadata": {},
     "output_type": "execute_result"
    }
   ],
   "source": [
    "b.name"
   ]
  },
  {
   "cell_type": "code",
   "execution_count": 34,
   "id": "0126f8e5",
   "metadata": {},
   "outputs": [],
   "source": [
    "class Student:\n",
    "    def __init__(self, custom_name, custom_age, custom_grade):\n",
    "        self.name = custom_name\n",
    "        self.age = custom_age\n",
    "        self.grade = custom_grade"
   ]
  },
  {
   "cell_type": "code",
   "execution_count": 36,
   "id": "4fa93199",
   "metadata": {},
   "outputs": [],
   "source": [
    "a = Student(\"Ashish\", 1000, \"A\")"
   ]
  },
  {
   "cell_type": "code",
   "execution_count": 37,
   "id": "b5484f9c",
   "metadata": {},
   "outputs": [
    {
     "data": {
      "text/plain": [
       "'Ashish'"
      ]
     },
     "execution_count": 37,
     "metadata": {},
     "output_type": "execute_result"
    }
   ],
   "source": [
    "a.name"
   ]
  },
  {
   "cell_type": "code",
   "execution_count": 38,
   "id": "81dce838",
   "metadata": {},
   "outputs": [
    {
     "data": {
      "text/plain": [
       "1000"
      ]
     },
     "execution_count": 38,
     "metadata": {},
     "output_type": "execute_result"
    }
   ],
   "source": [
    "a.age"
   ]
  },
  {
   "cell_type": "code",
   "execution_count": 39,
   "id": "24a1ccb1",
   "metadata": {},
   "outputs": [
    {
     "data": {
      "text/plain": [
       "'A'"
      ]
     },
     "execution_count": 39,
     "metadata": {},
     "output_type": "execute_result"
    }
   ],
   "source": [
    "a.grade"
   ]
  },
  {
   "cell_type": "code",
   "execution_count": 44,
   "id": "48cd7ff4",
   "metadata": {},
   "outputs": [],
   "source": [
    "class Student: # self is just a convention -> can be any variable name\n",
    "    def __init__(ANYTHING, custom_name):\n",
    "        ANYTHING.name = custom_name"
   ]
  },
  {
   "cell_type": "code",
   "execution_count": 45,
   "id": "313d5605",
   "metadata": {},
   "outputs": [],
   "source": [
    "a = Student(\"Bipin Kalra\")"
   ]
  },
  {
   "cell_type": "code",
   "execution_count": 46,
   "id": "0a725dc3",
   "metadata": {},
   "outputs": [
    {
     "data": {
      "text/plain": [
       "'Bipin Kalra'"
      ]
     },
     "execution_count": 46,
     "metadata": {},
     "output_type": "execute_result"
    }
   ],
   "source": [
    "a.name"
   ]
  },
  {
   "cell_type": "code",
   "execution_count": 47,
   "id": "e43bb089",
   "metadata": {},
   "outputs": [],
   "source": [
    "def add_two(x, y):\n",
    "    return x+y"
   ]
  },
  {
   "cell_type": "code",
   "execution_count": 48,
   "id": "71997dc0",
   "metadata": {},
   "outputs": [],
   "source": [
    "def add_two(aaltu, faltu):\n",
    "    return aaltu + faltu"
   ]
  },
  {
   "cell_type": "code",
   "execution_count": 50,
   "id": "14356c75",
   "metadata": {},
   "outputs": [],
   "source": [
    "# METHODS -> Functions which are attached to a class"
   ]
  },
  {
   "cell_type": "code",
   "execution_count": 55,
   "id": "1598a199",
   "metadata": {},
   "outputs": [],
   "source": [
    "class Student:\n",
    "    def hello(): # class method -> Can not be used by objects\n",
    "        print(\"Hello!\")"
   ]
  },
  {
   "cell_type": "code",
   "execution_count": 56,
   "id": "e2cc24fd",
   "metadata": {},
   "outputs": [
    {
     "name": "stdout",
     "output_type": "stream",
     "text": [
      "Hello!\n"
     ]
    }
   ],
   "source": [
    "Student.hello() # Can only be called using the class name itself"
   ]
  },
  {
   "cell_type": "code",
   "execution_count": 53,
   "id": "5390192f",
   "metadata": {},
   "outputs": [],
   "source": [
    "a = Student()"
   ]
  },
  {
   "cell_type": "code",
   "execution_count": 54,
   "id": "21424100",
   "metadata": {},
   "outputs": [
    {
     "ename": "TypeError",
     "evalue": "hello() takes 0 positional arguments but 1 was given",
     "output_type": "error",
     "traceback": [
      "\u001b[0;31m---------------------------------------------------------------------------\u001b[0m",
      "\u001b[0;31mTypeError\u001b[0m                                 Traceback (most recent call last)",
      "\u001b[0;32m/var/folders/nn/c52y0d3j0gq59dpsswchkt2r0000gn/T/ipykernel_30381/4071301202.py\u001b[0m in \u001b[0;36m<module>\u001b[0;34m\u001b[0m\n\u001b[0;32m----> 1\u001b[0;31m \u001b[0ma\u001b[0m\u001b[0;34m.\u001b[0m\u001b[0mhello\u001b[0m\u001b[0;34m(\u001b[0m\u001b[0;34m)\u001b[0m\u001b[0;34m\u001b[0m\u001b[0;34m\u001b[0m\u001b[0m\n\u001b[0m\u001b[1;32m      2\u001b[0m \u001b[0;31m# Student.hello(a)\u001b[0m\u001b[0;34m\u001b[0m\u001b[0;34m\u001b[0m\u001b[0;34m\u001b[0m\u001b[0m\n",
      "\u001b[0;31mTypeError\u001b[0m: hello() takes 0 positional arguments but 1 was given"
     ]
    }
   ],
   "source": [
    "a.hello()\n",
    "# Student.hello(a)"
   ]
  },
  {
   "cell_type": "code",
   "execution_count": 57,
   "id": "21cae032",
   "metadata": {},
   "outputs": [],
   "source": [
    "class Student:\n",
    "    def hello(self):\n",
    "        print(\"Hello!\")"
   ]
  },
  {
   "cell_type": "code",
   "execution_count": 58,
   "id": "f6284d1b",
   "metadata": {},
   "outputs": [
    {
     "ename": "TypeError",
     "evalue": "hello() missing 1 required positional argument: 'self'",
     "output_type": "error",
     "traceback": [
      "\u001b[0;31m---------------------------------------------------------------------------\u001b[0m",
      "\u001b[0;31mTypeError\u001b[0m                                 Traceback (most recent call last)",
      "\u001b[0;32m/var/folders/nn/c52y0d3j0gq59dpsswchkt2r0000gn/T/ipykernel_30381/1833873148.py\u001b[0m in \u001b[0;36m<module>\u001b[0;34m\u001b[0m\n\u001b[0;32m----> 1\u001b[0;31m \u001b[0mStudent\u001b[0m\u001b[0;34m.\u001b[0m\u001b[0mhello\u001b[0m\u001b[0;34m(\u001b[0m\u001b[0;34m)\u001b[0m\u001b[0;34m\u001b[0m\u001b[0;34m\u001b[0m\u001b[0m\n\u001b[0m",
      "\u001b[0;31mTypeError\u001b[0m: hello() missing 1 required positional argument: 'self'"
     ]
    }
   ],
   "source": [
    "Student.hello()"
   ]
  },
  {
   "cell_type": "code",
   "execution_count": 59,
   "id": "ebf66502",
   "metadata": {},
   "outputs": [],
   "source": [
    "a = Student()"
   ]
  },
  {
   "cell_type": "code",
   "execution_count": 61,
   "id": "f1cecfb0",
   "metadata": {},
   "outputs": [
    {
     "name": "stdout",
     "output_type": "stream",
     "text": [
      "Hello!\n"
     ]
    }
   ],
   "source": [
    "a.hello()\n",
    "# Student.hello(a)"
   ]
  },
  {
   "cell_type": "code",
   "execution_count": 62,
   "id": "855955a3",
   "metadata": {},
   "outputs": [
    {
     "name": "stdout",
     "output_type": "stream",
     "text": [
      "Hello!\n"
     ]
    }
   ],
   "source": [
    "Student.hello(a)"
   ]
  },
  {
   "cell_type": "code",
   "execution_count": 63,
   "id": "aaf5658b",
   "metadata": {},
   "outputs": [],
   "source": [
    "class Student:\n",
    "    def __init__(self, name):\n",
    "        self.name = name\n",
    "    \n",
    "    def entry():\n",
    "        print(\"I HAVE ENTERED!\")\n",
    "        \n",
    "    def hello(self):\n",
    "        print(f\"Hello! My name is {self.name}\")"
   ]
  },
  {
   "cell_type": "code",
   "execution_count": 64,
   "id": "e4e593ec",
   "metadata": {},
   "outputs": [
    {
     "ename": "AttributeError",
     "evalue": "type object 'Student' has no attribute 'name'",
     "output_type": "error",
     "traceback": [
      "\u001b[0;31m---------------------------------------------------------------------------\u001b[0m",
      "\u001b[0;31mAttributeError\u001b[0m                            Traceback (most recent call last)",
      "\u001b[0;32m/var/folders/nn/c52y0d3j0gq59dpsswchkt2r0000gn/T/ipykernel_30381/3290574333.py\u001b[0m in \u001b[0;36m<module>\u001b[0;34m\u001b[0m\n\u001b[0;32m----> 1\u001b[0;31m \u001b[0mStudent\u001b[0m\u001b[0;34m.\u001b[0m\u001b[0mname\u001b[0m\u001b[0;34m\u001b[0m\u001b[0;34m\u001b[0m\u001b[0m\n\u001b[0m",
      "\u001b[0;31mAttributeError\u001b[0m: type object 'Student' has no attribute 'name'"
     ]
    }
   ],
   "source": [
    "Student.name"
   ]
  },
  {
   "cell_type": "code",
   "execution_count": 65,
   "id": "90df9dad",
   "metadata": {},
   "outputs": [],
   "source": [
    "a = Student(\"Bipin\")\n",
    "b = Student(\"Mridul\")"
   ]
  },
  {
   "cell_type": "code",
   "execution_count": 66,
   "id": "ec8f47ed",
   "metadata": {},
   "outputs": [
    {
     "ename": "TypeError",
     "evalue": "entry() takes 0 positional arguments but 1 was given",
     "output_type": "error",
     "traceback": [
      "\u001b[0;31m---------------------------------------------------------------------------\u001b[0m",
      "\u001b[0;31mTypeError\u001b[0m                                 Traceback (most recent call last)",
      "\u001b[0;32m/var/folders/nn/c52y0d3j0gq59dpsswchkt2r0000gn/T/ipykernel_30381/4202834095.py\u001b[0m in \u001b[0;36m<module>\u001b[0;34m\u001b[0m\n\u001b[0;32m----> 1\u001b[0;31m \u001b[0ma\u001b[0m\u001b[0;34m.\u001b[0m\u001b[0mentry\u001b[0m\u001b[0;34m(\u001b[0m\u001b[0;34m)\u001b[0m\u001b[0;34m\u001b[0m\u001b[0;34m\u001b[0m\u001b[0m\n\u001b[0m\u001b[1;32m      2\u001b[0m \u001b[0;31m# Student.entry(a)\u001b[0m\u001b[0;34m\u001b[0m\u001b[0;34m\u001b[0m\u001b[0;34m\u001b[0m\u001b[0m\n",
      "\u001b[0;31mTypeError\u001b[0m: entry() takes 0 positional arguments but 1 was given"
     ]
    }
   ],
   "source": [
    "a.entry()\n",
    "# Student.entry(a)"
   ]
  },
  {
   "cell_type": "code",
   "execution_count": 67,
   "id": "26c74f6d",
   "metadata": {},
   "outputs": [
    {
     "name": "stdout",
     "output_type": "stream",
     "text": [
      "I HAVE ENTERED!\n"
     ]
    }
   ],
   "source": [
    "Student.entry()"
   ]
  },
  {
   "cell_type": "code",
   "execution_count": 68,
   "id": "6a1232eb",
   "metadata": {},
   "outputs": [
    {
     "ename": "TypeError",
     "evalue": "hello() missing 1 required positional argument: 'self'",
     "output_type": "error",
     "traceback": [
      "\u001b[0;31m---------------------------------------------------------------------------\u001b[0m",
      "\u001b[0;31mTypeError\u001b[0m                                 Traceback (most recent call last)",
      "\u001b[0;32m/var/folders/nn/c52y0d3j0gq59dpsswchkt2r0000gn/T/ipykernel_30381/1833873148.py\u001b[0m in \u001b[0;36m<module>\u001b[0;34m\u001b[0m\n\u001b[0;32m----> 1\u001b[0;31m \u001b[0mStudent\u001b[0m\u001b[0;34m.\u001b[0m\u001b[0mhello\u001b[0m\u001b[0;34m(\u001b[0m\u001b[0;34m)\u001b[0m\u001b[0;34m\u001b[0m\u001b[0;34m\u001b[0m\u001b[0m\n\u001b[0m",
      "\u001b[0;31mTypeError\u001b[0m: hello() missing 1 required positional argument: 'self'"
     ]
    }
   ],
   "source": [
    "Student.hello()"
   ]
  },
  {
   "cell_type": "code",
   "execution_count": 69,
   "id": "25f216ce",
   "metadata": {},
   "outputs": [
    {
     "name": "stdout",
     "output_type": "stream",
     "text": [
      "Hello! My name is Bipin\n"
     ]
    }
   ],
   "source": [
    "a.hello()"
   ]
  },
  {
   "cell_type": "code",
   "execution_count": 70,
   "id": "f87868c0",
   "metadata": {},
   "outputs": [
    {
     "name": "stdout",
     "output_type": "stream",
     "text": [
      "Hello! My name is Mridul\n"
     ]
    }
   ],
   "source": [
    "b.hello()"
   ]
  },
  {
   "cell_type": "code",
   "execution_count": 72,
   "id": "35f8dfaa",
   "metadata": {},
   "outputs": [],
   "source": [
    "class Dog:\n",
    "    kind = \"labrador\" # class variable -> Accessible directly from the class\n",
    "    \n",
    "    def __init__(self, name):\n",
    "        self.name = name # instance variable (different for each object)"
   ]
  },
  {
   "cell_type": "code",
   "execution_count": 73,
   "id": "c1cb3e1b",
   "metadata": {},
   "outputs": [],
   "source": [
    "d1 = Dog(\"Scooby\")\n",
    "d2 = Dog(\"Tuffy\")"
   ]
  },
  {
   "cell_type": "code",
   "execution_count": 74,
   "id": "86b39cb6",
   "metadata": {},
   "outputs": [
    {
     "data": {
      "text/plain": [
       "'Scooby'"
      ]
     },
     "execution_count": 74,
     "metadata": {},
     "output_type": "execute_result"
    }
   ],
   "source": [
    "d1.name"
   ]
  },
  {
   "cell_type": "code",
   "execution_count": 75,
   "id": "275a6b47",
   "metadata": {},
   "outputs": [
    {
     "data": {
      "text/plain": [
       "'Tuffy'"
      ]
     },
     "execution_count": 75,
     "metadata": {},
     "output_type": "execute_result"
    }
   ],
   "source": [
    "d2.name"
   ]
  },
  {
   "cell_type": "code",
   "execution_count": 76,
   "id": "cf1e5d5e",
   "metadata": {},
   "outputs": [
    {
     "data": {
      "text/plain": [
       "'labrador'"
      ]
     },
     "execution_count": 76,
     "metadata": {},
     "output_type": "execute_result"
    }
   ],
   "source": [
    "d1.kind"
   ]
  },
  {
   "cell_type": "code",
   "execution_count": 77,
   "id": "e2975738",
   "metadata": {},
   "outputs": [
    {
     "data": {
      "text/plain": [
       "'labrador'"
      ]
     },
     "execution_count": 77,
     "metadata": {},
     "output_type": "execute_result"
    }
   ],
   "source": [
    "d2.kind"
   ]
  },
  {
   "cell_type": "code",
   "execution_count": 78,
   "id": "7e5cf765",
   "metadata": {},
   "outputs": [
    {
     "data": {
      "text/plain": [
       "'labrador'"
      ]
     },
     "execution_count": 78,
     "metadata": {},
     "output_type": "execute_result"
    }
   ],
   "source": [
    "Dog.kind"
   ]
  },
  {
   "cell_type": "code",
   "execution_count": 79,
   "id": "b8218a74",
   "metadata": {},
   "outputs": [],
   "source": [
    "d1.kind = \"golden retriever\""
   ]
  },
  {
   "cell_type": "code",
   "execution_count": 80,
   "id": "b0a57210",
   "metadata": {},
   "outputs": [
    {
     "data": {
      "text/plain": [
       "'golden retriever'"
      ]
     },
     "execution_count": 80,
     "metadata": {},
     "output_type": "execute_result"
    }
   ],
   "source": [
    "d1.kind"
   ]
  },
  {
   "cell_type": "code",
   "execution_count": 81,
   "id": "915d22be",
   "metadata": {},
   "outputs": [
    {
     "data": {
      "text/plain": [
       "'labrador'"
      ]
     },
     "execution_count": 81,
     "metadata": {},
     "output_type": "execute_result"
    }
   ],
   "source": [
    "d2.kind"
   ]
  },
  {
   "cell_type": "code",
   "execution_count": 82,
   "id": "9e5c0f47",
   "metadata": {},
   "outputs": [
    {
     "data": {
      "text/plain": [
       "'labrador'"
      ]
     },
     "execution_count": 82,
     "metadata": {},
     "output_type": "execute_result"
    }
   ],
   "source": [
    "Dog.kind"
   ]
  },
  {
   "cell_type": "code",
   "execution_count": 85,
   "id": "3aadf312",
   "metadata": {},
   "outputs": [
    {
     "data": {
      "text/plain": [
       "'labrador'"
      ]
     },
     "execution_count": 85,
     "metadata": {},
     "output_type": "execute_result"
    }
   ],
   "source": [
    "Dog.kind"
   ]
  },
  {
   "cell_type": "code",
   "execution_count": 86,
   "id": "6f1e4452",
   "metadata": {},
   "outputs": [],
   "source": [
    "Dog.kind = \"pomerarian\"\n",
    "\n",
    "# update a class variable using the class itself"
   ]
  },
  {
   "cell_type": "code",
   "execution_count": 87,
   "id": "6408128f",
   "metadata": {},
   "outputs": [
    {
     "data": {
      "text/plain": [
       "'pomerarian'"
      ]
     },
     "execution_count": 87,
     "metadata": {},
     "output_type": "execute_result"
    }
   ],
   "source": [
    "Dog.kind"
   ]
  },
  {
   "cell_type": "code",
   "execution_count": 88,
   "id": "2eb69b2c",
   "metadata": {},
   "outputs": [
    {
     "data": {
      "text/plain": [
       "'pomerarian'"
      ]
     },
     "execution_count": 88,
     "metadata": {},
     "output_type": "execute_result"
    }
   ],
   "source": [
    "d2.kind"
   ]
  },
  {
   "cell_type": "code",
   "execution_count": 90,
   "id": "4b7302a3",
   "metadata": {},
   "outputs": [
    {
     "data": {
      "text/plain": [
       "'golden retriever'"
      ]
     },
     "execution_count": 90,
     "metadata": {},
     "output_type": "execute_result"
    }
   ],
   "source": [
    "d1.kind # this is using a separate instance variable for kind"
   ]
  },
  {
   "cell_type": "code",
   "execution_count": 98,
   "id": "afb56cc8",
   "metadata": {},
   "outputs": [],
   "source": [
    "class Dog:\n",
    "    tricks = [] # mutable data structure as a class variable\n",
    "    \n",
    "    def __init__(self, name):\n",
    "        self.name = name\n",
    "        \n",
    "    def teach_trick(self, trick):\n",
    "        self.tricks.append(trick)"
   ]
  },
  {
   "cell_type": "code",
   "execution_count": 92,
   "id": "198cb161",
   "metadata": {},
   "outputs": [],
   "source": [
    "d1 = Dog(\"Tuffy\")\n",
    "d2 = Dog(\"Scooby\")"
   ]
  },
  {
   "cell_type": "code",
   "execution_count": 95,
   "id": "7fbdf7d0",
   "metadata": {},
   "outputs": [],
   "source": [
    "d1.teach_trick(\"jump\")"
   ]
  },
  {
   "cell_type": "code",
   "execution_count": 96,
   "id": "1b13bfef",
   "metadata": {},
   "outputs": [
    {
     "data": {
      "text/plain": [
       "['jump']"
      ]
     },
     "execution_count": 96,
     "metadata": {},
     "output_type": "execute_result"
    }
   ],
   "source": [
    "d2.tricks"
   ]
  },
  {
   "cell_type": "code",
   "execution_count": 97,
   "id": "83a03e98",
   "metadata": {},
   "outputs": [
    {
     "data": {
      "text/plain": [
       "['jump']"
      ]
     },
     "execution_count": 97,
     "metadata": {},
     "output_type": "execute_result"
    }
   ],
   "source": [
    "d1.tricks"
   ]
  },
  {
   "cell_type": "code",
   "execution_count": 99,
   "id": "5c19f5e7",
   "metadata": {},
   "outputs": [
    {
     "data": {
      "text/plain": [
       "'\\nIn case of a mutable Data structure ->\\nUpdating it from any object will update the class variable directly!\\n'"
      ]
     },
     "execution_count": 99,
     "metadata": {},
     "output_type": "execute_result"
    }
   ],
   "source": [
    "'''\n",
    "In case of a mutable Data structure ->\n",
    "Updating it from any object will update the class variable directly!\n",
    "'''"
   ]
  },
  {
   "cell_type": "code",
   "execution_count": null,
   "id": "d3c898dc",
   "metadata": {},
   "outputs": [],
   "source": []
  }
 ],
 "metadata": {
  "kernelspec": {
   "display_name": "Python 3 (ipykernel)",
   "language": "python",
   "name": "python3"
  },
  "language_info": {
   "codemirror_mode": {
    "name": "ipython",
    "version": 3
   },
   "file_extension": ".py",
   "mimetype": "text/x-python",
   "name": "python",
   "nbconvert_exporter": "python",
   "pygments_lexer": "ipython3",
   "version": "3.9.5"
  }
 },
 "nbformat": 4,
 "nbformat_minor": 5
}
