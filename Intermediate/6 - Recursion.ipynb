{
 "cells": [
  {
   "cell_type": "code",
   "execution_count": 2,
   "id": "73e56414",
   "metadata": {},
   "outputs": [
    {
     "data": {
      "text/plain": [
       "'\\nQuestion 1 - \\nWrite a program to calculate the factorial of a number.\\n\\nINPUT - 5\\nOUTPUT - 120\\nEXPLANATION - 5*4*3*2*1\\n\\nIMPORTANT - \\n1! = 1\\n0! = 1\\n'"
      ]
     },
     "execution_count": 2,
     "metadata": {},
     "output_type": "execute_result"
    }
   ],
   "source": [
    "'''\n",
    "Question 1 - \n",
    "Write a program to calculate the factorial of a number.\n",
    "\n",
    "INPUT - 5\n",
    "OUTPUT - 120\n",
    "EXPLANATION - 5*4*3*2*1\n",
    "\n",
    "IMPORTANT - \n",
    "1! = 1\n",
    "0! = 1\n",
    "'''"
   ]
  },
  {
   "cell_type": "code",
   "execution_count": 4,
   "id": "566da19a",
   "metadata": {},
   "outputs": [],
   "source": [
    "def factorial_iterative(n):\n",
    "    fact = 1\n",
    "    \n",
    "    if n == 0 or n == 1:\n",
    "        return 1\n",
    "    elif n < 0:\n",
    "        return \"Incorrect Input\"\n",
    "    \n",
    "    for i in range(2, n+1):\n",
    "        fact *= i\n",
    "        \n",
    "    # for i in range(n, 1, -1):\n",
    "    #     fact *= i\n",
    "        \n",
    "    return fact"
   ]
  },
  {
   "cell_type": "code",
   "execution_count": 6,
   "id": "85db26b0",
   "metadata": {},
   "outputs": [
    {
     "data": {
      "text/plain": [
       "24"
      ]
     },
     "execution_count": 6,
     "metadata": {},
     "output_type": "execute_result"
    }
   ],
   "source": [
    "factorial_iterative(4)"
   ]
  },
  {
   "cell_type": "code",
   "execution_count": 7,
   "id": "999e22c2",
   "metadata": {},
   "outputs": [],
   "source": [
    "def factorial(n):\n",
    "    if n < 0:\n",
    "        return \"Incorrect Input!\"\n",
    "    \n",
    "    if n == 1 or n == 0:\n",
    "        return 1\n",
    "    \n",
    "    return n * factorial(n-1) # n times"
   ]
  },
  {
   "cell_type": "code",
   "execution_count": 10,
   "id": "25f9fa30",
   "metadata": {},
   "outputs": [
    {
     "data": {
      "text/plain": [
       "720"
      ]
     },
     "execution_count": 10,
     "metadata": {},
     "output_type": "execute_result"
    }
   ],
   "source": [
    "factorial(6)"
   ]
  },
  {
   "cell_type": "code",
   "execution_count": 11,
   "id": "c5a93778",
   "metadata": {},
   "outputs": [
    {
     "data": {
      "text/plain": [
       "'\\nQuestion 2 - \\nImplement Merge Sort using recursion.\\n'"
      ]
     },
     "execution_count": 11,
     "metadata": {},
     "output_type": "execute_result"
    }
   ],
   "source": [
    "'''\n",
    "Question 2 - \n",
    "Implement Merge Sort using recursion.\n",
    "'''"
   ]
  },
  {
   "cell_type": "code",
   "execution_count": 14,
   "id": "827d7bfc",
   "metadata": {},
   "outputs": [],
   "source": [
    "def merge_two_lists(left, right):\n",
    "    i, j = 0, 0\n",
    "\n",
    "    result = []\n",
    "\n",
    "    while i < len(left) and j < len(right):\n",
    "        if left[i] <= right[j]:\n",
    "            result.append(left[i])\n",
    "            i += 1\n",
    "        else:\n",
    "            result.append(right[j])\n",
    "            j += 1\n",
    "\n",
    "    if i < len(left):\n",
    "        result += left[i:]\n",
    "    elif j < len(right):\n",
    "        result += right[j:]\n",
    "            \n",
    "    return result"
   ]
  },
  {
   "cell_type": "code",
   "execution_count": 15,
   "id": "15bb95a4",
   "metadata": {},
   "outputs": [
    {
     "data": {
      "text/plain": [
       "[1, 2, 3, 4, 5]"
      ]
     },
     "execution_count": 15,
     "metadata": {},
     "output_type": "execute_result"
    }
   ],
   "source": [
    "merge_two_lists([1,4,5], [2,3])"
   ]
  },
  {
   "cell_type": "code",
   "execution_count": 2,
   "id": "1bb7dc29",
   "metadata": {},
   "outputs": [],
   "source": [
    "a = [4,5,1,2,3]"
   ]
  },
  {
   "cell_type": "code",
   "execution_count": 3,
   "id": "c71d0bf5",
   "metadata": {},
   "outputs": [],
   "source": [
    "def merge_sort(a):\n",
    "    # BASE CONDITION\n",
    "    if len(a) <= 1:\n",
    "        return a\n",
    "    \n",
    "    n = len(a)\n",
    "    \n",
    "    # RECURSIVE CODE\n",
    "    left = merge_sort(a[:n//2])\n",
    "    right = merge_sort(a[n//2:])\n",
    "    \n",
    "    print(f\"Left -> {left}\")\n",
    "    print(f\"Right -> {right}\")\n",
    "    \n",
    "    # MERGING CODE\n",
    "    i, j = 0, 0\n",
    "    \n",
    "    result = []\n",
    "    \n",
    "    while i < len(left) and j < len(right):\n",
    "        if left[i] <= right[j]:\n",
    "            result.append(left[i])\n",
    "            i += 1\n",
    "        else:\n",
    "            result.append(right[j])\n",
    "            j += 1\n",
    "            \n",
    "    if i < len(left):\n",
    "        result += left[i:]\n",
    "    elif j < len(right):\n",
    "        result += right[j:]\n",
    "        \n",
    "    return result"
   ]
  },
  {
   "cell_type": "code",
   "execution_count": 4,
   "id": "7dbf672e",
   "metadata": {},
   "outputs": [
    {
     "name": "stdout",
     "output_type": "stream",
     "text": [
      "Left -> [4]\n",
      "Right -> [5]\n",
      "Left -> [2]\n",
      "Right -> [3]\n",
      "Left -> [1]\n",
      "Right -> [2, 3]\n",
      "Left -> [4, 5]\n",
      "Right -> [1, 2, 3]\n"
     ]
    },
    {
     "data": {
      "text/plain": [
       "[1, 2, 3, 4, 5]"
      ]
     },
     "execution_count": 4,
     "metadata": {},
     "output_type": "execute_result"
    }
   ],
   "source": [
    "merge_sort(a)"
   ]
  },
  {
   "cell_type": "code",
   "execution_count": 30,
   "id": "841046f4",
   "metadata": {},
   "outputs": [
    {
     "data": {
      "text/plain": [
       "'\\nQuestion 3 - (Google, Facebook, Linkedin, Interviewbit...)\\nYou are playing cards and you are given a list of cards which are numbered.\\n\\nINPUT -> (TOP) [1,2,3,4,5,6] (BOTTOM)\\nOUTPUT -> [1,3,5,2,6,4]\\n'"
      ]
     },
     "execution_count": 30,
     "metadata": {},
     "output_type": "execute_result"
    }
   ],
   "source": [
    "'''\n",
    "Question 3 - (Google, Facebook, Linkedin, Interviewbit...)\n",
    "You are playing cards and you are given a list of cards which are numbered.\n",
    "\n",
    "INPUT -> (TOP) [1,2,3,4,5,6] (BOTTOM)\n",
    "OUTPUT -> [1,3,5,2,6,4]\n",
    "'''"
   ]
  },
  {
   "cell_type": "code",
   "execution_count": 33,
   "id": "e2dbfcfd",
   "metadata": {},
   "outputs": [],
   "source": [
    "def solve(a):\n",
    "    if len(a) == 1:\n",
    "        return a\n",
    "    \n",
    "    result = a[::2]\n",
    "    \n",
    "    return result + solve(a[1::2])"
   ]
  },
  {
   "cell_type": "code",
   "execution_count": 34,
   "id": "41eacada",
   "metadata": {},
   "outputs": [
    {
     "data": {
      "text/plain": [
       "[1, 3, 5, 2, 6, 4]"
      ]
     },
     "execution_count": 34,
     "metadata": {},
     "output_type": "execute_result"
    }
   ],
   "source": [
    "solve([1,2,3,4,5,6])"
   ]
  },
  {
   "cell_type": "code",
   "execution_count": 36,
   "id": "a5eaeeab",
   "metadata": {},
   "outputs": [],
   "source": [
    "# HOMEWORK\n",
    "# Identify where this code fails and fix it"
   ]
  },
  {
   "cell_type": "code",
   "execution_count": null,
   "id": "6c207d13",
   "metadata": {},
   "outputs": [],
   "source": []
  }
 ],
 "metadata": {
  "kernelspec": {
   "display_name": "Python 3 (ipykernel)",
   "language": "python",
   "name": "python3"
  },
  "language_info": {
   "codemirror_mode": {
    "name": "ipython",
    "version": 3
   },
   "file_extension": ".py",
   "mimetype": "text/x-python",
   "name": "python",
   "nbconvert_exporter": "python",
   "pygments_lexer": "ipython3",
   "version": "3.9.5"
  }
 },
 "nbformat": 4,
 "nbformat_minor": 5
}
