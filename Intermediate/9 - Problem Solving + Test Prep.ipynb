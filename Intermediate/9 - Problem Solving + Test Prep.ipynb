{
 "cells": [
  {
   "cell_type": "code",
   "execution_count": 1,
   "id": "0a46a7b2",
   "metadata": {},
   "outputs": [],
   "source": [
    "t1 = (1,2)\n",
    "t2 = (3,4)"
   ]
  },
  {
   "cell_type": "code",
   "execution_count": 2,
   "id": "4f7c474e",
   "metadata": {},
   "outputs": [
    {
     "data": {
      "text/plain": [
       "140349481230272"
      ]
     },
     "execution_count": 2,
     "metadata": {},
     "output_type": "execute_result"
    }
   ],
   "source": [
    "id(t1)"
   ]
  },
  {
   "cell_type": "code",
   "execution_count": 3,
   "id": "fe271ce2",
   "metadata": {},
   "outputs": [
    {
     "data": {
      "text/plain": [
       "140349481207936"
      ]
     },
     "execution_count": 3,
     "metadata": {},
     "output_type": "execute_result"
    }
   ],
   "source": [
    "id(t2)"
   ]
  },
  {
   "cell_type": "code",
   "execution_count": 4,
   "id": "0729ae93",
   "metadata": {},
   "outputs": [],
   "source": [
    "t1 = t1 + t2"
   ]
  },
  {
   "cell_type": "code",
   "execution_count": 5,
   "id": "1635260f",
   "metadata": {},
   "outputs": [
    {
     "data": {
      "text/plain": [
       "(1, 2, 3, 4)"
      ]
     },
     "execution_count": 5,
     "metadata": {},
     "output_type": "execute_result"
    }
   ],
   "source": [
    "t1"
   ]
  },
  {
   "cell_type": "code",
   "execution_count": 6,
   "id": "bc367bd3",
   "metadata": {},
   "outputs": [
    {
     "data": {
      "text/plain": [
       "140348930604704"
      ]
     },
     "execution_count": 6,
     "metadata": {},
     "output_type": "execute_result"
    }
   ],
   "source": [
    "id(t1)"
   ]
  },
  {
   "cell_type": "code",
   "execution_count": 7,
   "id": "edb0f54f",
   "metadata": {},
   "outputs": [],
   "source": [
    "a = [(0,2), (1,3), (2,4)]"
   ]
  },
  {
   "cell_type": "code",
   "execution_count": 8,
   "id": "cb9ae4d6",
   "metadata": {},
   "outputs": [],
   "source": [
    "result = [n for _, n in a]\n"
   ]
  },
  {
   "cell_type": "code",
   "execution_count": 9,
   "id": "9b4f42d8",
   "metadata": {},
   "outputs": [
    {
     "data": {
      "text/plain": [
       "[2, 3, 4]"
      ]
     },
     "execution_count": 9,
     "metadata": {},
     "output_type": "execute_result"
    }
   ],
   "source": [
    "result"
   ]
  },
  {
   "cell_type": "code",
   "execution_count": 10,
   "id": "0ad6e9d2",
   "metadata": {},
   "outputs": [
    {
     "data": {
      "text/plain": [
       "9"
      ]
     },
     "execution_count": 10,
     "metadata": {},
     "output_type": "execute_result"
    }
   ],
   "source": [
    "sum(result)"
   ]
  },
  {
   "cell_type": "code",
   "execution_count": null,
   "id": "b40eacad",
   "metadata": {},
   "outputs": [],
   "source": []
  }
 ],
 "metadata": {
  "kernelspec": {
   "display_name": "Python 3 (ipykernel)",
   "language": "python",
   "name": "python3"
  },
  "language_info": {
   "codemirror_mode": {
    "name": "ipython",
    "version": 3
   },
   "file_extension": ".py",
   "mimetype": "text/x-python",
   "name": "python",
   "nbconvert_exporter": "python",
   "pygments_lexer": "ipython3",
   "version": "3.9.5"
  }
 },
 "nbformat": 4,
 "nbformat_minor": 5
}
