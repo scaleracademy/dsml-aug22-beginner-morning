{
 "cells": [
  {
   "cell_type": "markdown",
   "id": "823d18b4",
   "metadata": {},
   "source": [
    "## DUNDERS"
   ]
  },
  {
   "cell_type": "code",
   "execution_count": 3,
   "id": "0344733e",
   "metadata": {},
   "outputs": [],
   "source": [
    "class ABC:\n",
    "    pass"
   ]
  },
  {
   "cell_type": "code",
   "execution_count": 4,
   "id": "5a69ada2",
   "metadata": {},
   "outputs": [],
   "source": [
    "a = ABC()"
   ]
  },
  {
   "cell_type": "code",
   "execution_count": 5,
   "id": "26e5fd14",
   "metadata": {},
   "outputs": [],
   "source": [
    "a.custom_property = \"random\""
   ]
  },
  {
   "cell_type": "code",
   "execution_count": 6,
   "id": "b9265f74",
   "metadata": {},
   "outputs": [],
   "source": [
    "b = ABC()"
   ]
  },
  {
   "cell_type": "code",
   "execution_count": 7,
   "id": "1dc2855b",
   "metadata": {},
   "outputs": [
    {
     "ename": "AttributeError",
     "evalue": "'ABC' object has no attribute 'custom_property'",
     "output_type": "error",
     "traceback": [
      "\u001b[0;31m---------------------------------------------------------------------------\u001b[0m",
      "\u001b[0;31mAttributeError\u001b[0m                            Traceback (most recent call last)",
      "\u001b[0;32m/var/folders/nn/c52y0d3j0gq59dpsswchkt2r0000gn/T/ipykernel_27911/137471136.py\u001b[0m in \u001b[0;36m<module>\u001b[0;34m\u001b[0m\n\u001b[0;32m----> 1\u001b[0;31m \u001b[0mb\u001b[0m\u001b[0;34m.\u001b[0m\u001b[0mcustom_property\u001b[0m\u001b[0;34m\u001b[0m\u001b[0;34m\u001b[0m\u001b[0m\n\u001b[0m",
      "\u001b[0;31mAttributeError\u001b[0m: 'ABC' object has no attribute 'custom_property'"
     ]
    }
   ],
   "source": [
    "b.custom_property"
   ]
  },
  {
   "cell_type": "code",
   "execution_count": 1,
   "id": "fcbd3aee",
   "metadata": {},
   "outputs": [],
   "source": [
    "# Dunders -> Magic Methods"
   ]
  },
  {
   "cell_type": "code",
   "execution_count": 26,
   "id": "6c8d34fb",
   "metadata": {},
   "outputs": [],
   "source": [
    "class Car:\n",
    "    def __init__(self, name, milaege):\n",
    "        self.name = name\n",
    "        self.milaege = milaege\n",
    "        \n",
    "    def __str__(self):\n",
    "        return f\"name -> {self.name}, milaege -> {self.milaege}\"\n",
    "    \n",
    "    def __add__(self, other):\n",
    "        return self.name + other.name\n",
    "    \n",
    "    def __gt__(self, other):\n",
    "        return True if self.milaege > other.milaege else False"
   ]
  },
  {
   "cell_type": "code",
   "execution_count": 27,
   "id": "b9efe498",
   "metadata": {},
   "outputs": [],
   "source": [
    "c1 = Car(\"Nexon\", 13)\n",
    "c2 = Car(\"Altroz\", 15)"
   ]
  },
  {
   "cell_type": "code",
   "execution_count": 28,
   "id": "bac08500",
   "metadata": {},
   "outputs": [
    {
     "name": "stdout",
     "output_type": "stream",
     "text": [
      "name -> Nexon, milaege -> 13\n"
     ]
    }
   ],
   "source": [
    "print(c1)"
   ]
  },
  {
   "cell_type": "code",
   "execution_count": 29,
   "id": "ac195d21",
   "metadata": {},
   "outputs": [
    {
     "name": "stdout",
     "output_type": "stream",
     "text": [
      "name -> Altroz, milaege -> 15\n"
     ]
    }
   ],
   "source": [
    "print(c2)"
   ]
  },
  {
   "cell_type": "code",
   "execution_count": 30,
   "id": "13af6b88",
   "metadata": {},
   "outputs": [
    {
     "data": {
      "text/plain": [
       "'NexonAltroz'"
      ]
     },
     "execution_count": 30,
     "metadata": {},
     "output_type": "execute_result"
    }
   ],
   "source": [
    "c1 + c2\n",
    "\n",
    "# c1.__add__(c2)\n",
    "# Car.__add__(c1, c2)"
   ]
  },
  {
   "cell_type": "code",
   "execution_count": 31,
   "id": "e2115592",
   "metadata": {},
   "outputs": [
    {
     "data": {
      "text/plain": [
       "90"
      ]
     },
     "execution_count": 31,
     "metadata": {},
     "output_type": "execute_result"
    }
   ],
   "source": [
    "45 + 45"
   ]
  },
  {
   "cell_type": "code",
   "execution_count": 32,
   "id": "a669c3df",
   "metadata": {},
   "outputs": [
    {
     "data": {
      "text/plain": [
       "'stringstring2'"
      ]
     },
     "execution_count": 32,
     "metadata": {},
     "output_type": "execute_result"
    }
   ],
   "source": [
    "\"string\" + \"string2\""
   ]
  },
  {
   "cell_type": "code",
   "execution_count": 33,
   "id": "1373b609",
   "metadata": {},
   "outputs": [
    {
     "ename": "TypeError",
     "evalue": "unsupported operand type(s) for +: 'dict' and 'dict'",
     "output_type": "error",
     "traceback": [
      "\u001b[0;31m---------------------------------------------------------------------------\u001b[0m",
      "\u001b[0;31mTypeError\u001b[0m                                 Traceback (most recent call last)",
      "\u001b[0;32m/var/folders/nn/c52y0d3j0gq59dpsswchkt2r0000gn/T/ipykernel_27911/4281984262.py\u001b[0m in \u001b[0;36m<module>\u001b[0;34m\u001b[0m\n\u001b[0;32m----> 1\u001b[0;31m \u001b[0;34m{\u001b[0m\u001b[0;34m\"a\"\u001b[0m\u001b[0;34m:\u001b[0m \u001b[0;36m45\u001b[0m\u001b[0;34m}\u001b[0m \u001b[0;34m+\u001b[0m \u001b[0;34m{\u001b[0m\u001b[0;34m\"b\"\u001b[0m\u001b[0;34m:\u001b[0m \u001b[0;36m50\u001b[0m\u001b[0;34m}\u001b[0m\u001b[0;34m\u001b[0m\u001b[0;34m\u001b[0m\u001b[0m\n\u001b[0m",
      "\u001b[0;31mTypeError\u001b[0m: unsupported operand type(s) for +: 'dict' and 'dict'"
     ]
    }
   ],
   "source": [
    "{\"a\": 45} + {\"b\": 50}"
   ]
  },
  {
   "cell_type": "code",
   "execution_count": 34,
   "id": "152c8279",
   "metadata": {},
   "outputs": [
    {
     "data": {
      "text/plain": [
       "False"
      ]
     },
     "execution_count": 34,
     "metadata": {},
     "output_type": "execute_result"
    }
   ],
   "source": [
    "c1 > c2"
   ]
  },
  {
   "cell_type": "code",
   "execution_count": 42,
   "id": "a7d06a51",
   "metadata": {},
   "outputs": [],
   "source": [
    "class A:\n",
    "    def __init__(self, random):\n",
    "        self.random = random\n",
    "        \n",
    "    def __call__(self):\n",
    "        print(\"I JUST GOT CALLED! DAMN!\")"
   ]
  },
  {
   "cell_type": "code",
   "execution_count": 43,
   "id": "a81cd141",
   "metadata": {},
   "outputs": [],
   "source": [
    "def abc():\n",
    "    return True"
   ]
  },
  {
   "cell_type": "code",
   "execution_count": 44,
   "id": "3106eaa8",
   "metadata": {},
   "outputs": [
    {
     "data": {
      "text/plain": [
       "True"
      ]
     },
     "execution_count": 44,
     "metadata": {},
     "output_type": "execute_result"
    }
   ],
   "source": [
    "abc()"
   ]
  },
  {
   "cell_type": "code",
   "execution_count": 45,
   "id": "97a59392",
   "metadata": {},
   "outputs": [],
   "source": [
    "abc = A(\"A\")"
   ]
  },
  {
   "cell_type": "code",
   "execution_count": 46,
   "id": "520c5478",
   "metadata": {},
   "outputs": [
    {
     "name": "stdout",
     "output_type": "stream",
     "text": [
      "I JUST GOT CALLED! DAMN!\n"
     ]
    }
   ],
   "source": [
    "abc()"
   ]
  },
  {
   "cell_type": "markdown",
   "id": "2b3df710",
   "metadata": {},
   "source": [
    "## PRIVATE VARIABLES"
   ]
  },
  {
   "cell_type": "code",
   "execution_count": 47,
   "id": "d79fe4d1",
   "metadata": {},
   "outputs": [],
   "source": [
    "class BankAccount:\n",
    "    def __init__(self, opening_balance):\n",
    "        self.balance = opening_balance\n",
    "        \n",
    "    def withdraw(self, amount):\n",
    "        self.balance -= amount\n",
    "        \n",
    "    def deposit(self, amount):\n",
    "        self.balance += amount"
   ]
  },
  {
   "cell_type": "code",
   "execution_count": 48,
   "id": "4a418aa2",
   "metadata": {},
   "outputs": [],
   "source": [
    "b1 = BankAccount(10000)"
   ]
  },
  {
   "cell_type": "code",
   "execution_count": 49,
   "id": "631010ab",
   "metadata": {},
   "outputs": [],
   "source": [
    "b1.deposit(5000)"
   ]
  },
  {
   "cell_type": "code",
   "execution_count": 50,
   "id": "32615a48",
   "metadata": {},
   "outputs": [
    {
     "data": {
      "text/plain": [
       "15000"
      ]
     },
     "execution_count": 50,
     "metadata": {},
     "output_type": "execute_result"
    }
   ],
   "source": [
    "b1.balance"
   ]
  },
  {
   "cell_type": "code",
   "execution_count": 51,
   "id": "fa143473",
   "metadata": {},
   "outputs": [],
   "source": [
    "b1.withdraw(15000)"
   ]
  },
  {
   "cell_type": "code",
   "execution_count": 52,
   "id": "079ea08b",
   "metadata": {},
   "outputs": [
    {
     "data": {
      "text/plain": [
       "0"
      ]
     },
     "execution_count": 52,
     "metadata": {},
     "output_type": "execute_result"
    }
   ],
   "source": [
    "b1.balance"
   ]
  },
  {
   "cell_type": "code",
   "execution_count": 53,
   "id": "042cbf55",
   "metadata": {},
   "outputs": [],
   "source": [
    "b1.balance = 234567890987654323456789876543212345678909"
   ]
  },
  {
   "cell_type": "code",
   "execution_count": 54,
   "id": "32246001",
   "metadata": {},
   "outputs": [
    {
     "data": {
      "text/plain": [
       "234567890987654323456789876543212345678909"
      ]
     },
     "execution_count": 54,
     "metadata": {},
     "output_type": "execute_result"
    }
   ],
   "source": [
    "b1.balance"
   ]
  },
  {
   "cell_type": "code",
   "execution_count": 55,
   "id": "c2c8a216",
   "metadata": {},
   "outputs": [],
   "source": [
    "# PRIVATE VARIABLES (PROPERTIES)"
   ]
  },
  {
   "cell_type": "code",
   "execution_count": 67,
   "id": "a25a9b07",
   "metadata": {},
   "outputs": [],
   "source": [
    "class BankAccount:\n",
    "    def __init__(self, opening_balance):\n",
    "        self.__balance = opening_balance\n",
    "        # using __ creates a private property (variable)\n",
    "        # this variable is only accessible by class methods\n",
    "        # this variable now can't be accessed using class objects\n",
    "        \n",
    "    def withdraw(self, amount):\n",
    "        self.__balance -= amount\n",
    "        \n",
    "    def deposit(self, amount):\n",
    "        self.__balance += amount\n",
    "        \n",
    "    def show_balance(self): # getter\n",
    "        print(self.__balance)"
   ]
  },
  {
   "cell_type": "code",
   "execution_count": 68,
   "id": "b913d61f",
   "metadata": {},
   "outputs": [],
   "source": [
    "b2 = BankAccount(10000)"
   ]
  },
  {
   "cell_type": "code",
   "execution_count": 69,
   "id": "2a0d1bc1",
   "metadata": {},
   "outputs": [],
   "source": [
    "b2.deposit(5000)"
   ]
  },
  {
   "cell_type": "code",
   "execution_count": 70,
   "id": "8ff8b8e4",
   "metadata": {},
   "outputs": [
    {
     "ename": "AttributeError",
     "evalue": "'BankAccount' object has no attribute '__balance'",
     "output_type": "error",
     "traceback": [
      "\u001b[0;31m---------------------------------------------------------------------------\u001b[0m",
      "\u001b[0;31mAttributeError\u001b[0m                            Traceback (most recent call last)",
      "\u001b[0;32m/var/folders/nn/c52y0d3j0gq59dpsswchkt2r0000gn/T/ipykernel_27911/771979400.py\u001b[0m in \u001b[0;36m<module>\u001b[0;34m\u001b[0m\n\u001b[0;32m----> 1\u001b[0;31m \u001b[0mb2\u001b[0m\u001b[0;34m.\u001b[0m\u001b[0m__balance\u001b[0m\u001b[0;34m\u001b[0m\u001b[0;34m\u001b[0m\u001b[0m\n\u001b[0m",
      "\u001b[0;31mAttributeError\u001b[0m: 'BankAccount' object has no attribute '__balance'"
     ]
    }
   ],
   "source": [
    "b2.__balance"
   ]
  },
  {
   "cell_type": "code",
   "execution_count": 71,
   "id": "0b97502d",
   "metadata": {},
   "outputs": [
    {
     "ename": "AttributeError",
     "evalue": "'BankAccount' object has no attribute 'balance'",
     "output_type": "error",
     "traceback": [
      "\u001b[0;31m---------------------------------------------------------------------------\u001b[0m",
      "\u001b[0;31mAttributeError\u001b[0m                            Traceback (most recent call last)",
      "\u001b[0;32m/var/folders/nn/c52y0d3j0gq59dpsswchkt2r0000gn/T/ipykernel_27911/1470614033.py\u001b[0m in \u001b[0;36m<module>\u001b[0;34m\u001b[0m\n\u001b[0;32m----> 1\u001b[0;31m \u001b[0mb2\u001b[0m\u001b[0;34m.\u001b[0m\u001b[0mbalance\u001b[0m\u001b[0;34m\u001b[0m\u001b[0;34m\u001b[0m\u001b[0m\n\u001b[0m",
      "\u001b[0;31mAttributeError\u001b[0m: 'BankAccount' object has no attribute 'balance'"
     ]
    }
   ],
   "source": [
    "b2.balance"
   ]
  },
  {
   "cell_type": "code",
   "execution_count": 72,
   "id": "49de97a9",
   "metadata": {},
   "outputs": [
    {
     "name": "stdout",
     "output_type": "stream",
     "text": [
      "15000\n"
     ]
    }
   ],
   "source": [
    "b2.show_balance()"
   ]
  },
  {
   "cell_type": "code",
   "execution_count": 74,
   "id": "bbfefaa6",
   "metadata": {},
   "outputs": [],
   "source": [
    "b2.__balance = 123456789098765432123456789876543212345678"
   ]
  },
  {
   "cell_type": "code",
   "execution_count": 75,
   "id": "ff18d817",
   "metadata": {},
   "outputs": [
    {
     "data": {
      "text/plain": [
       "123456789098765432123456789876543212345678"
      ]
     },
     "execution_count": 75,
     "metadata": {},
     "output_type": "execute_result"
    }
   ],
   "source": [
    "b2.__balance"
   ]
  },
  {
   "cell_type": "code",
   "execution_count": 80,
   "id": "b6b12a05",
   "metadata": {},
   "outputs": [
    {
     "data": {
      "text/plain": [
       "15000"
      ]
     },
     "execution_count": 80,
     "metadata": {},
     "output_type": "execute_result"
    }
   ],
   "source": [
    "b2._BankAccount__balance # NAME MANGLING\n",
    "# python adds prefix of _ClassName to private variables"
   ]
  },
  {
   "cell_type": "code",
   "execution_count": 81,
   "id": "65fb5d6d",
   "metadata": {},
   "outputs": [
    {
     "name": "stdout",
     "output_type": "stream",
     "text": [
      "15000\n"
     ]
    }
   ],
   "source": [
    "b2.show_balance()"
   ]
  },
  {
   "cell_type": "code",
   "execution_count": 83,
   "id": "1f955244",
   "metadata": {},
   "outputs": [],
   "source": [
    "# dir(b2)"
   ]
  },
  {
   "cell_type": "markdown",
   "id": "28bf1458",
   "metadata": {},
   "source": [
    "## INHERITENCE"
   ]
  },
  {
   "cell_type": "code",
   "execution_count": 89,
   "id": "902cbc20",
   "metadata": {},
   "outputs": [],
   "source": [
    "class SchoolMember:\n",
    "    def __init__(self, name):\n",
    "        self.name = name\n",
    "        \n",
    "class Student(SchoolMember):\n",
    "    def __init__(self, name, grade):\n",
    "        self.grade = grade\n",
    "        super().__init__(name)\n",
    "\n",
    "class Staff(SchoolMember):\n",
    "    def __init__(self, name, salary):\n",
    "        self.salary = salary\n",
    "        super().__init__(name)\n",
    "\n",
    "class Teacher(Staff):\n",
    "    def __init__(self, name, salary, subject):\n",
    "        self.subject = subject\n",
    "        \n",
    "        # call init of parent class\n",
    "        # Staff.__init__(self, name, salary)\n",
    "        # super() -> Reference to the immediate parent class\n",
    "        super().__init__(name, salary)"
   ]
  },
  {
   "cell_type": "code",
   "execution_count": 90,
   "id": "b649185a",
   "metadata": {},
   "outputs": [],
   "source": [
    "t1 = Teacher(\"Bipin\", 10, \"Python\")"
   ]
  },
  {
   "cell_type": "code",
   "execution_count": 91,
   "id": "ae82a209",
   "metadata": {},
   "outputs": [
    {
     "data": {
      "text/plain": [
       "'Python'"
      ]
     },
     "execution_count": 91,
     "metadata": {},
     "output_type": "execute_result"
    }
   ],
   "source": [
    "t1.subject"
   ]
  },
  {
   "cell_type": "code",
   "execution_count": 92,
   "id": "ec032f3d",
   "metadata": {},
   "outputs": [
    {
     "data": {
      "text/plain": [
       "'Bipin'"
      ]
     },
     "execution_count": 92,
     "metadata": {},
     "output_type": "execute_result"
    }
   ],
   "source": [
    "t1.name"
   ]
  },
  {
   "cell_type": "code",
   "execution_count": 93,
   "id": "8ce799c5",
   "metadata": {},
   "outputs": [
    {
     "data": {
      "text/plain": [
       "10"
      ]
     },
     "execution_count": 93,
     "metadata": {},
     "output_type": "execute_result"
    }
   ],
   "source": [
    "t1.salary"
   ]
  },
  {
   "cell_type": "code",
   "execution_count": 109,
   "id": "148687fe",
   "metadata": {},
   "outputs": [],
   "source": [
    "# MULTIPLE INHERITENCE\n",
    "class A:\n",
    "    def __init__(self, a):\n",
    "        self.a = a\n",
    "\n",
    "class B:\n",
    "    def __init__(self, b):\n",
    "        self.b = b\n",
    "        \n",
    "class C(A,B):\n",
    "    def __init__(self, a, b, c):\n",
    "        self.c = c\n",
    "        \n",
    "        A.__init__(self, a)\n",
    "        B.__init__(self, b)\n",
    "        \n",
    "        # super().__init__(a) # __init__ method of the first class gets called"
   ]
  },
  {
   "cell_type": "code",
   "execution_count": 110,
   "id": "aa9aaf6d",
   "metadata": {},
   "outputs": [],
   "source": [
    "random = C(4,5,6)"
   ]
  },
  {
   "cell_type": "code",
   "execution_count": 111,
   "id": "a5a83d12",
   "metadata": {},
   "outputs": [
    {
     "data": {
      "text/plain": [
       "6"
      ]
     },
     "execution_count": 111,
     "metadata": {},
     "output_type": "execute_result"
    }
   ],
   "source": [
    "random.c"
   ]
  },
  {
   "cell_type": "code",
   "execution_count": 112,
   "id": "2bb8beb4",
   "metadata": {},
   "outputs": [
    {
     "data": {
      "text/plain": [
       "4"
      ]
     },
     "execution_count": 112,
     "metadata": {},
     "output_type": "execute_result"
    }
   ],
   "source": [
    "random.a"
   ]
  },
  {
   "cell_type": "code",
   "execution_count": 113,
   "id": "144f3adf",
   "metadata": {},
   "outputs": [
    {
     "data": {
      "text/plain": [
       "5"
      ]
     },
     "execution_count": 113,
     "metadata": {},
     "output_type": "execute_result"
    }
   ],
   "source": [
    "random.b"
   ]
  },
  {
   "cell_type": "code",
   "execution_count": 114,
   "id": "2f83c23a",
   "metadata": {},
   "outputs": [],
   "source": [
    "# HOMEMWORK\n",
    "# Figure out how super() can be used for multiple inheritence"
   ]
  },
  {
   "cell_type": "code",
   "execution_count": 131,
   "id": "791169b9",
   "metadata": {},
   "outputs": [],
   "source": [
    "class A:\n",
    "    x = 10\n",
    "\n",
    "class B(A):\n",
    "    pass\n",
    "\n",
    "class C(B):\n",
    "    pass\n",
    "    \n",
    "class D(A):\n",
    "    x = 5\n",
    "    \n",
    "class E(C,D):\n",
    "    pass"
   ]
  },
  {
   "cell_type": "code",
   "execution_count": 132,
   "id": "ae4eac41",
   "metadata": {},
   "outputs": [],
   "source": [
    "random = E()"
   ]
  },
  {
   "cell_type": "code",
   "execution_count": 133,
   "id": "0caa287c",
   "metadata": {},
   "outputs": [
    {
     "data": {
      "text/plain": [
       "5"
      ]
     },
     "execution_count": 133,
     "metadata": {},
     "output_type": "execute_result"
    }
   ],
   "source": [
    "random.x"
   ]
  },
  {
   "cell_type": "code",
   "execution_count": 127,
   "id": "a66096e9",
   "metadata": {},
   "outputs": [
    {
     "data": {
      "text/plain": [
       "(__main__.E, __main__.C, __main__.B, __main__.D, __main__.A, object)"
      ]
     },
     "execution_count": 127,
     "metadata": {},
     "output_type": "execute_result"
    }
   ],
   "source": [
    "# METHOD RESOLUTION ORDER\n",
    "E.__mro__"
   ]
  },
  {
   "cell_type": "code",
   "execution_count": 134,
   "id": "08fb6edc",
   "metadata": {},
   "outputs": [],
   "source": [
    "a = list()"
   ]
  },
  {
   "cell_type": "code",
   "execution_count": 135,
   "id": "9dc51222",
   "metadata": {},
   "outputs": [
    {
     "data": {
      "text/plain": [
       "[]"
      ]
     },
     "execution_count": 135,
     "metadata": {},
     "output_type": "execute_result"
    }
   ],
   "source": [
    "a"
   ]
  },
  {
   "cell_type": "code",
   "execution_count": 136,
   "id": "e31aa122",
   "metadata": {},
   "outputs": [],
   "source": [
    "a = tuple()"
   ]
  },
  {
   "cell_type": "code",
   "execution_count": 137,
   "id": "3ee2e109",
   "metadata": {},
   "outputs": [
    {
     "data": {
      "text/plain": [
       "()"
      ]
     },
     "execution_count": 137,
     "metadata": {},
     "output_type": "execute_result"
    }
   ],
   "source": [
    "a"
   ]
  },
  {
   "cell_type": "code",
   "execution_count": 138,
   "id": "6dacdc48",
   "metadata": {},
   "outputs": [
    {
     "data": {
      "text/plain": [
       "[1, 2, 3, 1, 2, 3, 1, 2, 3, 1, 2, 3]"
      ]
     },
     "execution_count": 138,
     "metadata": {},
     "output_type": "execute_result"
    }
   ],
   "source": [
    "[1,2,3]*4"
   ]
  },
  {
   "cell_type": "code",
   "execution_count": 139,
   "id": "f39cc21c",
   "metadata": {},
   "outputs": [
    {
     "ename": "TypeError",
     "evalue": "can't multiply sequence by non-int of type 'list'",
     "output_type": "error",
     "traceback": [
      "\u001b[0;31m---------------------------------------------------------------------------\u001b[0m",
      "\u001b[0;31mTypeError\u001b[0m                                 Traceback (most recent call last)",
      "\u001b[0;32m/var/folders/nn/c52y0d3j0gq59dpsswchkt2r0000gn/T/ipykernel_27911/840943998.py\u001b[0m in \u001b[0;36m<module>\u001b[0;34m\u001b[0m\n\u001b[0;32m----> 1\u001b[0;31m \u001b[0;34m[\u001b[0m\u001b[0;36m1\u001b[0m\u001b[0;34m,\u001b[0m\u001b[0;36m2\u001b[0m\u001b[0;34m,\u001b[0m\u001b[0;36m3\u001b[0m\u001b[0;34m]\u001b[0m\u001b[0;34m*\u001b[0m\u001b[0;34m[\u001b[0m\u001b[0;36m1\u001b[0m\u001b[0;34m,\u001b[0m\u001b[0;36m2\u001b[0m\u001b[0;34m,\u001b[0m\u001b[0;36m3\u001b[0m\u001b[0;34m]\u001b[0m\u001b[0;34m\u001b[0m\u001b[0;34m\u001b[0m\u001b[0m\n\u001b[0m",
      "\u001b[0;31mTypeError\u001b[0m: can't multiply sequence by non-int of type 'list'"
     ]
    }
   ],
   "source": [
    "[1,2,3]*[1,2,3]"
   ]
  },
  {
   "cell_type": "code",
   "execution_count": 141,
   "id": "09ca2715",
   "metadata": {},
   "outputs": [],
   "source": [
    "class A:\n",
    "    def __init__(self, a):\n",
    "        print(id(self))\n",
    "        self.a = a"
   ]
  },
  {
   "cell_type": "code",
   "execution_count": 142,
   "id": "41c399d0",
   "metadata": {},
   "outputs": [
    {
     "name": "stdout",
     "output_type": "stream",
     "text": [
      "140290687419296\n"
     ]
    }
   ],
   "source": [
    "random1 = A(5)"
   ]
  },
  {
   "cell_type": "code",
   "execution_count": 143,
   "id": "6f05c022",
   "metadata": {},
   "outputs": [
    {
     "name": "stdout",
     "output_type": "stream",
     "text": [
      "140290687419152\n"
     ]
    }
   ],
   "source": [
    "random2 = A(6)"
   ]
  },
  {
   "cell_type": "code",
   "execution_count": 144,
   "id": "12889922",
   "metadata": {},
   "outputs": [
    {
     "data": {
      "text/plain": [
       "140290687419296"
      ]
     },
     "execution_count": 144,
     "metadata": {},
     "output_type": "execute_result"
    }
   ],
   "source": [
    "id(random1)"
   ]
  },
  {
   "cell_type": "code",
   "execution_count": 145,
   "id": "a10e0c12",
   "metadata": {},
   "outputs": [
    {
     "data": {
      "text/plain": [
       "140290687419152"
      ]
     },
     "execution_count": 145,
     "metadata": {},
     "output_type": "execute_result"
    }
   ],
   "source": [
    "id(random2)"
   ]
  },
  {
   "cell_type": "code",
   "execution_count": 146,
   "id": "6b57993c",
   "metadata": {},
   "outputs": [
    {
     "data": {
      "text/plain": [
       "[5, 6, 7, 7]"
      ]
     },
     "execution_count": 146,
     "metadata": {},
     "output_type": "execute_result"
    }
   ],
   "source": [
    "list((5,6,7,7))"
   ]
  },
  {
   "cell_type": "code",
   "execution_count": 147,
   "id": "b2abb06b",
   "metadata": {},
   "outputs": [
    {
     "data": {
      "text/plain": [
       "[]"
      ]
     },
     "execution_count": 147,
     "metadata": {},
     "output_type": "execute_result"
    }
   ],
   "source": [
    "list()"
   ]
  },
  {
   "cell_type": "code",
   "execution_count": 148,
   "id": "bf3fe93b",
   "metadata": {},
   "outputs": [],
   "source": [
    "# def __init__(arg = [])"
   ]
  },
  {
   "cell_type": "code",
   "execution_count": 152,
   "id": "224361ba",
   "metadata": {},
   "outputs": [],
   "source": [
    "class A:\n",
    "    def __init__(self, a):\n",
    "        self.a = a\n",
    "    \n",
    "    def hello(self):\n",
    "        print(\"hello\")\n",
    "        \n",
    "random = A(4)\n",
    "random.b = 5\n",
    "random.c = 6"
   ]
  },
  {
   "cell_type": "code",
   "execution_count": 153,
   "id": "f813310f",
   "metadata": {},
   "outputs": [
    {
     "data": {
      "text/plain": [
       "{'a': 4, 'b': 5, 'c': 6}"
      ]
     },
     "execution_count": 153,
     "metadata": {},
     "output_type": "execute_result"
    }
   ],
   "source": [
    "random.__dict__"
   ]
  },
  {
   "cell_type": "code",
   "execution_count": null,
   "id": "2dc260c8",
   "metadata": {},
   "outputs": [],
   "source": []
  }
 ],
 "metadata": {
  "kernelspec": {
   "display_name": "Python 3 (ipykernel)",
   "language": "python",
   "name": "python3"
  },
  "language_info": {
   "codemirror_mode": {
    "name": "ipython",
    "version": 3
   },
   "file_extension": ".py",
   "mimetype": "text/x-python",
   "name": "python",
   "nbconvert_exporter": "python",
   "pygments_lexer": "ipython3",
   "version": "3.9.5"
  }
 },
 "nbformat": 4,
 "nbformat_minor": 5
}
