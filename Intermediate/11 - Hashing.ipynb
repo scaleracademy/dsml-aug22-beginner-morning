{
 "cells": [
  {
   "cell_type": "code",
   "execution_count": 1,
   "id": "00f2fdba",
   "metadata": {},
   "outputs": [
    {
     "data": {
      "text/plain": [
       "'\\nQuestion 1 - \\n1. You are given numbers from 1 to 1000 in a list.\\n2. Size of the list will be N.\\nEg -> [78, 679, 1000, 999, 1, 10......]\\n\\n3. You will get Q queries. Each Query will contain a value X.\\n4. For each query, you have to return True if X is in list else False.\\n\\nEg -> \\nList -> [4, 5, 10, 80, 90]\\nQueries -> [10, 500, 1000]\\nOutput -> True False False\\n'"
      ]
     },
     "execution_count": 1,
     "metadata": {},
     "output_type": "execute_result"
    }
   ],
   "source": [
    "'''\n",
    "Question 1 - \n",
    "1. You are given numbers from 1 to 1000 in a list.\n",
    "2. Size of the list will be N.\n",
    "Eg -> [78, 679, 1000, 999, 1, 10......]\n",
    "\n",
    "3. You will get Q queries. Each Query will contain a value X.\n",
    "4. For each query, you have to return True if X is in list else False.\n",
    "\n",
    "Eg -> \n",
    "List -> [4, 5, 10, 80, 90]\n",
    "Queries -> [10, 500, 1000]\n",
    "Output -> True False False\n",
    "'''"
   ]
  },
  {
   "cell_type": "code",
   "execution_count": 2,
   "id": "6616f177",
   "metadata": {},
   "outputs": [],
   "source": [
    "# Approach 3\n",
    "def values_in_list(a, queries):\n",
    "    flag_list = [False] * 1001\n",
    "    \n",
    "    for i in a:\n",
    "        flag_list[i] = True\n",
    "        \n",
    "    for x in queries:\n",
    "        if flag_list[x] == True:\n",
    "            print(\"True\", end = \" \")\n",
    "        else:\n",
    "            print(\"False\", end = \" \")"
   ]
  },
  {
   "cell_type": "code",
   "execution_count": 6,
   "id": "34e06902",
   "metadata": {},
   "outputs": [],
   "source": [
    "a = [10,20,30,45,600,900,100]"
   ]
  },
  {
   "cell_type": "code",
   "execution_count": 7,
   "id": "20a8b075",
   "metadata": {},
   "outputs": [],
   "source": [
    "queries = [45, 50, 60, 999, 10]"
   ]
  },
  {
   "cell_type": "code",
   "execution_count": 5,
   "id": "f1b429fe",
   "metadata": {},
   "outputs": [
    {
     "name": "stdout",
     "output_type": "stream",
     "text": [
      "True False False False True "
     ]
    }
   ],
   "source": [
    "values_in_list(a, queries)"
   ]
  },
  {
   "cell_type": "code",
   "execution_count": 10,
   "id": "74654c51",
   "metadata": {},
   "outputs": [],
   "source": [
    "# Approach 4\n",
    "def values_in_list_2(a, queries):\n",
    "    flag_set = set(a) # n operations\n",
    "    \n",
    "    # for i in a:\n",
    "        # flag_set.add(i)\n",
    "    \n",
    "    for x in queries: # q operations\n",
    "        if x in flag_set:\n",
    "            print(\"True\", end = \" \")\n",
    "        else:\n",
    "            print(\"False\", end = \" \")"
   ]
  },
  {
   "cell_type": "code",
   "execution_count": 11,
   "id": "06fee4d8",
   "metadata": {},
   "outputs": [
    {
     "name": "stdout",
     "output_type": "stream",
     "text": [
      "True False False False True "
     ]
    }
   ],
   "source": [
    "values_in_list_2(a, queries)"
   ]
  },
  {
   "cell_type": "code",
   "execution_count": null,
   "id": "ffd2cb77",
   "metadata": {},
   "outputs": [],
   "source": []
  }
 ],
 "metadata": {
  "kernelspec": {
   "display_name": "Python 3 (ipykernel)",
   "language": "python",
   "name": "python3"
  },
  "language_info": {
   "codemirror_mode": {
    "name": "ipython",
    "version": 3
   },
   "file_extension": ".py",
   "mimetype": "text/x-python",
   "name": "python",
   "nbconvert_exporter": "python",
   "pygments_lexer": "ipython3",
   "version": "3.9.5"
  }
 },
 "nbformat": 4,
 "nbformat_minor": 5
}
