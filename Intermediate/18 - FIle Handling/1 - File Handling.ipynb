{
 "cells": [
  {
   "cell_type": "markdown",
   "id": "e57fa710",
   "metadata": {},
   "source": [
    "# <center>Working with Files</center>"
   ]
  },
  {
   "cell_type": "markdown",
   "id": "7bf9ead2",
   "metadata": {},
   "source": [
    "## File Access Modes\n",
    "\n",
    ">Access modes govern the type of operations possible in the opened file. It refers to how the file will be used once its opened. These modes also define the location of the File Handle in the file. File handle is like a cursor, which defines from where the data has to be read or written in the file. There are 6 access modes in python.\n",
    "\n",
    "- **Read Only (‘r’)** : Open text file for reading. The handle is positioned at the beginning of the file. If the file does not exists, raises I/O error. This is also the default mode in which file is opened.\n",
    "\n",
    "\n",
    "- **Read and Write (‘r+’)** : Open the file for reading and writing. The handle is positioned at the beginning of the file. Raises I/O error if the file does not exists.\n",
    "\n",
    "\n",
    "- **Write Only (‘w’)** : Open the file for writing. For existing file, the data is truncated and over-written. The handle is positioned at the beginning of the file. Creates the file if the file does not exists.\n",
    "\n",
    "\n",
    "- **Write and Read (‘w+’)** : Open the file for reading and writing. For existing file, data is truncated and over-written. The handle is positioned at the beginning of the file.\n",
    "\n",
    "\n",
    "- **Append Only (‘a’)** : Open the file for writing. The file is created if it does not exist. The handle is positioned at the end of the file. The data being written will be inserted at the end, after the existing data.\n",
    "\n",
    "\n",
    "- **Append and Read (‘a+’)** : Open the file for reading and writing. The file is created if it does not exist. The handle is positioned at the end of the file. The data being written will be inserted at the end, after the existing data."
   ]
  },
  {
   "cell_type": "code",
   "execution_count": 1,
   "id": "f90d894e",
   "metadata": {},
   "outputs": [
    {
     "name": "stdout",
     "output_type": "stream",
     "text": [
      "Help on built-in function print in module builtins:\n",
      "\n",
      "print(...)\n",
      "    print(value, ..., sep=' ', end='\\n', file=sys.stdout, flush=False)\n",
      "    \n",
      "    Prints the values to a stream, or to sys.stdout by default.\n",
      "    Optional keyword arguments:\n",
      "    file:  a file-like object (stream); defaults to the current sys.stdout.\n",
      "    sep:   string inserted between values, default a space.\n",
      "    end:   string appended after the last value, default a newline.\n",
      "    flush: whether to forcibly flush the stream.\n",
      "\n"
     ]
    }
   ],
   "source": [
    "help(print)"
   ]
  },
  {
   "cell_type": "markdown",
   "id": "52edf9b6",
   "metadata": {},
   "source": [
    "### Opening a file"
   ]
  },
  {
   "cell_type": "code",
   "execution_count": 2,
   "id": "8a8fa5a1",
   "metadata": {},
   "outputs": [
    {
     "ename": "FileNotFoundError",
     "evalue": "[Errno 2] No such file or directory: 'sample.txt'",
     "output_type": "error",
     "traceback": [
      "\u001b[0;31m---------------------------------------------------------------------------\u001b[0m",
      "\u001b[0;31mFileNotFoundError\u001b[0m                         Traceback (most recent call last)",
      "\u001b[0;32m/var/folders/nn/c52y0d3j0gq59dpsswchkt2r0000gn/T/ipykernel_6235/2200981440.py\u001b[0m in \u001b[0;36m<module>\u001b[0;34m\u001b[0m\n\u001b[1;32m      1\u001b[0m \u001b[0;31m# any_variable_name = open()\u001b[0m\u001b[0;34m\u001b[0m\u001b[0;34m\u001b[0m\u001b[0;34m\u001b[0m\u001b[0m\n\u001b[0;32m----> 2\u001b[0;31m \u001b[0mfile\u001b[0m \u001b[0;34m=\u001b[0m \u001b[0mopen\u001b[0m\u001b[0;34m(\u001b[0m\u001b[0;34m\"sample.txt\"\u001b[0m\u001b[0;34m,\u001b[0m \u001b[0;34m\"r\"\u001b[0m\u001b[0;34m)\u001b[0m\u001b[0;34m\u001b[0m\u001b[0;34m\u001b[0m\u001b[0m\n\u001b[0m",
      "\u001b[0;31mFileNotFoundError\u001b[0m: [Errno 2] No such file or directory: 'sample.txt'"
     ]
    }
   ],
   "source": [
    "# any_variable_name = open()\n",
    "file = open(\"sample.txt\", \"r\")"
   ]
  },
  {
   "cell_type": "code",
   "execution_count": 3,
   "id": "454cfb06",
   "metadata": {},
   "outputs": [],
   "source": [
    "file = open(\"sample.txt\", \"w\")"
   ]
  },
  {
   "cell_type": "markdown",
   "id": "db877733",
   "metadata": {},
   "source": [
    "### Closing a file"
   ]
  },
  {
   "cell_type": "code",
   "execution_count": 4,
   "id": "7ca58a2a",
   "metadata": {},
   "outputs": [],
   "source": [
    "file.close()"
   ]
  },
  {
   "cell_type": "markdown",
   "id": "5d4f6dfe",
   "metadata": {},
   "source": [
    "### Writing to a file\n",
    "\n",
    "- write\n",
    "- writelines"
   ]
  },
  {
   "cell_type": "code",
   "execution_count": 5,
   "id": "45bb4a52",
   "metadata": {},
   "outputs": [],
   "source": [
    "file = open(\"sample.txt\", \"w+\")"
   ]
  },
  {
   "cell_type": "code",
   "execution_count": 6,
   "id": "b3abbf3c",
   "metadata": {},
   "outputs": [
    {
     "data": {
      "text/plain": [
       "51"
      ]
     },
     "execution_count": 6,
     "metadata": {},
     "output_type": "execute_result"
    }
   ],
   "source": [
    "file.write(\"Hello everyone. I am writing this text to the file!\")"
   ]
  },
  {
   "cell_type": "code",
   "execution_count": 7,
   "id": "a7ce2111",
   "metadata": {},
   "outputs": [],
   "source": [
    "file.close()"
   ]
  },
  {
   "cell_type": "code",
   "execution_count": 8,
   "id": "cb33790b",
   "metadata": {},
   "outputs": [],
   "source": [
    "file = open(\"sample2.txt\", \"w+\")"
   ]
  },
  {
   "cell_type": "code",
   "execution_count": 9,
   "id": "bfa9a2dd",
   "metadata": {},
   "outputs": [],
   "source": [
    "file.writelines([\"Line 1\\n\", \"Line 2\\n\", \"Line 3\\n\"])"
   ]
  },
  {
   "cell_type": "code",
   "execution_count": 10,
   "id": "e3eb6ebc",
   "metadata": {},
   "outputs": [],
   "source": [
    "file.close()"
   ]
  },
  {
   "cell_type": "code",
   "execution_count": 11,
   "id": "69b9cc3e",
   "metadata": {},
   "outputs": [],
   "source": [
    "random_variable = open(\"sample.txt\", \"r\")"
   ]
  },
  {
   "cell_type": "code",
   "execution_count": 12,
   "id": "a287482a",
   "metadata": {},
   "outputs": [],
   "source": [
    "random_variable.close()"
   ]
  },
  {
   "cell_type": "code",
   "execution_count": 13,
   "id": "184addac",
   "metadata": {},
   "outputs": [],
   "source": [
    "file1 = open(\"sample.txt\", \"r\")\n",
    "file2 = open(\"sample2.txt\", \"r\")"
   ]
  },
  {
   "cell_type": "code",
   "execution_count": 14,
   "id": "7da867a4",
   "metadata": {},
   "outputs": [],
   "source": [
    "file1.close()"
   ]
  },
  {
   "cell_type": "code",
   "execution_count": 15,
   "id": "530343df",
   "metadata": {},
   "outputs": [],
   "source": [
    "file2.close()"
   ]
  },
  {
   "cell_type": "markdown",
   "id": "9dca9eb1",
   "metadata": {},
   "source": [
    "### Reading from a file\n",
    "- read\n",
    "- readline\n",
    "- readlines"
   ]
  },
  {
   "cell_type": "code",
   "execution_count": 16,
   "id": "17722509",
   "metadata": {},
   "outputs": [],
   "source": [
    "file1 = open(\"sample.txt\", \"r+\")"
   ]
  },
  {
   "cell_type": "code",
   "execution_count": 18,
   "id": "5e807a4f",
   "metadata": {},
   "outputs": [
    {
     "data": {
      "text/plain": [
       "'Hello everyone. I am writing this text to the file!'"
      ]
     },
     "execution_count": 18,
     "metadata": {},
     "output_type": "execute_result"
    }
   ],
   "source": [
    "file1.read()"
   ]
  },
  {
   "cell_type": "code",
   "execution_count": 19,
   "id": "c014070b",
   "metadata": {},
   "outputs": [],
   "source": [
    "file2 = open(\"sample2.txt\", \"r+\")"
   ]
  },
  {
   "cell_type": "code",
   "execution_count": 20,
   "id": "341e3dd3",
   "metadata": {},
   "outputs": [
    {
     "data": {
      "text/plain": [
       "'Line 1\\nLine 2\\nLine 3\\n'"
      ]
     },
     "execution_count": 20,
     "metadata": {},
     "output_type": "execute_result"
    }
   ],
   "source": [
    "file2.read()"
   ]
  },
  {
   "cell_type": "code",
   "execution_count": 21,
   "id": "4ed8f811",
   "metadata": {},
   "outputs": [],
   "source": [
    "file1.close()"
   ]
  },
  {
   "cell_type": "code",
   "execution_count": 23,
   "id": "9875e201",
   "metadata": {},
   "outputs": [],
   "source": [
    "file.close()"
   ]
  },
  {
   "cell_type": "code",
   "execution_count": 24,
   "id": "3af9f9c0",
   "metadata": {},
   "outputs": [],
   "source": [
    "file1 = open(\"sample.txt\", \"r+\")"
   ]
  },
  {
   "cell_type": "code",
   "execution_count": 26,
   "id": "46d1ddb3",
   "metadata": {},
   "outputs": [
    {
     "data": {
      "text/plain": [
       "'Hello everyone. I am writing this text to the file!'"
      ]
     },
     "execution_count": 26,
     "metadata": {},
     "output_type": "execute_result"
    }
   ],
   "source": [
    "file1.read()"
   ]
  },
  {
   "cell_type": "code",
   "execution_count": 28,
   "id": "6ceeb409",
   "metadata": {},
   "outputs": [
    {
     "data": {
      "text/plain": [
       "''"
      ]
     },
     "execution_count": 28,
     "metadata": {},
     "output_type": "execute_result"
    }
   ],
   "source": [
    "file1.read()"
   ]
  },
  {
   "cell_type": "code",
   "execution_count": 30,
   "id": "858ca657",
   "metadata": {},
   "outputs": [
    {
     "data": {
      "text/plain": [
       "18"
      ]
     },
     "execution_count": 30,
     "metadata": {},
     "output_type": "execute_result"
    }
   ],
   "source": [
    "file1.write(\"EXTRA INFORMATION!\")"
   ]
  },
  {
   "cell_type": "code",
   "execution_count": 32,
   "id": "2fb8c17c",
   "metadata": {},
   "outputs": [],
   "source": [
    "file1.close()"
   ]
  },
  {
   "cell_type": "code",
   "execution_count": 33,
   "id": "23db63d5",
   "metadata": {},
   "outputs": [],
   "source": [
    "a = 5\n",
    "b = 6"
   ]
  },
  {
   "cell_type": "code",
   "execution_count": 34,
   "id": "d7e1e0f0",
   "metadata": {},
   "outputs": [
    {
     "data": {
      "text/plain": [
       "5"
      ]
     },
     "execution_count": 34,
     "metadata": {},
     "output_type": "execute_result"
    }
   ],
   "source": [
    "a"
   ]
  },
  {
   "cell_type": "code",
   "execution_count": 36,
   "id": "8214b66f",
   "metadata": {
    "scrolled": true
   },
   "outputs": [
    {
     "name": "stdout",
     "output_type": "stream",
     "text": [
      "5\n",
      "6\n"
     ]
    }
   ],
   "source": [
    "print(a)\n",
    "print(b)"
   ]
  },
  {
   "cell_type": "code",
   "execution_count": 37,
   "id": "90561818",
   "metadata": {},
   "outputs": [],
   "source": [
    "file = open(\"sample2.txt\", \"r+\")"
   ]
  },
  {
   "cell_type": "code",
   "execution_count": 38,
   "id": "e5100ce0",
   "metadata": {},
   "outputs": [
    {
     "data": {
      "text/plain": [
       "['Line 1\\n', 'Line 2\\n', 'Line 3\\n']"
      ]
     },
     "execution_count": 38,
     "metadata": {},
     "output_type": "execute_result"
    }
   ],
   "source": [
    "file.readlines()"
   ]
  },
  {
   "cell_type": "code",
   "execution_count": 39,
   "id": "a24c5393",
   "metadata": {},
   "outputs": [],
   "source": [
    "file.close()"
   ]
  },
  {
   "cell_type": "code",
   "execution_count": 40,
   "id": "4f63338d",
   "metadata": {},
   "outputs": [],
   "source": [
    "file = open(\"sample2.txt\", \"r+\")"
   ]
  },
  {
   "cell_type": "code",
   "execution_count": 41,
   "id": "b4afa74a",
   "metadata": {},
   "outputs": [
    {
     "data": {
      "text/plain": [
       "'Line 1\\n'"
      ]
     },
     "execution_count": 41,
     "metadata": {},
     "output_type": "execute_result"
    }
   ],
   "source": [
    "file.readline()"
   ]
  },
  {
   "cell_type": "code",
   "execution_count": 42,
   "id": "f73d559d",
   "metadata": {},
   "outputs": [
    {
     "data": {
      "text/plain": [
       "'Line 2\\n'"
      ]
     },
     "execution_count": 42,
     "metadata": {},
     "output_type": "execute_result"
    }
   ],
   "source": [
    "file.readline()"
   ]
  },
  {
   "cell_type": "code",
   "execution_count": 43,
   "id": "d6da02c2",
   "metadata": {},
   "outputs": [
    {
     "data": {
      "text/plain": [
       "'Line 3\\n'"
      ]
     },
     "execution_count": 43,
     "metadata": {},
     "output_type": "execute_result"
    }
   ],
   "source": [
    "file.readline()"
   ]
  },
  {
   "cell_type": "code",
   "execution_count": 44,
   "id": "72017f25",
   "metadata": {},
   "outputs": [
    {
     "data": {
      "text/plain": [
       "''"
      ]
     },
     "execution_count": 44,
     "metadata": {},
     "output_type": "execute_result"
    }
   ],
   "source": [
    "file.readline()"
   ]
  },
  {
   "cell_type": "code",
   "execution_count": 45,
   "id": "3f5cbc28",
   "metadata": {},
   "outputs": [],
   "source": [
    "file.close()"
   ]
  },
  {
   "cell_type": "code",
   "execution_count": 54,
   "id": "7387477a",
   "metadata": {},
   "outputs": [],
   "source": [
    "file = open(\"sample2.txt\", \"r+\")"
   ]
  },
  {
   "cell_type": "code",
   "execution_count": 55,
   "id": "0c84af5d",
   "metadata": {},
   "outputs": [
    {
     "name": "stdout",
     "output_type": "stream",
     "text": [
      "Line 1\n",
      "Line 2\n",
      "Line 3\n"
     ]
    }
   ],
   "source": [
    "# Better for smaller files\n",
    "for f in file.readlines():\n",
    "    print(f, end = \"\")"
   ]
  },
  {
   "cell_type": "code",
   "execution_count": 56,
   "id": "e4ed12a2",
   "metadata": {},
   "outputs": [],
   "source": [
    "file.close()"
   ]
  },
  {
   "cell_type": "code",
   "execution_count": 57,
   "id": "2af3c71a",
   "metadata": {},
   "outputs": [],
   "source": [
    "file = open(\"sample2.txt\", \"r+\")"
   ]
  },
  {
   "cell_type": "code",
   "execution_count": 58,
   "id": "b3c5bdb5",
   "metadata": {},
   "outputs": [
    {
     "name": "stdout",
     "output_type": "stream",
     "text": [
      "Line 1\n",
      "Line 2\n",
      "Line 3\n"
     ]
    }
   ],
   "source": [
    "# Better for larger files\n",
    "buffer = file.readline()\n",
    "\n",
    "while buffer:\n",
    "    print(buffer, end = \"\")\n",
    "    buffer = file.readline()"
   ]
  },
  {
   "cell_type": "code",
   "execution_count": 59,
   "id": "6204305f",
   "metadata": {},
   "outputs": [],
   "source": [
    "file = open(\"long_sample.txt\", \"w+\")"
   ]
  },
  {
   "cell_type": "code",
   "execution_count": 60,
   "id": "c25f80c4",
   "metadata": {},
   "outputs": [
    {
     "data": {
      "text/plain": [
       "763"
      ]
     },
     "execution_count": 60,
     "metadata": {},
     "output_type": "execute_result"
    }
   ],
   "source": [
    "file.write(\"Contrary to popular belief, Lorem Ipsum is not simply random text. It has roots in a piece of classical Latin literature from 45 BC, making it over 2000 years old. Richard McClintock, a Latin professor at Hampden-Sydney College in Virginia, looked up one of the more obscure Latin words, consectetur, from a Lorem Ipsum passage, and going through the cites of the word in classical literature, discovered the undoubtable source. Lorem Ipsum comes from sections 1.10.32 and 1.10.33 of \\\"de Finibus Bonorum et Malorum\\\" (The Extremes of Good and Evil) by Cicero, written in 45 BC. This book is a treatise on the theory of ethics, very popular during the Renaissance. The first line of Lorem Ipsum, \\\"Lorem ipsum dolor sit amet..\\\", comes from a line in section 1.10.32.\")"
   ]
  },
  {
   "cell_type": "code",
   "execution_count": 61,
   "id": "924de278",
   "metadata": {},
   "outputs": [],
   "source": [
    "file.close()"
   ]
  },
  {
   "cell_type": "code",
   "execution_count": 64,
   "id": "0989b76d",
   "metadata": {},
   "outputs": [],
   "source": [
    "file = open(\"long_sample.txt\", \"r+\")"
   ]
  },
  {
   "cell_type": "code",
   "execution_count": 65,
   "id": "b0437835",
   "metadata": {},
   "outputs": [
    {
     "data": {
      "text/plain": [
       "'Contrary to popular belief, Lorem Ipsum is not simply random text. It has roots in a piece of classical Latin literature from 45 BC, making it over 2000 years old. Richard McClintock, a Latin professor at Hampden-Sydney College in Virginia, looked up one of the more obscure Latin words, consectetur, from a Lorem Ipsum passage, and going through the cites of the word in classical literature, discovered the undoubtable source. Lorem Ipsum comes from sections 1.10.32 and 1.10.33 of \"de Finibus Bonorum et Malorum\" (The Extremes of Good and Evil) by Cicero, written in 45 BC. This book is a treatise on the theory of ethics, very popular during the Renaissance. The first line of Lorem Ipsum, \"Lorem ipsum dolor sit amet..\", comes from a line in section 1.10.32.'"
      ]
     },
     "execution_count": 65,
     "metadata": {},
     "output_type": "execute_result"
    }
   ],
   "source": [
    "file.readline()"
   ]
  },
  {
   "cell_type": "code",
   "execution_count": 66,
   "id": "c382a2a0",
   "metadata": {},
   "outputs": [],
   "source": [
    "file.close()"
   ]
  },
  {
   "cell_type": "code",
   "execution_count": 67,
   "id": "407541a9",
   "metadata": {},
   "outputs": [],
   "source": [
    "file = open(\"long_sample.txt\", \"r+\")"
   ]
  },
  {
   "cell_type": "code",
   "execution_count": 68,
   "id": "0267f8b2",
   "metadata": {},
   "outputs": [
    {
     "name": "stdout",
     "output_type": "stream",
     "text": [
      "Contrary to popular \n",
      "belief, Lorem Ipsum \n",
      "is not simply random\n",
      " text. It has roots \n",
      "in a piece of classi\n",
      "cal Latin literature\n",
      " from 45 BC, making \n",
      "it over 2000 years o\n",
      "ld. Richard McClinto\n",
      "ck, a Latin professo\n",
      "r at Hampden-Sydney \n",
      "College in Virginia,\n",
      " looked up one of th\n",
      "e more obscure Latin\n",
      " words, consectetur,\n",
      " from a Lorem Ipsum \n",
      "passage, and going t\n",
      "hrough the cites of \n",
      "the word in classica\n",
      "l literature, discov\n",
      "ered the undoubtable\n",
      " source. Lorem Ipsum\n",
      " comes from sections\n",
      " 1.10.32 and 1.10.33\n",
      " of \"de Finibus Bono\n",
      "rum et Malorum\" (The\n",
      " Extremes of Good an\n",
      "d Evil) by Cicero, w\n",
      "ritten in 45 BC. Thi\n",
      "s book is a treatise\n",
      " on the theory of et\n",
      "hics, very popular d\n",
      "uring the Renaissanc\n",
      "e. The first line of\n",
      " Lorem Ipsum, \"Lorem\n",
      " ipsum dolor sit ame\n",
      "t..\", comes from a l\n",
      "ine in section 1.10.\n",
      "32.\n"
     ]
    }
   ],
   "source": [
    "while True:\n",
    "    chunk = file.read(20) # specify the exact amount of characters you want to read\n",
    "    \n",
    "    if not chunk:\n",
    "        break\n",
    "    \n",
    "    print(chunk)"
   ]
  },
  {
   "cell_type": "code",
   "execution_count": 69,
   "id": "a2082fab",
   "metadata": {},
   "outputs": [],
   "source": [
    "file.close()"
   ]
  },
  {
   "cell_type": "markdown",
   "id": "68fce312",
   "metadata": {},
   "source": [
    "### Moving the cursor\n",
    "\n",
    "- seek(n) : takes the file read handle to the nth byte from the beginning."
   ]
  },
  {
   "cell_type": "code",
   "execution_count": 70,
   "id": "cfc0f31f",
   "metadata": {},
   "outputs": [],
   "source": [
    "file = open(\"sample.txt\", \"r+\")"
   ]
  },
  {
   "cell_type": "code",
   "execution_count": 71,
   "id": "065238f8",
   "metadata": {},
   "outputs": [
    {
     "data": {
      "text/plain": [
       "'Hello everyone. I am writing this text to the file!EXTRA INFORMATION!'"
      ]
     },
     "execution_count": 71,
     "metadata": {},
     "output_type": "execute_result"
    }
   ],
   "source": [
    "file.read()"
   ]
  },
  {
   "cell_type": "code",
   "execution_count": 74,
   "id": "bca12ec2",
   "metadata": {},
   "outputs": [
    {
     "data": {
      "text/plain": [
       "5"
      ]
     },
     "execution_count": 74,
     "metadata": {},
     "output_type": "execute_result"
    }
   ],
   "source": [
    "file.seek(5)\n",
    "# Cursor moved to right after character number 5"
   ]
  },
  {
   "cell_type": "code",
   "execution_count": 75,
   "id": "8dc20c5a",
   "metadata": {},
   "outputs": [
    {
     "data": {
      "text/plain": [
       "' everyone. I am writing this text to the file!EXTRA INFORMATION!'"
      ]
     },
     "execution_count": 75,
     "metadata": {},
     "output_type": "execute_result"
    }
   ],
   "source": [
    "file.read()"
   ]
  },
  {
   "cell_type": "code",
   "execution_count": 76,
   "id": "196f773d",
   "metadata": {
    "scrolled": true
   },
   "outputs": [
    {
     "data": {
      "text/plain": [
       "0"
      ]
     },
     "execution_count": 76,
     "metadata": {},
     "output_type": "execute_result"
    }
   ],
   "source": [
    "file.seek(0)"
   ]
  },
  {
   "cell_type": "code",
   "execution_count": 77,
   "id": "6c813b04",
   "metadata": {},
   "outputs": [
    {
     "data": {
      "text/plain": [
       "'Hello everyone.'"
      ]
     },
     "execution_count": 77,
     "metadata": {},
     "output_type": "execute_result"
    }
   ],
   "source": [
    "file.read(15)"
   ]
  },
  {
   "cell_type": "code",
   "execution_count": 78,
   "id": "f6d1dc73",
   "metadata": {},
   "outputs": [
    {
     "data": {
      "text/plain": [
       "20"
      ]
     },
     "execution_count": 78,
     "metadata": {},
     "output_type": "execute_result"
    }
   ],
   "source": [
    "file.seek(20)"
   ]
  },
  {
   "cell_type": "code",
   "execution_count": 79,
   "id": "23029066",
   "metadata": {},
   "outputs": [
    {
     "data": {
      "text/plain": [
       "' writ'"
      ]
     },
     "execution_count": 79,
     "metadata": {},
     "output_type": "execute_result"
    }
   ],
   "source": [
    "file.read(5)"
   ]
  },
  {
   "cell_type": "code",
   "execution_count": 80,
   "id": "a4b4b3d7",
   "metadata": {},
   "outputs": [],
   "source": [
    "file.close()"
   ]
  },
  {
   "cell_type": "code",
   "execution_count": 81,
   "id": "898403f8",
   "metadata": {},
   "outputs": [],
   "source": [
    "file = open(\"sample.txt\", \"a+\")"
   ]
  },
  {
   "cell_type": "code",
   "execution_count": 82,
   "id": "87a7a8d9",
   "metadata": {},
   "outputs": [
    {
     "data": {
      "text/plain": [
       "10"
      ]
     },
     "execution_count": 82,
     "metadata": {},
     "output_type": "execute_result"
    }
   ],
   "source": [
    "file.write(\"MORE INFO!\")"
   ]
  },
  {
   "cell_type": "code",
   "execution_count": 83,
   "id": "b500f8fc",
   "metadata": {},
   "outputs": [],
   "source": [
    "file.close()"
   ]
  },
  {
   "cell_type": "markdown",
   "id": "37a4180b",
   "metadata": {},
   "source": [
    "### Smarter way of opening files...\n",
    "\n",
    "With the \"with\" statement, you get better syntax and exceptions handling. \n",
    "\n",
    "\"The with statement simplifies exception handling by encapsulating common\n",
    "preparation and cleanup tasks.\"\n",
    "\n",
    "In addition, it will automatically close the file. The with statement provides\n",
    "a way for ensuring that a clean-up is always used.\n"
   ]
  },
  {
   "cell_type": "code",
   "execution_count": 90,
   "id": "f3a5a192",
   "metadata": {},
   "outputs": [
    {
     "name": "stdout",
     "output_type": "stream",
     "text": [
      "Line \n",
      "Line 1\n",
      "Line 2\n",
      "Line 3\n",
      "\n"
     ]
    },
    {
     "ename": "ValueError",
     "evalue": "I/O operation on closed file.",
     "output_type": "error",
     "traceback": [
      "\u001b[0;31m---------------------------------------------------------------------------\u001b[0m",
      "\u001b[0;31mValueError\u001b[0m                                Traceback (most recent call last)",
      "\u001b[0;32m/var/folders/nn/c52y0d3j0gq59dpsswchkt2r0000gn/T/ipykernel_6235/1414148685.py\u001b[0m in \u001b[0;36m<module>\u001b[0;34m\u001b[0m\n\u001b[1;32m      4\u001b[0m     \u001b[0mprint\u001b[0m\u001b[0;34m(\u001b[0m\u001b[0mfile1\u001b[0m\u001b[0;34m.\u001b[0m\u001b[0mread\u001b[0m\u001b[0;34m(\u001b[0m\u001b[0;34m)\u001b[0m\u001b[0;34m)\u001b[0m\u001b[0;34m\u001b[0m\u001b[0;34m\u001b[0m\u001b[0m\n\u001b[1;32m      5\u001b[0m \u001b[0;34m\u001b[0m\u001b[0m\n\u001b[0;32m----> 6\u001b[0;31m \u001b[0mfile\u001b[0m\u001b[0;34m.\u001b[0m\u001b[0mread\u001b[0m\u001b[0;34m(\u001b[0m\u001b[0;34m)\u001b[0m \u001b[0;31m# this does not work\u001b[0m\u001b[0;34m\u001b[0m\u001b[0;34m\u001b[0m\u001b[0m\n\u001b[0m",
      "\u001b[0;31mValueError\u001b[0m: I/O operation on closed file."
     ]
    }
   ],
   "source": [
    "with open(\"sample2.txt\", \"r+\") as file1:\n",
    "    print(file1.read(5))\n",
    "    file1.seek(0)\n",
    "    print(file1.read())\n",
    "    \n",
    "file.read() # this does not work"
   ]
  },
  {
   "cell_type": "code",
   "execution_count": 88,
   "id": "3b3e9096",
   "metadata": {},
   "outputs": [
    {
     "ename": "ValueError",
     "evalue": "I/O operation on closed file.",
     "output_type": "error",
     "traceback": [
      "\u001b[0;31m---------------------------------------------------------------------------\u001b[0m",
      "\u001b[0;31mValueError\u001b[0m                                Traceback (most recent call last)",
      "\u001b[0;32m/var/folders/nn/c52y0d3j0gq59dpsswchkt2r0000gn/T/ipykernel_6235/3452612914.py\u001b[0m in \u001b[0;36m<module>\u001b[0;34m\u001b[0m\n\u001b[0;32m----> 1\u001b[0;31m \u001b[0mfile1\u001b[0m\u001b[0;34m.\u001b[0m\u001b[0mseek\u001b[0m\u001b[0;34m(\u001b[0m\u001b[0;36m10\u001b[0m\u001b[0;34m)\u001b[0m\u001b[0;34m\u001b[0m\u001b[0;34m\u001b[0m\u001b[0m\n\u001b[0m",
      "\u001b[0;31mValueError\u001b[0m: I/O operation on closed file."
     ]
    }
   ],
   "source": [
    "file1.seek(10)"
   ]
  },
  {
   "cell_type": "code",
   "execution_count": 91,
   "id": "1a60638e",
   "metadata": {},
   "outputs": [],
   "source": [
    "with open(\"sample4.txt\", \"w+\") as file:\n",
    "    file.write(\"this is some random text \\n with newline \\n characters in between \\n.\")"
   ]
  },
  {
   "cell_type": "code",
   "execution_count": 93,
   "id": "8e3eecce",
   "metadata": {},
   "outputs": [
    {
     "name": "stdout",
     "output_type": "stream",
     "text": [
      "this is some random \n",
      "text \n",
      " with newline \n",
      "\n",
      " characters in betw\n",
      "een \n",
      ".\n"
     ]
    }
   ],
   "source": [
    "with open(\"sample4.txt\", \"r+\") as file:\n",
    "    while True:\n",
    "        chunk = file.read(20)\n",
    "\n",
    "        if not chunk:\n",
    "            break\n",
    "\n",
    "        print(chunk)"
   ]
  },
  {
   "cell_type": "code",
   "execution_count": null,
   "id": "84cb82e2",
   "metadata": {},
   "outputs": [],
   "source": []
  }
 ],
 "metadata": {
  "kernelspec": {
   "display_name": "Python 3 (ipykernel)",
   "language": "python",
   "name": "python3"
  },
  "language_info": {
   "codemirror_mode": {
    "name": "ipython",
    "version": 3
   },
   "file_extension": ".py",
   "mimetype": "text/x-python",
   "name": "python",
   "nbconvert_exporter": "python",
   "pygments_lexer": "ipython3",
   "version": "3.9.5"
  }
 },
 "nbformat": 4,
 "nbformat_minor": 5
}
