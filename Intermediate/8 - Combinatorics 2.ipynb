{
 "cells": [
  {
   "cell_type": "code",
   "execution_count": 3,
   "id": "7418ffb8",
   "metadata": {},
   "outputs": [],
   "source": [
    "def factorial(n):\n",
    "    if n == 1 or n == 0:\n",
    "        return 1\n",
    "    \n",
    "    return n * factorial(n-1)"
   ]
  },
  {
   "cell_type": "code",
   "execution_count": 4,
   "id": "982621a2",
   "metadata": {},
   "outputs": [
    {
     "data": {
      "text/plain": [
       "120"
      ]
     },
     "execution_count": 4,
     "metadata": {},
     "output_type": "execute_result"
    }
   ],
   "source": [
    "factorial(5)"
   ]
  },
  {
   "cell_type": "code",
   "execution_count": 10,
   "id": "2da826d2",
   "metadata": {},
   "outputs": [],
   "source": [
    "def npr(n, r):\n",
    "    if n < r:\n",
    "        return -1\n",
    "    \n",
    "    result = factorial(n) / factorial(n-r)\n",
    "    \n",
    "    return result"
   ]
  },
  {
   "cell_type": "code",
   "execution_count": 11,
   "id": "5d5ee567",
   "metadata": {},
   "outputs": [
    {
     "data": {
      "text/plain": [
       "5.0"
      ]
     },
     "execution_count": 11,
     "metadata": {},
     "output_type": "execute_result"
    }
   ],
   "source": [
    "npr(5,1)"
   ]
  },
  {
   "cell_type": "code",
   "execution_count": 12,
   "id": "ee6b9723",
   "metadata": {},
   "outputs": [],
   "source": [
    "def ncr(n, r):\n",
    "    if n < r:\n",
    "        return -1\n",
    "    \n",
    "    result = factorial(n) / (factorial(n-r) * factorial(r))\n",
    "    \n",
    "    return result"
   ]
  },
  {
   "cell_type": "code",
   "execution_count": 13,
   "id": "aab44dbb",
   "metadata": {},
   "outputs": [
    {
     "data": {
      "text/plain": [
       "1.0"
      ]
     },
     "execution_count": 13,
     "metadata": {},
     "output_type": "execute_result"
    }
   ],
   "source": [
    "ncr(5,5)"
   ]
  },
  {
   "cell_type": "code",
   "execution_count": null,
   "id": "ee867493",
   "metadata": {},
   "outputs": [],
   "source": [
    "def combinations(n,r):\n",
    "\t#n -> The total numb er of objects\n",
    "    #r ->  The number of selected objects.\n",
    "    # return the value of nCr and nPr\n",
    "\t\n",
    "\t# code starts here\n",
    "    perm = 1\n",
    "    for i in range(n-r,n+1):\n",
    "        perm *= i\n",
    "    \n",
    "    comb = 1\n",
    "    for i in range(1,r+1):\n",
    "        comb*=i\n",
    "    \n",
    "    comb = perm//comb\n",
    "\t\n",
    "    #code ends here\n",
    "    return (perm, comb)"
   ]
  },
  {
   "cell_type": "code",
   "execution_count": 36,
   "id": "cadd79f9",
   "metadata": {},
   "outputs": [],
   "source": [
    "def npr_optimised(n, r):\n",
    "    perm = 1\n",
    "    \n",
    "    for i in range(n-r+1, n+1):\n",
    "        perm *= i\n",
    "        \n",
    "    return perm"
   ]
  },
  {
   "cell_type": "code",
   "execution_count": 37,
   "id": "2de64c60",
   "metadata": {},
   "outputs": [
    {
     "data": {
      "text/plain": [
       "5"
      ]
     },
     "execution_count": 37,
     "metadata": {},
     "output_type": "execute_result"
    }
   ],
   "source": [
    "npr(5,1)"
   ]
  },
  {
   "cell_type": "code",
   "execution_count": 38,
   "id": "81ae392a",
   "metadata": {},
   "outputs": [
    {
     "data": {
      "text/plain": [
       "12"
      ]
     },
     "execution_count": 38,
     "metadata": {},
     "output_type": "execute_result"
    }
   ],
   "source": [
    "npr(4,2)"
   ]
  },
  {
   "cell_type": "code",
   "execution_count": 39,
   "id": "153e4c6d",
   "metadata": {},
   "outputs": [
    {
     "data": {
      "text/plain": [
       "120"
      ]
     },
     "execution_count": 39,
     "metadata": {},
     "output_type": "execute_result"
    }
   ],
   "source": [
    "npr(6,3)"
   ]
  },
  {
   "cell_type": "code",
   "execution_count": null,
   "id": "c5143880",
   "metadata": {},
   "outputs": [],
   "source": []
  }
 ],
 "metadata": {
  "kernelspec": {
   "display_name": "Python 3 (ipykernel)",
   "language": "python",
   "name": "python3"
  },
  "language_info": {
   "codemirror_mode": {
    "name": "ipython",
    "version": 3
   },
   "file_extension": ".py",
   "mimetype": "text/x-python",
   "name": "python",
   "nbconvert_exporter": "python",
   "pygments_lexer": "ipython3",
   "version": "3.9.5"
  }
 },
 "nbformat": 4,
 "nbformat_minor": 5
}
