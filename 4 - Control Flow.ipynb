{
 "cells": [
  {
   "cell_type": "code",
   "execution_count": 1,
   "id": "b837ffc1",
   "metadata": {},
   "outputs": [
    {
     "name": "stdout",
     "output_type": "stream",
     "text": [
      "0\n",
      "4\n"
     ]
    }
   ],
   "source": [
    "# one indent = 4 spaces / 2 spaces\n",
    "print(\"0\")\n",
    "\n",
    "if 56 > 60:\n",
    "    print(\"1\")\n",
    "    print(\"2\")\n",
    "    print(\"3\")\n",
    "    \n",
    "print(\"4\")"
   ]
  },
  {
   "cell_type": "code",
   "execution_count": 2,
   "id": "05311c1a",
   "metadata": {},
   "outputs": [
    {
     "ename": "IndentationError",
     "evalue": "expected an indented block (2005614841.py, line 5)",
     "output_type": "error",
     "traceback": [
      "\u001b[0;36m  File \u001b[0;32m\"/var/folders/nn/c52y0d3j0gq59dpsswchkt2r0000gn/T/ipykernel_49920/2005614841.py\"\u001b[0;36m, line \u001b[0;32m5\u001b[0m\n\u001b[0;31m    else:\u001b[0m\n\u001b[0m    ^\u001b[0m\n\u001b[0;31mIndentationError\u001b[0m\u001b[0;31m:\u001b[0m expected an indented block\n"
     ]
    }
   ],
   "source": [
    "# Run these always\n",
    "\n",
    "if True:\n",
    "    # Run these statements if True\n",
    "else:\n",
    "    # Run these only if False\n",
    "    \n",
    "# Run these always"
   ]
  },
  {
   "cell_type": "code",
   "execution_count": 3,
   "id": "b63d550d",
   "metadata": {},
   "outputs": [
    {
     "name": "stdout",
     "output_type": "stream",
     "text": [
      "\n"
     ]
    },
    {
     "ename": "ValueError",
     "evalue": "invalid literal for int() with base 10: ''",
     "output_type": "error",
     "traceback": [
      "\u001b[0;31m---------------------------------------------------------------------------\u001b[0m",
      "\u001b[0;31mValueError\u001b[0m                                Traceback (most recent call last)",
      "\u001b[0;32m/var/folders/nn/c52y0d3j0gq59dpsswchkt2r0000gn/T/ipykernel_49920/4106829383.py\u001b[0m in \u001b[0;36m<module>\u001b[0;34m\u001b[0m\n\u001b[0;32m----> 1\u001b[0;31m \u001b[0ma\u001b[0m \u001b[0;34m=\u001b[0m \u001b[0mint\u001b[0m\u001b[0;34m(\u001b[0m\u001b[0minput\u001b[0m\u001b[0;34m(\u001b[0m\u001b[0;34m)\u001b[0m\u001b[0;34m)\u001b[0m\u001b[0;34m\u001b[0m\u001b[0;34m\u001b[0m\u001b[0m\n\u001b[0m\u001b[1;32m      2\u001b[0m \u001b[0mresult\u001b[0m \u001b[0;34m=\u001b[0m \u001b[0ma\u001b[0m\u001b[0;34m**\u001b[0m\u001b[0;36m5\u001b[0m\u001b[0;34m\u001b[0m\u001b[0;34m\u001b[0m\u001b[0m\n\u001b[1;32m      3\u001b[0m \u001b[0;34m\u001b[0m\u001b[0m\n\u001b[1;32m      4\u001b[0m \u001b[0;32mif\u001b[0m \u001b[0mresult\u001b[0m \u001b[0;34m>\u001b[0m \u001b[0;36m25\u001b[0m\u001b[0;34m:\u001b[0m\u001b[0;34m\u001b[0m\u001b[0;34m\u001b[0m\u001b[0m\n\u001b[1;32m      5\u001b[0m     \u001b[0mprint\u001b[0m\u001b[0;34m(\u001b[0m\u001b[0;34m\"That is massive!\"\u001b[0m\u001b[0;34m)\u001b[0m\u001b[0;34m\u001b[0m\u001b[0;34m\u001b[0m\u001b[0m\n",
      "\u001b[0;31mValueError\u001b[0m: invalid literal for int() with base 10: ''"
     ]
    }
   ],
   "source": [
    "a = int(input())\n",
    "result = a**5\n",
    "\n",
    "if result > 25:\n",
    "    print(\"That is massive!\")\n",
    "else:\n",
    "    print(\"Pretty Small!\")\n",
    "    \n",
    "print(\"My code is complete!\")"
   ]
  },
  {
   "cell_type": "code",
   "execution_count": 4,
   "id": "02721c6a",
   "metadata": {},
   "outputs": [
    {
     "data": {
      "text/plain": [
       "True"
      ]
     },
     "execution_count": 4,
     "metadata": {},
     "output_type": "execute_result"
    }
   ],
   "source": [
    "25 >= 25"
   ]
  },
  {
   "cell_type": "code",
   "execution_count": 5,
   "id": "76d56c9b",
   "metadata": {},
   "outputs": [],
   "source": [
    "# check for password\n",
    "# \"Password Incorrect\" if incorrect\n",
    "# \"Password Validated\" if correct"
   ]
  },
  {
   "cell_type": "code",
   "execution_count": 6,
   "id": "78f1d9d2",
   "metadata": {},
   "outputs": [
    {
     "name": "stdout",
     "output_type": "stream",
     "text": [
      "\n",
      "Password Incorrect!\n"
     ]
    }
   ],
   "source": [
    "original_password = \"password\"\n",
    "password = input()\n",
    "\n",
    "if original_password == password:\n",
    "    print(\"Password Validated!\")\n",
    "else:\n",
    "    print(\"Password Incorrect!\")"
   ]
  },
  {
   "cell_type": "code",
   "execution_count": 7,
   "id": "c9beb099",
   "metadata": {},
   "outputs": [],
   "source": [
    "# In an ATM\n",
    "# 500 and 200 Rs Notes are available\n",
    "# print(\"Discharging Cash!\") if True\n",
    "# print(\"Denomination not available!\") if False"
   ]
  },
  {
   "cell_type": "code",
   "execution_count": 8,
   "id": "484b843a",
   "metadata": {},
   "outputs": [
    {
     "name": "stdout",
     "output_type": "stream",
     "text": [
      "\n"
     ]
    },
    {
     "ename": "ValueError",
     "evalue": "invalid literal for int() with base 10: ''",
     "output_type": "error",
     "traceback": [
      "\u001b[0;31m---------------------------------------------------------------------------\u001b[0m",
      "\u001b[0;31mValueError\u001b[0m                                Traceback (most recent call last)",
      "\u001b[0;32m/var/folders/nn/c52y0d3j0gq59dpsswchkt2r0000gn/T/ipykernel_49920/3601627758.py\u001b[0m in \u001b[0;36m<module>\u001b[0;34m\u001b[0m\n\u001b[0;32m----> 1\u001b[0;31m \u001b[0mamount\u001b[0m \u001b[0;34m=\u001b[0m \u001b[0mint\u001b[0m\u001b[0;34m(\u001b[0m\u001b[0minput\u001b[0m\u001b[0;34m(\u001b[0m\u001b[0;34m)\u001b[0m\u001b[0;34m)\u001b[0m\u001b[0;34m\u001b[0m\u001b[0;34m\u001b[0m\u001b[0m\n\u001b[0m\u001b[1;32m      2\u001b[0m \u001b[0;34m\u001b[0m\u001b[0m\n\u001b[1;32m      3\u001b[0m \u001b[0;32mif\u001b[0m \u001b[0mamount\u001b[0m \u001b[0;34m%\u001b[0m \u001b[0;36m500\u001b[0m \u001b[0;34m==\u001b[0m \u001b[0;36m0\u001b[0m \u001b[0;32mor\u001b[0m \u001b[0mamount\u001b[0m \u001b[0;34m%\u001b[0m \u001b[0;36m200\u001b[0m \u001b[0;34m==\u001b[0m \u001b[0;36m0\u001b[0m \u001b[0;34m:\u001b[0m\u001b[0;34m\u001b[0m\u001b[0;34m\u001b[0m\u001b[0m\n\u001b[1;32m      4\u001b[0m     \u001b[0mprint\u001b[0m\u001b[0;34m(\u001b[0m\u001b[0;34m\"Discharging Cash!\"\u001b[0m\u001b[0;34m)\u001b[0m\u001b[0;34m\u001b[0m\u001b[0;34m\u001b[0m\u001b[0m\n\u001b[1;32m      5\u001b[0m \u001b[0;32melse\u001b[0m\u001b[0;34m:\u001b[0m\u001b[0;34m\u001b[0m\u001b[0;34m\u001b[0m\u001b[0m\n",
      "\u001b[0;31mValueError\u001b[0m: invalid literal for int() with base 10: ''"
     ]
    }
   ],
   "source": [
    "amount = int(input())\n",
    "\n",
    "if amount % 500 == 0 or amount % 200 == 0 :\n",
    "    print(\"Discharging Cash!\")\n",
    "else:\n",
    "    print(\"Denomination Not Available!\")"
   ]
  },
  {
   "cell_type": "code",
   "execution_count": 9,
   "id": "01ccc9d6",
   "metadata": {},
   "outputs": [
    {
     "data": {
      "text/plain": [
       "False"
      ]
     },
     "execution_count": 9,
     "metadata": {},
     "output_type": "execute_result"
    }
   ],
   "source": [
    "5 % 2 == 0"
   ]
  },
  {
   "cell_type": "code",
   "execution_count": 10,
   "id": "be856f12",
   "metadata": {},
   "outputs": [
    {
     "name": "stdout",
     "output_type": "stream",
     "text": [
      "\n"
     ]
    },
    {
     "ename": "ValueError",
     "evalue": "invalid literal for int() with base 10: ''",
     "output_type": "error",
     "traceback": [
      "\u001b[0;31m---------------------------------------------------------------------------\u001b[0m",
      "\u001b[0;31mValueError\u001b[0m                                Traceback (most recent call last)",
      "\u001b[0;32m/var/folders/nn/c52y0d3j0gq59dpsswchkt2r0000gn/T/ipykernel_49920/4093703050.py\u001b[0m in \u001b[0;36m<module>\u001b[0;34m\u001b[0m\n\u001b[0;32m----> 1\u001b[0;31m \u001b[0mamount\u001b[0m \u001b[0;34m=\u001b[0m \u001b[0mint\u001b[0m\u001b[0;34m(\u001b[0m\u001b[0minput\u001b[0m\u001b[0;34m(\u001b[0m\u001b[0;34m)\u001b[0m\u001b[0;34m)\u001b[0m\u001b[0;34m\u001b[0m\u001b[0;34m\u001b[0m\u001b[0m\n\u001b[0m",
      "\u001b[0;31mValueError\u001b[0m: invalid literal for int() with base 10: ''"
     ]
    }
   ],
   "source": [
    "amount = int(input())"
   ]
  },
  {
   "cell_type": "code",
   "execution_count": 11,
   "id": "26bf9aa7",
   "metadata": {},
   "outputs": [
    {
     "ename": "NameError",
     "evalue": "name 'amount' is not defined",
     "output_type": "error",
     "traceback": [
      "\u001b[0;31m---------------------------------------------------------------------------\u001b[0m",
      "\u001b[0;31mNameError\u001b[0m                                 Traceback (most recent call last)",
      "\u001b[0;32m/var/folders/nn/c52y0d3j0gq59dpsswchkt2r0000gn/T/ipykernel_49920/4018565358.py\u001b[0m in \u001b[0;36m<module>\u001b[0;34m\u001b[0m\n\u001b[0;32m----> 1\u001b[0;31m \u001b[0mamount\u001b[0m \u001b[0;34m%\u001b[0m \u001b[0;36m200\u001b[0m \u001b[0;34m==\u001b[0m \u001b[0;36m0\u001b[0m\u001b[0;34m\u001b[0m\u001b[0;34m\u001b[0m\u001b[0m\n\u001b[0m",
      "\u001b[0;31mNameError\u001b[0m: name 'amount' is not defined"
     ]
    }
   ],
   "source": [
    "amount % 200 == 0"
   ]
  },
  {
   "cell_type": "code",
   "execution_count": 12,
   "id": "092bc93b",
   "metadata": {},
   "outputs": [
    {
     "name": "stdout",
     "output_type": "stream",
     "text": [
      "\n"
     ]
    },
    {
     "ename": "ValueError",
     "evalue": "invalid literal for int() with base 10: ''",
     "output_type": "error",
     "traceback": [
      "\u001b[0;31m---------------------------------------------------------------------------\u001b[0m",
      "\u001b[0;31mValueError\u001b[0m                                Traceback (most recent call last)",
      "\u001b[0;32m/var/folders/nn/c52y0d3j0gq59dpsswchkt2r0000gn/T/ipykernel_49920/2407747732.py\u001b[0m in \u001b[0;36m<module>\u001b[0;34m\u001b[0m\n\u001b[0;32m----> 1\u001b[0;31m \u001b[0mtime\u001b[0m \u001b[0;34m=\u001b[0m \u001b[0mint\u001b[0m\u001b[0;34m(\u001b[0m\u001b[0minput\u001b[0m\u001b[0;34m(\u001b[0m\u001b[0;34m)\u001b[0m\u001b[0;34m)\u001b[0m\u001b[0;34m\u001b[0m\u001b[0;34m\u001b[0m\u001b[0m\n\u001b[0m\u001b[1;32m      2\u001b[0m \u001b[0;34m\u001b[0m\u001b[0m\n\u001b[1;32m      3\u001b[0m \u001b[0;32mif\u001b[0m \u001b[0mtime\u001b[0m \u001b[0;34m>\u001b[0m \u001b[0;36m9\u001b[0m \u001b[0;32mand\u001b[0m \u001b[0mtime\u001b[0m \u001b[0;34m<=\u001b[0m \u001b[0;36m12\u001b[0m\u001b[0;34m:\u001b[0m\u001b[0;34m\u001b[0m\u001b[0;34m\u001b[0m\u001b[0m\n\u001b[1;32m      4\u001b[0m     \u001b[0mprint\u001b[0m\u001b[0;34m(\u001b[0m\u001b[0;34m\"Good Morning\"\u001b[0m\u001b[0;34m)\u001b[0m\u001b[0;34m\u001b[0m\u001b[0;34m\u001b[0m\u001b[0m\n\u001b[1;32m      5\u001b[0m \u001b[0;32melse\u001b[0m\u001b[0;34m:\u001b[0m\u001b[0;34m\u001b[0m\u001b[0;34m\u001b[0m\u001b[0m\n",
      "\u001b[0;31mValueError\u001b[0m: invalid literal for int() with base 10: ''"
     ]
    }
   ],
   "source": [
    "time = int(input())\n",
    "\n",
    "if time > 9 and time <= 12:\n",
    "    print(\"Good Morning\")\n",
    "else:\n",
    "    if time > 12 and time <= 17:\n",
    "        print(\"Good Afternoon\")\n",
    "    else:\n",
    "        if time > 17 and time <= 24:\n",
    "            print(\"Good Night!\")\n",
    "        else:\n",
    "            print(\"SOJAAOO! :)\")"
   ]
  },
  {
   "cell_type": "code",
   "execution_count": 13,
   "id": "87519a44",
   "metadata": {},
   "outputs": [
    {
     "name": "stdout",
     "output_type": "stream",
     "text": [
      "\n"
     ]
    },
    {
     "ename": "ValueError",
     "evalue": "invalid literal for int() with base 10: ''",
     "output_type": "error",
     "traceback": [
      "\u001b[0;31m---------------------------------------------------------------------------\u001b[0m",
      "\u001b[0;31mValueError\u001b[0m                                Traceback (most recent call last)",
      "\u001b[0;32m/var/folders/nn/c52y0d3j0gq59dpsswchkt2r0000gn/T/ipykernel_49920/2367728889.py\u001b[0m in \u001b[0;36m<module>\u001b[0;34m\u001b[0m\n\u001b[0;32m----> 1\u001b[0;31m \u001b[0mtime\u001b[0m \u001b[0;34m=\u001b[0m \u001b[0mint\u001b[0m\u001b[0;34m(\u001b[0m\u001b[0minput\u001b[0m\u001b[0;34m(\u001b[0m\u001b[0;34m)\u001b[0m\u001b[0;34m)\u001b[0m\u001b[0;34m\u001b[0m\u001b[0;34m\u001b[0m\u001b[0m\n\u001b[0m\u001b[1;32m      2\u001b[0m \u001b[0;34m\u001b[0m\u001b[0m\n\u001b[1;32m      3\u001b[0m \u001b[0;32mif\u001b[0m \u001b[0mtime\u001b[0m \u001b[0;34m>\u001b[0m \u001b[0;36m0\u001b[0m \u001b[0;32mand\u001b[0m \u001b[0mtime\u001b[0m \u001b[0;34m<=\u001b[0m \u001b[0;36m12\u001b[0m\u001b[0;34m:\u001b[0m\u001b[0;34m\u001b[0m\u001b[0;34m\u001b[0m\u001b[0m\n\u001b[1;32m      4\u001b[0m     \u001b[0mprint\u001b[0m\u001b[0;34m(\u001b[0m\u001b[0;34m\"Good Morning\"\u001b[0m\u001b[0;34m)\u001b[0m\u001b[0;34m\u001b[0m\u001b[0;34m\u001b[0m\u001b[0m\n\u001b[1;32m      5\u001b[0m \u001b[0;32melif\u001b[0m \u001b[0mtime\u001b[0m \u001b[0;34m>\u001b[0m \u001b[0;36m12\u001b[0m \u001b[0;32mand\u001b[0m \u001b[0mtime\u001b[0m \u001b[0;34m<=\u001b[0m \u001b[0;36m17\u001b[0m\u001b[0;34m:\u001b[0m\u001b[0;34m\u001b[0m\u001b[0;34m\u001b[0m\u001b[0m\n",
      "\u001b[0;31mValueError\u001b[0m: invalid literal for int() with base 10: ''"
     ]
    }
   ],
   "source": [
    "time = int(input())\n",
    "\n",
    "if time > 0 and time <= 12:\n",
    "    print(\"Good Morning\")\n",
    "elif time > 12 and time <= 17:\n",
    "    print(\"Good Afternoon\")\n",
    "elif time > 17 and time <= 24:\n",
    "    print(\"Good Night!\")\n",
    "else:\n",
    "    print(\"SOJAAOO! :)\")"
   ]
  },
  {
   "cell_type": "code",
   "execution_count": 14,
   "id": "700d3e71",
   "metadata": {},
   "outputs": [],
   "source": [
    "# if condition1:\n",
    "#     this\n",
    "# elif condition2: # elif = else if\n",
    "#     this\n",
    "# elif condition3:\n",
    "#     this\n",
    "# else:\n",
    "#     this"
   ]
  },
  {
   "cell_type": "code",
   "execution_count": 15,
   "id": "c372b526",
   "metadata": {},
   "outputs": [
    {
     "ename": "NameError",
     "evalue": "name 'amount' is not defined",
     "output_type": "error",
     "traceback": [
      "\u001b[0;31m---------------------------------------------------------------------------\u001b[0m",
      "\u001b[0;31mNameError\u001b[0m                                 Traceback (most recent call last)",
      "\u001b[0;32m/var/folders/nn/c52y0d3j0gq59dpsswchkt2r0000gn/T/ipykernel_49920/2599771674.py\u001b[0m in \u001b[0;36m<module>\u001b[0;34m\u001b[0m\n\u001b[0;32m----> 1\u001b[0;31m \u001b[0mamount\u001b[0m \u001b[0;34m%\u001b[0m \u001b[0;36m500\u001b[0m \u001b[0;34m==\u001b[0m \u001b[0;36m0\u001b[0m \u001b[0;32mor\u001b[0m \u001b[0mamount\u001b[0m \u001b[0;34m%\u001b[0m \u001b[0;36m200\u001b[0m \u001b[0;34m==\u001b[0m \u001b[0;36m0\u001b[0m\u001b[0;34m\u001b[0m\u001b[0;34m\u001b[0m\u001b[0m\n\u001b[0m",
      "\u001b[0;31mNameError\u001b[0m: name 'amount' is not defined"
     ]
    }
   ],
   "source": [
    "amount % 500 == 0 or amount % 200 == 0"
   ]
  },
  {
   "cell_type": "markdown",
   "id": "66c035f5",
   "metadata": {},
   "source": [
    "# PRACTICE PRACTICE PRACTICE!"
   ]
  },
  {
   "cell_type": "code",
   "execution_count": 16,
   "id": "5a6dd1be",
   "metadata": {},
   "outputs": [],
   "source": [
    "# if condition1:\n",
    "    # statement if condition 1 is true\n",
    "# elif condition2:\n",
    "    # statement if condition 2 is true\n",
    "# .\n",
    "# .\n",
    "# .\n",
    "# else:\n",
    "    # statment if no conditions are true"
   ]
  },
  {
   "cell_type": "markdown",
   "id": "a2b31da9",
   "metadata": {},
   "source": [
    "1. Take a integer input and print whether it is positive or not."
   ]
  },
  {
   "cell_type": "code",
   "execution_count": 19,
   "id": "af557f5d",
   "metadata": {},
   "outputs": [
    {
     "name": "stdout",
     "output_type": "stream",
     "text": [
      "5\n",
      "Positive\n"
     ]
    }
   ],
   "source": [
    "number = int(input())\n",
    "\n",
    "if number >= 0:\n",
    "    print(\"Positive\")\n",
    "else:\n",
    "    print(\"Negative\")"
   ]
  },
  {
   "cell_type": "markdown",
   "id": "d07f9104",
   "metadata": {},
   "source": [
    "2. Take a non-negative single digit number as input. If `num**5%50+20-6` is > 15 then print(\"BLACK\") else print(\"BLUE\"). Note - Reject any inputs which are not single digit."
   ]
  },
  {
   "cell_type": "code",
   "execution_count": 23,
   "id": "2b893c4e",
   "metadata": {},
   "outputs": [
    {
     "name": "stdout",
     "output_type": "stream",
     "text": [
      "1\n",
      "BLUE\n"
     ]
    }
   ],
   "source": [
    "number = int(input())\n",
    "\n",
    "if number >= 0 and number <= 9:\n",
    "    if number ** 5 % 50 + 20 - 6 > 15:\n",
    "        print(\"BLACK\")\n",
    "    else:\n",
    "        print(\"BLUE\")\n",
    "else:\n",
    "    print(\"Number not valid!\")"
   ]
  },
  {
   "cell_type": "code",
   "execution_count": 25,
   "id": "95565a32",
   "metadata": {},
   "outputs": [
    {
     "name": "stdout",
     "output_type": "stream",
     "text": [
      "BLUE\n"
     ]
    }
   ],
   "source": [
    "if not(number >= 0 and number <= 9):\n",
    "    print(\"Number not valid!\")\n",
    "else:\n",
    "    if number ** 5 % 50 + 20 - 6 > 15:\n",
    "        print(\"BLACK\")\n",
    "    else:\n",
    "        print(\"BLUE\")"
   ]
  },
  {
   "cell_type": "code",
   "execution_count": 26,
   "id": "675c1928",
   "metadata": {},
   "outputs": [
    {
     "name": "stdout",
     "output_type": "stream",
     "text": [
      "BLUE\n"
     ]
    }
   ],
   "source": [
    "if number < 0 or number > 9:\n",
    "    print(\"Number not valid!\")\n",
    "else:\n",
    "    if number ** 5 % 50 + 20 - 6 > 15:\n",
    "        print(\"BLACK\")\n",
    "    else:\n",
    "        print(\"BLUE\")"
   ]
  },
  {
   "cell_type": "markdown",
   "id": "aac41b76",
   "metadata": {},
   "source": [
    "3. Take in a string as input and if the entered language is \"Python\", print(\"Great Choice\") else print(\"Think Again?\")"
   ]
  },
  {
   "cell_type": "code",
   "execution_count": 34,
   "id": "5919fcb4",
   "metadata": {},
   "outputs": [
    {
     "name": "stdout",
     "output_type": "stream",
     "text": [
      "PYTHON\n",
      "Great Choice!\n"
     ]
    }
   ],
   "source": [
    "language = input()\n",
    "\n",
    "if language.lower() == \"python\":\n",
    "    print(\"Great Choice!\")\n",
    "else:\n",
    "    print(\"Think Again?\")"
   ]
  },
  {
   "cell_type": "markdown",
   "id": "3c2fcf82",
   "metadata": {},
   "source": [
    "4. Take in a string as input and if the entered language is \"Python\" or \"JAVA\", print(\"WOW\") else print(\"Are you living under a rock?\"). NOTE - Reject any integer inputs"
   ]
  },
  {
   "cell_type": "code",
   "execution_count": 41,
   "id": "2b65d4dd",
   "metadata": {},
   "outputs": [
    {
     "name": "stdout",
     "output_type": "stream",
     "text": [
      "string which is not an int\n"
     ]
    },
    {
     "ename": "ValueError",
     "evalue": "invalid literal for int() with base 10: 'string which is not an int'",
     "output_type": "error",
     "traceback": [
      "\u001b[0;31m---------------------------------------------------------------------------\u001b[0m",
      "\u001b[0;31mValueError\u001b[0m                                Traceback (most recent call last)",
      "\u001b[0;32m/var/folders/nn/c52y0d3j0gq59dpsswchkt2r0000gn/T/ipykernel_49920/2924667775.py\u001b[0m in \u001b[0;36m<module>\u001b[0;34m\u001b[0m\n\u001b[1;32m      1\u001b[0m \u001b[0mlanguage\u001b[0m \u001b[0;34m=\u001b[0m \u001b[0minput\u001b[0m\u001b[0;34m(\u001b[0m\u001b[0;34m)\u001b[0m\u001b[0;34m\u001b[0m\u001b[0;34m\u001b[0m\u001b[0m\n\u001b[1;32m      2\u001b[0m \u001b[0;34m\u001b[0m\u001b[0m\n\u001b[0;32m----> 3\u001b[0;31m \u001b[0;32mif\u001b[0m \u001b[0mtype\u001b[0m\u001b[0;34m(\u001b[0m\u001b[0mint\u001b[0m\u001b[0;34m(\u001b[0m\u001b[0mlanguage\u001b[0m\u001b[0;34m)\u001b[0m\u001b[0;34m)\u001b[0m \u001b[0;34m==\u001b[0m \u001b[0mint\u001b[0m\u001b[0;34m:\u001b[0m\u001b[0;34m\u001b[0m\u001b[0;34m\u001b[0m\u001b[0m\n\u001b[0m\u001b[1;32m      4\u001b[0m     \u001b[0mprint\u001b[0m\u001b[0;34m(\u001b[0m\u001b[0;34m\"Invalid\"\u001b[0m\u001b[0;34m)\u001b[0m\u001b[0;34m\u001b[0m\u001b[0;34m\u001b[0m\u001b[0m\n",
      "\u001b[0;31mValueError\u001b[0m: invalid literal for int() with base 10: 'string which is not an int'"
     ]
    }
   ],
   "source": [
    "language = input()\n",
    "\n",
    "if type(int(language)) == int:\n",
    "    print(\"Invalid\")"
   ]
  },
  {
   "cell_type": "code",
   "execution_count": 37,
   "id": "b22d8330",
   "metadata": {},
   "outputs": [
    {
     "data": {
      "text/plain": [
       "str"
      ]
     },
     "execution_count": 37,
     "metadata": {},
     "output_type": "execute_result"
    }
   ],
   "source": [
    "type(language)"
   ]
  },
  {
   "cell_type": "code",
   "execution_count": 38,
   "id": "56b6954a",
   "metadata": {},
   "outputs": [],
   "source": [
    "number = int(language)"
   ]
  },
  {
   "cell_type": "code",
   "execution_count": 39,
   "id": "a9dc88d4",
   "metadata": {},
   "outputs": [
    {
     "data": {
      "text/plain": [
       "int"
      ]
     },
     "execution_count": 39,
     "metadata": {},
     "output_type": "execute_result"
    }
   ],
   "source": [
    "type(number)"
   ]
  },
  {
   "cell_type": "code",
   "execution_count": 42,
   "id": "4ad92817",
   "metadata": {},
   "outputs": [
    {
     "name": "stdout",
     "output_type": "stream",
     "text": [
      "45\n"
     ]
    },
    {
     "data": {
      "text/plain": [
       "'45'"
      ]
     },
     "execution_count": 42,
     "metadata": {},
     "output_type": "execute_result"
    }
   ],
   "source": [
    "input()"
   ]
  },
  {
   "cell_type": "markdown",
   "id": "4a70b67f",
   "metadata": {},
   "source": [
    "5. Take an integer and check whether it is positive, negative or zero."
   ]
  },
  {
   "cell_type": "code",
   "execution_count": 49,
   "id": "c80b795a",
   "metadata": {},
   "outputs": [
    {
     "name": "stdout",
     "output_type": "stream",
     "text": [
      "0\n"
     ]
    }
   ],
   "source": [
    "number = int(input())"
   ]
  },
  {
   "cell_type": "code",
   "execution_count": 50,
   "id": "b96cf4f7",
   "metadata": {},
   "outputs": [
    {
     "name": "stdout",
     "output_type": "stream",
     "text": [
      "ZERO\n"
     ]
    }
   ],
   "source": [
    "if number > 0:\n",
    "    print(\"POSITIVE\")\n",
    "elif number < 0:\n",
    "    print(\"NEGATIVE\")\n",
    "else:\n",
    "    print(\"ZERO\")"
   ]
  },
  {
   "cell_type": "markdown",
   "id": "b85de453",
   "metadata": {},
   "source": [
    "6. Feedback System - Take string feedback from a user. Now if any the feedback is provided, print(\"Thank you for providing the feedback\"). If feedback is \"Super\", \"Great\", \"Fantastic\", \"Awesome\", print(\"Thank you so much!\")"
   ]
  },
  {
   "cell_type": "code",
   "execution_count": 61,
   "id": "a70fd035",
   "metadata": {},
   "outputs": [
    {
     "name": "stdout",
     "output_type": "stream",
     "text": [
      "\n"
     ]
    }
   ],
   "source": [
    "feedback = input()"
   ]
  },
  {
   "cell_type": "code",
   "execution_count": 59,
   "id": "a175f2e5",
   "metadata": {},
   "outputs": [
    {
     "data": {
      "text/plain": [
       "str"
      ]
     },
     "execution_count": 59,
     "metadata": {},
     "output_type": "execute_result"
    }
   ],
   "source": [
    "type(feedback)"
   ]
  },
  {
   "cell_type": "code",
   "execution_count": 63,
   "id": "cf2ba886",
   "metadata": {},
   "outputs": [],
   "source": [
    "if feedback:\n",
    "    print(\"Thank you so much!\")\n",
    "   \n",
    "if feedback.lower() == \"super\" or feedback.lower() == \"awesome\":\n",
    "    print(\"Thank You!\")"
   ]
  },
  {
   "cell_type": "code",
   "execution_count": 65,
   "id": "c4d4c2d7",
   "metadata": {},
   "outputs": [
    {
     "name": "stdout",
     "output_type": "stream",
     "text": [
      "Please provide feedback next time.\n"
     ]
    }
   ],
   "source": [
    "if feedback == \"\":\n",
    "    print(\"Please provide feedback next time.\")\n",
    "else:\n",
    "    if feedback.lower() == \"super\" or feedback.lower() == \"awesome\":\n",
    "        print(\"Thank You!\")"
   ]
  },
  {
   "cell_type": "code",
   "execution_count": 67,
   "id": "830550c0",
   "metadata": {},
   "outputs": [
    {
     "data": {
      "text/plain": [
       "True"
      ]
     },
     "execution_count": 67,
     "metadata": {},
     "output_type": "execute_result"
    }
   ],
   "source": [
    "bool(\"non smpty string\")"
   ]
  },
  {
   "cell_type": "code",
   "execution_count": 72,
   "id": "4579b648",
   "metadata": {},
   "outputs": [
    {
     "data": {
      "text/plain": [
       "True"
      ]
     },
     "execution_count": 72,
     "metadata": {},
     "output_type": "execute_result"
    }
   ],
   "source": [
    "bool(0.5)"
   ]
  },
  {
   "cell_type": "code",
   "execution_count": 76,
   "id": "9ab7df53",
   "metadata": {},
   "outputs": [
    {
     "name": "stdout",
     "output_type": "stream",
     "text": [
      "Random\n"
     ]
    }
   ],
   "source": [
    "if \"non empty string\":\n",
    "    print(\"Random\")\n",
    "else:\n",
    "    print(\"Not so Random!\")"
   ]
  },
  {
   "cell_type": "markdown",
   "id": "8cf37690",
   "metadata": {},
   "source": [
    "7. FIZZBUZZ -> Take an input N. if N is a multiple of 3, print FIZZ, else if N is a multiple of 5 print BUZZ else if N is a multiple of both 3 and 5, print FIZZBUZZ."
   ]
  },
  {
   "cell_type": "code",
   "execution_count": 77,
   "id": "802e96c9",
   "metadata": {},
   "outputs": [
    {
     "name": "stdout",
     "output_type": "stream",
     "text": [
      "15\n"
     ]
    }
   ],
   "source": [
    "n = int(input())"
   ]
  },
  {
   "cell_type": "code",
   "execution_count": 78,
   "id": "70edf57d",
   "metadata": {},
   "outputs": [
    {
     "name": "stdout",
     "output_type": "stream",
     "text": [
      "FIZZ\n"
     ]
    }
   ],
   "source": [
    "if n % 3 == 0:\n",
    "    print(\"FIZZ\")\n",
    "elif n % 5 == 0:\n",
    "    print(\"BUZZ\")\n",
    "elif n % 3 == 0 and n % 5 == 0:\n",
    "    print(\"FIZZBUZZ\")"
   ]
  },
  {
   "cell_type": "code",
   "execution_count": 86,
   "id": "9431aa11",
   "metadata": {},
   "outputs": [
    {
     "name": "stdout",
     "output_type": "stream",
     "text": [
      "15\n",
      "FIZZBUZZ\n"
     ]
    }
   ],
   "source": [
    "n = int(input())\n",
    "\n",
    "if n % 3 == 0 and n % 5 == 0:\n",
    "    print(\"FIZZBUZZ\")\n",
    "elif n % 3 == 0:\n",
    "    print(\"FIZZ\")\n",
    "elif n % 5 == 0:\n",
    "    print(\"BUZZ\")"
   ]
  },
  {
   "cell_type": "markdown",
   "id": "9208b3e4",
   "metadata": {},
   "source": [
    "8. Take in three inputs from a user which are marks in english, maths and science. Assign streams according to the following criteria\n",
    "- if science > 90 or marks in all are greater than 75 -> Science\n",
    "- if marks in all are greater than 60 and less than 75 -> Commerce\n",
    "- if marks in all are less than 60 -> Humanities"
   ]
  },
  {
   "cell_type": "code",
   "execution_count": 93,
   "id": "c1adb22a",
   "metadata": {},
   "outputs": [
    {
     "name": "stdout",
     "output_type": "stream",
     "text": [
      "60\n",
      "60\n",
      "60\n",
      "Commerce\n"
     ]
    }
   ],
   "source": [
    "science = int(input())\n",
    "maths = int(input())\n",
    "english = int(input())\n",
    "\n",
    "if science > 90 or (science >= 75 and english >= 75 and maths >= 75):\n",
    "    print(\"Science\")\n",
    "elif science >= 60 and maths >= 60 and english >= 60:\n",
    "    print(\"Commerce\")\n",
    "else:\n",
    "    print(\"Humanities\")"
   ]
  },
  {
   "cell_type": "code",
   "execution_count": 95,
   "id": "6d285acb",
   "metadata": {},
   "outputs": [
    {
     "name": "stdout",
     "output_type": "stream",
     "text": [
      "67\n"
     ]
    },
    {
     "data": {
      "text/plain": [
       "False"
      ]
     },
     "execution_count": 95,
     "metadata": {},
     "output_type": "execute_result"
    }
   ],
   "source": [
    "number = int(input())\n",
    "\n",
    "50 < number < 60"
   ]
  },
  {
   "cell_type": "markdown",
   "id": "033e3508",
   "metadata": {},
   "source": [
    "9. Build a meter system for an auto. Take into two inputs. Kilometers Travelled and Stall Time (in minutes).\n",
    "Rate List -\n",
    "- First 10 kms - Rs 10 per Km\n",
    "- Next 40 kms - Rs 9 per Km\n",
    "- Next 100 kms - Rs 8 per Km\n",
    "- Any leftover km count - Rs. 6 per Km\n",
    "\n",
    "- Rs 5 extra for every minute of Stall Time"
   ]
  },
  {
   "cell_type": "markdown",
   "id": "fc408443",
   "metadata": {},
   "source": [
    "10. Generate electricity bill using the following rate card. Take units consumed as input -\n",
    "- If < 100 units -> Free\n",
    "- If >= 100 units and < 200 units -> Rs 2 per unit\n",
    "- If >= 200 units -> Rs 5 per unit"
   ]
  },
  {
   "cell_type": "code",
   "execution_count": null,
   "id": "6475c24e",
   "metadata": {},
   "outputs": [],
   "source": []
  }
 ],
 "metadata": {
  "kernelspec": {
   "display_name": "Python 3 (ipykernel)",
   "language": "python",
   "name": "python3"
  },
  "language_info": {
   "codemirror_mode": {
    "name": "ipython",
    "version": 3
   },
   "file_extension": ".py",
   "mimetype": "text/x-python",
   "name": "python",
   "nbconvert_exporter": "python",
   "pygments_lexer": "ipython3",
   "version": "3.9.5"
  }
 },
 "nbformat": 4,
 "nbformat_minor": 5
}
